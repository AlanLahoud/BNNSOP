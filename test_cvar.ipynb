{
 "cells": [
  {
   "cell_type": "code",
   "execution_count": 1,
   "metadata": {},
   "outputs": [],
   "source": [
    "import numpy as np\n",
    "import pandas as pd\n",
    "import torch\n",
    "import torch.nn as nn\n",
    "\n",
    "import joblib\n",
    "import random\n",
    "import sys\n",
    "\n",
    "from mip import Model as ModelMip, xsum, minimize, maximize, \\\n",
    "INTEGER, BINARY, CONTINUOUS, CutType, OptimizationStatus\n",
    "\n",
    "import data_generator\n",
    "from model import StrongStandardNet, StrongVariationalNet\n",
    "from train import TrainDecoupled, TrainCombined\n",
    "\n",
    "from sklearn.preprocessing import StandardScaler\n",
    "\n",
    "import torch.multiprocessing as mp"
   ]
  },
  {
   "cell_type": "code",
   "execution_count": 2,
   "metadata": {},
   "outputs": [],
   "source": [
    "import cvar_minimization_utils as cmu"
   ]
  },
  {
   "cell_type": "code",
   "execution_count": 3,
   "metadata": {},
   "outputs": [],
   "source": [
    "is_cuda = False\n",
    "dev = torch.device('cpu')  \n",
    "if torch.cuda.is_available():\n",
    "    is_cuda = True\n",
    "    dev = torch.device('cuda') "
   ]
  },
  {
   "cell_type": "code",
   "execution_count": 4,
   "metadata": {},
   "outputs": [],
   "source": [
    "method_name = 'bnn'\n",
    "method_learning = 'combined'\n",
    "aleat_bool = 1\n",
    "\n",
    "N_SAMPLES = 32\n",
    "BATCH_SIZE_LOADER = 64\n",
    "\n",
    "EPOCHS = 100\n",
    "\n",
    "cpu_count = mp.cpu_count()\n",
    "\n",
    "seed_number = 0\n",
    "\n",
    "lr = 0.0005"
   ]
  },
  {
   "cell_type": "code",
   "execution_count": 5,
   "metadata": {},
   "outputs": [],
   "source": [
    "np.random.seed(seed_number)\n",
    "torch.manual_seed(seed_number)\n",
    "random.seed(seed_number)\n",
    "\n",
    "assert (method_name in ['ann','bnn','gp'])\n",
    "\n",
    "if method_name in ['ann','bnn']:\n",
    "    assert (method_learning in ['decoupled','combined'])\n",
    "    assert (aleat_bool in [True, False])\n",
    "    assert (N_SAMPLES>=1 and N_SAMPLES<9999)\n",
    "    #assert (M_SAMPLES>=1 and M_SAMPLES<9999)\n",
    "\n",
    "bnn = False \n",
    "if method_name == 'bnn':\n",
    "    bnn = True   \n",
    "    K = 1 # Hyperparameter for the training in ELBO loss\n",
    "    PLV = 1 # Prior in ELBO loss   \n",
    "\n",
    "model_name = method_name + '_constrained_'\n",
    "for i in range(2, len(sys.argv)):\n",
    "    model_name += '_'+sys.argv[i]\n",
    "model_name += '_'+ str(seed_number)"
   ]
  },
  {
   "cell_type": "code",
   "execution_count": 6,
   "metadata": {},
   "outputs": [],
   "source": [
    "def gen_intermidiate(num, n_assets, x1, x2, x3):      \n",
    "        factor = num * 2/(n_assets)\n",
    "        return x1**factor + x2**factor + x3**factor\n",
    "    \n",
    "def gen_data(N, n_assets, nl, seed_number=42):\n",
    "    np.random.seed(seed_number)\n",
    "    x1 = np.random.normal(1, 1, size = N).clip(0)\n",
    "    x2 = np.random.normal(1, 1, size = N).clip(0)\n",
    "    x3 = np.random.normal(1, 1, size = N).clip(0)\n",
    "    X = np.vstack((x1, x2, x3)).T\n",
    "\n",
    "    Y = np.zeros((N, n_assets))\n",
    "    for i in range(1, n_assets + 1):\n",
    "        interm = gen_intermidiate(i, n_assets, x1, x2, x3)\n",
    "        Y[:,i-1] = (np.sin(interm) - np.sin(interm).mean()) \\\n",
    "        + np.sin(interm).std()*(-0.2 + np.random.random())\n",
    "        \n",
    "        ns = Y[:,0].shape[0]//2\n",
    "        \n",
    "        Y[:,i-1] = Y[:,i-1] + nl*Y[:,i-1]*x1*(np.random.beta(5, 2, size = Y[:,0].shape) - 0.2)\n",
    "\n",
    "    return X, Y\n",
    "\n",
    "def gen_cond_dist(N, n_assets, n_samples, nl, seed_number=420):\n",
    "    np.random.seed(seed_number)\n",
    "    Y_dist = np.zeros((n_samples, N, n_assets))\n",
    "    for i in range(0, n_samples):\n",
    "        Y_dist[i, :, :] = gen_data(N, n_assets, nl, seed_number=np.random.randint(0,999999))[1]\n",
    "    return Y_dist"
   ]
  },
  {
   "cell_type": "code",
   "execution_count": 7,
   "metadata": {},
   "outputs": [],
   "source": [
    "class CVaROP():\n",
    "    def __init__(self, beta, n_assets, min_return, Y_train):\n",
    "        self.beta = beta\n",
    "        self.n_assets = n_assets\n",
    "        self.R = min_return \n",
    "        self.uy = Y_train.mean(axis=0)\n",
    "        \n",
    "        self.zstar = np.zeros_like(Y_train)\n",
    "        self.alphastar = np.zeros_like(Y_train[:,0])\n",
    "        self.cvarstar = np.zeros_like(Y_train[:,0])\n",
    "                        \n",
    "        #for i in range(0, Y_train.shape[0]):\n",
    "        #    self.zstar[i,:], _ , self.alphastar[i], self.cvarstar[i] = \\\n",
    "        #    self.minimize_cvar(np.expand_dims(Y_train, 0)[:,i,:])\n",
    "      \n",
    "    def minimize_cvar(self, y):\n",
    "    \n",
    "        n_samples = y.shape[0]\n",
    "        n_assets = y.shape[1]\n",
    "        \n",
    "        assert self.n_assets == n_assets\n",
    "        \n",
    "        \n",
    "        m = ModelMip(\"cvar\")\n",
    "        m.verbose = 0\n",
    "        z = ([m.add_var(var_type=CONTINUOUS, name=f'z_{i}') for i in range(0, n_assets)])\n",
    "        u = ([m.add_var(var_type=CONTINUOUS, name=f'u_{i}') for i in range(0, n_samples)])\n",
    "        alpha = m.add_var(var_type=CONTINUOUS, name='alpha')\n",
    "\n",
    "        m.objective = minimize(alpha + (1/(1 - self.beta))*(1/n_samples) \\\n",
    "                               *xsum(u[i] for i in range(0, n_samples)))\n",
    "\n",
    "        for i in range(0, n_assets):\n",
    "            m += z[i] >= 0\n",
    "\n",
    "        for i in range(0, n_samples):\n",
    "            m += u[i] >= 0\n",
    "\n",
    "        for i in range(0, n_samples):\n",
    "            m += xsum(z[j]*y[i][j] for j in range(0, n_assets)) + alpha + u[i] >= 0\n",
    "\n",
    "        for i in range(0, n_assets):\n",
    "            m += xsum(-z[i]*self.uy[i] for i in range(0, n_assets)) <= -self.R\n",
    "\n",
    "        m.optimize()\n",
    "        f_opt = m.objective_value\n",
    "        argmins = []\n",
    "        for v in m.vars:\n",
    "            argmins.append(v.x)\n",
    "           \n",
    "        zstar = argmins[:n_assets]\n",
    "        ustar = argmins[n_assets:n_assets+n_samples]\n",
    "        alphastar = argmins[n_assets+n_samples]         \n",
    "\n",
    "        return zstar, ustar, alphastar, f_opt\n",
    "    \n",
    "    \n",
    "    def minimize_cvar_dataset(self, Y_dist):\n",
    "        zstar = np.zeros_like(Y_dist[0])\n",
    "        for i in range(0, Y_dist.shape[1]):\n",
    "            zstar[i,:] , _, _, _ = self.minimize_cvar(Y_dist[:,i,:])       \n",
    "        return zstar\n",
    "    \n",
    "    def minimize_cvar_given_z(self, y, z):\n",
    "    \n",
    "        n_samples = y.shape[0]\n",
    "        n_assets = y.shape[1]\n",
    "        \n",
    "        assert self.n_assets == n_assets\n",
    "        \n",
    "        \n",
    "        m = ModelMip(\"cvar\")\n",
    "        m.verbose = 0\n",
    "\n",
    "        u = ([m.add_var(var_type=CONTINUOUS, name=f'u_{i}') for i in range(0, n_samples)])\n",
    "        alpha = m.add_var(var_type=CONTINUOUS, name='alpha')\n",
    "\n",
    "        m.objective = minimize(alpha + (1/(1 - self.beta))*(1/n_samples) \\\n",
    "                               *xsum(u[i] for i in range(0, n_samples)))\n",
    "\n",
    "        for i in range(0, n_samples):\n",
    "            m += u[i] >= 0\n",
    "\n",
    "        for i in range(0, n_samples):\n",
    "            m += xsum(z[j]*y[i][j] for j in range(0, n_assets)) + alpha + u[i] >= 0\n",
    "\n",
    "        m.optimize()\n",
    "        f_opt = m.objective_value\n",
    "        argmins = []\n",
    "        for v in m.vars:\n",
    "            argmins.append(v.x)\n",
    "           \n",
    "        ustar = argmins[:n_samples]\n",
    "        alphastar = argmins[n_samples]    \n",
    "\n",
    "        return ustar, alphastar, f_opt\n",
    "    \n",
    "    \n",
    "    def minimize_cvar_given_z_dataset(self, Y_dist, z):\n",
    "        alphastar = np.zeros_like(Y_dist[0,:,0])\n",
    "        for i in range(0, Y_dist.shape[1]):\n",
    "            _, alphastar[i] , _ = self.minimize_cvar_given_z(Y_dist[:,i,:], z[i,:])\n",
    "        return alphastar\n",
    "        \n",
    "    def calc_cvar_dataset(self, Y_dist, zstar_pred, alpha):\n",
    "        cvar_pred = alpha + (1/(1-beta))*(np.maximum(-((Y_dist*zstar_pred).sum(2)) \\\n",
    "                                                              - alpha, 0)).mean(0)\n",
    "        return cvar_pred\n",
    "        \n",
    "    \n",
    "    def calc_f_dataset(self, Y_dist_pred, Y_dist):\n",
    "        zstar_pred = self.minimize_cvar_dataset(self, Y_dist_pred)\n",
    "        alphastar_pred = minimize_cvar_given_z_dataset(self, Y_dist, zstar_pred)\n",
    "        cvar_pred = self.calc_cvar_dataset(Y_dist, zstar_pred)\n",
    "        return cvar_pred\n",
    "    \n",
    "    \n",
    "    def cost_fn(self, Y_dist_pred, Y_dist):\n",
    "        f = self.calc_f_dataset(Y_dist_pred, Y_dist)\n",
    "        f_total = torch.mean(f)\n",
    "        return f_total\n",
    "        \n",
    "    #def end_loss(self, Y_dist_pred, Y_dist):\n",
    "    #    y_pred = y_pred.unsqueeze(0)\n",
    "    #    f_total = self.cost_fn(y_pred, y)\n",
    "    #    return f_total\n",
    "    \n",
    "    def end_loss_dist(self, Y_dist_pred, Y_dist):\n",
    "        f_total = self.cost_fn(Y_dist_pred, Y_dist)\n",
    "        return f_total"
   ]
  },
  {
   "cell_type": "code",
   "execution_count": 8,
   "metadata": {},
   "outputs": [],
   "source": [
    "N_train = 1000\n",
    "N_val = 600\n",
    "N_test = 600\n",
    "\n",
    "n_assets = 15\n",
    "\n",
    "n_samples_orig = 200\n",
    "\n",
    "nl = 0.1\n",
    "\n",
    "X, Y_original = gen_data(N_train, n_assets, nl, seed_number)\n",
    "X_val, Y_val_original = gen_data(N_val, n_assets, nl, seed_number + 80)\n",
    "X_test, Y_test_original = gen_data(N_test, n_assets, nl, seed_number + 160)\n",
    "\n",
    "Y_dist = gen_cond_dist(N_train, n_assets, n_samples_orig, nl=nl, seed_number=seed_number)\n",
    "Y_val_dist = gen_cond_dist(N_val, n_assets, n_samples_orig, nl=nl, seed_number=seed_number + 100)\n",
    "Y_test_dist = gen_cond_dist(N_test, n_assets, n_samples_orig, nl=nl, seed_number=seed_number + 200)"
   ]
  },
  {
   "cell_type": "code",
   "execution_count": 9,
   "metadata": {},
   "outputs": [],
   "source": [
    "# Output normalization\n",
    "scaler = StandardScaler()\n",
    "scaler.fit(Y_original)\n",
    "tmean = torch.tensor(scaler.mean_).to(dev)\n",
    "tstd = torch.tensor(scaler.scale_).to(dev)\n",
    "joblib.dump(scaler, 'scaler_cvar.gz')\n",
    "\n",
    "# Function to denormalize the data\n",
    "def inverse_transform(yy):\n",
    "    return yy*tstd + tmean\n",
    "\n",
    "Y = scaler.transform(Y_original).copy()\n",
    "X = torch.tensor(X, dtype=torch.float32)\n",
    "Y = torch.tensor(Y, dtype=torch.float32)\n",
    "data_train = data_generator.ArtificialDataset(X, Y)\n",
    "training_loader = torch.utils.data.DataLoader(\n",
    "    data_train, batch_size=BATCH_SIZE_LOADER,\n",
    "    shuffle=True, num_workers=cpu_count)\n",
    "Y_dist = torch.tensor(Y_dist, dtype=torch.float32)\n",
    "\n",
    "Y_val = scaler.transform(Y_val_original).copy()\n",
    "X_val = torch.tensor(X_val, dtype=torch.float32)\n",
    "Y_val_original = torch.tensor(Y_val_original, dtype=torch.float32)\n",
    "Y_val = torch.tensor(Y_val, dtype=torch.float32)\n",
    "data_valid = data_generator.ArtificialDataset(X_val, Y_val)\n",
    "validation_loader = torch.utils.data.DataLoader(\n",
    "    data_valid, batch_size=BATCH_SIZE_LOADER,\n",
    "    shuffle=False, num_workers=cpu_count)\n",
    "\n",
    "X_test = torch.tensor(X_test, dtype=torch.float32)\n",
    "Y_test_original = torch.tensor(\n",
    "    Y_test_original, dtype=torch.float32)\n",
    "data_test = data_generator.ArtificialDataset(\n",
    "    X_test, Y_test_original)\n",
    "test_loader = torch.utils.data.DataLoader(\n",
    "data_test, batch_size=16,\n",
    "shuffle=False, num_workers=cpu_count)"
   ]
  },
  {
   "cell_type": "code",
   "execution_count": 10,
   "metadata": {},
   "outputs": [],
   "source": [
    "n_samples = Y.shape[0]\n",
    "n_assets = Y.shape[1]\n",
    "beta = 0.80\n",
    "min_return = 100"
   ]
  },
  {
   "cell_type": "code",
   "execution_count": null,
   "metadata": {},
   "outputs": [],
   "source": []
  },
  {
   "cell_type": "code",
   "execution_count": null,
   "metadata": {},
   "outputs": [],
   "source": []
  },
  {
   "cell_type": "code",
   "execution_count": 23,
   "metadata": {},
   "outputs": [],
   "source": [
    "method_name = 'bnn'\n",
    "method_learning = 'combined'\n",
    "\n",
    "bnn = False\n",
    "aleat_bool = False\n",
    "if method_name == 'bnn':\n",
    "    bnn = True\n",
    "    aleat_bool = True\n",
    "N_SAMPLES = 16\n",
    "K = 1"
   ]
  },
  {
   "cell_type": "code",
   "execution_count": 24,
   "metadata": {},
   "outputs": [],
   "source": [
    "lr = 0.0005"
   ]
  },
  {
   "cell_type": "code",
   "execution_count": 25,
   "metadata": {},
   "outputs": [],
   "source": [
    "if method_name == 'bnn':\n",
    "    h = StrongVariationalNet(\n",
    "    n_samples=N_SAMPLES,\n",
    "    input_size=X.shape[1], \n",
    "    output_size=Y.shape[1], \n",
    "    plv=PLV, \n",
    "    dev=dev\n",
    "    ).to(dev)\n",
    "\n",
    "    \n",
    "#ANN Baseline model\n",
    "elif method_name == 'ann':\n",
    "    h = StrongStandardNet(X.shape[1], Y.shape[1]).to(dev)\n",
    "    K = 0 # There is no K in ANN\n",
    "    N_SAMPLES = 1\n",
    "    \n",
    "opt_h = torch.optim.Adam(h.parameters(), lr=lr)\n",
    "mse_loss = nn.MSELoss(reduction='none')\n",
    "\n",
    "\n",
    "#opt_cvar_gZ = cmu.CVaROPgZ(1, n_assets, beta, min_return, torch.tensor(Y_original), dev)\n",
    "op = cmu.RiskPortOP(N_SAMPLES, n_assets, min_return, torch.tensor(Y_original), dev)\n",
    "\n",
    "# Decoupled learning approach\n",
    "if method_learning == 'decoupled':\n",
    "    train_NN = TrainDecoupled(\n",
    "                    bnn = bnn,\n",
    "                    model=h,\n",
    "                    opt=opt_h,\n",
    "                    loss_data=mse_loss,\n",
    "                    K=K,\n",
    "                    aleat_bool=aleat_bool,\n",
    "                    training_loader=training_loader,\n",
    "                    validation_loader=validation_loader,\n",
    "                    dev=dev\n",
    "                )\n",
    "\n",
    "# Combined learning approach (end-to-end loss)\n",
    "elif method_learning == 'combined':\n",
    "    train_NN = TrainCombined(\n",
    "                    bnn = bnn,\n",
    "                    model=h,\n",
    "                    opt=opt_h,\n",
    "                    K=K,\n",
    "                    aleat_bool=aleat_bool,\n",
    "                    training_loader=training_loader,\n",
    "                    scaler=scaler,\n",
    "                    validation_loader=validation_loader,\n",
    "                    OP=op,\n",
    "                    dev=dev\n",
    "                )"
   ]
  },
  {
   "cell_type": "code",
   "execution_count": 26,
   "metadata": {
    "scrolled": true
   },
   "outputs": [
    {
     "name": "stderr",
     "output_type": "stream",
     "text": [
      "  0%|▎                                                                   | 1/200 [00:03<11:13,  3.39s/it]"
     ]
    },
    {
     "name": "stdout",
     "output_type": "stream",
     "text": [
      "------------------EPOCH 1------------------\n",
      "END LOSS \t train 27.249 valid 26.922 \n",
      " KL LOSS \t train 4.321 valid 4.319 \n",
      " TOTAL LOSS \t train 31.569 valid 31.241 \n",
      "\n"
     ]
    },
    {
     "name": "stderr",
     "output_type": "stream",
     "text": [
      "\r",
      "  1%|▋                                                                   | 2/200 [00:06<10:54,  3.30s/it]"
     ]
    },
    {
     "name": "stdout",
     "output_type": "stream",
     "text": [
      "------------------EPOCH 2------------------\n",
      "END LOSS \t train 26.711 valid 26.43 \n",
      " KL LOSS \t train 4.318 valid 4.316 \n",
      " TOTAL LOSS \t train 31.029 valid 30.746 \n",
      "\n"
     ]
    },
    {
     "name": "stderr",
     "output_type": "stream",
     "text": [
      "\r",
      "  2%|█                                                                   | 3/200 [00:09<10:50,  3.30s/it]"
     ]
    },
    {
     "name": "stdout",
     "output_type": "stream",
     "text": [
      "------------------EPOCH 3------------------\n",
      "END LOSS \t train 25.401 valid 25.244 \n",
      " KL LOSS \t train 4.315 valid 4.314 \n",
      " TOTAL LOSS \t train 29.717 valid 29.558 \n",
      "\n"
     ]
    },
    {
     "name": "stderr",
     "output_type": "stream",
     "text": [
      "\r",
      "  2%|█▎                                                                  | 4/200 [00:13<10:57,  3.35s/it]"
     ]
    },
    {
     "name": "stdout",
     "output_type": "stream",
     "text": [
      "------------------EPOCH 4------------------\n",
      "END LOSS \t train 21.817 valid 23.541 \n",
      " KL LOSS \t train 4.312 valid 4.311 \n",
      " TOTAL LOSS \t train 26.13 valid 27.853 \n",
      "\n"
     ]
    },
    {
     "name": "stderr",
     "output_type": "stream",
     "text": [
      "\r",
      "  2%|█▋                                                                  | 5/200 [00:16<11:02,  3.40s/it]"
     ]
    },
    {
     "name": "stdout",
     "output_type": "stream",
     "text": [
      "------------------EPOCH 5------------------\n",
      "END LOSS \t train 18.92 valid 20.868 \n",
      " KL LOSS \t train 4.31 valid 4.308 \n",
      " TOTAL LOSS \t train 23.231 valid 25.177 \n",
      "\n"
     ]
    },
    {
     "name": "stderr",
     "output_type": "stream",
     "text": [
      "\r",
      "  3%|██                                                                  | 6/200 [00:20<11:06,  3.44s/it]"
     ]
    },
    {
     "name": "stdout",
     "output_type": "stream",
     "text": [
      "------------------EPOCH 6------------------\n",
      "END LOSS \t train 16.467 valid 18.79 \n",
      " KL LOSS \t train 4.308 valid 4.306 \n",
      " TOTAL LOSS \t train 20.775 valid 23.096 \n",
      "\n"
     ]
    },
    {
     "name": "stderr",
     "output_type": "stream",
     "text": [
      "\r",
      "  4%|██▍                                                                 | 7/200 [00:23<11:12,  3.48s/it]"
     ]
    },
    {
     "name": "stdout",
     "output_type": "stream",
     "text": [
      "------------------EPOCH 7------------------\n",
      "END LOSS \t train 14.91 valid 16.172 \n",
      " KL LOSS \t train 4.305 valid 4.305 \n",
      " TOTAL LOSS \t train 19.216 valid 20.477 \n",
      "\n"
     ]
    },
    {
     "name": "stderr",
     "output_type": "stream",
     "text": [
      "\r",
      "  4%|██▋                                                                 | 8/200 [00:27<11:11,  3.50s/it]"
     ]
    },
    {
     "name": "stdout",
     "output_type": "stream",
     "text": [
      "------------------EPOCH 8------------------\n",
      "END LOSS \t train 14.888 valid 20.987 \n",
      " KL LOSS \t train 4.303 valid 4.302 \n",
      " TOTAL LOSS \t train 19.192 valid 25.289 \n",
      "\n"
     ]
    },
    {
     "name": "stderr",
     "output_type": "stream",
     "text": [
      "\r",
      "  4%|███                                                                 | 9/200 [00:31<11:10,  3.51s/it]"
     ]
    },
    {
     "name": "stdout",
     "output_type": "stream",
     "text": [
      "------------------EPOCH 9------------------\n",
      "END LOSS \t train 14.619 valid 17.672 \n",
      " KL LOSS \t train 4.301 valid 4.3 \n",
      " TOTAL LOSS \t train 18.92 valid 21.972 \n",
      "\n"
     ]
    },
    {
     "name": "stderr",
     "output_type": "stream",
     "text": [
      "\r",
      "  5%|███▎                                                               | 10/200 [00:34<11:21,  3.59s/it]"
     ]
    },
    {
     "name": "stdout",
     "output_type": "stream",
     "text": [
      "------------------EPOCH 10------------------\n",
      "END LOSS \t train 13.959 valid 15.251 \n",
      " KL LOSS \t train 4.299 valid 4.298 \n",
      " TOTAL LOSS \t train 18.258 valid 19.549 \n",
      "\n"
     ]
    },
    {
     "name": "stderr",
     "output_type": "stream",
     "text": [
      "\r",
      "  6%|███▋                                                               | 11/200 [00:38<11:26,  3.63s/it]"
     ]
    },
    {
     "name": "stdout",
     "output_type": "stream",
     "text": [
      "------------------EPOCH 11------------------\n",
      "END LOSS \t train 13.714 valid 16.041 \n",
      " KL LOSS \t train 4.297 valid 4.295 \n",
      " TOTAL LOSS \t train 18.011 valid 20.336 \n",
      "\n"
     ]
    },
    {
     "name": "stderr",
     "output_type": "stream",
     "text": [
      "\r",
      "  6%|████                                                               | 12/200 [00:42<11:29,  3.67s/it]"
     ]
    },
    {
     "name": "stdout",
     "output_type": "stream",
     "text": [
      "------------------EPOCH 12------------------\n",
      "END LOSS \t train 13.737 valid 16.454 \n",
      " KL LOSS \t train 4.295 valid 4.293 \n",
      " TOTAL LOSS \t train 18.032 valid 20.747 \n",
      "\n"
     ]
    },
    {
     "name": "stderr",
     "output_type": "stream",
     "text": [
      "\r",
      "  6%|████▎                                                              | 13/200 [00:45<11:27,  3.67s/it]"
     ]
    },
    {
     "name": "stdout",
     "output_type": "stream",
     "text": [
      "------------------EPOCH 13------------------\n",
      "END LOSS \t train 13.523 valid 15.03 \n",
      " KL LOSS \t train 4.292 valid 4.291 \n",
      " TOTAL LOSS \t train 17.816 valid 19.322 \n",
      "\n"
     ]
    },
    {
     "name": "stderr",
     "output_type": "stream",
     "text": [
      "\r",
      "  7%|████▋                                                              | 14/200 [00:49<11:24,  3.68s/it]"
     ]
    },
    {
     "name": "stdout",
     "output_type": "stream",
     "text": [
      "------------------EPOCH 14------------------\n",
      "END LOSS \t train 13.685 valid 14.985 \n",
      " KL LOSS \t train 4.29 valid 4.289 \n",
      " TOTAL LOSS \t train 17.976 valid 19.274 \n",
      "\n"
     ]
    },
    {
     "name": "stderr",
     "output_type": "stream",
     "text": [
      "\r",
      "  8%|█████                                                              | 15/200 [00:53<11:27,  3.72s/it]"
     ]
    },
    {
     "name": "stdout",
     "output_type": "stream",
     "text": [
      "------------------EPOCH 15------------------\n",
      "END LOSS \t train 13.189 valid 14.441 \n",
      " KL LOSS \t train 4.289 valid 4.287 \n",
      " TOTAL LOSS \t train 17.478 valid 18.729 \n",
      "\n"
     ]
    },
    {
     "name": "stderr",
     "output_type": "stream",
     "text": [
      "\r",
      "  8%|█████▎                                                             | 16/200 [00:57<11:26,  3.73s/it]"
     ]
    },
    {
     "name": "stdout",
     "output_type": "stream",
     "text": [
      "------------------EPOCH 16------------------\n",
      "END LOSS \t train 12.915 valid 14.379 \n",
      " KL LOSS \t train 4.286 valid 4.285 \n",
      " TOTAL LOSS \t train 17.201 valid 18.664 \n",
      "\n"
     ]
    },
    {
     "name": "stderr",
     "output_type": "stream",
     "text": [
      "\r",
      "  8%|█████▋                                                             | 17/200 [01:00<11:25,  3.75s/it]"
     ]
    },
    {
     "name": "stdout",
     "output_type": "stream",
     "text": [
      "------------------EPOCH 17------------------\n",
      "END LOSS \t train 13.213 valid 14.645 \n",
      " KL LOSS \t train 4.284 valid 4.284 \n",
      " TOTAL LOSS \t train 17.498 valid 18.93 \n",
      "\n"
     ]
    },
    {
     "name": "stderr",
     "output_type": "stream",
     "text": [
      "\r",
      "  9%|██████                                                             | 18/200 [01:04<11:23,  3.76s/it]"
     ]
    },
    {
     "name": "stdout",
     "output_type": "stream",
     "text": [
      "------------------EPOCH 18------------------\n",
      "END LOSS \t train 12.786 valid 14.041 \n",
      " KL LOSS \t train 4.282 valid 4.281 \n",
      " TOTAL LOSS \t train 17.069 valid 18.323 \n",
      "\n"
     ]
    },
    {
     "name": "stderr",
     "output_type": "stream",
     "text": [
      "\r",
      " 10%|██████▎                                                            | 19/200 [01:08<11:28,  3.80s/it]"
     ]
    },
    {
     "name": "stdout",
     "output_type": "stream",
     "text": [
      "------------------EPOCH 19------------------\n",
      "END LOSS \t train 12.555 valid 13.116 \n",
      " KL LOSS \t train 4.28 valid 4.28 \n",
      " TOTAL LOSS \t train 16.836 valid 17.396 \n",
      "\n"
     ]
    },
    {
     "name": "stderr",
     "output_type": "stream",
     "text": [
      "\r",
      " 10%|██████▋                                                            | 20/200 [01:12<11:14,  3.75s/it]"
     ]
    },
    {
     "name": "stdout",
     "output_type": "stream",
     "text": [
      "------------------EPOCH 20------------------\n",
      "END LOSS \t train 12.371 valid 13.629 \n",
      " KL LOSS \t train 4.279 valid 4.278 \n",
      " TOTAL LOSS \t train 16.651 valid 17.907 \n",
      "\n"
     ]
    },
    {
     "name": "stderr",
     "output_type": "stream",
     "text": [
      "\r",
      " 10%|███████                                                            | 21/200 [01:15<11:03,  3.71s/it]"
     ]
    },
    {
     "name": "stdout",
     "output_type": "stream",
     "text": [
      "------------------EPOCH 21------------------\n",
      "END LOSS \t train 12.127 valid 12.268 \n",
      " KL LOSS \t train 4.277 valid 4.275 \n",
      " TOTAL LOSS \t train 16.404 valid 16.544 \n",
      "\n"
     ]
    },
    {
     "name": "stderr",
     "output_type": "stream",
     "text": [
      "\r",
      " 11%|███████▎                                                           | 22/200 [01:19<11:17,  3.80s/it]"
     ]
    },
    {
     "name": "stdout",
     "output_type": "stream",
     "text": [
      "------------------EPOCH 22------------------\n",
      "END LOSS \t train 12.368 valid 12.777 \n",
      " KL LOSS \t train 4.275 valid 4.274 \n",
      " TOTAL LOSS \t train 16.643 valid 17.052 \n",
      "\n"
     ]
    },
    {
     "name": "stderr",
     "output_type": "stream",
     "text": [
      "\r",
      " 12%|███████▋                                                           | 23/200 [01:23<11:25,  3.87s/it]"
     ]
    },
    {
     "name": "stdout",
     "output_type": "stream",
     "text": [
      "------------------EPOCH 23------------------\n",
      "END LOSS \t train 12.002 valid 12.973 \n",
      " KL LOSS \t train 4.273 valid 4.272 \n",
      " TOTAL LOSS \t train 16.275 valid 17.245 \n",
      "\n"
     ]
    },
    {
     "name": "stderr",
     "output_type": "stream",
     "text": [
      "\r",
      " 12%|████████                                                           | 24/200 [01:28<11:36,  3.96s/it]"
     ]
    },
    {
     "name": "stdout",
     "output_type": "stream",
     "text": [
      "------------------EPOCH 24------------------\n",
      "END LOSS \t train 11.707 valid 11.116 \n",
      " KL LOSS \t train 4.271 valid 4.27 \n",
      " TOTAL LOSS \t train 15.978 valid 15.386 \n",
      "\n"
     ]
    },
    {
     "name": "stderr",
     "output_type": "stream",
     "text": [
      "\r",
      " 12%|████████▍                                                          | 25/200 [01:32<11:39,  4.00s/it]"
     ]
    },
    {
     "name": "stdout",
     "output_type": "stream",
     "text": [
      "------------------EPOCH 25------------------\n",
      "END LOSS \t train 11.263 valid 10.811 \n",
      " KL LOSS \t train 4.27 valid 4.268 \n",
      " TOTAL LOSS \t train 15.533 valid 15.079 \n",
      "\n"
     ]
    },
    {
     "name": "stderr",
     "output_type": "stream",
     "text": [
      "\r",
      " 13%|████████▋                                                          | 26/200 [01:36<11:34,  3.99s/it]"
     ]
    },
    {
     "name": "stdout",
     "output_type": "stream",
     "text": [
      "------------------EPOCH 26------------------\n",
      "END LOSS \t train 10.891 valid 9.885 \n",
      " KL LOSS \t train 4.268 valid 4.266 \n",
      " TOTAL LOSS \t train 15.159 valid 14.152 \n",
      "\n"
     ]
    },
    {
     "name": "stderr",
     "output_type": "stream",
     "text": [
      "\r",
      " 14%|█████████                                                          | 27/200 [01:40<11:46,  4.08s/it]"
     ]
    },
    {
     "name": "stdout",
     "output_type": "stream",
     "text": [
      "------------------EPOCH 27------------------\n",
      "END LOSS \t train 10.971 valid 11.871 \n",
      " KL LOSS \t train 4.266 valid 4.265 \n",
      " TOTAL LOSS \t train 15.237 valid 16.137 \n",
      "\n"
     ]
    },
    {
     "name": "stderr",
     "output_type": "stream",
     "text": [
      "\r",
      " 14%|█████████▍                                                         | 28/200 [01:44<11:49,  4.12s/it]"
     ]
    },
    {
     "name": "stdout",
     "output_type": "stream",
     "text": [
      "------------------EPOCH 28------------------\n",
      "END LOSS \t train 10.002 valid 7.432 \n",
      " KL LOSS \t train 4.264 valid 4.264 \n",
      " TOTAL LOSS \t train 14.266 valid 11.697 \n",
      "\n"
     ]
    },
    {
     "name": "stderr",
     "output_type": "stream",
     "text": [
      "\r",
      " 14%|█████████▋                                                         | 29/200 [01:48<11:33,  4.06s/it]"
     ]
    },
    {
     "name": "stdout",
     "output_type": "stream",
     "text": [
      "------------------EPOCH 29------------------\n",
      "END LOSS \t train 10.002 valid 6.923 \n",
      " KL LOSS \t train 4.263 valid 4.262 \n",
      " TOTAL LOSS \t train 14.265 valid 11.185 \n",
      "\n"
     ]
    },
    {
     "name": "stderr",
     "output_type": "stream",
     "text": [
      "\r",
      " 15%|██████████                                                         | 30/200 [01:52<11:24,  4.02s/it]"
     ]
    },
    {
     "name": "stdout",
     "output_type": "stream",
     "text": [
      "------------------EPOCH 30------------------\n",
      "END LOSS \t train 9.309 valid 7.044 \n",
      " KL LOSS \t train 4.261 valid 4.26 \n",
      " TOTAL LOSS \t train 13.57 valid 11.305 \n",
      "\n"
     ]
    },
    {
     "name": "stderr",
     "output_type": "stream",
     "text": [
      "\r",
      " 16%|██████████▍                                                        | 31/200 [01:56<11:21,  4.03s/it]"
     ]
    },
    {
     "name": "stdout",
     "output_type": "stream",
     "text": [
      "------------------EPOCH 31------------------\n",
      "END LOSS \t train 11.214 valid 14.043 \n",
      " KL LOSS \t train 4.259 valid 4.259 \n",
      " TOTAL LOSS \t train 15.473 valid 18.302 \n",
      "\n"
     ]
    },
    {
     "name": "stderr",
     "output_type": "stream",
     "text": [
      "\r",
      " 16%|██████████▋                                                        | 32/200 [02:00<11:13,  4.01s/it]"
     ]
    },
    {
     "name": "stdout",
     "output_type": "stream",
     "text": [
      "------------------EPOCH 32------------------\n",
      "END LOSS \t train 10.509 valid 11.067 \n",
      " KL LOSS \t train 4.257 valid 4.257 \n",
      " TOTAL LOSS \t train 14.766 valid 15.324 \n",
      "\n"
     ]
    },
    {
     "name": "stderr",
     "output_type": "stream",
     "text": [
      "\r",
      " 16%|███████████                                                        | 33/200 [02:04<11:10,  4.02s/it]"
     ]
    },
    {
     "name": "stdout",
     "output_type": "stream",
     "text": [
      "------------------EPOCH 33------------------\n",
      "END LOSS \t train 9.302 valid 8.748 \n",
      " KL LOSS \t train 4.256 valid 4.256 \n",
      " TOTAL LOSS \t train 13.559 valid 13.004 \n",
      "\n"
     ]
    },
    {
     "name": "stderr",
     "output_type": "stream",
     "text": [
      "\r",
      " 17%|███████████▍                                                       | 34/200 [02:08<11:04,  4.00s/it]"
     ]
    },
    {
     "name": "stdout",
     "output_type": "stream",
     "text": [
      "------------------EPOCH 34------------------\n",
      "END LOSS \t train 7.778 valid 4.789 \n",
      " KL LOSS \t train 4.254 valid 4.253 \n",
      " TOTAL LOSS \t train 12.033 valid 9.043 \n",
      "\n"
     ]
    },
    {
     "name": "stderr",
     "output_type": "stream",
     "text": [
      "\r",
      " 18%|███████████▋                                                       | 35/200 [02:12<11:01,  4.01s/it]"
     ]
    },
    {
     "name": "stdout",
     "output_type": "stream",
     "text": [
      "------------------EPOCH 35------------------\n",
      "END LOSS \t train 8.573 valid 5.984 \n",
      " KL LOSS \t train 4.253 valid 4.252 \n",
      " TOTAL LOSS \t train 12.826 valid 10.237 \n",
      "\n"
     ]
    },
    {
     "name": "stderr",
     "output_type": "stream",
     "text": [
      "\r",
      " 18%|████████████                                                       | 36/200 [02:16<10:54,  3.99s/it]"
     ]
    },
    {
     "name": "stdout",
     "output_type": "stream",
     "text": [
      "------------------EPOCH 36------------------\n",
      "END LOSS \t train 7.822 valid 8.382 \n",
      " KL LOSS \t train 4.251 valid 4.251 \n",
      " TOTAL LOSS \t train 12.074 valid 12.634 \n",
      "\n"
     ]
    },
    {
     "name": "stderr",
     "output_type": "stream",
     "text": [
      "\r",
      " 18%|████████████▍                                                      | 37/200 [02:20<10:55,  4.02s/it]"
     ]
    },
    {
     "name": "stdout",
     "output_type": "stream",
     "text": [
      "------------------EPOCH 37------------------\n",
      "END LOSS \t train 8.045 valid 3.776 \n",
      " KL LOSS \t train 4.25 valid 4.25 \n",
      " TOTAL LOSS \t train 12.295 valid 8.026 \n",
      "\n"
     ]
    },
    {
     "name": "stderr",
     "output_type": "stream",
     "text": [
      "\r",
      " 19%|████████████▋                                                      | 38/200 [02:24<10:50,  4.01s/it]"
     ]
    },
    {
     "name": "stdout",
     "output_type": "stream",
     "text": [
      "------------------EPOCH 38------------------\n",
      "END LOSS \t train 6.917 valid 6.615 \n",
      " KL LOSS \t train 4.248 valid 4.247 \n",
      " TOTAL LOSS \t train 11.166 valid 10.862 \n",
      "\n"
     ]
    },
    {
     "name": "stderr",
     "output_type": "stream",
     "text": [
      "\r",
      " 20%|█████████████                                                      | 39/200 [02:28<10:48,  4.02s/it]"
     ]
    },
    {
     "name": "stdout",
     "output_type": "stream",
     "text": [
      "------------------EPOCH 39------------------\n",
      "END LOSS \t train 8.036 valid 6.042 \n",
      " KL LOSS \t train 4.247 valid 4.246 \n",
      " TOTAL LOSS \t train 12.283 valid 10.288 \n",
      "\n"
     ]
    },
    {
     "name": "stderr",
     "output_type": "stream",
     "text": [
      "\r",
      " 20%|█████████████▍                                                     | 40/200 [02:32<10:39,  4.00s/it]"
     ]
    },
    {
     "name": "stdout",
     "output_type": "stream",
     "text": [
      "------------------EPOCH 40------------------\n",
      "END LOSS \t train 8.204 valid 6.695 \n",
      " KL LOSS \t train 4.245 valid 4.245 \n",
      " TOTAL LOSS \t train 12.45 valid 10.94 \n",
      "\n"
     ]
    },
    {
     "name": "stderr",
     "output_type": "stream",
     "text": [
      "\r",
      " 20%|█████████████▋                                                     | 41/200 [02:36<10:32,  3.98s/it]"
     ]
    },
    {
     "name": "stdout",
     "output_type": "stream",
     "text": [
      "------------------EPOCH 41------------------\n",
      "END LOSS \t train 9.265 valid 4.679 \n",
      " KL LOSS \t train 4.244 valid 4.243 \n",
      " TOTAL LOSS \t train 13.509 valid 8.922 \n",
      "\n"
     ]
    },
    {
     "name": "stderr",
     "output_type": "stream",
     "text": [
      "\r",
      " 21%|██████████████                                                     | 42/200 [02:40<10:26,  3.96s/it]"
     ]
    },
    {
     "name": "stdout",
     "output_type": "stream",
     "text": [
      "------------------EPOCH 42------------------\n",
      "END LOSS \t train 6.979 valid 6.054 \n",
      " KL LOSS \t train 4.243 valid 4.242 \n",
      " TOTAL LOSS \t train 11.222 valid 10.297 \n",
      "\n"
     ]
    },
    {
     "name": "stderr",
     "output_type": "stream",
     "text": [
      "\r",
      " 22%|██████████████▍                                                    | 43/200 [02:44<10:23,  3.97s/it]"
     ]
    },
    {
     "name": "stdout",
     "output_type": "stream",
     "text": [
      "------------------EPOCH 43------------------\n",
      "END LOSS \t train 6.478 valid 3.118 \n",
      " KL LOSS \t train 4.242 valid 4.24 \n",
      " TOTAL LOSS \t train 10.72 valid 7.359 \n",
      "\n"
     ]
    },
    {
     "name": "stderr",
     "output_type": "stream",
     "text": [
      "\r",
      " 22%|██████████████▋                                                    | 44/200 [02:48<10:23,  4.00s/it]"
     ]
    },
    {
     "name": "stdout",
     "output_type": "stream",
     "text": [
      "------------------EPOCH 44------------------\n",
      "END LOSS \t train 6.022 valid 10.272 \n",
      " KL LOSS \t train 4.24 valid 4.24 \n",
      " TOTAL LOSS \t train 10.262 valid 14.512 \n",
      "\n"
     ]
    },
    {
     "name": "stderr",
     "output_type": "stream",
     "text": [
      "\r",
      " 22%|███████████████                                                    | 45/200 [02:52<10:15,  3.97s/it]"
     ]
    },
    {
     "name": "stdout",
     "output_type": "stream",
     "text": [
      "------------------EPOCH 45------------------\n",
      "END LOSS \t train 6.655 valid 5.352 \n",
      " KL LOSS \t train 4.239 valid 4.238 \n",
      " TOTAL LOSS \t train 10.895 valid 9.59 \n",
      "\n"
     ]
    },
    {
     "name": "stderr",
     "output_type": "stream",
     "text": [
      "\r",
      " 23%|███████████████▍                                                   | 46/200 [02:56<10:11,  3.97s/it]"
     ]
    },
    {
     "name": "stdout",
     "output_type": "stream",
     "text": [
      "------------------EPOCH 46------------------\n",
      "END LOSS \t train 5.991 valid 2.761 \n",
      " KL LOSS \t train 4.238 valid 4.236 \n",
      " TOTAL LOSS \t train 10.23 valid 6.998 \n",
      "\n"
     ]
    },
    {
     "name": "stderr",
     "output_type": "stream",
     "text": [
      "\r",
      " 24%|███████████████▋                                                   | 47/200 [03:00<10:14,  4.01s/it]"
     ]
    },
    {
     "name": "stdout",
     "output_type": "stream",
     "text": [
      "------------------EPOCH 47------------------\n",
      "END LOSS \t train 6.613 valid 1.852 \n",
      " KL LOSS \t train 4.236 valid 4.235 \n",
      " TOTAL LOSS \t train 10.85 valid 6.088 \n",
      "\n"
     ]
    },
    {
     "name": "stderr",
     "output_type": "stream",
     "text": [
      "\r",
      " 24%|████████████████                                                   | 48/200 [03:04<10:09,  4.01s/it]"
     ]
    },
    {
     "name": "stdout",
     "output_type": "stream",
     "text": [
      "------------------EPOCH 48------------------\n",
      "END LOSS \t train 5.335 valid 3.918 \n",
      " KL LOSS \t train 4.235 valid 4.234 \n",
      " TOTAL LOSS \t train 9.571 valid 8.153 \n",
      "\n"
     ]
    },
    {
     "name": "stderr",
     "output_type": "stream",
     "text": [
      "\r",
      " 24%|████████████████▍                                                  | 49/200 [03:08<10:07,  4.03s/it]"
     ]
    },
    {
     "name": "stdout",
     "output_type": "stream",
     "text": [
      "------------------EPOCH 49------------------\n",
      "END LOSS \t train 5.693 valid 2.459 \n",
      " KL LOSS \t train 4.234 valid 4.234 \n",
      " TOTAL LOSS \t train 9.928 valid 6.693 \n",
      "\n"
     ]
    },
    {
     "name": "stderr",
     "output_type": "stream",
     "text": [
      "\r",
      " 25%|████████████████▊                                                  | 50/200 [03:12<10:05,  4.03s/it]"
     ]
    },
    {
     "name": "stdout",
     "output_type": "stream",
     "text": [
      "------------------EPOCH 50------------------\n",
      "END LOSS \t train 5.211 valid 4.877 \n",
      " KL LOSS \t train 4.233 valid 4.231 \n",
      " TOTAL LOSS \t train 9.444 valid 9.109 \n",
      "\n"
     ]
    },
    {
     "name": "stderr",
     "output_type": "stream",
     "text": [
      "\r",
      " 26%|█████████████████                                                  | 51/200 [03:16<10:00,  4.03s/it]"
     ]
    },
    {
     "name": "stdout",
     "output_type": "stream",
     "text": [
      "------------------EPOCH 51------------------\n",
      "END LOSS \t train 5.542 valid 2.274 \n",
      " KL LOSS \t train 4.231 valid 4.231 \n",
      " TOTAL LOSS \t train 9.774 valid 6.505 \n",
      "\n"
     ]
    },
    {
     "name": "stderr",
     "output_type": "stream",
     "text": [
      "\r",
      " 26%|█████████████████▍                                                 | 52/200 [03:20<09:54,  4.02s/it]"
     ]
    },
    {
     "name": "stdout",
     "output_type": "stream",
     "text": [
      "------------------EPOCH 52------------------\n",
      "END LOSS \t train 4.983 valid 3.179 \n",
      " KL LOSS \t train 4.23 valid 4.23 \n",
      " TOTAL LOSS \t train 9.213 valid 7.409 \n",
      "\n"
     ]
    },
    {
     "name": "stderr",
     "output_type": "stream",
     "text": [
      "\r",
      " 26%|█████████████████▊                                                 | 53/200 [03:24<09:49,  4.01s/it]"
     ]
    },
    {
     "name": "stdout",
     "output_type": "stream",
     "text": [
      "------------------EPOCH 53------------------\n",
      "END LOSS \t train 4.502 valid 2.459 \n",
      " KL LOSS \t train 4.229 valid 4.228 \n",
      " TOTAL LOSS \t train 8.731 valid 6.688 \n",
      "\n"
     ]
    },
    {
     "name": "stderr",
     "output_type": "stream",
     "text": [
      "\r",
      " 27%|██████████████████                                                 | 54/200 [03:28<09:42,  3.99s/it]"
     ]
    },
    {
     "name": "stdout",
     "output_type": "stream",
     "text": [
      "------------------EPOCH 54------------------\n",
      "END LOSS \t train 5.194 valid 11.235 \n",
      " KL LOSS \t train 4.228 valid 4.228 \n",
      " TOTAL LOSS \t train 9.422 valid 15.463 \n",
      "\n"
     ]
    },
    {
     "name": "stderr",
     "output_type": "stream",
     "text": [
      "\r",
      " 28%|██████████████████▍                                                | 55/200 [03:32<09:37,  3.98s/it]"
     ]
    },
    {
     "name": "stdout",
     "output_type": "stream",
     "text": [
      "------------------EPOCH 55------------------\n",
      "END LOSS \t train 6.466 valid 2.123 \n",
      " KL LOSS \t train 4.227 valid 4.227 \n",
      " TOTAL LOSS \t train 10.693 valid 6.35 \n",
      "\n"
     ]
    },
    {
     "name": "stderr",
     "output_type": "stream",
     "text": [
      "\r",
      " 28%|██████████████████▊                                                | 56/200 [03:36<09:38,  4.02s/it]"
     ]
    },
    {
     "name": "stdout",
     "output_type": "stream",
     "text": [
      "------------------EPOCH 56------------------\n",
      "END LOSS \t train 6.011 valid 3.161 \n",
      " KL LOSS \t train 4.226 valid 4.224 \n",
      " TOTAL LOSS \t train 10.237 valid 7.385 \n",
      "\n"
     ]
    },
    {
     "name": "stderr",
     "output_type": "stream",
     "text": [
      "\r",
      " 28%|███████████████████                                                | 57/200 [03:40<09:38,  4.04s/it]"
     ]
    },
    {
     "name": "stdout",
     "output_type": "stream",
     "text": [
      "------------------EPOCH 57------------------\n",
      "END LOSS \t train 4.81 valid 1.93 \n",
      " KL LOSS \t train 4.224 valid 4.223 \n",
      " TOTAL LOSS \t train 9.034 valid 6.153 \n",
      "\n"
     ]
    },
    {
     "name": "stderr",
     "output_type": "stream",
     "text": [
      "\r",
      " 29%|███████████████████▍                                               | 58/200 [03:44<09:39,  4.08s/it]"
     ]
    },
    {
     "name": "stdout",
     "output_type": "stream",
     "text": [
      "------------------EPOCH 58------------------\n",
      "END LOSS \t train 4.161 valid 2.928 \n",
      " KL LOSS \t train 4.223 valid 4.223 \n",
      " TOTAL LOSS \t train 8.385 valid 7.151 \n",
      "\n"
     ]
    },
    {
     "name": "stderr",
     "output_type": "stream",
     "text": [
      "\r",
      " 30%|███████████████████▊                                               | 59/200 [03:48<09:31,  4.06s/it]"
     ]
    },
    {
     "name": "stdout",
     "output_type": "stream",
     "text": [
      "------------------EPOCH 59------------------\n",
      "END LOSS \t train 4.352 valid 1.813 \n",
      " KL LOSS \t train 4.222 valid 4.221 \n",
      " TOTAL LOSS \t train 8.574 valid 6.034 \n",
      "\n"
     ]
    },
    {
     "name": "stderr",
     "output_type": "stream",
     "text": [
      "\r",
      " 30%|████████████████████                                               | 60/200 [03:52<09:21,  4.01s/it]"
     ]
    },
    {
     "name": "stdout",
     "output_type": "stream",
     "text": [
      "------------------EPOCH 60------------------\n",
      "END LOSS \t train 4.146 valid 1.871 \n",
      " KL LOSS \t train 4.221 valid 4.22 \n",
      " TOTAL LOSS \t train 8.368 valid 6.092 \n",
      "\n"
     ]
    },
    {
     "name": "stderr",
     "output_type": "stream",
     "text": [
      "\r",
      " 30%|████████████████████▍                                              | 61/200 [03:56<09:16,  4.00s/it]"
     ]
    },
    {
     "name": "stdout",
     "output_type": "stream",
     "text": [
      "------------------EPOCH 61------------------\n",
      "END LOSS \t train 3.971 valid 2.13 \n",
      " KL LOSS \t train 4.22 valid 4.219 \n",
      " TOTAL LOSS \t train 8.191 valid 6.349 \n",
      "\n"
     ]
    },
    {
     "name": "stderr",
     "output_type": "stream",
     "text": [
      "\r",
      " 31%|████████████████████▊                                              | 62/200 [04:00<09:15,  4.02s/it]"
     ]
    },
    {
     "name": "stdout",
     "output_type": "stream",
     "text": [
      "------------------EPOCH 62------------------\n",
      "END LOSS \t train 4.096 valid 2.012 \n",
      " KL LOSS \t train 4.219 valid 4.219 \n",
      " TOTAL LOSS \t train 8.315 valid 6.231 \n",
      "\n"
     ]
    },
    {
     "name": "stderr",
     "output_type": "stream",
     "text": [
      "\r",
      " 32%|█████████████████████                                              | 63/200 [04:04<09:06,  3.99s/it]"
     ]
    },
    {
     "name": "stdout",
     "output_type": "stream",
     "text": [
      "------------------EPOCH 63------------------\n",
      "END LOSS \t train 4.39 valid 1.958 \n",
      " KL LOSS \t train 4.218 valid 4.217 \n",
      " TOTAL LOSS \t train 8.608 valid 6.175 \n",
      "\n"
     ]
    },
    {
     "name": "stderr",
     "output_type": "stream",
     "text": [
      "\r",
      " 32%|█████████████████████▍                                             | 64/200 [04:08<09:11,  4.05s/it]"
     ]
    },
    {
     "name": "stdout",
     "output_type": "stream",
     "text": [
      "------------------EPOCH 64------------------\n",
      "END LOSS \t train 3.758 valid 1.613 \n",
      " KL LOSS \t train 4.217 valid 4.216 \n",
      " TOTAL LOSS \t train 7.975 valid 5.829 \n",
      "\n"
     ]
    },
    {
     "name": "stderr",
     "output_type": "stream",
     "text": [
      "\r",
      " 32%|█████████████████████▊                                             | 65/200 [04:12<09:01,  4.01s/it]"
     ]
    },
    {
     "name": "stdout",
     "output_type": "stream",
     "text": [
      "------------------EPOCH 65------------------\n",
      "END LOSS \t train 3.892 valid 1.469 \n",
      " KL LOSS \t train 4.216 valid 4.214 \n",
      " TOTAL LOSS \t train 8.108 valid 5.684 \n",
      "\n"
     ]
    },
    {
     "name": "stderr",
     "output_type": "stream",
     "text": [
      "\r",
      " 33%|██████████████████████                                             | 66/200 [04:16<08:51,  3.97s/it]"
     ]
    },
    {
     "name": "stdout",
     "output_type": "stream",
     "text": [
      "------------------EPOCH 66------------------\n",
      "END LOSS \t train 4.142 valid 2.691 \n",
      " KL LOSS \t train 4.214 valid 4.214 \n",
      " TOTAL LOSS \t train 8.357 valid 6.905 \n",
      "\n"
     ]
    },
    {
     "name": "stderr",
     "output_type": "stream",
     "text": [
      "\r",
      " 34%|██████████████████████▍                                            | 67/200 [04:20<08:47,  3.97s/it]"
     ]
    },
    {
     "name": "stdout",
     "output_type": "stream",
     "text": [
      "------------------EPOCH 67------------------\n",
      "END LOSS \t train 4.194 valid 1.896 \n",
      " KL LOSS \t train 4.213 valid 4.214 \n",
      " TOTAL LOSS \t train 8.408 valid 6.11 \n",
      "\n"
     ]
    },
    {
     "name": "stderr",
     "output_type": "stream",
     "text": [
      "\r",
      " 34%|██████████████████████▊                                            | 68/200 [04:24<08:43,  3.97s/it]"
     ]
    },
    {
     "name": "stdout",
     "output_type": "stream",
     "text": [
      "------------------EPOCH 68------------------\n",
      "END LOSS \t train 4.328 valid 2.658 \n",
      " KL LOSS \t train 4.212 valid 4.213 \n",
      " TOTAL LOSS \t train 8.54 valid 6.871 \n",
      "\n"
     ]
    },
    {
     "name": "stderr",
     "output_type": "stream",
     "text": [
      "\r",
      " 34%|███████████████████████                                            | 69/200 [04:28<08:40,  3.97s/it]"
     ]
    },
    {
     "name": "stdout",
     "output_type": "stream",
     "text": [
      "------------------EPOCH 69------------------\n",
      "END LOSS \t train 4.627 valid 1.271 \n",
      " KL LOSS \t train 4.211 valid 4.211 \n",
      " TOTAL LOSS \t train 8.838 valid 5.483 \n",
      "\n"
     ]
    },
    {
     "name": "stderr",
     "output_type": "stream",
     "text": [
      "\r",
      " 35%|███████████████████████▍                                           | 70/200 [04:32<08:37,  3.98s/it]"
     ]
    },
    {
     "name": "stdout",
     "output_type": "stream",
     "text": [
      "------------------EPOCH 70------------------\n",
      "END LOSS \t train 4.35 valid 2.423 \n",
      " KL LOSS \t train 4.21 valid 4.211 \n",
      " TOTAL LOSS \t train 8.561 valid 6.634 \n",
      "\n"
     ]
    },
    {
     "name": "stderr",
     "output_type": "stream",
     "text": [
      "\r",
      " 36%|███████████████████████▊                                           | 71/200 [04:36<08:36,  4.00s/it]"
     ]
    },
    {
     "name": "stdout",
     "output_type": "stream",
     "text": [
      "------------------EPOCH 71------------------\n",
      "END LOSS \t train 3.576 valid 2.446 \n",
      " KL LOSS \t train 4.209 valid 4.209 \n",
      " TOTAL LOSS \t train 7.786 valid 6.655 \n",
      "\n"
     ]
    },
    {
     "name": "stderr",
     "output_type": "stream",
     "text": [
      "\r",
      " 36%|████████████████████████                                           | 72/200 [04:40<08:30,  3.99s/it]"
     ]
    },
    {
     "name": "stdout",
     "output_type": "stream",
     "text": [
      "------------------EPOCH 72------------------\n",
      "END LOSS \t train 3.708 valid 2.266 \n",
      " KL LOSS \t train 4.208 valid 4.209 \n",
      " TOTAL LOSS \t train 7.917 valid 6.476 \n",
      "\n"
     ]
    },
    {
     "name": "stderr",
     "output_type": "stream",
     "text": [
      "\r",
      " 36%|████████████████████████▍                                          | 73/200 [04:44<08:28,  4.01s/it]"
     ]
    },
    {
     "name": "stdout",
     "output_type": "stream",
     "text": [
      "------------------EPOCH 73------------------\n",
      "END LOSS \t train 3.301 valid 1.203 \n",
      " KL LOSS \t train 4.207 valid 4.206 \n",
      " TOTAL LOSS \t train 7.509 valid 5.409 \n",
      "\n"
     ]
    },
    {
     "name": "stderr",
     "output_type": "stream",
     "text": [
      "\r",
      " 37%|████████████████████████▊                                          | 74/200 [04:48<08:21,  3.98s/it]"
     ]
    },
    {
     "name": "stdout",
     "output_type": "stream",
     "text": [
      "------------------EPOCH 74------------------\n",
      "END LOSS \t train 3.583 valid 3.216 \n",
      " KL LOSS \t train 4.206 valid 4.206 \n",
      " TOTAL LOSS \t train 7.79 valid 7.423 \n",
      "\n"
     ]
    },
    {
     "name": "stderr",
     "output_type": "stream",
     "text": [
      "\r",
      " 38%|█████████████████████████▏                                         | 75/200 [04:52<08:14,  3.95s/it]"
     ]
    },
    {
     "name": "stdout",
     "output_type": "stream",
     "text": [
      "------------------EPOCH 75------------------\n",
      "END LOSS \t train 3.256 valid 1.875 \n",
      " KL LOSS \t train 4.205 valid 4.204 \n",
      " TOTAL LOSS \t train 7.462 valid 6.079 \n",
      "\n"
     ]
    },
    {
     "name": "stderr",
     "output_type": "stream",
     "text": [
      "\r",
      " 38%|█████████████████████████▍                                         | 76/200 [04:56<08:08,  3.94s/it]"
     ]
    },
    {
     "name": "stdout",
     "output_type": "stream",
     "text": [
      "------------------EPOCH 76------------------\n",
      "END LOSS \t train 3.607 valid 1.625 \n",
      " KL LOSS \t train 4.204 valid 4.205 \n",
      " TOTAL LOSS \t train 7.812 valid 5.83 \n",
      "\n"
     ]
    },
    {
     "name": "stderr",
     "output_type": "stream",
     "text": [
      "\r",
      " 38%|█████████████████████████▊                                         | 77/200 [05:00<08:09,  3.98s/it]"
     ]
    },
    {
     "name": "stdout",
     "output_type": "stream",
     "text": [
      "------------------EPOCH 77------------------\n",
      "END LOSS \t train 3.323 valid 1.17 \n",
      " KL LOSS \t train 4.203 valid 4.203 \n",
      " TOTAL LOSS \t train 7.527 valid 5.373 \n",
      "\n"
     ]
    },
    {
     "name": "stderr",
     "output_type": "stream",
     "text": [
      "\r",
      " 39%|██████████████████████████▏                                        | 78/200 [05:04<08:04,  3.97s/it]"
     ]
    },
    {
     "name": "stdout",
     "output_type": "stream",
     "text": [
      "------------------EPOCH 78------------------\n",
      "END LOSS \t train 3.465 valid 4.127 \n",
      " KL LOSS \t train 4.202 valid 4.202 \n",
      " TOTAL LOSS \t train 7.668 valid 8.329 \n",
      "\n"
     ]
    },
    {
     "name": "stderr",
     "output_type": "stream",
     "text": [
      "\r",
      " 40%|██████████████████████████▍                                        | 79/200 [05:08<08:03,  4.00s/it]"
     ]
    },
    {
     "name": "stdout",
     "output_type": "stream",
     "text": [
      "------------------EPOCH 79------------------\n",
      "END LOSS \t train 3.799 valid 1.52 \n",
      " KL LOSS \t train 4.201 valid 4.201 \n",
      " TOTAL LOSS \t train 8.0 valid 5.721 \n",
      "\n"
     ]
    },
    {
     "name": "stderr",
     "output_type": "stream",
     "text": [
      "\r",
      " 40%|██████████████████████████▊                                        | 80/200 [05:12<07:59,  3.99s/it]"
     ]
    },
    {
     "name": "stdout",
     "output_type": "stream",
     "text": [
      "------------------EPOCH 80------------------\n",
      "END LOSS \t train 3.275 valid 1.665 \n",
      " KL LOSS \t train 4.201 valid 4.199 \n",
      " TOTAL LOSS \t train 7.476 valid 5.865 \n",
      "\n"
     ]
    },
    {
     "name": "stderr",
     "output_type": "stream",
     "text": [
      "\r",
      " 40%|███████████████████████████▏                                       | 81/200 [05:16<07:54,  3.99s/it]"
     ]
    },
    {
     "name": "stdout",
     "output_type": "stream",
     "text": [
      "------------------EPOCH 81------------------\n",
      "END LOSS \t train 3.47 valid 2.689 \n",
      " KL LOSS \t train 4.199 valid 4.2 \n",
      " TOTAL LOSS \t train 7.67 valid 6.89 \n",
      "\n"
     ]
    },
    {
     "name": "stderr",
     "output_type": "stream",
     "text": [
      "\r",
      " 41%|███████████████████████████▍                                       | 82/200 [05:20<07:48,  3.97s/it]"
     ]
    },
    {
     "name": "stdout",
     "output_type": "stream",
     "text": [
      "------------------EPOCH 82------------------\n",
      "END LOSS \t train 3.124 valid 1.386 \n",
      " KL LOSS \t train 4.199 valid 4.198 \n",
      " TOTAL LOSS \t train 7.323 valid 5.584 \n",
      "\n"
     ]
    },
    {
     "name": "stderr",
     "output_type": "stream",
     "text": [
      "\r",
      " 42%|███████████████████████████▊                                       | 83/200 [05:24<07:49,  4.01s/it]"
     ]
    },
    {
     "name": "stdout",
     "output_type": "stream",
     "text": [
      "------------------EPOCH 83------------------\n",
      "END LOSS \t train 3.555 valid 1.252 \n",
      " KL LOSS \t train 4.198 valid 4.198 \n",
      " TOTAL LOSS \t train 7.753 valid 5.45 \n",
      "\n"
     ]
    },
    {
     "name": "stderr",
     "output_type": "stream",
     "text": [
      "\r",
      " 42%|████████████████████████████▏                                      | 84/200 [05:28<07:40,  3.97s/it]"
     ]
    },
    {
     "name": "stdout",
     "output_type": "stream",
     "text": [
      "------------------EPOCH 84------------------\n",
      "END LOSS \t train 4.098 valid 1.37 \n",
      " KL LOSS \t train 4.197 valid 4.196 \n",
      " TOTAL LOSS \t train 8.295 valid 5.566 \n",
      "\n"
     ]
    },
    {
     "name": "stderr",
     "output_type": "stream",
     "text": [
      "\r",
      " 42%|████████████████████████████▍                                      | 85/200 [05:32<07:34,  3.95s/it]"
     ]
    },
    {
     "name": "stdout",
     "output_type": "stream",
     "text": [
      "------------------EPOCH 85------------------\n",
      "END LOSS \t train 3.938 valid 1.521 \n",
      " KL LOSS \t train 4.196 valid 4.195 \n",
      " TOTAL LOSS \t train 8.135 valid 5.716 \n",
      "\n"
     ]
    },
    {
     "name": "stderr",
     "output_type": "stream",
     "text": [
      "\r",
      " 43%|████████████████████████████▊                                      | 86/200 [05:36<07:26,  3.91s/it]"
     ]
    },
    {
     "name": "stdout",
     "output_type": "stream",
     "text": [
      "------------------EPOCH 86------------------\n",
      "END LOSS \t train 3.162 valid 2.348 \n",
      " KL LOSS \t train 4.195 valid 4.195 \n",
      " TOTAL LOSS \t train 7.357 valid 6.544 \n",
      "\n"
     ]
    },
    {
     "name": "stderr",
     "output_type": "stream",
     "text": [
      "\r",
      " 44%|█████████████████████████████▏                                     | 87/200 [05:40<07:24,  3.93s/it]"
     ]
    },
    {
     "name": "stdout",
     "output_type": "stream",
     "text": [
      "------------------EPOCH 87------------------\n",
      "END LOSS \t train 3.185 valid 1.962 \n",
      " KL LOSS \t train 4.194 valid 4.195 \n",
      " TOTAL LOSS \t train 7.38 valid 6.157 \n",
      "\n"
     ]
    },
    {
     "name": "stderr",
     "output_type": "stream",
     "text": [
      "\r",
      " 44%|█████████████████████████████▍                                     | 88/200 [05:44<07:22,  3.95s/it]"
     ]
    },
    {
     "name": "stdout",
     "output_type": "stream",
     "text": [
      "------------------EPOCH 88------------------\n",
      "END LOSS \t train 3.138 valid 1.294 \n",
      " KL LOSS \t train 4.193 valid 4.193 \n",
      " TOTAL LOSS \t train 7.331 valid 5.487 \n",
      "\n"
     ]
    },
    {
     "name": "stderr",
     "output_type": "stream",
     "text": [
      "\r",
      " 44%|█████████████████████████████▊                                     | 89/200 [05:48<07:18,  3.95s/it]"
     ]
    },
    {
     "name": "stdout",
     "output_type": "stream",
     "text": [
      "------------------EPOCH 89------------------\n",
      "END LOSS \t train 3.264 valid 1.461 \n",
      " KL LOSS \t train 4.193 valid 4.191 \n",
      " TOTAL LOSS \t train 7.457 valid 5.653 \n",
      "\n"
     ]
    },
    {
     "name": "stderr",
     "output_type": "stream",
     "text": [
      "\r",
      " 45%|██████████████████████████████▏                                    | 90/200 [05:52<07:14,  3.95s/it]"
     ]
    },
    {
     "name": "stdout",
     "output_type": "stream",
     "text": [
      "------------------EPOCH 90------------------\n",
      "END LOSS \t train 3.049 valid 2.702 \n",
      " KL LOSS \t train 4.192 valid 4.191 \n",
      " TOTAL LOSS \t train 7.241 valid 6.893 \n",
      "\n"
     ]
    },
    {
     "name": "stderr",
     "output_type": "stream",
     "text": [
      "\r",
      " 46%|██████████████████████████████▍                                    | 91/200 [05:55<07:11,  3.96s/it]"
     ]
    },
    {
     "name": "stdout",
     "output_type": "stream",
     "text": [
      "------------------EPOCH 91------------------\n",
      "END LOSS \t train 3.137 valid 1.823 \n",
      " KL LOSS \t train 4.191 valid 4.19 \n",
      " TOTAL LOSS \t train 7.329 valid 6.013 \n",
      "\n"
     ]
    },
    {
     "name": "stderr",
     "output_type": "stream",
     "text": [
      "\r",
      " 46%|██████████████████████████████▊                                    | 92/200 [05:59<07:04,  3.93s/it]"
     ]
    },
    {
     "name": "stdout",
     "output_type": "stream",
     "text": [
      "------------------EPOCH 92------------------\n",
      "END LOSS \t train 3.753 valid 5.015 \n",
      " KL LOSS \t train 4.19 valid 4.19 \n",
      " TOTAL LOSS \t train 7.944 valid 9.205 \n",
      "\n"
     ]
    },
    {
     "name": "stderr",
     "output_type": "stream",
     "text": [
      "\r",
      " 46%|███████████████████████████████▏                                   | 93/200 [06:03<07:03,  3.96s/it]"
     ]
    },
    {
     "name": "stdout",
     "output_type": "stream",
     "text": [
      "------------------EPOCH 93------------------\n",
      "END LOSS \t train 3.043 valid 1.318 \n",
      " KL LOSS \t train 4.189 valid 4.19 \n",
      " TOTAL LOSS \t train 7.232 valid 5.508 \n",
      "\n"
     ]
    },
    {
     "name": "stderr",
     "output_type": "stream",
     "text": [
      "\r",
      " 47%|███████████████████████████████▍                                   | 94/200 [06:07<07:01,  3.98s/it]"
     ]
    },
    {
     "name": "stdout",
     "output_type": "stream",
     "text": [
      "------------------EPOCH 94------------------\n",
      "END LOSS \t train 3.041 valid 0.956 \n",
      " KL LOSS \t train 4.189 valid 4.187 \n",
      " TOTAL LOSS \t train 7.23 valid 5.144 \n",
      "\n"
     ]
    },
    {
     "name": "stderr",
     "output_type": "stream",
     "text": [
      "\r",
      " 48%|███████████████████████████████▊                                   | 95/200 [06:11<06:57,  3.98s/it]"
     ]
    },
    {
     "name": "stdout",
     "output_type": "stream",
     "text": [
      "------------------EPOCH 95------------------\n",
      "END LOSS \t train 2.908 valid 1.546 \n",
      " KL LOSS \t train 4.187 valid 4.186 \n",
      " TOTAL LOSS \t train 7.096 valid 5.733 \n",
      "\n"
     ]
    },
    {
     "name": "stderr",
     "output_type": "stream",
     "text": [
      "\r",
      " 48%|████████████████████████████████▏                                  | 96/200 [06:15<06:52,  3.97s/it]"
     ]
    },
    {
     "name": "stdout",
     "output_type": "stream",
     "text": [
      "------------------EPOCH 96------------------\n",
      "END LOSS \t train 2.785 valid 1.422 \n",
      " KL LOSS \t train 4.187 valid 4.187 \n",
      " TOTAL LOSS \t train 6.972 valid 5.609 \n",
      "\n"
     ]
    },
    {
     "name": "stderr",
     "output_type": "stream",
     "text": [
      "\r",
      " 48%|████████████████████████████████▍                                  | 97/200 [06:19<06:52,  4.00s/it]"
     ]
    },
    {
     "name": "stdout",
     "output_type": "stream",
     "text": [
      "------------------EPOCH 97------------------\n",
      "END LOSS \t train 2.883 valid 1.372 \n",
      " KL LOSS \t train 4.186 valid 4.185 \n",
      " TOTAL LOSS \t train 7.069 valid 5.558 \n",
      "\n"
     ]
    },
    {
     "name": "stderr",
     "output_type": "stream",
     "text": [
      "\r",
      " 49%|████████████████████████████████▊                                  | 98/200 [06:23<06:47,  3.99s/it]"
     ]
    },
    {
     "name": "stdout",
     "output_type": "stream",
     "text": [
      "------------------EPOCH 98------------------\n",
      "END LOSS \t train 3.185 valid 1.843 \n",
      " KL LOSS \t train 4.185 valid 4.187 \n",
      " TOTAL LOSS \t train 7.37 valid 6.03 \n",
      "\n"
     ]
    },
    {
     "name": "stderr",
     "output_type": "stream",
     "text": [
      "\r",
      " 50%|█████████████████████████████████▏                                 | 99/200 [06:27<06:40,  3.97s/it]"
     ]
    },
    {
     "name": "stdout",
     "output_type": "stream",
     "text": [
      "------------------EPOCH 99------------------\n",
      "END LOSS \t train 3.03 valid 1.385 \n",
      " KL LOSS \t train 4.184 valid 4.184 \n",
      " TOTAL LOSS \t train 7.215 valid 5.569 \n",
      "\n"
     ]
    },
    {
     "name": "stderr",
     "output_type": "stream",
     "text": [
      "\r",
      " 50%|█████████████████████████████████                                 | 100/200 [06:31<06:34,  3.95s/it]"
     ]
    },
    {
     "name": "stdout",
     "output_type": "stream",
     "text": [
      "------------------EPOCH 100------------------\n",
      "END LOSS \t train 3.02 valid 1.974 \n",
      " KL LOSS \t train 4.184 valid 4.184 \n",
      " TOTAL LOSS \t train 7.204 valid 6.159 \n",
      "\n"
     ]
    },
    {
     "name": "stderr",
     "output_type": "stream",
     "text": [
      "\r",
      " 50%|█████████████████████████████████▎                                | 101/200 [06:35<06:34,  3.98s/it]"
     ]
    },
    {
     "name": "stdout",
     "output_type": "stream",
     "text": [
      "------------------EPOCH 101------------------\n",
      "END LOSS \t train 2.976 valid 2.319 \n",
      " KL LOSS \t train 4.183 valid 4.183 \n",
      " TOTAL LOSS \t train 7.159 valid 6.503 \n",
      "\n"
     ]
    },
    {
     "name": "stderr",
     "output_type": "stream",
     "text": [
      "\r",
      " 51%|█████████████████████████████████▋                                | 102/200 [06:39<06:31,  4.00s/it]"
     ]
    },
    {
     "name": "stdout",
     "output_type": "stream",
     "text": [
      "------------------EPOCH 102------------------\n",
      "END LOSS \t train 3.233 valid 1.323 \n",
      " KL LOSS \t train 4.182 valid 4.18 \n",
      " TOTAL LOSS \t train 7.416 valid 5.504 \n",
      "\n"
     ]
    },
    {
     "name": "stderr",
     "output_type": "stream",
     "text": [
      "\r",
      " 52%|█████████████████████████████████▉                                | 103/200 [06:43<06:27,  3.99s/it]"
     ]
    },
    {
     "name": "stdout",
     "output_type": "stream",
     "text": [
      "------------------EPOCH 103------------------\n",
      "END LOSS \t train 3.296 valid 1.678 \n",
      " KL LOSS \t train 4.182 valid 4.181 \n",
      " TOTAL LOSS \t train 7.479 valid 5.86 \n",
      "\n"
     ]
    },
    {
     "name": "stderr",
     "output_type": "stream",
     "text": [
      "\r",
      " 52%|██████████████████████████████████▎                               | 104/200 [06:47<06:23,  4.00s/it]"
     ]
    },
    {
     "name": "stdout",
     "output_type": "stream",
     "text": [
      "------------------EPOCH 104------------------\n",
      "END LOSS \t train 3.079 valid 1.699 \n",
      " KL LOSS \t train 4.18 valid 4.181 \n",
      " TOTAL LOSS \t train 7.26 valid 5.881 \n",
      "\n"
     ]
    },
    {
     "name": "stderr",
     "output_type": "stream",
     "text": [
      "\r",
      " 52%|██████████████████████████████████▋                               | 105/200 [06:51<06:21,  4.01s/it]"
     ]
    },
    {
     "name": "stdout",
     "output_type": "stream",
     "text": [
      "------------------EPOCH 105------------------\n",
      "END LOSS \t train 3.018 valid 1.83 \n",
      " KL LOSS \t train 4.18 valid 4.179 \n",
      " TOTAL LOSS \t train 7.198 valid 6.009 \n",
      "\n"
     ]
    },
    {
     "name": "stderr",
     "output_type": "stream",
     "text": [
      "\r",
      " 53%|██████████████████████████████████▉                               | 106/200 [06:55<06:16,  4.01s/it]"
     ]
    },
    {
     "name": "stdout",
     "output_type": "stream",
     "text": [
      "------------------EPOCH 106------------------\n",
      "END LOSS \t train 2.86 valid 1.047 \n",
      " KL LOSS \t train 4.179 valid 4.178 \n",
      " TOTAL LOSS \t train 7.039 valid 5.226 \n",
      "\n"
     ]
    },
    {
     "name": "stderr",
     "output_type": "stream",
     "text": [
      "\r",
      " 54%|███████████████████████████████████▎                              | 107/200 [06:59<06:16,  4.04s/it]"
     ]
    },
    {
     "name": "stdout",
     "output_type": "stream",
     "text": [
      "------------------EPOCH 107------------------\n",
      "END LOSS \t train 2.922 valid 1.821 \n",
      " KL LOSS \t train 4.178 valid 4.178 \n",
      " TOTAL LOSS \t train 7.101 valid 5.999 \n",
      "\n"
     ]
    },
    {
     "name": "stderr",
     "output_type": "stream",
     "text": [
      "\r",
      " 54%|███████████████████████████████████▋                              | 108/200 [07:04<06:18,  4.12s/it]"
     ]
    },
    {
     "name": "stdout",
     "output_type": "stream",
     "text": [
      "------------------EPOCH 108------------------\n",
      "END LOSS \t train 3.12 valid 1.128 \n",
      " KL LOSS \t train 4.177 valid 4.178 \n",
      " TOTAL LOSS \t train 7.298 valid 5.306 \n",
      "\n"
     ]
    },
    {
     "name": "stderr",
     "output_type": "stream",
     "text": [
      "\r",
      " 55%|███████████████████████████████████▉                              | 109/200 [07:08<06:11,  4.08s/it]"
     ]
    },
    {
     "name": "stdout",
     "output_type": "stream",
     "text": [
      "------------------EPOCH 109------------------\n",
      "END LOSS \t train 3.042 valid 2.126 \n",
      " KL LOSS \t train 4.177 valid 4.177 \n",
      " TOTAL LOSS \t train 7.219 valid 6.304 \n",
      "\n"
     ]
    },
    {
     "name": "stderr",
     "output_type": "stream",
     "text": [
      "\r",
      " 55%|████████████████████████████████████▎                             | 110/200 [07:12<06:05,  4.06s/it]"
     ]
    },
    {
     "name": "stdout",
     "output_type": "stream",
     "text": [
      "------------------EPOCH 110------------------\n",
      "END LOSS \t train 3.35 valid 1.519 \n",
      " KL LOSS \t train 4.176 valid 4.176 \n",
      " TOTAL LOSS \t train 7.527 valid 5.695 \n",
      "\n"
     ]
    },
    {
     "name": "stderr",
     "output_type": "stream",
     "text": [
      "\r",
      " 56%|████████████████████████████████████▋                             | 111/200 [07:16<05:59,  4.04s/it]"
     ]
    },
    {
     "name": "stdout",
     "output_type": "stream",
     "text": [
      "------------------EPOCH 111------------------\n",
      "END LOSS \t train 3.179 valid 1.602 \n",
      " KL LOSS \t train 4.176 valid 4.175 \n",
      " TOTAL LOSS \t train 7.355 valid 5.778 \n",
      "\n"
     ]
    },
    {
     "name": "stderr",
     "output_type": "stream",
     "text": [
      "\r",
      " 56%|████████████████████████████████████▉                             | 112/200 [07:20<05:51,  4.00s/it]"
     ]
    },
    {
     "name": "stdout",
     "output_type": "stream",
     "text": [
      "------------------EPOCH 112------------------\n",
      "END LOSS \t train 3.178 valid 1.182 \n",
      " KL LOSS \t train 4.175 valid 4.175 \n",
      " TOTAL LOSS \t train 7.353 valid 5.358 \n",
      "\n"
     ]
    },
    {
     "name": "stderr",
     "output_type": "stream",
     "text": [
      "\r",
      " 56%|█████████████████████████████████████▎                            | 113/200 [07:24<05:47,  4.00s/it]"
     ]
    },
    {
     "name": "stdout",
     "output_type": "stream",
     "text": [
      "------------------EPOCH 113------------------\n",
      "END LOSS \t train 3.003 valid 1.772 \n",
      " KL LOSS \t train 4.174 valid 4.173 \n",
      " TOTAL LOSS \t train 7.178 valid 5.946 \n",
      "\n"
     ]
    },
    {
     "name": "stderr",
     "output_type": "stream",
     "text": [
      "\r",
      " 57%|█████████████████████████████████████▌                            | 114/200 [07:27<05:40,  3.96s/it]"
     ]
    },
    {
     "name": "stdout",
     "output_type": "stream",
     "text": [
      "------------------EPOCH 114------------------\n",
      "END LOSS \t train 2.832 valid 1.242 \n",
      " KL LOSS \t train 4.174 valid 4.174 \n",
      " TOTAL LOSS \t train 7.006 valid 5.417 \n",
      "\n"
     ]
    },
    {
     "name": "stderr",
     "output_type": "stream",
     "text": [
      "\r",
      " 57%|█████████████████████████████████████▉                            | 115/200 [07:31<05:36,  3.95s/it]"
     ]
    },
    {
     "name": "stdout",
     "output_type": "stream",
     "text": [
      "------------------EPOCH 115------------------\n",
      "END LOSS \t train 2.857 valid 2.158 \n",
      " KL LOSS \t train 4.173 valid 4.173 \n",
      " TOTAL LOSS \t train 7.03 valid 6.331 \n",
      "\n"
     ]
    },
    {
     "name": "stderr",
     "output_type": "stream",
     "text": [
      "\r",
      " 58%|██████████████████████████████████████▎                           | 116/200 [07:35<05:31,  3.95s/it]"
     ]
    },
    {
     "name": "stdout",
     "output_type": "stream",
     "text": [
      "------------------EPOCH 116------------------\n",
      "END LOSS \t train 3.413 valid 1.74 \n",
      " KL LOSS \t train 4.172 valid 4.172 \n",
      " TOTAL LOSS \t train 7.586 valid 5.913 \n",
      "\n"
     ]
    },
    {
     "name": "stderr",
     "output_type": "stream",
     "text": [
      "\r",
      " 58%|██████████████████████████████████████▌                           | 117/200 [07:39<05:30,  3.98s/it]"
     ]
    },
    {
     "name": "stdout",
     "output_type": "stream",
     "text": [
      "------------------EPOCH 117------------------\n",
      "END LOSS \t train 3.041 valid 1.556 \n",
      " KL LOSS \t train 4.172 valid 4.172 \n",
      " TOTAL LOSS \t train 7.213 valid 5.728 \n",
      "\n"
     ]
    },
    {
     "name": "stderr",
     "output_type": "stream",
     "text": [
      "\r",
      " 59%|██████████████████████████████████████▉                           | 118/200 [07:43<05:25,  3.97s/it]"
     ]
    },
    {
     "name": "stdout",
     "output_type": "stream",
     "text": [
      "------------------EPOCH 118------------------\n",
      "END LOSS \t train 2.916 valid 1.369 \n",
      " KL LOSS \t train 4.171 valid 4.17 \n",
      " TOTAL LOSS \t train 7.087 valid 5.539 \n",
      "\n"
     ]
    },
    {
     "name": "stderr",
     "output_type": "stream",
     "text": [
      "\r",
      " 60%|███████████████████████████████████████▎                          | 119/200 [07:47<05:23,  3.99s/it]"
     ]
    },
    {
     "name": "stdout",
     "output_type": "stream",
     "text": [
      "------------------EPOCH 119------------------\n",
      "END LOSS \t train 3.104 valid 2.262 \n",
      " KL LOSS \t train 4.17 valid 4.169 \n",
      " TOTAL LOSS \t train 7.275 valid 6.432 \n",
      "\n"
     ]
    },
    {
     "name": "stderr",
     "output_type": "stream",
     "text": [
      "\r",
      " 60%|███████████████████████████████████████▌                          | 120/200 [07:52<05:25,  4.07s/it]"
     ]
    },
    {
     "name": "stdout",
     "output_type": "stream",
     "text": [
      "------------------EPOCH 120------------------\n",
      "END LOSS \t train 2.925 valid 1.036 \n",
      " KL LOSS \t train 4.169 valid 4.169 \n",
      " TOTAL LOSS \t train 7.095 valid 5.206 \n",
      "\n"
     ]
    },
    {
     "name": "stderr",
     "output_type": "stream",
     "text": [
      "\r",
      " 60%|███████████████████████████████████████▉                          | 121/200 [07:56<05:18,  4.04s/it]"
     ]
    },
    {
     "name": "stdout",
     "output_type": "stream",
     "text": [
      "------------------EPOCH 121------------------\n",
      "END LOSS \t train 2.692 valid 1.238 \n",
      " KL LOSS \t train 4.169 valid 4.169 \n",
      " TOTAL LOSS \t train 6.862 valid 5.407 \n",
      "\n"
     ]
    },
    {
     "name": "stderr",
     "output_type": "stream",
     "text": [
      "\r",
      " 61%|████████████████████████████████████████▎                         | 122/200 [08:00<05:14,  4.03s/it]"
     ]
    },
    {
     "name": "stdout",
     "output_type": "stream",
     "text": [
      "------------------EPOCH 122------------------\n",
      "END LOSS \t train 2.657 valid 1.571 \n",
      " KL LOSS \t train 4.168 valid 4.169 \n",
      " TOTAL LOSS \t train 6.825 valid 5.74 \n",
      "\n"
     ]
    },
    {
     "name": "stderr",
     "output_type": "stream",
     "text": [
      "\r",
      " 62%|████████████████████████████████████████▌                         | 123/200 [08:04<05:09,  4.01s/it]"
     ]
    },
    {
     "name": "stdout",
     "output_type": "stream",
     "text": [
      "------------------EPOCH 123------------------\n",
      "END LOSS \t train 3.032 valid 1.567 \n",
      " KL LOSS \t train 4.167 valid 4.168 \n",
      " TOTAL LOSS \t train 7.2 valid 5.736 \n",
      "\n"
     ]
    },
    {
     "name": "stderr",
     "output_type": "stream",
     "text": [
      "\r",
      " 62%|████████████████████████████████████████▉                         | 124/200 [08:08<05:03,  3.99s/it]"
     ]
    },
    {
     "name": "stdout",
     "output_type": "stream",
     "text": [
      "------------------EPOCH 124------------------\n",
      "END LOSS \t train 2.849 valid 1.234 \n",
      " KL LOSS \t train 4.167 valid 4.167 \n",
      " TOTAL LOSS \t train 7.017 valid 5.402 \n",
      "\n"
     ]
    },
    {
     "name": "stderr",
     "output_type": "stream",
     "text": [
      "\r",
      " 62%|█████████████████████████████████████████▎                        | 125/200 [08:12<05:01,  4.01s/it]"
     ]
    },
    {
     "name": "stdout",
     "output_type": "stream",
     "text": [
      "------------------EPOCH 125------------------\n",
      "END LOSS \t train 2.66 valid 1.346 \n",
      " KL LOSS \t train 4.166 valid 4.166 \n",
      " TOTAL LOSS \t train 6.826 valid 5.513 \n",
      "\n"
     ]
    },
    {
     "name": "stderr",
     "output_type": "stream",
     "text": [
      "\r",
      " 63%|█████████████████████████████████████████▌                        | 126/200 [08:16<05:00,  4.07s/it]"
     ]
    },
    {
     "name": "stdout",
     "output_type": "stream",
     "text": [
      "------------------EPOCH 126------------------\n",
      "END LOSS \t train 2.651 valid 1.072 \n",
      " KL LOSS \t train 4.166 valid 4.165 \n",
      " TOTAL LOSS \t train 6.817 valid 5.237 \n",
      "\n"
     ]
    },
    {
     "name": "stderr",
     "output_type": "stream",
     "text": [
      "\r",
      " 64%|█████████████████████████████████████████▉                        | 127/200 [08:20<04:57,  4.07s/it]"
     ]
    },
    {
     "name": "stdout",
     "output_type": "stream",
     "text": [
      "------------------EPOCH 127------------------\n",
      "END LOSS \t train 2.867 valid 1.308 \n",
      " KL LOSS \t train 4.165 valid 4.164 \n",
      " TOTAL LOSS \t train 7.032 valid 5.473 \n",
      "\n"
     ]
    },
    {
     "name": "stderr",
     "output_type": "stream",
     "text": [
      "\r",
      " 64%|██████████████████████████████████████████▏                       | 128/200 [08:24<04:51,  4.05s/it]"
     ]
    },
    {
     "name": "stdout",
     "output_type": "stream",
     "text": [
      "------------------EPOCH 128------------------\n",
      "END LOSS \t train 2.729 valid 2.475 \n",
      " KL LOSS \t train 4.164 valid 4.165 \n",
      " TOTAL LOSS \t train 6.894 valid 6.64 \n",
      "\n"
     ]
    },
    {
     "name": "stderr",
     "output_type": "stream",
     "text": [
      "\r",
      " 64%|██████████████████████████████████████████▌                       | 129/200 [08:28<04:47,  4.04s/it]"
     ]
    },
    {
     "name": "stdout",
     "output_type": "stream",
     "text": [
      "------------------EPOCH 129------------------\n",
      "END LOSS \t train 2.794 valid 1.914 \n",
      " KL LOSS \t train 4.164 valid 4.165 \n",
      " TOTAL LOSS \t train 6.958 valid 6.079 \n",
      "\n"
     ]
    },
    {
     "name": "stderr",
     "output_type": "stream",
     "text": [
      "\r",
      " 65%|██████████████████████████████████████████▉                       | 130/200 [08:32<04:41,  4.02s/it]"
     ]
    },
    {
     "name": "stdout",
     "output_type": "stream",
     "text": [
      "------------------EPOCH 130------------------\n",
      "END LOSS \t train 2.708 valid 2.395 \n",
      " KL LOSS \t train 4.163 valid 4.163 \n",
      " TOTAL LOSS \t train 6.871 valid 6.558 \n",
      "\n"
     ]
    },
    {
     "name": "stderr",
     "output_type": "stream",
     "text": [
      "\r",
      " 66%|███████████████████████████████████████████▏                      | 131/200 [08:36<04:35,  4.00s/it]"
     ]
    },
    {
     "name": "stdout",
     "output_type": "stream",
     "text": [
      "------------------EPOCH 131------------------\n",
      "END LOSS \t train 2.887 valid 2.099 \n",
      " KL LOSS \t train 4.163 valid 4.163 \n",
      " TOTAL LOSS \t train 7.05 valid 6.262 \n",
      "\n"
     ]
    },
    {
     "name": "stderr",
     "output_type": "stream",
     "text": [
      "\r",
      " 66%|███████████████████████████████████████████▌                      | 132/200 [08:40<04:33,  4.02s/it]"
     ]
    },
    {
     "name": "stdout",
     "output_type": "stream",
     "text": [
      "------------------EPOCH 132------------------\n",
      "END LOSS \t train 2.687 valid 1.575 \n",
      " KL LOSS \t train 4.162 valid 4.162 \n",
      " TOTAL LOSS \t train 6.849 valid 5.737 \n",
      "\n"
     ]
    },
    {
     "name": "stderr",
     "output_type": "stream",
     "text": [
      "\r",
      " 66%|███████████████████████████████████████████▉                      | 133/200 [08:44<04:27,  4.00s/it]"
     ]
    },
    {
     "name": "stdout",
     "output_type": "stream",
     "text": [
      "------------------EPOCH 133------------------\n",
      "END LOSS \t train 3.153 valid 3.869 \n",
      " KL LOSS \t train 4.162 valid 4.161 \n",
      " TOTAL LOSS \t train 7.315 valid 8.03 \n",
      "\n"
     ]
    },
    {
     "name": "stderr",
     "output_type": "stream",
     "text": [
      "\r",
      " 67%|████████████████████████████████████████████▏                     | 134/200 [08:48<04:29,  4.08s/it]"
     ]
    },
    {
     "name": "stdout",
     "output_type": "stream",
     "text": [
      "------------------EPOCH 134------------------\n",
      "END LOSS \t train 2.996 valid 1.972 \n",
      " KL LOSS \t train 4.161 valid 4.161 \n",
      " TOTAL LOSS \t train 7.157 valid 6.134 \n",
      "\n"
     ]
    },
    {
     "name": "stderr",
     "output_type": "stream",
     "text": [
      "\r",
      " 68%|████████████████████████████████████████████▌                     | 135/200 [08:52<04:25,  4.08s/it]"
     ]
    },
    {
     "name": "stdout",
     "output_type": "stream",
     "text": [
      "------------------EPOCH 135------------------\n",
      "END LOSS \t train 2.702 valid 1.713 \n",
      " KL LOSS \t train 4.161 valid 4.161 \n",
      " TOTAL LOSS \t train 6.863 valid 5.874 \n",
      "\n"
     ]
    },
    {
     "name": "stderr",
     "output_type": "stream",
     "text": [
      "\r",
      " 68%|████████████████████████████████████████████▉                     | 136/200 [08:56<04:22,  4.10s/it]"
     ]
    },
    {
     "name": "stdout",
     "output_type": "stream",
     "text": [
      "------------------EPOCH 136------------------\n",
      "END LOSS \t train 2.779 valid 1.889 \n",
      " KL LOSS \t train 4.16 valid 4.159 \n",
      " TOTAL LOSS \t train 6.939 valid 6.048 \n",
      "\n"
     ]
    },
    {
     "name": "stderr",
     "output_type": "stream",
     "text": [
      "\r",
      " 68%|█████████████████████████████████████████████▏                    | 137/200 [09:00<04:17,  4.09s/it]"
     ]
    },
    {
     "name": "stdout",
     "output_type": "stream",
     "text": [
      "------------------EPOCH 137------------------\n",
      "END LOSS \t train 2.936 valid 2.727 \n",
      " KL LOSS \t train 4.159 valid 4.159 \n",
      " TOTAL LOSS \t train 7.096 valid 6.886 \n",
      "\n"
     ]
    },
    {
     "name": "stderr",
     "output_type": "stream",
     "text": [
      "\r",
      " 69%|█████████████████████████████████████████████▌                    | 138/200 [09:04<04:12,  4.07s/it]"
     ]
    },
    {
     "name": "stdout",
     "output_type": "stream",
     "text": [
      "------------------EPOCH 138------------------\n",
      "END LOSS \t train 3.056 valid 1.518 \n",
      " KL LOSS \t train 4.159 valid 4.158 \n",
      " TOTAL LOSS \t train 7.215 valid 5.676 \n",
      "\n"
     ]
    },
    {
     "name": "stderr",
     "output_type": "stream",
     "text": [
      "\r",
      " 70%|█████████████████████████████████████████████▊                    | 139/200 [09:08<04:06,  4.05s/it]"
     ]
    },
    {
     "name": "stdout",
     "output_type": "stream",
     "text": [
      "------------------EPOCH 139------------------\n",
      "END LOSS \t train 3.328 valid 1.341 \n",
      " KL LOSS \t train 4.158 valid 4.158 \n",
      " TOTAL LOSS \t train 7.486 valid 5.5 \n",
      "\n"
     ]
    },
    {
     "name": "stderr",
     "output_type": "stream",
     "text": [
      "\r",
      " 70%|██████████████████████████████████████████████▏                   | 140/200 [09:12<04:01,  4.02s/it]"
     ]
    },
    {
     "name": "stdout",
     "output_type": "stream",
     "text": [
      "------------------EPOCH 140------------------\n",
      "END LOSS \t train 3.027 valid 1.128 \n",
      " KL LOSS \t train 4.158 valid 4.158 \n",
      " TOTAL LOSS \t train 7.186 valid 5.286 \n",
      "\n"
     ]
    },
    {
     "name": "stderr",
     "output_type": "stream",
     "text": [
      "\r",
      " 70%|██████████████████████████████████████████████▌                   | 141/200 [09:16<03:58,  4.04s/it]"
     ]
    },
    {
     "name": "stdout",
     "output_type": "stream",
     "text": [
      "------------------EPOCH 141------------------\n",
      "END LOSS \t train 2.632 valid 2.166 \n",
      " KL LOSS \t train 4.157 valid 4.157 \n",
      " TOTAL LOSS \t train 6.79 valid 6.324 \n",
      "\n"
     ]
    },
    {
     "name": "stderr",
     "output_type": "stream",
     "text": [
      "\r",
      " 71%|██████████████████████████████████████████████▊                   | 142/200 [09:20<03:51,  4.00s/it]"
     ]
    },
    {
     "name": "stdout",
     "output_type": "stream",
     "text": [
      "------------------EPOCH 142------------------\n",
      "END LOSS \t train 2.788 valid 1.999 \n",
      " KL LOSS \t train 4.157 valid 4.157 \n",
      " TOTAL LOSS \t train 6.945 valid 6.156 \n",
      "\n"
     ]
    },
    {
     "name": "stderr",
     "output_type": "stream",
     "text": [
      "\r",
      " 72%|███████████████████████████████████████████████▏                  | 143/200 [09:24<03:47,  3.99s/it]"
     ]
    },
    {
     "name": "stdout",
     "output_type": "stream",
     "text": [
      "------------------EPOCH 143------------------\n",
      "END LOSS \t train 2.963 valid 3.027 \n",
      " KL LOSS \t train 4.156 valid 4.155 \n",
      " TOTAL LOSS \t train 7.119 valid 7.183 \n",
      "\n"
     ]
    },
    {
     "name": "stderr",
     "output_type": "stream",
     "text": [
      "\r",
      " 72%|███████████████████████████████████████████████▌                  | 144/200 [09:28<03:43,  3.98s/it]"
     ]
    },
    {
     "name": "stdout",
     "output_type": "stream",
     "text": [
      "------------------EPOCH 144------------------\n",
      "END LOSS \t train 3.067 valid 2.297 \n",
      " KL LOSS \t train 4.155 valid 4.155 \n",
      " TOTAL LOSS \t train 7.223 valid 6.452 \n",
      "\n"
     ]
    },
    {
     "name": "stderr",
     "output_type": "stream",
     "text": [
      "\r",
      " 72%|███████████████████████████████████████████████▊                  | 145/200 [09:32<03:39,  3.99s/it]"
     ]
    },
    {
     "name": "stdout",
     "output_type": "stream",
     "text": [
      "------------------EPOCH 145------------------\n",
      "END LOSS \t train 2.983 valid 1.89 \n",
      " KL LOSS \t train 4.155 valid 4.155 \n",
      " TOTAL LOSS \t train 7.139 valid 6.045 \n",
      "\n"
     ]
    },
    {
     "name": "stderr",
     "output_type": "stream",
     "text": [
      "\r",
      " 73%|████████████████████████████████████████████████▏                 | 146/200 [09:36<03:36,  4.02s/it]"
     ]
    },
    {
     "name": "stdout",
     "output_type": "stream",
     "text": [
      "------------------EPOCH 146------------------\n",
      "END LOSS \t train 2.798 valid 2.083 \n",
      " KL LOSS \t train 4.155 valid 4.154 \n",
      " TOTAL LOSS \t train 6.953 valid 6.237 \n",
      "\n"
     ]
    },
    {
     "name": "stderr",
     "output_type": "stream",
     "text": [
      "\r",
      " 74%|████████████████████████████████████████████████▌                 | 147/200 [09:40<03:32,  4.01s/it]"
     ]
    },
    {
     "name": "stdout",
     "output_type": "stream",
     "text": [
      "------------------EPOCH 147------------------\n",
      "END LOSS \t train 2.834 valid 1.095 \n",
      " KL LOSS \t train 4.154 valid 4.154 \n",
      " TOTAL LOSS \t train 6.989 valid 5.249 \n",
      "\n"
     ]
    },
    {
     "name": "stderr",
     "output_type": "stream",
     "text": [
      "\r",
      " 74%|████████████████████████████████████████████████▊                 | 148/200 [09:44<03:28,  4.02s/it]"
     ]
    },
    {
     "name": "stdout",
     "output_type": "stream",
     "text": [
      "------------------EPOCH 148------------------\n",
      "END LOSS \t train 2.724 valid 1.092 \n",
      " KL LOSS \t train 4.153 valid 4.153 \n",
      " TOTAL LOSS \t train 6.878 valid 5.246 \n",
      "\n"
     ]
    },
    {
     "name": "stderr",
     "output_type": "stream",
     "text": [
      "\r",
      " 74%|█████████████████████████████████████████████████▏                | 149/200 [09:48<03:23,  3.99s/it]"
     ]
    },
    {
     "name": "stdout",
     "output_type": "stream",
     "text": [
      "------------------EPOCH 149------------------\n",
      "END LOSS \t train 2.64 valid 1.262 \n",
      " KL LOSS \t train 4.153 valid 4.153 \n",
      " TOTAL LOSS \t train 6.794 valid 5.415 \n",
      "\n"
     ]
    },
    {
     "name": "stderr",
     "output_type": "stream",
     "text": [
      "\r",
      " 75%|█████████████████████████████████████████████████▌                | 150/200 [09:52<03:19,  3.99s/it]"
     ]
    },
    {
     "name": "stdout",
     "output_type": "stream",
     "text": [
      "------------------EPOCH 150------------------\n",
      "END LOSS \t train 2.644 valid 1.68 \n",
      " KL LOSS \t train 4.153 valid 4.152 \n",
      " TOTAL LOSS \t train 6.797 valid 5.832 \n",
      "\n"
     ]
    },
    {
     "name": "stderr",
     "output_type": "stream",
     "text": [
      "\r",
      " 76%|█████████████████████████████████████████████████▊                | 151/200 [09:57<03:18,  4.06s/it]"
     ]
    },
    {
     "name": "stdout",
     "output_type": "stream",
     "text": [
      "------------------EPOCH 151------------------\n",
      "END LOSS \t train 2.882 valid 0.948 \n",
      " KL LOSS \t train 4.152 valid 4.151 \n",
      " TOTAL LOSS \t train 7.035 valid 5.099 \n",
      "\n"
     ]
    },
    {
     "name": "stderr",
     "output_type": "stream",
     "text": [
      "\r",
      " 76%|██████████████████████████████████████████████████▏               | 152/200 [10:01<03:13,  4.02s/it]"
     ]
    },
    {
     "name": "stdout",
     "output_type": "stream",
     "text": [
      "------------------EPOCH 152------------------\n",
      "END LOSS \t train 2.899 valid 1.174 \n",
      " KL LOSS \t train 4.152 valid 4.151 \n",
      " TOTAL LOSS \t train 7.051 valid 5.326 \n",
      "\n"
     ]
    },
    {
     "name": "stderr",
     "output_type": "stream",
     "text": [
      "\r",
      " 76%|██████████████████████████████████████████████████▍               | 153/200 [10:04<03:07,  4.00s/it]"
     ]
    },
    {
     "name": "stdout",
     "output_type": "stream",
     "text": [
      "------------------EPOCH 153------------------\n",
      "END LOSS \t train 2.639 valid 1.08 \n",
      " KL LOSS \t train 4.151 valid 4.152 \n",
      " TOTAL LOSS \t train 6.791 valid 5.232 \n",
      "\n"
     ]
    },
    {
     "name": "stderr",
     "output_type": "stream",
     "text": [
      "\r",
      " 77%|██████████████████████████████████████████████████▊               | 154/200 [10:08<03:04,  4.00s/it]"
     ]
    },
    {
     "name": "stdout",
     "output_type": "stream",
     "text": [
      "------------------EPOCH 154------------------\n",
      "END LOSS \t train 2.66 valid 1.652 \n",
      " KL LOSS \t train 4.151 valid 4.15 \n",
      " TOTAL LOSS \t train 6.811 valid 5.803 \n",
      "\n"
     ]
    },
    {
     "name": "stderr",
     "output_type": "stream",
     "text": [
      "\r",
      " 78%|███████████████████████████████████████████████████▏              | 155/200 [10:12<03:00,  4.01s/it]"
     ]
    },
    {
     "name": "stdout",
     "output_type": "stream",
     "text": [
      "------------------EPOCH 155------------------\n",
      "END LOSS \t train 2.762 valid 1.032 \n",
      " KL LOSS \t train 4.15 valid 4.15 \n",
      " TOTAL LOSS \t train 6.912 valid 5.182 \n",
      "\n"
     ]
    },
    {
     "name": "stderr",
     "output_type": "stream",
     "text": [
      "\r",
      " 78%|███████████████████████████████████████████████████▍              | 156/200 [10:17<02:56,  4.01s/it]"
     ]
    },
    {
     "name": "stdout",
     "output_type": "stream",
     "text": [
      "------------------EPOCH 156------------------\n",
      "END LOSS \t train 2.726 valid 1.298 \n",
      " KL LOSS \t train 4.15 valid 4.15 \n",
      " TOTAL LOSS \t train 6.876 valid 5.448 \n",
      "\n"
     ]
    },
    {
     "name": "stderr",
     "output_type": "stream",
     "text": [
      "\r",
      " 78%|███████████████████████████████████████████████████▊              | 157/200 [10:21<02:52,  4.01s/it]"
     ]
    },
    {
     "name": "stdout",
     "output_type": "stream",
     "text": [
      "------------------EPOCH 157------------------\n",
      "END LOSS \t train 3.206 valid 1.768 \n",
      " KL LOSS \t train 4.149 valid 4.149 \n",
      " TOTAL LOSS \t train 7.355 valid 5.917 \n",
      "\n"
     ]
    },
    {
     "name": "stderr",
     "output_type": "stream",
     "text": [
      "\r",
      " 79%|████████████████████████████████████████████████████▏             | 158/200 [10:25<02:50,  4.06s/it]"
     ]
    },
    {
     "name": "stdout",
     "output_type": "stream",
     "text": [
      "------------------EPOCH 158------------------\n",
      "END LOSS \t train 3.606 valid 7.479 \n",
      " KL LOSS \t train 4.149 valid 4.148 \n",
      " TOTAL LOSS \t train 7.755 valid 11.628 \n",
      "\n"
     ]
    },
    {
     "name": "stderr",
     "output_type": "stream",
     "text": [
      "\r",
      " 80%|████████████████████████████████████████████████████▍             | 159/200 [10:29<02:45,  4.04s/it]"
     ]
    },
    {
     "name": "stdout",
     "output_type": "stream",
     "text": [
      "------------------EPOCH 159------------------\n",
      "END LOSS \t train 3.253 valid 1.391 \n",
      " KL LOSS \t train 4.148 valid 4.147 \n",
      " TOTAL LOSS \t train 7.402 valid 5.539 \n",
      "\n"
     ]
    },
    {
     "name": "stderr",
     "output_type": "stream",
     "text": [
      "\r",
      " 80%|████████████████████████████████████████████████████▊             | 160/200 [10:33<02:40,  4.02s/it]"
     ]
    },
    {
     "name": "stdout",
     "output_type": "stream",
     "text": [
      "------------------EPOCH 160------------------\n",
      "END LOSS \t train 2.959 valid 2.214 \n",
      " KL LOSS \t train 4.148 valid 4.147 \n",
      " TOTAL LOSS \t train 7.107 valid 6.361 \n",
      "\n"
     ]
    },
    {
     "name": "stderr",
     "output_type": "stream",
     "text": [
      "\r",
      " 80%|█████████████████████████████████████████████████████▏            | 161/200 [10:37<02:39,  4.09s/it]"
     ]
    },
    {
     "name": "stdout",
     "output_type": "stream",
     "text": [
      "------------------EPOCH 161------------------\n",
      "END LOSS \t train 2.577 valid 1.505 \n",
      " KL LOSS \t train 4.147 valid 4.146 \n",
      " TOTAL LOSS \t train 6.725 valid 5.652 \n",
      "\n"
     ]
    },
    {
     "name": "stderr",
     "output_type": "stream",
     "text": [
      "\r",
      " 81%|█████████████████████████████████████████████████████▍            | 162/200 [10:41<02:36,  4.12s/it]"
     ]
    },
    {
     "name": "stdout",
     "output_type": "stream",
     "text": [
      "------------------EPOCH 162------------------\n",
      "END LOSS \t train 2.646 valid 1.123 \n",
      " KL LOSS \t train 4.147 valid 4.147 \n",
      " TOTAL LOSS \t train 6.793 valid 5.27 \n",
      "\n"
     ]
    },
    {
     "name": "stderr",
     "output_type": "stream",
     "text": [
      "\r",
      " 82%|█████████████████████████████████████████████████████▊            | 163/200 [10:45<02:31,  4.10s/it]"
     ]
    },
    {
     "name": "stdout",
     "output_type": "stream",
     "text": [
      "------------------EPOCH 163------------------\n",
      "END LOSS \t train 2.931 valid 1.899 \n",
      " KL LOSS \t train 4.146 valid 4.146 \n",
      " TOTAL LOSS \t train 7.078 valid 6.045 \n",
      "\n"
     ]
    },
    {
     "name": "stderr",
     "output_type": "stream",
     "text": [
      "\r",
      " 82%|██████████████████████████████████████████████████████            | 164/200 [10:49<02:27,  4.09s/it]"
     ]
    },
    {
     "name": "stdout",
     "output_type": "stream",
     "text": [
      "------------------EPOCH 164------------------\n",
      "END LOSS \t train 2.835 valid 1.791 \n",
      " KL LOSS \t train 4.146 valid 4.146 \n",
      " TOTAL LOSS \t train 6.981 valid 5.937 \n",
      "\n"
     ]
    },
    {
     "name": "stderr",
     "output_type": "stream",
     "text": [
      "\r",
      " 82%|██████████████████████████████████████████████████████▍           | 165/200 [10:53<02:22,  4.07s/it]"
     ]
    },
    {
     "name": "stdout",
     "output_type": "stream",
     "text": [
      "------------------EPOCH 165------------------\n",
      "END LOSS \t train 2.625 valid 2.038 \n",
      " KL LOSS \t train 4.146 valid 4.145 \n",
      " TOTAL LOSS \t train 6.771 valid 6.183 \n",
      "\n"
     ]
    },
    {
     "name": "stderr",
     "output_type": "stream",
     "text": [
      "\r",
      " 83%|██████████████████████████████████████████████████████▊           | 166/200 [10:57<02:19,  4.10s/it]"
     ]
    },
    {
     "name": "stdout",
     "output_type": "stream",
     "text": [
      "------------------EPOCH 166------------------\n",
      "END LOSS \t train 2.579 valid 1.801 \n",
      " KL LOSS \t train 4.145 valid 4.144 \n",
      " TOTAL LOSS \t train 6.724 valid 5.945 \n",
      "\n"
     ]
    },
    {
     "name": "stderr",
     "output_type": "stream",
     "text": [
      "\r",
      " 84%|███████████████████████████████████████████████████████           | 167/200 [11:01<02:15,  4.09s/it]"
     ]
    },
    {
     "name": "stdout",
     "output_type": "stream",
     "text": [
      "------------------EPOCH 167------------------\n",
      "END LOSS \t train 2.756 valid 1.39 \n",
      " KL LOSS \t train 4.145 valid 4.144 \n",
      " TOTAL LOSS \t train 6.901 valid 5.535 \n",
      "\n"
     ]
    },
    {
     "name": "stderr",
     "output_type": "stream",
     "text": [
      "\r",
      " 84%|███████████████████████████████████████████████████████▍          | 168/200 [11:06<02:11,  4.10s/it]"
     ]
    },
    {
     "name": "stdout",
     "output_type": "stream",
     "text": [
      "------------------EPOCH 168------------------\n",
      "END LOSS \t train 2.622 valid 1.416 \n",
      " KL LOSS \t train 4.144 valid 4.145 \n",
      " TOTAL LOSS \t train 6.767 valid 5.562 \n",
      "\n"
     ]
    },
    {
     "name": "stderr",
     "output_type": "stream",
     "text": [
      "\r",
      " 84%|███████████████████████████████████████████████████████▊          | 169/200 [11:10<02:07,  4.13s/it]"
     ]
    },
    {
     "name": "stdout",
     "output_type": "stream",
     "text": [
      "------------------EPOCH 169------------------\n",
      "END LOSS \t train 2.606 valid 1.535 \n",
      " KL LOSS \t train 4.144 valid 4.144 \n",
      " TOTAL LOSS \t train 6.75 valid 5.68 \n",
      "\n"
     ]
    },
    {
     "name": "stderr",
     "output_type": "stream",
     "text": [
      "\r",
      " 85%|████████████████████████████████████████████████████████          | 170/200 [11:14<02:02,  4.09s/it]"
     ]
    },
    {
     "name": "stdout",
     "output_type": "stream",
     "text": [
      "------------------EPOCH 170------------------\n",
      "END LOSS \t train 2.901 valid 2.028 \n",
      " KL LOSS \t train 4.144 valid 4.143 \n",
      " TOTAL LOSS \t train 7.045 valid 6.171 \n",
      "\n"
     ]
    },
    {
     "name": "stderr",
     "output_type": "stream",
     "text": [
      "\r",
      " 86%|████████████████████████████████████████████████████████▍         | 171/200 [11:18<01:58,  4.08s/it]"
     ]
    },
    {
     "name": "stdout",
     "output_type": "stream",
     "text": [
      "------------------EPOCH 171------------------\n",
      "END LOSS \t train 2.767 valid 1.347 \n",
      " KL LOSS \t train 4.143 valid 4.143 \n",
      " TOTAL LOSS \t train 6.911 valid 5.491 \n",
      "\n"
     ]
    },
    {
     "name": "stderr",
     "output_type": "stream",
     "text": [
      "\r",
      " 86%|████████████████████████████████████████████████████████▊         | 172/200 [11:22<01:53,  4.06s/it]"
     ]
    },
    {
     "name": "stdout",
     "output_type": "stream",
     "text": [
      "------------------EPOCH 172------------------\n",
      "END LOSS \t train 2.68 valid 1.589 \n",
      " KL LOSS \t train 4.142 valid 4.142 \n",
      " TOTAL LOSS \t train 6.823 valid 5.732 \n",
      "\n"
     ]
    },
    {
     "name": "stderr",
     "output_type": "stream",
     "text": [
      "\r",
      " 86%|█████████████████████████████████████████████████████████         | 173/200 [11:26<01:50,  4.07s/it]"
     ]
    },
    {
     "name": "stdout",
     "output_type": "stream",
     "text": [
      "------------------EPOCH 173------------------\n",
      "END LOSS \t train 2.673 valid 0.756 \n",
      " KL LOSS \t train 4.142 valid 4.141 \n",
      " TOTAL LOSS \t train 6.815 valid 4.898 \n",
      "\n"
     ]
    },
    {
     "name": "stderr",
     "output_type": "stream",
     "text": [
      "\r",
      " 87%|█████████████████████████████████████████████████████████▍        | 174/200 [11:30<01:46,  4.09s/it]"
     ]
    },
    {
     "name": "stdout",
     "output_type": "stream",
     "text": [
      "------------------EPOCH 174------------------\n",
      "END LOSS \t train 2.485 valid 0.814 \n",
      " KL LOSS \t train 4.142 valid 4.141 \n",
      " TOTAL LOSS \t train 6.627 valid 4.956 \n",
      "\n"
     ]
    },
    {
     "name": "stderr",
     "output_type": "stream",
     "text": [
      "\r",
      " 88%|█████████████████████████████████████████████████████████▊        | 175/200 [11:34<01:41,  4.07s/it]"
     ]
    },
    {
     "name": "stdout",
     "output_type": "stream",
     "text": [
      "------------------EPOCH 175------------------\n",
      "END LOSS \t train 2.828 valid 0.666 \n",
      " KL LOSS \t train 4.141 valid 4.141 \n",
      " TOTAL LOSS \t train 6.97 valid 4.808 \n",
      "\n"
     ]
    },
    {
     "name": "stderr",
     "output_type": "stream",
     "text": [
      "\r",
      " 88%|██████████████████████████████████████████████████████████        | 176/200 [11:38<01:37,  4.05s/it]"
     ]
    },
    {
     "name": "stdout",
     "output_type": "stream",
     "text": [
      "------------------EPOCH 176------------------\n",
      "END LOSS \t train 2.622 valid 1.295 \n",
      " KL LOSS \t train 4.141 valid 4.139 \n",
      " TOTAL LOSS \t train 6.763 valid 5.435 \n",
      "\n"
     ]
    },
    {
     "name": "stderr",
     "output_type": "stream",
     "text": [
      "\r",
      " 88%|██████████████████████████████████████████████████████████▍       | 177/200 [11:42<01:32,  4.02s/it]"
     ]
    },
    {
     "name": "stdout",
     "output_type": "stream",
     "text": [
      "------------------EPOCH 177------------------\n",
      "END LOSS \t train 2.708 valid 1.13 \n",
      " KL LOSS \t train 4.141 valid 4.141 \n",
      " TOTAL LOSS \t train 6.849 valid 5.272 \n",
      "\n"
     ]
    },
    {
     "name": "stderr",
     "output_type": "stream",
     "text": [
      "\r",
      " 89%|██████████████████████████████████████████████████████████▋       | 178/200 [11:46<01:28,  4.03s/it]"
     ]
    },
    {
     "name": "stdout",
     "output_type": "stream",
     "text": [
      "------------------EPOCH 178------------------\n",
      "END LOSS \t train 2.685 valid 1.063 \n",
      " KL LOSS \t train 4.14 valid 4.14 \n",
      " TOTAL LOSS \t train 6.826 valid 5.203 \n",
      "\n"
     ]
    },
    {
     "name": "stderr",
     "output_type": "stream",
     "text": [
      "\r",
      " 90%|███████████████████████████████████████████████████████████       | 179/200 [11:50<01:24,  4.03s/it]"
     ]
    },
    {
     "name": "stdout",
     "output_type": "stream",
     "text": [
      "------------------EPOCH 179------------------\n",
      "END LOSS \t train 2.704 valid 1.207 \n",
      " KL LOSS \t train 4.14 valid 4.139 \n",
      " TOTAL LOSS \t train 6.845 valid 5.347 \n",
      "\n"
     ]
    },
    {
     "name": "stderr",
     "output_type": "stream",
     "text": [
      "\r",
      " 90%|███████████████████████████████████████████████████████████▍      | 180/200 [11:54<01:21,  4.07s/it]"
     ]
    },
    {
     "name": "stdout",
     "output_type": "stream",
     "text": [
      "------------------EPOCH 180------------------\n",
      "END LOSS \t train 2.506 valid 1.424 \n",
      " KL LOSS \t train 4.14 valid 4.139 \n",
      " TOTAL LOSS \t train 6.646 valid 5.563 \n",
      "\n"
     ]
    },
    {
     "name": "stderr",
     "output_type": "stream",
     "text": [
      "\r",
      " 90%|███████████████████████████████████████████████████████████▋      | 181/200 [11:58<01:16,  4.03s/it]"
     ]
    },
    {
     "name": "stdout",
     "output_type": "stream",
     "text": [
      "------------------EPOCH 181------------------\n",
      "END LOSS \t train 2.516 valid 1.095 \n",
      " KL LOSS \t train 4.139 valid 4.139 \n",
      " TOTAL LOSS \t train 6.656 valid 5.235 \n",
      "\n"
     ]
    },
    {
     "name": "stderr",
     "output_type": "stream",
     "text": [
      "\r",
      " 91%|████████████████████████████████████████████████████████████      | 182/200 [12:02<01:12,  4.06s/it]"
     ]
    },
    {
     "name": "stdout",
     "output_type": "stream",
     "text": [
      "------------------EPOCH 182------------------\n",
      "END LOSS \t train 2.485 valid 1.162 \n",
      " KL LOSS \t train 4.139 valid 4.137 \n",
      " TOTAL LOSS \t train 6.624 valid 5.299 \n",
      "\n"
     ]
    },
    {
     "name": "stderr",
     "output_type": "stream",
     "text": [
      "\r",
      " 92%|████████████████████████████████████████████████████████████▍     | 183/200 [12:06<01:08,  4.04s/it]"
     ]
    },
    {
     "name": "stdout",
     "output_type": "stream",
     "text": [
      "------------------EPOCH 183------------------\n",
      "END LOSS \t train 2.788 valid 2.151 \n",
      " KL LOSS \t train 4.139 valid 4.138 \n",
      " TOTAL LOSS \t train 6.927 valid 6.29 \n",
      "\n"
     ]
    },
    {
     "name": "stderr",
     "output_type": "stream",
     "text": [
      "\r",
      " 92%|████████████████████████████████████████████████████████████▋     | 184/200 [12:10<01:04,  4.04s/it]"
     ]
    },
    {
     "name": "stdout",
     "output_type": "stream",
     "text": [
      "------------------EPOCH 184------------------\n",
      "END LOSS \t train 2.631 valid 1.651 \n",
      " KL LOSS \t train 4.138 valid 4.137 \n",
      " TOTAL LOSS \t train 6.77 valid 5.788 \n",
      "\n"
     ]
    },
    {
     "name": "stderr",
     "output_type": "stream",
     "text": [
      "\r",
      " 92%|█████████████████████████████████████████████████████████████     | 185/200 [12:14<01:00,  4.04s/it]"
     ]
    },
    {
     "name": "stdout",
     "output_type": "stream",
     "text": [
      "------------------EPOCH 185------------------\n",
      "END LOSS \t train 2.597 valid 2.045 \n",
      " KL LOSS \t train 4.138 valid 4.137 \n",
      " TOTAL LOSS \t train 6.736 valid 6.183 \n",
      "\n"
     ]
    },
    {
     "name": "stderr",
     "output_type": "stream",
     "text": [
      "\r",
      " 93%|█████████████████████████████████████████████████████████████▍    | 186/200 [12:18<00:56,  4.04s/it]"
     ]
    },
    {
     "name": "stdout",
     "output_type": "stream",
     "text": [
      "------------------EPOCH 186------------------\n",
      "END LOSS \t train 2.541 valid 2.305 \n",
      " KL LOSS \t train 4.138 valid 4.137 \n",
      " TOTAL LOSS \t train 6.679 valid 6.442 \n",
      "\n"
     ]
    },
    {
     "name": "stderr",
     "output_type": "stream",
     "text": [
      "\r",
      " 94%|█████████████████████████████████████████████████████████████▋    | 187/200 [12:23<00:52,  4.05s/it]"
     ]
    },
    {
     "name": "stdout",
     "output_type": "stream",
     "text": [
      "------------------EPOCH 187------------------\n",
      "END LOSS \t train 2.522 valid 1.419 \n",
      " KL LOSS \t train 4.137 valid 4.137 \n",
      " TOTAL LOSS \t train 6.659 valid 5.556 \n",
      "\n"
     ]
    },
    {
     "name": "stderr",
     "output_type": "stream",
     "text": [
      "\r",
      " 94%|██████████████████████████████████████████████████████████████    | 188/200 [12:27<00:48,  4.02s/it]"
     ]
    },
    {
     "name": "stdout",
     "output_type": "stream",
     "text": [
      "------------------EPOCH 188------------------\n",
      "END LOSS \t train 2.401 valid 1.157 \n",
      " KL LOSS \t train 4.137 valid 4.137 \n",
      " TOTAL LOSS \t train 6.538 valid 5.294 \n",
      "\n"
     ]
    },
    {
     "name": "stderr",
     "output_type": "stream",
     "text": [
      "\r",
      " 94%|██████████████████████████████████████████████████████████████▎   | 189/200 [12:31<00:44,  4.03s/it]"
     ]
    },
    {
     "name": "stdout",
     "output_type": "stream",
     "text": [
      "------------------EPOCH 189------------------\n",
      "END LOSS \t train 2.653 valid 1.359 \n",
      " KL LOSS \t train 4.137 valid 4.136 \n",
      " TOTAL LOSS \t train 6.79 valid 5.495 \n",
      "\n"
     ]
    },
    {
     "name": "stderr",
     "output_type": "stream",
     "text": [
      "\r",
      " 95%|██████████████████████████████████████████████████████████████▋   | 190/200 [12:35<00:41,  4.11s/it]"
     ]
    },
    {
     "name": "stdout",
     "output_type": "stream",
     "text": [
      "------------------EPOCH 190------------------\n",
      "END LOSS \t train 2.919 valid 1.42 \n",
      " KL LOSS \t train 4.136 valid 4.135 \n",
      " TOTAL LOSS \t train 7.056 valid 5.556 \n",
      "\n"
     ]
    },
    {
     "name": "stderr",
     "output_type": "stream",
     "text": [
      "\r",
      " 96%|███████████████████████████████████████████████████████████████   | 191/200 [12:39<00:37,  4.17s/it]"
     ]
    },
    {
     "name": "stdout",
     "output_type": "stream",
     "text": [
      "------------------EPOCH 191------------------\n",
      "END LOSS \t train 2.431 valid 2.1 \n",
      " KL LOSS \t train 4.136 valid 4.135 \n",
      " TOTAL LOSS \t train 6.567 valid 6.235 \n",
      "\n"
     ]
    },
    {
     "name": "stderr",
     "output_type": "stream",
     "text": [
      "\r",
      " 96%|███████████████████████████████████████████████████████████████▎  | 192/200 [12:43<00:33,  4.13s/it]"
     ]
    },
    {
     "name": "stdout",
     "output_type": "stream",
     "text": [
      "------------------EPOCH 192------------------\n",
      "END LOSS \t train 2.504 valid 2.017 \n",
      " KL LOSS \t train 4.135 valid 4.135 \n",
      " TOTAL LOSS \t train 6.64 valid 6.153 \n",
      "\n"
     ]
    },
    {
     "name": "stderr",
     "output_type": "stream",
     "text": [
      "\r",
      " 96%|███████████████████████████████████████████████████████████████▋  | 193/200 [12:47<00:29,  4.17s/it]"
     ]
    },
    {
     "name": "stdout",
     "output_type": "stream",
     "text": [
      "------------------EPOCH 193------------------\n",
      "END LOSS \t train 2.57 valid 1.129 \n",
      " KL LOSS \t train 4.135 valid 4.135 \n",
      " TOTAL LOSS \t train 6.705 valid 5.265 \n",
      "\n"
     ]
    },
    {
     "name": "stderr",
     "output_type": "stream",
     "text": [
      "\r",
      " 97%|████████████████████████████████████████████████████████████████  | 194/200 [12:52<00:24,  4.13s/it]"
     ]
    },
    {
     "name": "stdout",
     "output_type": "stream",
     "text": [
      "------------------EPOCH 194------------------\n",
      "END LOSS \t train 2.647 valid 1.178 \n",
      " KL LOSS \t train 4.134 valid 4.135 \n",
      " TOTAL LOSS \t train 6.782 valid 5.313 \n",
      "\n"
     ]
    },
    {
     "name": "stderr",
     "output_type": "stream",
     "text": [
      "\r",
      " 98%|████████████████████████████████████████████████████████████████▎ | 195/200 [12:56<00:20,  4.10s/it]"
     ]
    },
    {
     "name": "stdout",
     "output_type": "stream",
     "text": [
      "------------------EPOCH 195------------------\n",
      "END LOSS \t train 2.696 valid 3.627 \n",
      " KL LOSS \t train 4.134 valid 4.134 \n",
      " TOTAL LOSS \t train 6.83 valid 7.762 \n",
      "\n"
     ]
    },
    {
     "name": "stderr",
     "output_type": "stream",
     "text": [
      "\r",
      " 98%|████████████████████████████████████████████████████████████████▋ | 196/200 [13:00<00:16,  4.10s/it]"
     ]
    },
    {
     "name": "stdout",
     "output_type": "stream",
     "text": [
      "------------------EPOCH 196------------------\n",
      "END LOSS \t train 2.579 valid 1.726 \n",
      " KL LOSS \t train 4.134 valid 4.133 \n",
      " TOTAL LOSS \t train 6.714 valid 5.86 \n",
      "\n"
     ]
    },
    {
     "name": "stderr",
     "output_type": "stream",
     "text": [
      "\r",
      " 98%|█████████████████████████████████████████████████████████████████ | 197/200 [13:04<00:12,  4.09s/it]"
     ]
    },
    {
     "name": "stdout",
     "output_type": "stream",
     "text": [
      "------------------EPOCH 197------------------\n",
      "END LOSS \t train 2.605 valid 0.96 \n",
      " KL LOSS \t train 4.134 valid 4.133 \n",
      " TOTAL LOSS \t train 6.739 valid 5.094 \n",
      "\n"
     ]
    },
    {
     "name": "stderr",
     "output_type": "stream",
     "text": [
      "\r",
      " 99%|█████████████████████████████████████████████████████████████████▎| 198/200 [13:08<00:08,  4.07s/it]"
     ]
    },
    {
     "name": "stdout",
     "output_type": "stream",
     "text": [
      "------------------EPOCH 198------------------\n",
      "END LOSS \t train 2.551 valid 1.522 \n",
      " KL LOSS \t train 4.134 valid 4.133 \n",
      " TOTAL LOSS \t train 6.685 valid 5.655 \n",
      "\n"
     ]
    },
    {
     "name": "stderr",
     "output_type": "stream",
     "text": [
      "\r",
      "100%|█████████████████████████████████████████████████████████████████▋| 199/200 [13:12<00:04,  4.06s/it]"
     ]
    },
    {
     "name": "stdout",
     "output_type": "stream",
     "text": [
      "------------------EPOCH 199------------------\n",
      "END LOSS \t train 2.506 valid 1.173 \n",
      " KL LOSS \t train 4.133 valid 4.133 \n",
      " TOTAL LOSS \t train 6.639 valid 5.307 \n",
      "\n"
     ]
    },
    {
     "name": "stderr",
     "output_type": "stream",
     "text": [
      "100%|██████████████████████████████████████████████████████████████████| 200/200 [13:16<00:00,  3.98s/it]"
     ]
    },
    {
     "name": "stdout",
     "output_type": "stream",
     "text": [
      "------------------EPOCH 200------------------\n",
      "END LOSS \t train 2.575 valid 1.021 \n",
      " KL LOSS \t train 4.133 valid 4.133 \n",
      " TOTAL LOSS \t train 6.708 valid 5.154 \n",
      "\n"
     ]
    },
    {
     "name": "stderr",
     "output_type": "stream",
     "text": [
      "\n"
     ]
    }
   ],
   "source": [
    "model_used = train_NN.train(EPOCHS=200, pre_train=-1)"
   ]
  },
  {
   "cell_type": "code",
   "execution_count": 27,
   "metadata": {},
   "outputs": [],
   "source": [
    "M_opt = 128\n",
    "model_used.update_n_samples(n_samples=M_opt)\n",
    "Y_pred = model_used.forward_dist(X_test, aleat_bool)\n",
    "Y_pred_original = inverse_transform(Y_pred)"
   ]
  },
  {
   "cell_type": "code",
   "execution_count": 28,
   "metadata": {
    "scrolled": false
   },
   "outputs": [
    {
     "data": {
      "text/plain": [
       "tensor(3.2776, dtype=torch.float64, grad_fn=<MeanBackward0>)"
      ]
     },
     "execution_count": 28,
     "metadata": {},
     "output_type": "execute_result"
    }
   ],
   "source": [
    "op = cmu.RiskPortOP(M_opt, n_assets, min_return, torch.tensor(Y_original), dev)\n",
    "op.end_loss_dist(Y_pred_original, Y_test_original)"
   ]
  }
 ],
 "metadata": {
  "kernelspec": {
   "display_name": "pao_env",
   "language": "python",
   "name": "pao_env"
  },
  "language_info": {
   "codemirror_mode": {
    "name": "ipython",
    "version": 3
   },
   "file_extension": ".py",
   "mimetype": "text/x-python",
   "name": "python",
   "nbconvert_exporter": "python",
   "pygments_lexer": "ipython3",
   "version": "3.8.10"
  }
 },
 "nbformat": 4,
 "nbformat_minor": 4
}
