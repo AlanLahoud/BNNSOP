{
 "cells": [
  {
   "cell_type": "code",
   "execution_count": 1,
   "metadata": {},
   "outputs": [],
   "source": [
    "import numpy as np\n",
    "import pandas as pd\n",
    "import torch\n",
    "import torch.nn as nn\n",
    "\n",
    "import joblib\n",
    "import random\n",
    "import sys\n",
    "\n",
    "from mip import Model as ModelMip, xsum, minimize, maximize, \\\n",
    "INTEGER, BINARY, CONTINUOUS, CutType, OptimizationStatus\n",
    "\n",
    "import data_generator\n",
    "from model import StrongStandardNet, StrongVariationalNet\n",
    "from train import TrainDecoupled, TrainCombined\n",
    "\n",
    "from sklearn.preprocessing import StandardScaler\n",
    "\n",
    "import torch.multiprocessing as mp"
   ]
  },
  {
   "cell_type": "code",
   "execution_count": 2,
   "metadata": {},
   "outputs": [],
   "source": [
    "import cvar_minimization_utils as cmu"
   ]
  },
  {
   "cell_type": "code",
   "execution_count": 3,
   "metadata": {},
   "outputs": [],
   "source": [
    "is_cuda = False\n",
    "dev = torch.device('cpu')  \n",
    "if torch.cuda.is_available():\n",
    "    is_cuda = True\n",
    "    dev = torch.device('cuda') "
   ]
  },
  {
   "cell_type": "code",
   "execution_count": 4,
   "metadata": {},
   "outputs": [],
   "source": [
    "method_name = 'bnn'\n",
    "method_learning = 'combined'\n",
    "aleat_bool = 1\n",
    "\n",
    "N_SAMPLES = 32\n",
    "BATCH_SIZE_LOADER = 64\n",
    "\n",
    "EPOCHS = 100\n",
    "\n",
    "cpu_count = mp.cpu_count()\n",
    "\n",
    "seed_number = 0\n",
    "\n",
    "lr = 0.0005"
   ]
  },
  {
   "cell_type": "code",
   "execution_count": 5,
   "metadata": {},
   "outputs": [],
   "source": [
    "np.random.seed(seed_number)\n",
    "torch.manual_seed(seed_number)\n",
    "random.seed(seed_number)\n",
    "\n",
    "assert (method_name in ['ann','bnn','gp'])\n",
    "\n",
    "if method_name in ['ann','bnn']:\n",
    "    assert (method_learning in ['decoupled','combined'])\n",
    "    assert (aleat_bool in [True, False])\n",
    "    assert (N_SAMPLES>=1 and N_SAMPLES<9999)\n",
    "    #assert (M_SAMPLES>=1 and M_SAMPLES<9999)\n",
    "\n",
    "bnn = False \n",
    "if method_name == 'bnn':\n",
    "    bnn = True   \n",
    "    K = 1 # Hyperparameter for the training in ELBO loss\n",
    "    PLV = 1 # Prior in ELBO loss   \n",
    "\n",
    "model_name = method_name + '_constrained_'\n",
    "for i in range(2, len(sys.argv)):\n",
    "    model_name += '_'+sys.argv[i]\n",
    "model_name += '_'+ str(seed_number)"
   ]
  },
  {
   "cell_type": "code",
   "execution_count": 6,
   "metadata": {},
   "outputs": [],
   "source": [
    "def gen_intermidiate(num, n_assets, x1, x2, x3):      \n",
    "        factor = num * 2/(n_assets)\n",
    "        return x1**factor + x2**factor + x3**factor\n",
    "    \n",
    "def gen_data(N, n_assets, nl, seed_number=42):\n",
    "    np.random.seed(seed_number)\n",
    "    x1 = np.random.normal(1, 1, size = N).clip(0)\n",
    "    x2 = np.random.normal(1, 1, size = N).clip(0)\n",
    "    x3 = np.random.normal(1, 1, size = N).clip(0)\n",
    "    X = np.vstack((x1, x2, x3)).T\n",
    "\n",
    "    Y = np.zeros((N, n_assets))\n",
    "    for i in range(1, n_assets + 1):\n",
    "        interm = gen_intermidiate(i, n_assets, x1, x2, x3)\n",
    "        Y[:,i-1] = (np.sin(interm) - np.sin(interm).mean()) \\\n",
    "        + np.sin(interm).std()*(-0.45 + np.random.random())\n",
    "        \n",
    "        ns = Y[:,0].shape[0]//2\n",
    "        \n",
    "        Y[:,i-1] = Y[:,i-1] + nl*Y[:,i-1]*x1*(np.random.beta(5, 2, size = Y[:,0].shape) - 0.2)\n",
    "\n",
    "    return X, Y\n",
    "\n",
    "def gen_cond_dist(N, n_assets, n_samples, nl, seed_number=420):\n",
    "    np.random.seed(seed_number)\n",
    "    Y_dist = np.zeros((n_samples, N, n_assets))\n",
    "    for i in range(0, n_samples):\n",
    "        Y_dist[i, :, :] = gen_data(N, n_assets, nl, seed_number=np.random.randint(0,999999))[1]\n",
    "    return Y_dist"
   ]
  },
  {
   "cell_type": "code",
   "execution_count": 7,
   "metadata": {},
   "outputs": [],
   "source": [
    "class CVaROP():\n",
    "    def __init__(self, beta, n_assets, min_return, Y_train):\n",
    "        self.beta = beta\n",
    "        self.n_assets = n_assets\n",
    "        self.R = min_return \n",
    "        self.uy = Y_train.mean(axis=0)\n",
    "        \n",
    "        self.zstar = np.zeros_like(Y_train)\n",
    "        self.alphastar = np.zeros_like(Y_train[:,0])\n",
    "        self.cvarstar = np.zeros_like(Y_train[:,0])\n",
    "                        \n",
    "        #for i in range(0, Y_train.shape[0]):\n",
    "        #    self.zstar[i,:], _ , self.alphastar[i], self.cvarstar[i] = \\\n",
    "        #    self.minimize_cvar(np.expand_dims(Y_train, 0)[:,i,:])\n",
    "      \n",
    "    def minimize_cvar(self, y):\n",
    "    \n",
    "        n_samples = y.shape[0]\n",
    "        n_assets = y.shape[1]\n",
    "        \n",
    "        assert self.n_assets == n_assets\n",
    "        \n",
    "        \n",
    "        m = ModelMip(\"cvar\")\n",
    "        m.verbose = 0\n",
    "        z = ([m.add_var(var_type=CONTINUOUS, name=f'z_{i}') for i in range(0, n_assets)])\n",
    "        u = ([m.add_var(var_type=CONTINUOUS, name=f'u_{i}') for i in range(0, n_samples)])\n",
    "        alpha = m.add_var(var_type=CONTINUOUS, name='alpha')\n",
    "\n",
    "        m.objective = minimize(alpha + (1/(1 - self.beta))*(1/n_samples) \\\n",
    "                               *xsum(u[i] for i in range(0, n_samples)))\n",
    "\n",
    "        for i in range(0, n_assets):\n",
    "            m += z[i] >= 0\n",
    "\n",
    "        for i in range(0, n_samples):\n",
    "            m += u[i] >= 0\n",
    "\n",
    "        for i in range(0, n_samples):\n",
    "            m += xsum(z[j]*y[i][j] for j in range(0, n_assets)) + alpha + u[i] >= 0\n",
    "\n",
    "        for i in range(0, n_assets):\n",
    "            m += xsum(-z[i]*self.uy[i] for i in range(0, n_assets)) <= -self.R\n",
    "\n",
    "        m.optimize()\n",
    "        f_opt = m.objective_value\n",
    "        argmins = []\n",
    "        for v in m.vars:\n",
    "            argmins.append(v.x)\n",
    "           \n",
    "        zstar = argmins[:n_assets]\n",
    "        ustar = argmins[n_assets:n_assets+n_samples]\n",
    "        alphastar = argmins[n_assets+n_samples]         \n",
    "\n",
    "        return zstar, ustar, alphastar, f_opt\n",
    "    \n",
    "    \n",
    "    def minimize_cvar_dataset(self, Y_dist):\n",
    "        zstar = np.zeros_like(Y_dist[0])\n",
    "        for i in range(0, Y_dist.shape[1]):\n",
    "            zstar[i,:] , _, _, _ = self.minimize_cvar(Y_dist[:,i,:])       \n",
    "        return zstar\n",
    "    \n",
    "    def minimize_cvar_given_z(self, y, z):\n",
    "    \n",
    "        n_samples = y.shape[0]\n",
    "        n_assets = y.shape[1]\n",
    "        \n",
    "        assert self.n_assets == n_assets\n",
    "        \n",
    "        \n",
    "        m = ModelMip(\"cvar\")\n",
    "        m.verbose = 0\n",
    "\n",
    "        u = ([m.add_var(var_type=CONTINUOUS, name=f'u_{i}') for i in range(0, n_samples)])\n",
    "        alpha = m.add_var(var_type=CONTINUOUS, name='alpha')\n",
    "\n",
    "        m.objective = minimize(alpha + (1/(1 - self.beta))*(1/n_samples) \\\n",
    "                               *xsum(u[i] for i in range(0, n_samples)))\n",
    "\n",
    "        for i in range(0, n_samples):\n",
    "            m += u[i] >= 0\n",
    "\n",
    "        for i in range(0, n_samples):\n",
    "            m += xsum(z[j]*y[i][j] for j in range(0, n_assets)) + alpha + u[i] >= 0\n",
    "\n",
    "        m.optimize()\n",
    "        f_opt = m.objective_value\n",
    "        argmins = []\n",
    "        for v in m.vars:\n",
    "            argmins.append(v.x)\n",
    "           \n",
    "        ustar = argmins[:n_samples]\n",
    "        alphastar = argmins[n_samples]    \n",
    "\n",
    "        return ustar, alphastar, f_opt\n",
    "    \n",
    "    \n",
    "    def minimize_cvar_given_z_dataset(self, Y_dist, z):\n",
    "        alphastar = np.zeros_like(Y_dist[0,:,0])\n",
    "        for i in range(0, Y_dist.shape[1]):\n",
    "            _, alphastar[i] , _ = self.minimize_cvar_given_z(Y_dist[:,i,:], z[i,:])\n",
    "        return alphastar\n",
    "        \n",
    "    def calc_cvar_dataset(self, Y_dist, zstar_pred, alpha):\n",
    "        cvar_pred = alpha + (1/(1-beta))*(np.maximum(-((Y_dist*zstar_pred).sum(2)) \\\n",
    "                                                              - alpha, 0)).mean(0)\n",
    "        return cvar_pred\n",
    "        \n",
    "    \n",
    "    def calc_f_dataset(self, Y_dist_pred, Y_dist):\n",
    "        zstar_pred = self.minimize_cvar_dataset(self, Y_dist_pred)\n",
    "        alphastar_pred = minimize_cvar_given_z_dataset(self, Y_dist, zstar_pred)\n",
    "        cvar_pred = self.calc_cvar_dataset(Y_dist, zstar_pred)\n",
    "        return cvar_pred\n",
    "    \n",
    "    \n",
    "    def cost_fn(self, Y_dist_pred, Y_dist):\n",
    "        f = self.calc_f_dataset(Y_dist_pred, Y_dist)\n",
    "        f_total = torch.mean(f)\n",
    "        return f_total\n",
    "        \n",
    "    #def end_loss(self, Y_dist_pred, Y_dist):\n",
    "    #    y_pred = y_pred.unsqueeze(0)\n",
    "    #    f_total = self.cost_fn(y_pred, y)\n",
    "    #    return f_total\n",
    "    \n",
    "    def end_loss_dist(self, Y_dist_pred, Y_dist):\n",
    "        f_total = self.cost_fn(Y_dist_pred, Y_dist)\n",
    "        return f_total"
   ]
  },
  {
   "cell_type": "code",
   "execution_count": 8,
   "metadata": {},
   "outputs": [],
   "source": [
    "class SolverDiff(torch.autograd.Function):\n",
    "    @staticmethod\n",
    "    def forward(ctx, Y_dist_pred):\n",
    "        \n",
    "        Y_dist_pred = Y_dist_pred.detach().numpy()\n",
    "        Y_dist = Ys[:,:,:,1].detach().numpy()\n",
    "                \n",
    "        zstar_pred = op_solver_dist.minimize_cvar_dataset(Y_dist_pred)\n",
    "        alphastar_pred = op_solver_dist.minimize_cvar_given_z_dataset(\n",
    "            np.expand_dims(Y_original, 0), zstar_pred)\n",
    "        \n",
    "            \n",
    "        ctx.Y_true = Y_true\n",
    "        ctx.Y = Y\n",
    "        ctx.argmin = zstar_pred\n",
    "        ctx.argmin_true = zstar_true\n",
    "        ctx.sign_f = np.sign(f_pred)\n",
    "        \n",
    "        \n",
    "\n",
    "        return torch.tensor(zstar_pred, dtype=torch.float32)#, torch.tensor(reg, dtype=torch.float32)\n",
    "\n",
    "    # SPO\n",
    "    @staticmethod\n",
    "    def backward(ctx, grad_output):  \n",
    "        \n",
    "        zstar_true = np.zeros_like(Y_dist[0])\n",
    "        for i in range(0, Y_dist.shape[1]):\n",
    "            zstar_true[i,:] , _, _, _ = self.minimize_cvar(Y_dist[:,i,:])\n",
    "        \n",
    "        grad_output = grad_output.detach().numpy()\n",
    "        Y_aux = 2*ctx.Y - ctx.Y_true\n",
    "        argmin_aux = op.solve_dataset(Y_to_solve=ctx.ps*Y_aux, activations=ctx.activations, is_torch=False)\n",
    "        grad_input = (-argmin_aux + ctx.argmin_true)*grad_output/ctx.Y_true\n",
    "        grad_input = torch.tensor(grad_input, dtype=torch.float32)\n",
    "                        \n",
    "        return torch.dstack((grad_input, torch.zeros_like(grad_input))), None"
   ]
  },
  {
   "cell_type": "code",
   "execution_count": 9,
   "metadata": {},
   "outputs": [],
   "source": [
    "N_train = 1000\n",
    "N_val = 600\n",
    "N_test = 600\n",
    "\n",
    "n_assets = 15\n",
    "\n",
    "n_samples_orig = 200\n",
    "\n",
    "nl = 0.1\n",
    "\n",
    "X, Y_original = gen_data(N_train, n_assets, nl, seed_number)\n",
    "X_val, Y_val_original = gen_data(N_val, n_assets, nl, seed_number + 80)\n",
    "X_test, Y_test_original = gen_data(N_test, n_assets, nl, seed_number + 160)\n",
    "\n",
    "Y_dist = gen_cond_dist(N_train, n_assets, n_samples_orig, nl=nl, seed_number=seed_number)\n",
    "Y_val_dist = gen_cond_dist(N_val, n_assets, n_samples_orig, nl=nl, seed_number=seed_number + 100)\n",
    "Y_test_dist = gen_cond_dist(N_test, n_assets, n_samples_orig, nl=nl, seed_number=seed_number + 200)"
   ]
  },
  {
   "cell_type": "code",
   "execution_count": 10,
   "metadata": {},
   "outputs": [],
   "source": [
    "# Output normalization\n",
    "scaler = StandardScaler()\n",
    "scaler.fit(Y_original)\n",
    "tmean = torch.tensor(scaler.mean_).to(dev)\n",
    "tstd = torch.tensor(scaler.scale_).to(dev)\n",
    "joblib.dump(scaler, 'scaler_cvar.gz')\n",
    "\n",
    "# Function to denormalize the data\n",
    "def inverse_transform(yy):\n",
    "    return yy*tstd + tmean\n",
    "\n",
    "Y = scaler.transform(Y_original).copy()\n",
    "X = torch.tensor(X, dtype=torch.float32)\n",
    "Y = torch.tensor(Y, dtype=torch.float32)\n",
    "data_train = data_generator.ArtificialDataset(X, Y)\n",
    "training_loader = torch.utils.data.DataLoader(\n",
    "    data_train, batch_size=BATCH_SIZE_LOADER,\n",
    "    shuffle=True, num_workers=cpu_count)\n",
    "Y_dist = torch.tensor(Y_dist, dtype=torch.float32)\n",
    "\n",
    "Y_val = scaler.transform(Y_val_original).copy()\n",
    "X_val = torch.tensor(X_val, dtype=torch.float32)\n",
    "Y_val_original = torch.tensor(Y_val_original, dtype=torch.float32)\n",
    "Y_val = torch.tensor(Y_val, dtype=torch.float32)\n",
    "data_valid = data_generator.ArtificialDataset(X_val, Y_val)\n",
    "validation_loader = torch.utils.data.DataLoader(\n",
    "    data_valid, batch_size=BATCH_SIZE_LOADER,\n",
    "    shuffle=False, num_workers=cpu_count)\n",
    "\n",
    "X_test = torch.tensor(X_test, dtype=torch.float32)\n",
    "Y_test_original = torch.tensor(\n",
    "    Y_test_original, dtype=torch.float32)\n",
    "data_test = data_generator.ArtificialDataset(\n",
    "    X_test, Y_test_original)\n",
    "test_loader = torch.utils.data.DataLoader(\n",
    "data_test, batch_size=16,\n",
    "shuffle=False, num_workers=cpu_count)"
   ]
  },
  {
   "cell_type": "code",
   "execution_count": 11,
   "metadata": {},
   "outputs": [],
   "source": [
    "n_samples = Y.shape[0]\n",
    "n_assets = Y.shape[1]\n",
    "beta = 0.80\n",
    "min_return = 100"
   ]
  },
  {
   "cell_type": "code",
   "execution_count": null,
   "metadata": {},
   "outputs": [],
   "source": []
  },
  {
   "cell_type": "code",
   "execution_count": null,
   "metadata": {},
   "outputs": [],
   "source": []
  },
  {
   "cell_type": "code",
   "execution_count": 40,
   "metadata": {},
   "outputs": [],
   "source": [
    "method_name = 'ann'\n",
    "method_learning = 'decoupled'\n",
    "\n",
    "bnn = False\n",
    "aleat_bool = False\n",
    "if method_name == 'bnn':\n",
    "    bnn = True\n",
    "    aleat_bool = True\n",
    "N_SAMPLES = 16\n",
    "K = 1"
   ]
  },
  {
   "cell_type": "code",
   "execution_count": 41,
   "metadata": {},
   "outputs": [],
   "source": [
    "if method_name == 'bnn':\n",
    "    h = StrongVariationalNet(\n",
    "    n_samples=N_SAMPLES,\n",
    "    input_size=X.shape[1], \n",
    "    output_size=Y.shape[1], \n",
    "    plv=PLV, \n",
    "    dev=dev).to(dev)\n",
    "\n",
    "    \n",
    "#ANN Baseline model\n",
    "elif method_name == 'ann':\n",
    "    h = StrongStandardNet(X.shape[1], Y.shape[1]).to(dev)\n",
    "    K = 0 # There is no K in ANN\n",
    "    N_SAMPLES = 1\n",
    "    \n",
    "opt_h = torch.optim.Adam(h.parameters(), lr=lr)\n",
    "mse_loss = nn.MSELoss(reduction='none')\n",
    "\n",
    "\n",
    "opt_cvar_gZ = cmu.CVaROPgZ(1, n_assets, beta, min_return, torch.tensor(Y_original), dev)\n",
    "opt_cvar = cmu.CVaRQP(N_SAMPLES, n_assets, beta, min_return, torch.tensor(Y_original), opt_cvar_gZ, dev)\n",
    "\n",
    "# Decoupled learning approach\n",
    "if method_learning == 'decoupled':\n",
    "    train_NN = TrainDecoupled(\n",
    "                    bnn = bnn,\n",
    "                    model=h,\n",
    "                    opt=opt_h,\n",
    "                    loss_data=mse_loss,\n",
    "                    K=K,\n",
    "                    aleat_bool=aleat_bool,\n",
    "                    training_loader=training_loader,\n",
    "                    validation_loader=validation_loader,\n",
    "                    dev=dev\n",
    "                )\n",
    "\n",
    "# Combined learning approach (end-to-end loss)\n",
    "elif method_learning == 'combined':\n",
    "    train_NN = TrainCombined(\n",
    "                    bnn = bnn,\n",
    "                    model=h,\n",
    "                    opt=opt_h,\n",
    "                    K=K,\n",
    "                    aleat_bool=aleat_bool,\n",
    "                    training_loader=training_loader,\n",
    "                    scaler=scaler,\n",
    "                    validation_loader=validation_loader,\n",
    "                    OP=opt_cvar,\n",
    "                    dev=dev\n",
    "                )"
   ]
  },
  {
   "cell_type": "code",
   "execution_count": 42,
   "metadata": {
    "scrolled": true
   },
   "outputs": [
    {
     "name": "stderr",
     "output_type": "stream",
     "text": [
      "  0%|▎                                                                   | 1/200 [00:01<05:11,  1.57s/it]"
     ]
    },
    {
     "name": "stdout",
     "output_type": "stream",
     "text": [
      "------------------EPOCH 1------------------\n",
      "DATA LOSS \t train 0.908 valid 0.89\n",
      "KL LOSS \t train 0.0 valid 0.0\n",
      "ELBO LOSS \t train 0.91 valid 0.89\n"
     ]
    },
    {
     "name": "stderr",
     "output_type": "stream",
     "text": [
      "\r",
      "  1%|▋                                                                   | 2/200 [00:03<05:06,  1.55s/it]"
     ]
    },
    {
     "name": "stdout",
     "output_type": "stream",
     "text": [
      "------------------EPOCH 2------------------\n",
      "DATA LOSS \t train 0.656 valid 0.677\n",
      "KL LOSS \t train 0.0 valid 0.0\n",
      "ELBO LOSS \t train 0.66 valid 0.68\n"
     ]
    },
    {
     "name": "stderr",
     "output_type": "stream",
     "text": [
      "\r",
      "  2%|█                                                                   | 3/200 [00:04<05:03,  1.54s/it]"
     ]
    },
    {
     "name": "stdout",
     "output_type": "stream",
     "text": [
      "------------------EPOCH 3------------------\n",
      "DATA LOSS \t train 0.484 valid 0.592\n",
      "KL LOSS \t train 0.0 valid 0.0\n",
      "ELBO LOSS \t train 0.48 valid 0.59\n"
     ]
    },
    {
     "name": "stderr",
     "output_type": "stream",
     "text": [
      "\r",
      "  2%|█▎                                                                  | 4/200 [00:06<05:05,  1.56s/it]"
     ]
    },
    {
     "name": "stdout",
     "output_type": "stream",
     "text": [
      "------------------EPOCH 4------------------\n",
      "DATA LOSS \t train 0.42 valid 0.543\n",
      "KL LOSS \t train 0.0 valid 0.0\n",
      "ELBO LOSS \t train 0.42 valid 0.54\n"
     ]
    },
    {
     "name": "stderr",
     "output_type": "stream",
     "text": [
      "\r",
      "  2%|█▋                                                                  | 5/200 [00:07<05:06,  1.57s/it]"
     ]
    },
    {
     "name": "stdout",
     "output_type": "stream",
     "text": [
      "------------------EPOCH 5------------------\n",
      "DATA LOSS \t train 0.38 valid 0.516\n",
      "KL LOSS \t train 0.0 valid 0.0\n",
      "ELBO LOSS \t train 0.38 valid 0.52\n"
     ]
    },
    {
     "name": "stderr",
     "output_type": "stream",
     "text": [
      "\r",
      "  3%|██                                                                  | 6/200 [00:09<05:01,  1.56s/it]"
     ]
    },
    {
     "name": "stdout",
     "output_type": "stream",
     "text": [
      "------------------EPOCH 6------------------\n",
      "DATA LOSS \t train 0.344 valid 0.458\n",
      "KL LOSS \t train 0.0 valid 0.0\n",
      "ELBO LOSS \t train 0.34 valid 0.46\n"
     ]
    },
    {
     "name": "stderr",
     "output_type": "stream",
     "text": [
      "\r",
      "  4%|██▍                                                                 | 7/200 [00:10<04:58,  1.55s/it]"
     ]
    },
    {
     "name": "stdout",
     "output_type": "stream",
     "text": [
      "------------------EPOCH 7------------------\n",
      "DATA LOSS \t train 0.315 valid 0.444\n",
      "KL LOSS \t train 0.0 valid 0.0\n",
      "ELBO LOSS \t train 0.31 valid 0.44\n"
     ]
    },
    {
     "name": "stderr",
     "output_type": "stream",
     "text": [
      "\r",
      "  4%|██▋                                                                 | 8/200 [00:12<04:54,  1.53s/it]"
     ]
    },
    {
     "name": "stdout",
     "output_type": "stream",
     "text": [
      "------------------EPOCH 8------------------\n",
      "DATA LOSS \t train 0.281 valid 0.428\n",
      "KL LOSS \t train 0.0 valid 0.0\n",
      "ELBO LOSS \t train 0.28 valid 0.43\n"
     ]
    },
    {
     "name": "stderr",
     "output_type": "stream",
     "text": [
      "\r",
      "  4%|███                                                                 | 9/200 [00:13<04:57,  1.56s/it]"
     ]
    },
    {
     "name": "stdout",
     "output_type": "stream",
     "text": [
      "------------------EPOCH 9------------------\n",
      "DATA LOSS \t train 0.252 valid 0.393\n",
      "KL LOSS \t train 0.0 valid 0.0\n",
      "ELBO LOSS \t train 0.25 valid 0.39\n"
     ]
    },
    {
     "name": "stderr",
     "output_type": "stream",
     "text": [
      "\r",
      "  5%|███▎                                                               | 10/200 [00:15<04:55,  1.56s/it]"
     ]
    },
    {
     "name": "stdout",
     "output_type": "stream",
     "text": [
      "------------------EPOCH 10------------------\n",
      "DATA LOSS \t train 0.228 valid 0.358\n",
      "KL LOSS \t train 0.0 valid 0.0\n",
      "ELBO LOSS \t train 0.23 valid 0.36\n"
     ]
    },
    {
     "name": "stderr",
     "output_type": "stream",
     "text": [
      "\r",
      "  6%|███▋                                                               | 11/200 [00:17<04:53,  1.55s/it]"
     ]
    },
    {
     "name": "stdout",
     "output_type": "stream",
     "text": [
      "------------------EPOCH 11------------------\n",
      "DATA LOSS \t train 0.208 valid 0.351\n",
      "KL LOSS \t train 0.0 valid 0.0\n",
      "ELBO LOSS \t train 0.21 valid 0.35\n"
     ]
    },
    {
     "name": "stderr",
     "output_type": "stream",
     "text": [
      "\r",
      "  6%|████                                                               | 12/200 [00:18<04:53,  1.56s/it]"
     ]
    },
    {
     "name": "stdout",
     "output_type": "stream",
     "text": [
      "------------------EPOCH 12------------------\n",
      "DATA LOSS \t train 0.196 valid 0.341\n",
      "KL LOSS \t train 0.0 valid 0.0\n",
      "ELBO LOSS \t train 0.2 valid 0.34\n"
     ]
    },
    {
     "name": "stderr",
     "output_type": "stream",
     "text": [
      "\r",
      "  6%|████▎                                                              | 13/200 [00:20<04:50,  1.55s/it]"
     ]
    },
    {
     "name": "stdout",
     "output_type": "stream",
     "text": [
      "------------------EPOCH 13------------------\n",
      "DATA LOSS \t train 0.183 valid 0.34\n",
      "KL LOSS \t train 0.0 valid 0.0\n",
      "ELBO LOSS \t train 0.18 valid 0.34\n"
     ]
    },
    {
     "name": "stderr",
     "output_type": "stream",
     "text": [
      "\r",
      "  7%|████▋                                                              | 14/200 [00:21<04:51,  1.57s/it]"
     ]
    },
    {
     "name": "stdout",
     "output_type": "stream",
     "text": [
      "------------------EPOCH 14------------------\n",
      "DATA LOSS \t train 0.174 valid 0.324\n",
      "KL LOSS \t train 0.0 valid 0.0\n",
      "ELBO LOSS \t train 0.17 valid 0.32\n"
     ]
    },
    {
     "name": "stderr",
     "output_type": "stream",
     "text": [
      "\r",
      "  8%|█████                                                              | 15/200 [00:23<04:48,  1.56s/it]"
     ]
    },
    {
     "name": "stdout",
     "output_type": "stream",
     "text": [
      "------------------EPOCH 15------------------\n",
      "DATA LOSS \t train 0.165 valid 0.311\n",
      "KL LOSS \t train 0.0 valid 0.0\n",
      "ELBO LOSS \t train 0.16 valid 0.31\n"
     ]
    },
    {
     "name": "stderr",
     "output_type": "stream",
     "text": [
      "\r",
      "  8%|█████▎                                                             | 16/200 [00:24<04:49,  1.57s/it]"
     ]
    },
    {
     "name": "stdout",
     "output_type": "stream",
     "text": [
      "------------------EPOCH 16------------------\n",
      "DATA LOSS \t train 0.158 valid 0.292\n",
      "KL LOSS \t train 0.0 valid 0.0\n",
      "ELBO LOSS \t train 0.16 valid 0.29\n"
     ]
    },
    {
     "name": "stderr",
     "output_type": "stream",
     "text": [
      "\r",
      "  8%|█████▋                                                             | 17/200 [00:26<04:48,  1.57s/it]"
     ]
    },
    {
     "name": "stdout",
     "output_type": "stream",
     "text": [
      "------------------EPOCH 17------------------\n",
      "DATA LOSS \t train 0.15 valid 0.293\n",
      "KL LOSS \t train 0.0 valid 0.0\n",
      "ELBO LOSS \t train 0.15 valid 0.29\n"
     ]
    },
    {
     "name": "stderr",
     "output_type": "stream",
     "text": [
      "\r",
      "  9%|██████                                                             | 18/200 [00:28<04:46,  1.58s/it]"
     ]
    },
    {
     "name": "stdout",
     "output_type": "stream",
     "text": [
      "------------------EPOCH 18------------------\n",
      "DATA LOSS \t train 0.144 valid 0.277\n",
      "KL LOSS \t train 0.0 valid 0.0\n",
      "ELBO LOSS \t train 0.14 valid 0.28\n"
     ]
    },
    {
     "name": "stderr",
     "output_type": "stream",
     "text": [
      "\r",
      " 10%|██████▎                                                            | 19/200 [00:29<04:45,  1.58s/it]"
     ]
    },
    {
     "name": "stdout",
     "output_type": "stream",
     "text": [
      "------------------EPOCH 19------------------\n",
      "DATA LOSS \t train 0.139 valid 0.284\n",
      "KL LOSS \t train 0.0 valid 0.0\n",
      "ELBO LOSS \t train 0.14 valid 0.28\n"
     ]
    },
    {
     "name": "stderr",
     "output_type": "stream",
     "text": [
      "\r",
      " 10%|██████▋                                                            | 20/200 [00:31<04:45,  1.59s/it]"
     ]
    },
    {
     "name": "stdout",
     "output_type": "stream",
     "text": [
      "------------------EPOCH 20------------------\n",
      "DATA LOSS \t train 0.132 valid 0.271\n",
      "KL LOSS \t train 0.0 valid 0.0\n",
      "ELBO LOSS \t train 0.13 valid 0.27\n"
     ]
    },
    {
     "name": "stderr",
     "output_type": "stream",
     "text": [
      "\r",
      " 10%|███████                                                            | 21/200 [00:32<04:45,  1.59s/it]"
     ]
    },
    {
     "name": "stdout",
     "output_type": "stream",
     "text": [
      "------------------EPOCH 21------------------\n",
      "DATA LOSS \t train 0.127 valid 0.265\n",
      "KL LOSS \t train 0.0 valid 0.0\n",
      "ELBO LOSS \t train 0.13 valid 0.26\n"
     ]
    },
    {
     "name": "stderr",
     "output_type": "stream",
     "text": [
      "\r",
      " 11%|███████▎                                                           | 22/200 [00:34<04:42,  1.59s/it]"
     ]
    },
    {
     "name": "stdout",
     "output_type": "stream",
     "text": [
      "------------------EPOCH 22------------------\n",
      "DATA LOSS \t train 0.122 valid 0.26\n",
      "KL LOSS \t train 0.0 valid 0.0\n",
      "ELBO LOSS \t train 0.12 valid 0.26\n"
     ]
    },
    {
     "name": "stderr",
     "output_type": "stream",
     "text": [
      "\r",
      " 12%|███████▋                                                           | 23/200 [00:36<04:44,  1.61s/it]"
     ]
    },
    {
     "name": "stdout",
     "output_type": "stream",
     "text": [
      "------------------EPOCH 23------------------\n",
      "DATA LOSS \t train 0.117 valid 0.243\n",
      "KL LOSS \t train 0.0 valid 0.0\n",
      "ELBO LOSS \t train 0.12 valid 0.24\n"
     ]
    },
    {
     "name": "stderr",
     "output_type": "stream",
     "text": [
      "\r",
      " 12%|████████                                                           | 24/200 [00:37<04:42,  1.60s/it]"
     ]
    },
    {
     "name": "stdout",
     "output_type": "stream",
     "text": [
      "------------------EPOCH 24------------------\n",
      "DATA LOSS \t train 0.113 valid 0.259\n",
      "KL LOSS \t train 0.0 valid 0.0\n",
      "ELBO LOSS \t train 0.11 valid 0.26\n"
     ]
    },
    {
     "name": "stderr",
     "output_type": "stream",
     "text": [
      "\r",
      " 12%|████████▍                                                          | 25/200 [00:39<04:37,  1.59s/it]"
     ]
    },
    {
     "name": "stdout",
     "output_type": "stream",
     "text": [
      "------------------EPOCH 25------------------\n",
      "DATA LOSS \t train 0.109 valid 0.255\n",
      "KL LOSS \t train 0.0 valid 0.0\n",
      "ELBO LOSS \t train 0.11 valid 0.26\n"
     ]
    },
    {
     "name": "stderr",
     "output_type": "stream",
     "text": [
      "\r",
      " 13%|████████▋                                                          | 26/200 [00:40<04:33,  1.57s/it]"
     ]
    },
    {
     "name": "stdout",
     "output_type": "stream",
     "text": [
      "------------------EPOCH 26------------------\n",
      "DATA LOSS \t train 0.105 valid 0.251\n",
      "KL LOSS \t train 0.0 valid 0.0\n",
      "ELBO LOSS \t train 0.1 valid 0.25\n"
     ]
    },
    {
     "name": "stderr",
     "output_type": "stream",
     "text": [
      "\r",
      " 14%|█████████                                                          | 27/200 [00:42<04:31,  1.57s/it]"
     ]
    },
    {
     "name": "stdout",
     "output_type": "stream",
     "text": [
      "------------------EPOCH 27------------------\n",
      "DATA LOSS \t train 0.101 valid 0.231\n",
      "KL LOSS \t train 0.0 valid 0.0\n",
      "ELBO LOSS \t train 0.1 valid 0.23\n"
     ]
    },
    {
     "name": "stderr",
     "output_type": "stream",
     "text": [
      "\r",
      " 14%|█████████▍                                                         | 28/200 [00:43<04:32,  1.59s/it]"
     ]
    },
    {
     "name": "stdout",
     "output_type": "stream",
     "text": [
      "------------------EPOCH 28------------------\n",
      "DATA LOSS \t train 0.098 valid 0.24\n",
      "KL LOSS \t train 0.0 valid 0.0\n",
      "ELBO LOSS \t train 0.1 valid 0.24\n"
     ]
    },
    {
     "name": "stderr",
     "output_type": "stream",
     "text": [
      "\r",
      " 14%|█████████▋                                                         | 29/200 [00:45<04:34,  1.60s/it]"
     ]
    },
    {
     "name": "stdout",
     "output_type": "stream",
     "text": [
      "------------------EPOCH 29------------------\n",
      "DATA LOSS \t train 0.094 valid 0.221\n",
      "KL LOSS \t train 0.0 valid 0.0\n",
      "ELBO LOSS \t train 0.09 valid 0.22\n"
     ]
    },
    {
     "name": "stderr",
     "output_type": "stream",
     "text": [
      "\r",
      " 15%|██████████                                                         | 30/200 [00:47<04:32,  1.60s/it]"
     ]
    },
    {
     "name": "stdout",
     "output_type": "stream",
     "text": [
      "------------------EPOCH 30------------------\n",
      "DATA LOSS \t train 0.092 valid 0.234\n",
      "KL LOSS \t train 0.0 valid 0.0\n",
      "ELBO LOSS \t train 0.09 valid 0.23\n"
     ]
    },
    {
     "name": "stderr",
     "output_type": "stream",
     "text": [
      "\r",
      " 16%|██████████▍                                                        | 31/200 [00:48<04:29,  1.60s/it]"
     ]
    },
    {
     "name": "stdout",
     "output_type": "stream",
     "text": [
      "------------------EPOCH 31------------------\n",
      "DATA LOSS \t train 0.09 valid 0.233\n",
      "KL LOSS \t train 0.0 valid 0.0\n",
      "ELBO LOSS \t train 0.09 valid 0.23\n"
     ]
    },
    {
     "name": "stderr",
     "output_type": "stream",
     "text": [
      "\r",
      " 16%|██████████▋                                                        | 32/200 [00:50<04:28,  1.60s/it]"
     ]
    },
    {
     "name": "stdout",
     "output_type": "stream",
     "text": [
      "------------------EPOCH 32------------------\n",
      "DATA LOSS \t train 0.089 valid 0.228\n",
      "KL LOSS \t train 0.0 valid 0.0\n",
      "ELBO LOSS \t train 0.09 valid 0.23\n"
     ]
    },
    {
     "name": "stderr",
     "output_type": "stream",
     "text": [
      "\r",
      " 16%|███████████                                                        | 33/200 [00:52<04:27,  1.60s/it]"
     ]
    },
    {
     "name": "stdout",
     "output_type": "stream",
     "text": [
      "------------------EPOCH 33------------------\n",
      "DATA LOSS \t train 0.085 valid 0.227\n",
      "KL LOSS \t train 0.0 valid 0.0\n",
      "ELBO LOSS \t train 0.09 valid 0.23\n"
     ]
    },
    {
     "name": "stderr",
     "output_type": "stream",
     "text": [
      "\r",
      " 17%|███████████▍                                                       | 34/200 [00:53<04:26,  1.61s/it]"
     ]
    },
    {
     "name": "stdout",
     "output_type": "stream",
     "text": [
      "------------------EPOCH 34------------------\n",
      "DATA LOSS \t train 0.084 valid 0.227\n",
      "KL LOSS \t train 0.0 valid 0.0\n",
      "ELBO LOSS \t train 0.08 valid 0.23\n"
     ]
    },
    {
     "name": "stderr",
     "output_type": "stream",
     "text": [
      "\r",
      " 18%|███████████▋                                                       | 35/200 [00:55<04:23,  1.60s/it]"
     ]
    },
    {
     "name": "stdout",
     "output_type": "stream",
     "text": [
      "------------------EPOCH 35------------------\n",
      "DATA LOSS \t train 0.083 valid 0.223\n",
      "KL LOSS \t train 0.0 valid 0.0\n",
      "ELBO LOSS \t train 0.08 valid 0.22\n"
     ]
    },
    {
     "name": "stderr",
     "output_type": "stream",
     "text": [
      "\r",
      " 18%|████████████                                                       | 36/200 [00:56<04:20,  1.59s/it]"
     ]
    },
    {
     "name": "stdout",
     "output_type": "stream",
     "text": [
      "------------------EPOCH 36------------------\n",
      "DATA LOSS \t train 0.08 valid 0.235\n",
      "KL LOSS \t train 0.0 valid 0.0\n",
      "ELBO LOSS \t train 0.08 valid 0.23\n"
     ]
    },
    {
     "name": "stderr",
     "output_type": "stream",
     "text": [
      "\r",
      " 18%|████████████▍                                                      | 37/200 [00:58<04:19,  1.59s/it]"
     ]
    },
    {
     "name": "stdout",
     "output_type": "stream",
     "text": [
      "------------------EPOCH 37------------------\n",
      "DATA LOSS \t train 0.078 valid 0.23\n",
      "KL LOSS \t train 0.0 valid 0.0\n",
      "ELBO LOSS \t train 0.08 valid 0.23\n"
     ]
    },
    {
     "name": "stderr",
     "output_type": "stream",
     "text": [
      "\r",
      " 19%|████████████▋                                                      | 38/200 [00:59<04:18,  1.59s/it]"
     ]
    },
    {
     "name": "stdout",
     "output_type": "stream",
     "text": [
      "------------------EPOCH 38------------------\n",
      "DATA LOSS \t train 0.077 valid 0.208\n",
      "KL LOSS \t train 0.0 valid 0.0\n",
      "ELBO LOSS \t train 0.08 valid 0.21\n"
     ]
    },
    {
     "name": "stderr",
     "output_type": "stream",
     "text": [
      "\r",
      " 20%|█████████████                                                      | 39/200 [01:01<04:14,  1.58s/it]"
     ]
    },
    {
     "name": "stdout",
     "output_type": "stream",
     "text": [
      "------------------EPOCH 39------------------\n",
      "DATA LOSS \t train 0.075 valid 0.213\n",
      "KL LOSS \t train 0.0 valid 0.0\n",
      "ELBO LOSS \t train 0.08 valid 0.21\n"
     ]
    },
    {
     "name": "stderr",
     "output_type": "stream",
     "text": [
      "\r",
      " 20%|█████████████▍                                                     | 40/200 [01:03<04:13,  1.59s/it]"
     ]
    },
    {
     "name": "stdout",
     "output_type": "stream",
     "text": [
      "------------------EPOCH 40------------------\n",
      "DATA LOSS \t train 0.073 valid 0.226\n",
      "KL LOSS \t train 0.0 valid 0.0\n",
      "ELBO LOSS \t train 0.07 valid 0.23\n"
     ]
    },
    {
     "name": "stderr",
     "output_type": "stream",
     "text": [
      "\r",
      " 20%|█████████████▋                                                     | 41/200 [01:04<04:14,  1.60s/it]"
     ]
    },
    {
     "name": "stdout",
     "output_type": "stream",
     "text": [
      "------------------EPOCH 41------------------\n",
      "DATA LOSS \t train 0.073 valid 0.227\n",
      "KL LOSS \t train 0.0 valid 0.0\n",
      "ELBO LOSS \t train 0.07 valid 0.23\n"
     ]
    },
    {
     "name": "stderr",
     "output_type": "stream",
     "text": [
      "\r",
      " 21%|██████████████                                                     | 42/200 [01:06<04:16,  1.63s/it]"
     ]
    },
    {
     "name": "stdout",
     "output_type": "stream",
     "text": [
      "------------------EPOCH 42------------------\n",
      "DATA LOSS \t train 0.072 valid 0.211\n",
      "KL LOSS \t train 0.0 valid 0.0\n",
      "ELBO LOSS \t train 0.07 valid 0.21\n"
     ]
    },
    {
     "name": "stderr",
     "output_type": "stream",
     "text": [
      "\r",
      " 22%|██████████████▍                                                    | 43/200 [01:08<04:15,  1.63s/it]"
     ]
    },
    {
     "name": "stdout",
     "output_type": "stream",
     "text": [
      "------------------EPOCH 43------------------\n",
      "DATA LOSS \t train 0.07 valid 0.214\n",
      "KL LOSS \t train 0.0 valid 0.0\n",
      "ELBO LOSS \t train 0.07 valid 0.21\n"
     ]
    },
    {
     "name": "stderr",
     "output_type": "stream",
     "text": [
      "\r",
      " 22%|██████████████▋                                                    | 44/200 [01:09<04:12,  1.62s/it]"
     ]
    },
    {
     "name": "stdout",
     "output_type": "stream",
     "text": [
      "------------------EPOCH 44------------------\n",
      "DATA LOSS \t train 0.07 valid 0.232\n",
      "KL LOSS \t train 0.0 valid 0.0\n",
      "ELBO LOSS \t train 0.07 valid 0.23\n"
     ]
    },
    {
     "name": "stderr",
     "output_type": "stream",
     "text": [
      "\r",
      " 22%|███████████████                                                    | 45/200 [01:11<04:12,  1.63s/it]"
     ]
    },
    {
     "name": "stdout",
     "output_type": "stream",
     "text": [
      "------------------EPOCH 45------------------\n",
      "DATA LOSS \t train 0.068 valid 0.209\n",
      "KL LOSS \t train 0.0 valid 0.0\n",
      "ELBO LOSS \t train 0.07 valid 0.21\n"
     ]
    },
    {
     "name": "stderr",
     "output_type": "stream",
     "text": [
      "\r",
      " 23%|███████████████▍                                                   | 46/200 [01:12<04:10,  1.63s/it]"
     ]
    },
    {
     "name": "stdout",
     "output_type": "stream",
     "text": [
      "------------------EPOCH 46------------------\n",
      "DATA LOSS \t train 0.066 valid 0.213\n",
      "KL LOSS \t train 0.0 valid 0.0\n",
      "ELBO LOSS \t train 0.07 valid 0.21\n"
     ]
    },
    {
     "name": "stderr",
     "output_type": "stream",
     "text": [
      "\r",
      " 24%|███████████████▋                                                   | 47/200 [01:14<04:08,  1.63s/it]"
     ]
    },
    {
     "name": "stdout",
     "output_type": "stream",
     "text": [
      "------------------EPOCH 47------------------\n",
      "DATA LOSS \t train 0.066 valid 0.215\n",
      "KL LOSS \t train 0.0 valid 0.0\n",
      "ELBO LOSS \t train 0.07 valid 0.22\n"
     ]
    },
    {
     "name": "stderr",
     "output_type": "stream",
     "text": [
      "\r",
      " 24%|████████████████                                                   | 48/200 [01:16<04:06,  1.62s/it]"
     ]
    },
    {
     "name": "stdout",
     "output_type": "stream",
     "text": [
      "------------------EPOCH 48------------------\n",
      "DATA LOSS \t train 0.065 valid 0.209\n",
      "KL LOSS \t train 0.0 valid 0.0\n",
      "ELBO LOSS \t train 0.07 valid 0.21\n"
     ]
    },
    {
     "name": "stderr",
     "output_type": "stream",
     "text": [
      "\r",
      " 24%|████████████████▍                                                  | 49/200 [01:17<04:05,  1.63s/it]"
     ]
    },
    {
     "name": "stdout",
     "output_type": "stream",
     "text": [
      "------------------EPOCH 49------------------\n",
      "DATA LOSS \t train 0.063 valid 0.199\n",
      "KL LOSS \t train 0.0 valid 0.0\n",
      "ELBO LOSS \t train 0.06 valid 0.2\n"
     ]
    },
    {
     "name": "stderr",
     "output_type": "stream",
     "text": [
      "\r",
      " 25%|████████████████▊                                                  | 50/200 [01:19<04:03,  1.62s/it]"
     ]
    },
    {
     "name": "stdout",
     "output_type": "stream",
     "text": [
      "------------------EPOCH 50------------------\n",
      "DATA LOSS \t train 0.063 valid 0.212\n",
      "KL LOSS \t train 0.0 valid 0.0\n",
      "ELBO LOSS \t train 0.06 valid 0.21\n"
     ]
    },
    {
     "name": "stderr",
     "output_type": "stream",
     "text": [
      "\r",
      " 26%|█████████████████                                                  | 51/200 [01:21<04:03,  1.64s/it]"
     ]
    },
    {
     "name": "stdout",
     "output_type": "stream",
     "text": [
      "------------------EPOCH 51------------------\n",
      "DATA LOSS \t train 0.061 valid 0.207\n",
      "KL LOSS \t train 0.0 valid 0.0\n",
      "ELBO LOSS \t train 0.06 valid 0.21\n"
     ]
    },
    {
     "name": "stderr",
     "output_type": "stream",
     "text": [
      "\r",
      " 26%|█████████████████▍                                                 | 52/200 [01:22<03:59,  1.62s/it]"
     ]
    },
    {
     "name": "stdout",
     "output_type": "stream",
     "text": [
      "------------------EPOCH 52------------------\n",
      "DATA LOSS \t train 0.06 valid 0.207\n",
      "KL LOSS \t train 0.0 valid 0.0\n",
      "ELBO LOSS \t train 0.06 valid 0.21\n"
     ]
    },
    {
     "name": "stderr",
     "output_type": "stream",
     "text": [
      "\r",
      " 26%|█████████████████▊                                                 | 53/200 [01:24<03:59,  1.63s/it]"
     ]
    },
    {
     "name": "stdout",
     "output_type": "stream",
     "text": [
      "------------------EPOCH 53------------------\n",
      "DATA LOSS \t train 0.059 valid 0.187\n",
      "KL LOSS \t train 0.0 valid 0.0\n",
      "ELBO LOSS \t train 0.06 valid 0.19\n"
     ]
    },
    {
     "name": "stderr",
     "output_type": "stream",
     "text": [
      "\r",
      " 27%|██████████████████                                                 | 54/200 [01:25<03:56,  1.62s/it]"
     ]
    },
    {
     "name": "stdout",
     "output_type": "stream",
     "text": [
      "------------------EPOCH 54------------------\n",
      "DATA LOSS \t train 0.06 valid 0.209\n",
      "KL LOSS \t train 0.0 valid 0.0\n",
      "ELBO LOSS \t train 0.06 valid 0.21\n"
     ]
    },
    {
     "name": "stderr",
     "output_type": "stream",
     "text": [
      "\r",
      " 28%|██████████████████▍                                                | 55/200 [01:27<03:53,  1.61s/it]"
     ]
    },
    {
     "name": "stdout",
     "output_type": "stream",
     "text": [
      "------------------EPOCH 55------------------\n",
      "DATA LOSS \t train 0.058 valid 0.19\n",
      "KL LOSS \t train 0.0 valid 0.0\n",
      "ELBO LOSS \t train 0.06 valid 0.19\n"
     ]
    },
    {
     "name": "stderr",
     "output_type": "stream",
     "text": [
      "\r",
      " 28%|██████████████████▊                                                | 56/200 [01:29<03:53,  1.62s/it]"
     ]
    },
    {
     "name": "stdout",
     "output_type": "stream",
     "text": [
      "------------------EPOCH 56------------------\n",
      "DATA LOSS \t train 0.057 valid 0.203\n",
      "KL LOSS \t train 0.0 valid 0.0\n",
      "ELBO LOSS \t train 0.06 valid 0.2\n"
     ]
    },
    {
     "name": "stderr",
     "output_type": "stream",
     "text": [
      "\r",
      " 28%|███████████████████                                                | 57/200 [01:30<03:52,  1.63s/it]"
     ]
    },
    {
     "name": "stdout",
     "output_type": "stream",
     "text": [
      "------------------EPOCH 57------------------\n",
      "DATA LOSS \t train 0.057 valid 0.208\n",
      "KL LOSS \t train 0.0 valid 0.0\n",
      "ELBO LOSS \t train 0.06 valid 0.21\n"
     ]
    },
    {
     "name": "stderr",
     "output_type": "stream",
     "text": [
      "\r",
      " 29%|███████████████████▍                                               | 58/200 [01:32<03:50,  1.63s/it]"
     ]
    },
    {
     "name": "stdout",
     "output_type": "stream",
     "text": [
      "------------------EPOCH 58------------------\n",
      "DATA LOSS \t train 0.055 valid 0.2\n",
      "KL LOSS \t train 0.0 valid 0.0\n",
      "ELBO LOSS \t train 0.06 valid 0.2\n"
     ]
    },
    {
     "name": "stderr",
     "output_type": "stream",
     "text": [
      "\r",
      " 30%|███████████████████▊                                               | 59/200 [01:34<03:46,  1.61s/it]"
     ]
    },
    {
     "name": "stdout",
     "output_type": "stream",
     "text": [
      "------------------EPOCH 59------------------\n",
      "DATA LOSS \t train 0.056 valid 0.194\n",
      "KL LOSS \t train 0.0 valid 0.0\n",
      "ELBO LOSS \t train 0.06 valid 0.19\n"
     ]
    },
    {
     "name": "stderr",
     "output_type": "stream",
     "text": [
      "\r",
      " 30%|████████████████████                                               | 60/200 [01:35<03:46,  1.62s/it]"
     ]
    },
    {
     "name": "stdout",
     "output_type": "stream",
     "text": [
      "------------------EPOCH 60------------------\n",
      "DATA LOSS \t train 0.054 valid 0.191\n",
      "KL LOSS \t train 0.0 valid 0.0\n",
      "ELBO LOSS \t train 0.05 valid 0.19\n"
     ]
    },
    {
     "name": "stderr",
     "output_type": "stream",
     "text": [
      "\r",
      " 30%|████████████████████▍                                              | 61/200 [01:37<03:44,  1.61s/it]"
     ]
    },
    {
     "name": "stdout",
     "output_type": "stream",
     "text": [
      "------------------EPOCH 61------------------\n",
      "DATA LOSS \t train 0.053 valid 0.194\n",
      "KL LOSS \t train 0.0 valid 0.0\n",
      "ELBO LOSS \t train 0.05 valid 0.19\n"
     ]
    },
    {
     "name": "stderr",
     "output_type": "stream",
     "text": [
      "\r",
      " 31%|████████████████████▊                                              | 62/200 [01:38<03:43,  1.62s/it]"
     ]
    },
    {
     "name": "stdout",
     "output_type": "stream",
     "text": [
      "------------------EPOCH 62------------------\n",
      "DATA LOSS \t train 0.053 valid 0.185\n",
      "KL LOSS \t train 0.0 valid 0.0\n",
      "ELBO LOSS \t train 0.05 valid 0.19\n"
     ]
    },
    {
     "name": "stderr",
     "output_type": "stream",
     "text": [
      "\r",
      " 32%|█████████████████████                                              | 63/200 [01:40<03:40,  1.61s/it]"
     ]
    },
    {
     "name": "stdout",
     "output_type": "stream",
     "text": [
      "------------------EPOCH 63------------------\n",
      "DATA LOSS \t train 0.052 valid 0.184\n",
      "KL LOSS \t train 0.0 valid 0.0\n",
      "ELBO LOSS \t train 0.05 valid 0.18\n"
     ]
    },
    {
     "name": "stderr",
     "output_type": "stream",
     "text": [
      "\r",
      " 32%|█████████████████████▍                                             | 64/200 [01:42<03:39,  1.61s/it]"
     ]
    },
    {
     "name": "stdout",
     "output_type": "stream",
     "text": [
      "------------------EPOCH 64------------------\n",
      "DATA LOSS \t train 0.051 valid 0.196\n",
      "KL LOSS \t train 0.0 valid 0.0\n",
      "ELBO LOSS \t train 0.05 valid 0.2\n"
     ]
    },
    {
     "name": "stderr",
     "output_type": "stream",
     "text": [
      "\r",
      " 32%|█████████████████████▊                                             | 65/200 [01:43<03:35,  1.60s/it]"
     ]
    },
    {
     "name": "stdout",
     "output_type": "stream",
     "text": [
      "------------------EPOCH 65------------------\n",
      "DATA LOSS \t train 0.051 valid 0.196\n",
      "KL LOSS \t train 0.0 valid 0.0\n",
      "ELBO LOSS \t train 0.05 valid 0.2\n"
     ]
    },
    {
     "name": "stderr",
     "output_type": "stream",
     "text": [
      "\r",
      " 33%|██████████████████████                                             | 66/200 [01:45<03:34,  1.60s/it]"
     ]
    },
    {
     "name": "stdout",
     "output_type": "stream",
     "text": [
      "------------------EPOCH 66------------------\n",
      "DATA LOSS \t train 0.05 valid 0.189\n",
      "KL LOSS \t train 0.0 valid 0.0\n",
      "ELBO LOSS \t train 0.05 valid 0.19\n"
     ]
    },
    {
     "name": "stderr",
     "output_type": "stream",
     "text": [
      "\r",
      " 34%|██████████████████████▍                                            | 67/200 [01:46<03:32,  1.60s/it]"
     ]
    },
    {
     "name": "stdout",
     "output_type": "stream",
     "text": [
      "------------------EPOCH 67------------------\n",
      "DATA LOSS \t train 0.05 valid 0.192\n",
      "KL LOSS \t train 0.0 valid 0.0\n",
      "ELBO LOSS \t train 0.05 valid 0.19\n"
     ]
    },
    {
     "name": "stderr",
     "output_type": "stream",
     "text": [
      "\r",
      " 34%|██████████████████████▊                                            | 68/200 [01:48<03:31,  1.61s/it]"
     ]
    },
    {
     "name": "stdout",
     "output_type": "stream",
     "text": [
      "------------------EPOCH 68------------------\n",
      "DATA LOSS \t train 0.049 valid 0.189\n",
      "KL LOSS \t train 0.0 valid 0.0\n",
      "ELBO LOSS \t train 0.05 valid 0.19\n"
     ]
    },
    {
     "name": "stderr",
     "output_type": "stream",
     "text": [
      "\r",
      " 34%|███████████████████████                                            | 69/200 [01:50<03:30,  1.60s/it]"
     ]
    },
    {
     "name": "stdout",
     "output_type": "stream",
     "text": [
      "------------------EPOCH 69------------------\n",
      "DATA LOSS \t train 0.048 valid 0.205\n",
      "KL LOSS \t train 0.0 valid 0.0\n",
      "ELBO LOSS \t train 0.05 valid 0.21\n"
     ]
    },
    {
     "name": "stderr",
     "output_type": "stream",
     "text": [
      "\r",
      " 35%|███████████████████████▍                                           | 70/200 [01:51<03:33,  1.64s/it]"
     ]
    },
    {
     "name": "stdout",
     "output_type": "stream",
     "text": [
      "------------------EPOCH 70------------------\n",
      "DATA LOSS \t train 0.049 valid 0.178\n",
      "KL LOSS \t train 0.0 valid 0.0\n",
      "ELBO LOSS \t train 0.05 valid 0.18\n"
     ]
    },
    {
     "name": "stderr",
     "output_type": "stream",
     "text": [
      "\r",
      " 36%|███████████████████████▊                                           | 71/200 [01:53<03:33,  1.66s/it]"
     ]
    },
    {
     "name": "stdout",
     "output_type": "stream",
     "text": [
      "------------------EPOCH 71------------------\n",
      "DATA LOSS \t train 0.048 valid 0.188\n",
      "KL LOSS \t train 0.0 valid 0.0\n",
      "ELBO LOSS \t train 0.05 valid 0.19\n"
     ]
    },
    {
     "name": "stderr",
     "output_type": "stream",
     "text": [
      "\r",
      " 36%|████████████████████████                                           | 72/200 [01:55<03:31,  1.65s/it]"
     ]
    },
    {
     "name": "stdout",
     "output_type": "stream",
     "text": [
      "------------------EPOCH 72------------------\n",
      "DATA LOSS \t train 0.047 valid 0.18\n",
      "KL LOSS \t train 0.0 valid 0.0\n",
      "ELBO LOSS \t train 0.05 valid 0.18\n"
     ]
    },
    {
     "name": "stderr",
     "output_type": "stream",
     "text": [
      "\r",
      " 36%|████████████████████████▍                                          | 73/200 [01:56<03:29,  1.65s/it]"
     ]
    },
    {
     "name": "stdout",
     "output_type": "stream",
     "text": [
      "------------------EPOCH 73------------------\n",
      "DATA LOSS \t train 0.047 valid 0.179\n",
      "KL LOSS \t train 0.0 valid 0.0\n",
      "ELBO LOSS \t train 0.05 valid 0.18\n"
     ]
    },
    {
     "name": "stderr",
     "output_type": "stream",
     "text": [
      "\r",
      " 37%|████████████████████████▊                                          | 74/200 [01:58<03:26,  1.64s/it]"
     ]
    },
    {
     "name": "stdout",
     "output_type": "stream",
     "text": [
      "------------------EPOCH 74------------------\n",
      "DATA LOSS \t train 0.047 valid 0.192\n",
      "KL LOSS \t train 0.0 valid 0.0\n",
      "ELBO LOSS \t train 0.05 valid 0.19\n"
     ]
    },
    {
     "name": "stderr",
     "output_type": "stream",
     "text": [
      "\r",
      " 38%|█████████████████████████▏                                         | 75/200 [02:00<03:25,  1.64s/it]"
     ]
    },
    {
     "name": "stdout",
     "output_type": "stream",
     "text": [
      "------------------EPOCH 75------------------\n",
      "DATA LOSS \t train 0.046 valid 0.19\n",
      "KL LOSS \t train 0.0 valid 0.0\n",
      "ELBO LOSS \t train 0.05 valid 0.19\n"
     ]
    },
    {
     "name": "stderr",
     "output_type": "stream",
     "text": [
      "\r",
      " 38%|█████████████████████████▍                                         | 76/200 [02:01<03:22,  1.63s/it]"
     ]
    },
    {
     "name": "stdout",
     "output_type": "stream",
     "text": [
      "------------------EPOCH 76------------------\n",
      "DATA LOSS \t train 0.046 valid 0.189\n",
      "KL LOSS \t train 0.0 valid 0.0\n",
      "ELBO LOSS \t train 0.05 valid 0.19\n"
     ]
    },
    {
     "name": "stderr",
     "output_type": "stream",
     "text": [
      "\r",
      " 38%|█████████████████████████▊                                         | 77/200 [02:03<03:18,  1.62s/it]"
     ]
    },
    {
     "name": "stdout",
     "output_type": "stream",
     "text": [
      "------------------EPOCH 77------------------\n",
      "DATA LOSS \t train 0.045 valid 0.189\n",
      "KL LOSS \t train 0.0 valid 0.0\n",
      "ELBO LOSS \t train 0.04 valid 0.19\n"
     ]
    },
    {
     "name": "stderr",
     "output_type": "stream",
     "text": [
      "\r",
      " 39%|██████████████████████████▏                                        | 78/200 [02:04<03:18,  1.63s/it]"
     ]
    },
    {
     "name": "stdout",
     "output_type": "stream",
     "text": [
      "------------------EPOCH 78------------------\n",
      "DATA LOSS \t train 0.045 valid 0.181\n",
      "KL LOSS \t train 0.0 valid 0.0\n",
      "ELBO LOSS \t train 0.04 valid 0.18\n"
     ]
    },
    {
     "name": "stderr",
     "output_type": "stream",
     "text": [
      "\r",
      " 40%|██████████████████████████▍                                        | 79/200 [02:06<03:16,  1.63s/it]"
     ]
    },
    {
     "name": "stdout",
     "output_type": "stream",
     "text": [
      "------------------EPOCH 79------------------\n",
      "DATA LOSS \t train 0.045 valid 0.187\n",
      "KL LOSS \t train 0.0 valid 0.0\n",
      "ELBO LOSS \t train 0.04 valid 0.19\n"
     ]
    },
    {
     "name": "stderr",
     "output_type": "stream",
     "text": [
      "\r",
      " 40%|██████████████████████████▊                                        | 80/200 [02:08<03:14,  1.62s/it]"
     ]
    },
    {
     "name": "stdout",
     "output_type": "stream",
     "text": [
      "------------------EPOCH 80------------------\n",
      "DATA LOSS \t train 0.044 valid 0.171\n",
      "KL LOSS \t train 0.0 valid 0.0\n",
      "ELBO LOSS \t train 0.04 valid 0.17\n"
     ]
    },
    {
     "name": "stderr",
     "output_type": "stream",
     "text": [
      "\r",
      " 40%|███████████████████████████▏                                       | 81/200 [02:09<03:14,  1.63s/it]"
     ]
    },
    {
     "name": "stdout",
     "output_type": "stream",
     "text": [
      "------------------EPOCH 81------------------\n",
      "DATA LOSS \t train 0.044 valid 0.187\n",
      "KL LOSS \t train 0.0 valid 0.0\n",
      "ELBO LOSS \t train 0.04 valid 0.19\n"
     ]
    },
    {
     "name": "stderr",
     "output_type": "stream",
     "text": [
      "\r",
      " 41%|███████████████████████████▍                                       | 82/200 [02:11<03:11,  1.62s/it]"
     ]
    },
    {
     "name": "stdout",
     "output_type": "stream",
     "text": [
      "------------------EPOCH 82------------------\n",
      "DATA LOSS \t train 0.042 valid 0.183\n",
      "KL LOSS \t train 0.0 valid 0.0\n",
      "ELBO LOSS \t train 0.04 valid 0.18\n"
     ]
    },
    {
     "name": "stderr",
     "output_type": "stream",
     "text": [
      "\r",
      " 42%|███████████████████████████▊                                       | 83/200 [02:13<03:12,  1.65s/it]"
     ]
    },
    {
     "name": "stdout",
     "output_type": "stream",
     "text": [
      "------------------EPOCH 83------------------\n",
      "DATA LOSS \t train 0.042 valid 0.178\n",
      "KL LOSS \t train 0.0 valid 0.0\n",
      "ELBO LOSS \t train 0.04 valid 0.18\n"
     ]
    },
    {
     "name": "stderr",
     "output_type": "stream",
     "text": [
      "\r",
      " 42%|████████████████████████████▏                                      | 84/200 [02:14<03:08,  1.63s/it]"
     ]
    },
    {
     "name": "stdout",
     "output_type": "stream",
     "text": [
      "------------------EPOCH 84------------------\n",
      "DATA LOSS \t train 0.044 valid 0.198\n",
      "KL LOSS \t train 0.0 valid 0.0\n",
      "ELBO LOSS \t train 0.04 valid 0.2\n"
     ]
    },
    {
     "name": "stderr",
     "output_type": "stream",
     "text": [
      "\r",
      " 42%|████████████████████████████▍                                      | 85/200 [02:16<03:07,  1.63s/it]"
     ]
    },
    {
     "name": "stdout",
     "output_type": "stream",
     "text": [
      "------------------EPOCH 85------------------\n",
      "DATA LOSS \t train 0.043 valid 0.194\n",
      "KL LOSS \t train 0.0 valid 0.0\n",
      "ELBO LOSS \t train 0.04 valid 0.19\n"
     ]
    },
    {
     "name": "stderr",
     "output_type": "stream",
     "text": [
      "\r",
      " 43%|████████████████████████████▊                                      | 86/200 [02:17<03:05,  1.63s/it]"
     ]
    },
    {
     "name": "stdout",
     "output_type": "stream",
     "text": [
      "------------------EPOCH 86------------------\n",
      "DATA LOSS \t train 0.043 valid 0.184\n",
      "KL LOSS \t train 0.0 valid 0.0\n",
      "ELBO LOSS \t train 0.04 valid 0.18\n"
     ]
    },
    {
     "name": "stderr",
     "output_type": "stream",
     "text": [
      "\r",
      " 44%|█████████████████████████████▏                                     | 87/200 [02:19<03:04,  1.63s/it]"
     ]
    },
    {
     "name": "stdout",
     "output_type": "stream",
     "text": [
      "------------------EPOCH 87------------------\n",
      "DATA LOSS \t train 0.041 valid 0.178\n",
      "KL LOSS \t train 0.0 valid 0.0\n",
      "ELBO LOSS \t train 0.04 valid 0.18\n"
     ]
    },
    {
     "name": "stderr",
     "output_type": "stream",
     "text": [
      "\r",
      " 44%|█████████████████████████████▍                                     | 88/200 [02:21<03:02,  1.63s/it]"
     ]
    },
    {
     "name": "stdout",
     "output_type": "stream",
     "text": [
      "------------------EPOCH 88------------------\n",
      "DATA LOSS \t train 0.042 valid 0.181\n",
      "KL LOSS \t train 0.0 valid 0.0\n",
      "ELBO LOSS \t train 0.04 valid 0.18\n"
     ]
    },
    {
     "name": "stderr",
     "output_type": "stream",
     "text": [
      "\r",
      " 44%|█████████████████████████████▊                                     | 89/200 [02:22<03:02,  1.64s/it]"
     ]
    },
    {
     "name": "stdout",
     "output_type": "stream",
     "text": [
      "------------------EPOCH 89------------------\n",
      "DATA LOSS \t train 0.041 valid 0.188\n",
      "KL LOSS \t train 0.0 valid 0.0\n",
      "ELBO LOSS \t train 0.04 valid 0.19\n"
     ]
    },
    {
     "name": "stderr",
     "output_type": "stream",
     "text": [
      "\r",
      " 45%|██████████████████████████████▏                                    | 90/200 [02:24<02:59,  1.64s/it]"
     ]
    },
    {
     "name": "stdout",
     "output_type": "stream",
     "text": [
      "------------------EPOCH 90------------------\n",
      "DATA LOSS \t train 0.041 valid 0.168\n",
      "KL LOSS \t train 0.0 valid 0.0\n",
      "ELBO LOSS \t train 0.04 valid 0.17\n"
     ]
    },
    {
     "name": "stderr",
     "output_type": "stream",
     "text": [
      "\r",
      " 46%|██████████████████████████████▍                                    | 91/200 [02:26<02:57,  1.63s/it]"
     ]
    },
    {
     "name": "stdout",
     "output_type": "stream",
     "text": [
      "------------------EPOCH 91------------------\n",
      "DATA LOSS \t train 0.04 valid 0.177\n",
      "KL LOSS \t train 0.0 valid 0.0\n",
      "ELBO LOSS \t train 0.04 valid 0.18\n"
     ]
    },
    {
     "name": "stderr",
     "output_type": "stream",
     "text": [
      "\r",
      " 46%|██████████████████████████████▊                                    | 92/200 [02:27<02:55,  1.63s/it]"
     ]
    },
    {
     "name": "stdout",
     "output_type": "stream",
     "text": [
      "------------------EPOCH 92------------------\n",
      "DATA LOSS \t train 0.04 valid 0.186\n",
      "KL LOSS \t train 0.0 valid 0.0\n",
      "ELBO LOSS \t train 0.04 valid 0.19\n"
     ]
    },
    {
     "name": "stderr",
     "output_type": "stream",
     "text": [
      "\r",
      " 46%|███████████████████████████████▏                                   | 93/200 [02:29<02:58,  1.67s/it]"
     ]
    },
    {
     "name": "stdout",
     "output_type": "stream",
     "text": [
      "------------------EPOCH 93------------------\n",
      "DATA LOSS \t train 0.039 valid 0.181\n",
      "KL LOSS \t train 0.0 valid 0.0\n",
      "ELBO LOSS \t train 0.04 valid 0.18\n"
     ]
    },
    {
     "name": "stderr",
     "output_type": "stream",
     "text": [
      "\r",
      " 47%|███████████████████████████████▍                                   | 94/200 [02:31<03:05,  1.75s/it]"
     ]
    },
    {
     "name": "stdout",
     "output_type": "stream",
     "text": [
      "------------------EPOCH 94------------------\n",
      "DATA LOSS \t train 0.04 valid 0.177\n",
      "KL LOSS \t train 0.0 valid 0.0\n",
      "ELBO LOSS \t train 0.04 valid 0.18\n"
     ]
    },
    {
     "name": "stderr",
     "output_type": "stream",
     "text": [
      "\r",
      " 48%|███████████████████████████████▊                                   | 95/200 [02:33<03:05,  1.77s/it]"
     ]
    },
    {
     "name": "stdout",
     "output_type": "stream",
     "text": [
      "------------------EPOCH 95------------------\n",
      "DATA LOSS \t train 0.039 valid 0.181\n",
      "KL LOSS \t train 0.0 valid 0.0\n",
      "ELBO LOSS \t train 0.04 valid 0.18\n"
     ]
    },
    {
     "name": "stderr",
     "output_type": "stream",
     "text": [
      "\r",
      " 48%|████████████████████████████████▏                                  | 96/200 [02:35<03:05,  1.79s/it]"
     ]
    },
    {
     "name": "stdout",
     "output_type": "stream",
     "text": [
      "------------------EPOCH 96------------------\n",
      "DATA LOSS \t train 0.039 valid 0.169\n",
      "KL LOSS \t train 0.0 valid 0.0\n",
      "ELBO LOSS \t train 0.04 valid 0.17\n"
     ]
    },
    {
     "name": "stderr",
     "output_type": "stream",
     "text": [
      "\r",
      " 48%|████████████████████████████████▍                                  | 97/200 [02:36<03:04,  1.79s/it]"
     ]
    },
    {
     "name": "stdout",
     "output_type": "stream",
     "text": [
      "------------------EPOCH 97------------------\n",
      "DATA LOSS \t train 0.038 valid 0.182\n",
      "KL LOSS \t train 0.0 valid 0.0\n",
      "ELBO LOSS \t train 0.04 valid 0.18\n"
     ]
    },
    {
     "name": "stderr",
     "output_type": "stream",
     "text": [
      "\r",
      " 49%|████████████████████████████████▊                                  | 98/200 [02:38<03:03,  1.80s/it]"
     ]
    },
    {
     "name": "stdout",
     "output_type": "stream",
     "text": [
      "------------------EPOCH 98------------------\n",
      "DATA LOSS \t train 0.038 valid 0.179\n",
      "KL LOSS \t train 0.0 valid 0.0\n",
      "ELBO LOSS \t train 0.04 valid 0.18\n"
     ]
    },
    {
     "name": "stderr",
     "output_type": "stream",
     "text": [
      "\r",
      " 50%|█████████████████████████████████▏                                 | 99/200 [02:40<03:01,  1.79s/it]"
     ]
    },
    {
     "name": "stdout",
     "output_type": "stream",
     "text": [
      "------------------EPOCH 99------------------\n",
      "DATA LOSS \t train 0.038 valid 0.172\n",
      "KL LOSS \t train 0.0 valid 0.0\n",
      "ELBO LOSS \t train 0.04 valid 0.17\n"
     ]
    },
    {
     "name": "stderr",
     "output_type": "stream",
     "text": [
      "\r",
      " 50%|█████████████████████████████████                                 | 100/200 [02:42<03:00,  1.80s/it]"
     ]
    },
    {
     "name": "stdout",
     "output_type": "stream",
     "text": [
      "------------------EPOCH 100------------------\n",
      "DATA LOSS \t train 0.037 valid 0.182\n",
      "KL LOSS \t train 0.0 valid 0.0\n",
      "ELBO LOSS \t train 0.04 valid 0.18\n"
     ]
    },
    {
     "name": "stderr",
     "output_type": "stream",
     "text": [
      "\r",
      " 50%|█████████████████████████████████▎                                | 101/200 [02:44<02:58,  1.81s/it]"
     ]
    },
    {
     "name": "stdout",
     "output_type": "stream",
     "text": [
      "------------------EPOCH 101------------------\n",
      "DATA LOSS \t train 0.037 valid 0.186\n",
      "KL LOSS \t train 0.0 valid 0.0\n",
      "ELBO LOSS \t train 0.04 valid 0.19\n"
     ]
    },
    {
     "name": "stderr",
     "output_type": "stream",
     "text": [
      "\r",
      " 51%|█████████████████████████████████▋                                | 102/200 [02:45<02:56,  1.80s/it]"
     ]
    },
    {
     "name": "stdout",
     "output_type": "stream",
     "text": [
      "------------------EPOCH 102------------------\n",
      "DATA LOSS \t train 0.038 valid 0.169\n",
      "KL LOSS \t train 0.0 valid 0.0\n",
      "ELBO LOSS \t train 0.04 valid 0.17\n"
     ]
    },
    {
     "name": "stderr",
     "output_type": "stream",
     "text": [
      "\r",
      " 52%|█████████████████████████████████▉                                | 103/200 [02:47<02:53,  1.79s/it]"
     ]
    },
    {
     "name": "stdout",
     "output_type": "stream",
     "text": [
      "------------------EPOCH 103------------------\n",
      "DATA LOSS \t train 0.037 valid 0.181\n",
      "KL LOSS \t train 0.0 valid 0.0\n",
      "ELBO LOSS \t train 0.04 valid 0.18\n"
     ]
    },
    {
     "name": "stderr",
     "output_type": "stream",
     "text": [
      "\r",
      " 52%|██████████████████████████████████▎                               | 104/200 [02:49<02:52,  1.80s/it]"
     ]
    },
    {
     "name": "stdout",
     "output_type": "stream",
     "text": [
      "------------------EPOCH 104------------------\n",
      "DATA LOSS \t train 0.036 valid 0.168\n",
      "KL LOSS \t train 0.0 valid 0.0\n",
      "ELBO LOSS \t train 0.04 valid 0.17\n"
     ]
    },
    {
     "name": "stderr",
     "output_type": "stream",
     "text": [
      "\r",
      " 52%|██████████████████████████████████▋                               | 105/200 [02:51<02:51,  1.81s/it]"
     ]
    },
    {
     "name": "stdout",
     "output_type": "stream",
     "text": [
      "------------------EPOCH 105------------------\n",
      "DATA LOSS \t train 0.037 valid 0.183\n",
      "KL LOSS \t train 0.0 valid 0.0\n",
      "ELBO LOSS \t train 0.04 valid 0.18\n"
     ]
    },
    {
     "name": "stderr",
     "output_type": "stream",
     "text": [
      "\r",
      " 53%|██████████████████████████████████▉                               | 106/200 [02:53<02:49,  1.80s/it]"
     ]
    },
    {
     "name": "stdout",
     "output_type": "stream",
     "text": [
      "------------------EPOCH 106------------------\n",
      "DATA LOSS \t train 0.036 valid 0.171\n",
      "KL LOSS \t train 0.0 valid 0.0\n",
      "ELBO LOSS \t train 0.04 valid 0.17\n"
     ]
    },
    {
     "name": "stderr",
     "output_type": "stream",
     "text": [
      "\r",
      " 54%|███████████████████████████████████▎                              | 107/200 [02:54<02:47,  1.80s/it]"
     ]
    },
    {
     "name": "stdout",
     "output_type": "stream",
     "text": [
      "------------------EPOCH 107------------------\n",
      "DATA LOSS \t train 0.036 valid 0.175\n",
      "KL LOSS \t train 0.0 valid 0.0\n",
      "ELBO LOSS \t train 0.04 valid 0.17\n"
     ]
    },
    {
     "name": "stderr",
     "output_type": "stream",
     "text": [
      "\r",
      " 54%|███████████████████████████████████▋                              | 108/200 [02:56<02:42,  1.77s/it]"
     ]
    },
    {
     "name": "stdout",
     "output_type": "stream",
     "text": [
      "------------------EPOCH 108------------------\n",
      "DATA LOSS \t train 0.036 valid 0.18\n",
      "KL LOSS \t train 0.0 valid 0.0\n",
      "ELBO LOSS \t train 0.04 valid 0.18\n"
     ]
    },
    {
     "name": "stderr",
     "output_type": "stream",
     "text": [
      "\r",
      " 55%|███████████████████████████████████▉                              | 109/200 [02:58<02:38,  1.74s/it]"
     ]
    },
    {
     "name": "stdout",
     "output_type": "stream",
     "text": [
      "------------------EPOCH 109------------------\n",
      "DATA LOSS \t train 0.035 valid 0.169\n",
      "KL LOSS \t train 0.0 valid 0.0\n",
      "ELBO LOSS \t train 0.04 valid 0.17\n"
     ]
    },
    {
     "name": "stderr",
     "output_type": "stream",
     "text": [
      "\r",
      " 55%|████████████████████████████████████▎                             | 110/200 [02:59<02:35,  1.72s/it]"
     ]
    },
    {
     "name": "stdout",
     "output_type": "stream",
     "text": [
      "------------------EPOCH 110------------------\n",
      "DATA LOSS \t train 0.035 valid 0.166\n",
      "KL LOSS \t train 0.0 valid 0.0\n",
      "ELBO LOSS \t train 0.04 valid 0.17\n"
     ]
    },
    {
     "name": "stderr",
     "output_type": "stream",
     "text": [
      "\r",
      " 56%|████████████████████████████████████▋                             | 111/200 [03:01<02:33,  1.72s/it]"
     ]
    },
    {
     "name": "stdout",
     "output_type": "stream",
     "text": [
      "------------------EPOCH 111------------------\n",
      "DATA LOSS \t train 0.035 valid 0.18\n",
      "KL LOSS \t train 0.0 valid 0.0\n",
      "ELBO LOSS \t train 0.03 valid 0.18\n"
     ]
    },
    {
     "name": "stderr",
     "output_type": "stream",
     "text": [
      "\r",
      " 56%|████████████████████████████████████▉                             | 112/200 [03:03<02:30,  1.70s/it]"
     ]
    },
    {
     "name": "stdout",
     "output_type": "stream",
     "text": [
      "------------------EPOCH 112------------------\n",
      "DATA LOSS \t train 0.035 valid 0.173\n",
      "KL LOSS \t train 0.0 valid 0.0\n",
      "ELBO LOSS \t train 0.03 valid 0.17\n"
     ]
    },
    {
     "name": "stderr",
     "output_type": "stream",
     "text": [
      "\r",
      " 56%|█████████████████████████████████████▎                            | 113/200 [03:04<02:26,  1.69s/it]"
     ]
    },
    {
     "name": "stdout",
     "output_type": "stream",
     "text": [
      "------------------EPOCH 113------------------\n",
      "DATA LOSS \t train 0.035 valid 0.174\n",
      "KL LOSS \t train 0.0 valid 0.0\n",
      "ELBO LOSS \t train 0.03 valid 0.17\n"
     ]
    },
    {
     "name": "stderr",
     "output_type": "stream",
     "text": [
      "\r",
      " 57%|█████████████████████████████████████▌                            | 114/200 [03:06<02:24,  1.68s/it]"
     ]
    },
    {
     "name": "stdout",
     "output_type": "stream",
     "text": [
      "------------------EPOCH 114------------------\n",
      "DATA LOSS \t train 0.034 valid 0.181\n",
      "KL LOSS \t train 0.0 valid 0.0\n",
      "ELBO LOSS \t train 0.03 valid 0.18\n"
     ]
    },
    {
     "name": "stderr",
     "output_type": "stream",
     "text": [
      "\r",
      " 57%|█████████████████████████████████████▉                            | 115/200 [03:08<02:22,  1.68s/it]"
     ]
    },
    {
     "name": "stdout",
     "output_type": "stream",
     "text": [
      "------------------EPOCH 115------------------\n",
      "DATA LOSS \t train 0.034 valid 0.171\n",
      "KL LOSS \t train 0.0 valid 0.0\n",
      "ELBO LOSS \t train 0.03 valid 0.17\n"
     ]
    },
    {
     "name": "stderr",
     "output_type": "stream",
     "text": [
      "\r",
      " 58%|██████████████████████████████████████▎                           | 116/200 [03:09<02:20,  1.68s/it]"
     ]
    },
    {
     "name": "stdout",
     "output_type": "stream",
     "text": [
      "------------------EPOCH 116------------------\n",
      "DATA LOSS \t train 0.035 valid 0.169\n",
      "KL LOSS \t train 0.0 valid 0.0\n",
      "ELBO LOSS \t train 0.03 valid 0.17\n"
     ]
    },
    {
     "name": "stderr",
     "output_type": "stream",
     "text": [
      "\r",
      " 58%|██████████████████████████████████████▌                           | 117/200 [03:11<02:18,  1.67s/it]"
     ]
    },
    {
     "name": "stdout",
     "output_type": "stream",
     "text": [
      "------------------EPOCH 117------------------\n",
      "DATA LOSS \t train 0.034 valid 0.174\n",
      "KL LOSS \t train 0.0 valid 0.0\n",
      "ELBO LOSS \t train 0.03 valid 0.17\n"
     ]
    },
    {
     "name": "stderr",
     "output_type": "stream",
     "text": [
      "\r",
      " 59%|██████████████████████████████████████▉                           | 118/200 [03:13<02:15,  1.65s/it]"
     ]
    },
    {
     "name": "stdout",
     "output_type": "stream",
     "text": [
      "------------------EPOCH 118------------------\n",
      "DATA LOSS \t train 0.033 valid 0.174\n",
      "KL LOSS \t train 0.0 valid 0.0\n",
      "ELBO LOSS \t train 0.03 valid 0.17\n"
     ]
    },
    {
     "name": "stderr",
     "output_type": "stream",
     "text": [
      "\r",
      " 60%|███████████████████████████████████████▎                          | 119/200 [03:14<02:13,  1.65s/it]"
     ]
    },
    {
     "name": "stdout",
     "output_type": "stream",
     "text": [
      "------------------EPOCH 119------------------\n",
      "DATA LOSS \t train 0.033 valid 0.176\n",
      "KL LOSS \t train 0.0 valid 0.0\n",
      "ELBO LOSS \t train 0.03 valid 0.18\n"
     ]
    },
    {
     "name": "stderr",
     "output_type": "stream",
     "text": [
      "\r",
      " 60%|███████████████████████████████████████▌                          | 120/200 [03:16<02:12,  1.66s/it]"
     ]
    },
    {
     "name": "stdout",
     "output_type": "stream",
     "text": [
      "------------------EPOCH 120------------------\n",
      "DATA LOSS \t train 0.033 valid 0.17\n",
      "KL LOSS \t train 0.0 valid 0.0\n",
      "ELBO LOSS \t train 0.03 valid 0.17\n"
     ]
    },
    {
     "name": "stderr",
     "output_type": "stream",
     "text": [
      "\r",
      " 60%|███████████████████████████████████████▉                          | 121/200 [03:18<02:12,  1.68s/it]"
     ]
    },
    {
     "name": "stdout",
     "output_type": "stream",
     "text": [
      "------------------EPOCH 121------------------\n",
      "DATA LOSS \t train 0.033 valid 0.17\n",
      "KL LOSS \t train 0.0 valid 0.0\n",
      "ELBO LOSS \t train 0.03 valid 0.17\n"
     ]
    },
    {
     "name": "stderr",
     "output_type": "stream",
     "text": [
      "\r",
      " 61%|████████████████████████████████████████▎                         | 122/200 [03:19<02:09,  1.66s/it]"
     ]
    },
    {
     "name": "stdout",
     "output_type": "stream",
     "text": [
      "------------------EPOCH 122------------------\n",
      "DATA LOSS \t train 0.033 valid 0.173\n",
      "KL LOSS \t train 0.0 valid 0.0\n",
      "ELBO LOSS \t train 0.03 valid 0.17\n"
     ]
    },
    {
     "name": "stderr",
     "output_type": "stream",
     "text": [
      "\r",
      " 62%|████████████████████████████████████████▌                         | 123/200 [03:21<02:07,  1.66s/it]"
     ]
    },
    {
     "name": "stdout",
     "output_type": "stream",
     "text": [
      "------------------EPOCH 123------------------\n",
      "DATA LOSS \t train 0.033 valid 0.177\n",
      "KL LOSS \t train 0.0 valid 0.0\n",
      "ELBO LOSS \t train 0.03 valid 0.18\n"
     ]
    },
    {
     "name": "stderr",
     "output_type": "stream",
     "text": [
      "\r",
      " 62%|████████████████████████████████████████▉                         | 124/200 [03:23<02:06,  1.66s/it]"
     ]
    },
    {
     "name": "stdout",
     "output_type": "stream",
     "text": [
      "------------------EPOCH 124------------------\n",
      "DATA LOSS \t train 0.032 valid 0.168\n",
      "KL LOSS \t train 0.0 valid 0.0\n",
      "ELBO LOSS \t train 0.03 valid 0.17\n"
     ]
    },
    {
     "name": "stderr",
     "output_type": "stream",
     "text": [
      "\r",
      " 62%|█████████████████████████████████████████▎                        | 125/200 [03:24<02:05,  1.68s/it]"
     ]
    },
    {
     "name": "stdout",
     "output_type": "stream",
     "text": [
      "------------------EPOCH 125------------------\n",
      "DATA LOSS \t train 0.033 valid 0.176\n",
      "KL LOSS \t train 0.0 valid 0.0\n",
      "ELBO LOSS \t train 0.03 valid 0.18\n"
     ]
    },
    {
     "name": "stderr",
     "output_type": "stream",
     "text": [
      "\r",
      " 63%|█████████████████████████████████████████▌                        | 126/200 [03:26<02:03,  1.67s/it]"
     ]
    },
    {
     "name": "stdout",
     "output_type": "stream",
     "text": [
      "------------------EPOCH 126------------------\n",
      "DATA LOSS \t train 0.032 valid 0.17\n",
      "KL LOSS \t train 0.0 valid 0.0\n",
      "ELBO LOSS \t train 0.03 valid 0.17\n"
     ]
    },
    {
     "name": "stderr",
     "output_type": "stream",
     "text": [
      "\r",
      " 64%|█████████████████████████████████████████▉                        | 127/200 [03:28<02:02,  1.68s/it]"
     ]
    },
    {
     "name": "stdout",
     "output_type": "stream",
     "text": [
      "------------------EPOCH 127------------------\n",
      "DATA LOSS \t train 0.032 valid 0.166\n",
      "KL LOSS \t train 0.0 valid 0.0\n",
      "ELBO LOSS \t train 0.03 valid 0.17\n"
     ]
    },
    {
     "name": "stderr",
     "output_type": "stream",
     "text": [
      "\r",
      " 64%|██████████████████████████████████████████▏                       | 128/200 [03:29<02:01,  1.69s/it]"
     ]
    },
    {
     "name": "stdout",
     "output_type": "stream",
     "text": [
      "------------------EPOCH 128------------------\n",
      "DATA LOSS \t train 0.031 valid 0.172\n",
      "KL LOSS \t train 0.0 valid 0.0\n",
      "ELBO LOSS \t train 0.03 valid 0.17\n"
     ]
    },
    {
     "name": "stderr",
     "output_type": "stream",
     "text": [
      "\r",
      " 64%|██████████████████████████████████████████▌                       | 129/200 [03:31<01:59,  1.68s/it]"
     ]
    },
    {
     "name": "stdout",
     "output_type": "stream",
     "text": [
      "------------------EPOCH 129------------------\n",
      "DATA LOSS \t train 0.032 valid 0.169\n",
      "KL LOSS \t train 0.0 valid 0.0\n",
      "ELBO LOSS \t train 0.03 valid 0.17\n"
     ]
    },
    {
     "name": "stderr",
     "output_type": "stream",
     "text": [
      "\r",
      " 65%|██████████████████████████████████████████▉                       | 130/200 [03:33<01:57,  1.68s/it]"
     ]
    },
    {
     "name": "stdout",
     "output_type": "stream",
     "text": [
      "------------------EPOCH 130------------------\n",
      "DATA LOSS \t train 0.031 valid 0.174\n",
      "KL LOSS \t train 0.0 valid 0.0\n",
      "ELBO LOSS \t train 0.03 valid 0.17\n"
     ]
    },
    {
     "name": "stderr",
     "output_type": "stream",
     "text": [
      "\r",
      " 66%|███████████████████████████████████████████▏                      | 131/200 [03:34<01:55,  1.67s/it]"
     ]
    },
    {
     "name": "stdout",
     "output_type": "stream",
     "text": [
      "------------------EPOCH 131------------------\n",
      "DATA LOSS \t train 0.031 valid 0.162\n",
      "KL LOSS \t train 0.0 valid 0.0\n",
      "ELBO LOSS \t train 0.03 valid 0.16\n"
     ]
    },
    {
     "name": "stderr",
     "output_type": "stream",
     "text": [
      "\r",
      " 66%|███████████████████████████████████████████▌                      | 132/200 [03:36<01:54,  1.68s/it]"
     ]
    },
    {
     "name": "stdout",
     "output_type": "stream",
     "text": [
      "------------------EPOCH 132------------------\n",
      "DATA LOSS \t train 0.032 valid 0.181\n",
      "KL LOSS \t train 0.0 valid 0.0\n",
      "ELBO LOSS \t train 0.03 valid 0.18\n"
     ]
    },
    {
     "name": "stderr",
     "output_type": "stream",
     "text": [
      "\r",
      " 66%|███████████████████████████████████████████▉                      | 133/200 [03:38<01:52,  1.68s/it]"
     ]
    },
    {
     "name": "stdout",
     "output_type": "stream",
     "text": [
      "------------------EPOCH 133------------------\n",
      "DATA LOSS \t train 0.031 valid 0.167\n",
      "KL LOSS \t train 0.0 valid 0.0\n",
      "ELBO LOSS \t train 0.03 valid 0.17\n"
     ]
    },
    {
     "name": "stderr",
     "output_type": "stream",
     "text": [
      "\r",
      " 67%|████████████████████████████████████████████▏                     | 134/200 [03:40<01:50,  1.68s/it]"
     ]
    },
    {
     "name": "stdout",
     "output_type": "stream",
     "text": [
      "------------------EPOCH 134------------------\n",
      "DATA LOSS \t train 0.031 valid 0.168\n",
      "KL LOSS \t train 0.0 valid 0.0\n",
      "ELBO LOSS \t train 0.03 valid 0.17\n"
     ]
    },
    {
     "name": "stderr",
     "output_type": "stream",
     "text": [
      "\r",
      " 68%|████████████████████████████████████████████▌                     | 135/200 [03:41<01:49,  1.68s/it]"
     ]
    },
    {
     "name": "stdout",
     "output_type": "stream",
     "text": [
      "------------------EPOCH 135------------------\n",
      "DATA LOSS \t train 0.031 valid 0.176\n",
      "KL LOSS \t train 0.0 valid 0.0\n",
      "ELBO LOSS \t train 0.03 valid 0.18\n"
     ]
    },
    {
     "name": "stderr",
     "output_type": "stream",
     "text": [
      "\r",
      " 68%|████████████████████████████████████████████▉                     | 136/200 [03:43<01:47,  1.68s/it]"
     ]
    },
    {
     "name": "stdout",
     "output_type": "stream",
     "text": [
      "------------------EPOCH 136------------------\n",
      "DATA LOSS \t train 0.031 valid 0.168\n",
      "KL LOSS \t train 0.0 valid 0.0\n",
      "ELBO LOSS \t train 0.03 valid 0.17\n"
     ]
    },
    {
     "name": "stderr",
     "output_type": "stream",
     "text": [
      "\r",
      " 68%|█████████████████████████████████████████████▏                    | 137/200 [03:45<01:45,  1.68s/it]"
     ]
    },
    {
     "name": "stdout",
     "output_type": "stream",
     "text": [
      "------------------EPOCH 137------------------\n",
      "DATA LOSS \t train 0.031 valid 0.171\n",
      "KL LOSS \t train 0.0 valid 0.0\n",
      "ELBO LOSS \t train 0.03 valid 0.17\n"
     ]
    },
    {
     "name": "stderr",
     "output_type": "stream",
     "text": [
      "\r",
      " 69%|█████████████████████████████████████████████▌                    | 138/200 [03:46<01:44,  1.69s/it]"
     ]
    },
    {
     "name": "stdout",
     "output_type": "stream",
     "text": [
      "------------------EPOCH 138------------------\n",
      "DATA LOSS \t train 0.031 valid 0.167\n",
      "KL LOSS \t train 0.0 valid 0.0\n",
      "ELBO LOSS \t train 0.03 valid 0.17\n"
     ]
    },
    {
     "name": "stderr",
     "output_type": "stream",
     "text": [
      "\r",
      " 70%|█████████████████████████████████████████████▊                    | 139/200 [03:48<01:42,  1.68s/it]"
     ]
    },
    {
     "name": "stdout",
     "output_type": "stream",
     "text": [
      "------------------EPOCH 139------------------\n",
      "DATA LOSS \t train 0.03 valid 0.178\n",
      "KL LOSS \t train 0.0 valid 0.0\n",
      "ELBO LOSS \t train 0.03 valid 0.18\n"
     ]
    },
    {
     "name": "stderr",
     "output_type": "stream",
     "text": [
      "\r",
      " 70%|██████████████████████████████████████████████▏                   | 140/200 [03:50<01:40,  1.67s/it]"
     ]
    },
    {
     "name": "stdout",
     "output_type": "stream",
     "text": [
      "------------------EPOCH 140------------------\n",
      "DATA LOSS \t train 0.03 valid 0.171\n",
      "KL LOSS \t train 0.0 valid 0.0\n",
      "ELBO LOSS \t train 0.03 valid 0.17\n"
     ]
    },
    {
     "name": "stderr",
     "output_type": "stream",
     "text": [
      "\r",
      " 70%|██████████████████████████████████████████████▌                   | 141/200 [03:51<01:38,  1.67s/it]"
     ]
    },
    {
     "name": "stdout",
     "output_type": "stream",
     "text": [
      "------------------EPOCH 141------------------\n",
      "DATA LOSS \t train 0.031 valid 0.168\n",
      "KL LOSS \t train 0.0 valid 0.0\n",
      "ELBO LOSS \t train 0.03 valid 0.17\n"
     ]
    },
    {
     "name": "stderr",
     "output_type": "stream",
     "text": [
      "\r",
      " 71%|██████████████████████████████████████████████▊                   | 142/200 [03:53<01:37,  1.67s/it]"
     ]
    },
    {
     "name": "stdout",
     "output_type": "stream",
     "text": [
      "------------------EPOCH 142------------------\n",
      "DATA LOSS \t train 0.03 valid 0.172\n",
      "KL LOSS \t train 0.0 valid 0.0\n",
      "ELBO LOSS \t train 0.03 valid 0.17\n"
     ]
    },
    {
     "name": "stderr",
     "output_type": "stream",
     "text": [
      "\r",
      " 72%|███████████████████████████████████████████████▏                  | 143/200 [03:55<01:34,  1.66s/it]"
     ]
    },
    {
     "name": "stdout",
     "output_type": "stream",
     "text": [
      "------------------EPOCH 143------------------\n",
      "DATA LOSS \t train 0.03 valid 0.167\n",
      "KL LOSS \t train 0.0 valid 0.0\n",
      "ELBO LOSS \t train 0.03 valid 0.17\n"
     ]
    },
    {
     "name": "stderr",
     "output_type": "stream",
     "text": [
      "\r",
      " 72%|███████████████████████████████████████████████▌                  | 144/200 [03:56<01:32,  1.66s/it]"
     ]
    },
    {
     "name": "stdout",
     "output_type": "stream",
     "text": [
      "------------------EPOCH 144------------------\n",
      "DATA LOSS \t train 0.03 valid 0.17\n",
      "KL LOSS \t train 0.0 valid 0.0\n",
      "ELBO LOSS \t train 0.03 valid 0.17\n"
     ]
    },
    {
     "name": "stderr",
     "output_type": "stream",
     "text": [
      "\r",
      " 72%|███████████████████████████████████████████████▊                  | 145/200 [03:58<01:31,  1.66s/it]"
     ]
    },
    {
     "name": "stdout",
     "output_type": "stream",
     "text": [
      "------------------EPOCH 145------------------\n",
      "DATA LOSS \t train 0.029 valid 0.168\n",
      "KL LOSS \t train 0.0 valid 0.0\n",
      "ELBO LOSS \t train 0.03 valid 0.17\n"
     ]
    },
    {
     "name": "stderr",
     "output_type": "stream",
     "text": [
      "\r",
      " 73%|████████████████████████████████████████████████▏                 | 146/200 [04:00<01:29,  1.66s/it]"
     ]
    },
    {
     "name": "stdout",
     "output_type": "stream",
     "text": [
      "------------------EPOCH 146------------------\n",
      "DATA LOSS \t train 0.03 valid 0.171\n",
      "KL LOSS \t train 0.0 valid 0.0\n",
      "ELBO LOSS \t train 0.03 valid 0.17\n"
     ]
    },
    {
     "name": "stderr",
     "output_type": "stream",
     "text": [
      "\r",
      " 74%|████████████████████████████████████████████████▌                 | 147/200 [04:01<01:28,  1.66s/it]"
     ]
    },
    {
     "name": "stdout",
     "output_type": "stream",
     "text": [
      "------------------EPOCH 147------------------\n",
      "DATA LOSS \t train 0.029 valid 0.163\n",
      "KL LOSS \t train 0.0 valid 0.0\n",
      "ELBO LOSS \t train 0.03 valid 0.16\n"
     ]
    },
    {
     "name": "stderr",
     "output_type": "stream",
     "text": [
      "\r",
      " 74%|████████████████████████████████████████████████▊                 | 148/200 [04:03<01:26,  1.66s/it]"
     ]
    },
    {
     "name": "stdout",
     "output_type": "stream",
     "text": [
      "------------------EPOCH 148------------------\n",
      "DATA LOSS \t train 0.029 valid 0.17\n",
      "KL LOSS \t train 0.0 valid 0.0\n",
      "ELBO LOSS \t train 0.03 valid 0.17\n"
     ]
    },
    {
     "name": "stderr",
     "output_type": "stream",
     "text": [
      "\r",
      " 74%|█████████████████████████████████████████████████▏                | 149/200 [04:05<01:24,  1.67s/it]"
     ]
    },
    {
     "name": "stdout",
     "output_type": "stream",
     "text": [
      "------------------EPOCH 149------------------\n",
      "DATA LOSS \t train 0.029 valid 0.168\n",
      "KL LOSS \t train 0.0 valid 0.0\n",
      "ELBO LOSS \t train 0.03 valid 0.17\n"
     ]
    },
    {
     "name": "stderr",
     "output_type": "stream",
     "text": [
      "\r",
      " 75%|█████████████████████████████████████████████████▌                | 150/200 [04:06<01:23,  1.67s/it]"
     ]
    },
    {
     "name": "stdout",
     "output_type": "stream",
     "text": [
      "------------------EPOCH 150------------------\n",
      "DATA LOSS \t train 0.029 valid 0.165\n",
      "KL LOSS \t train 0.0 valid 0.0\n",
      "ELBO LOSS \t train 0.03 valid 0.16\n"
     ]
    },
    {
     "name": "stderr",
     "output_type": "stream",
     "text": [
      "\r",
      " 76%|█████████████████████████████████████████████████▊                | 151/200 [04:08<01:22,  1.68s/it]"
     ]
    },
    {
     "name": "stdout",
     "output_type": "stream",
     "text": [
      "------------------EPOCH 151------------------\n",
      "DATA LOSS \t train 0.029 valid 0.168\n",
      "KL LOSS \t train 0.0 valid 0.0\n",
      "ELBO LOSS \t train 0.03 valid 0.17\n"
     ]
    },
    {
     "name": "stderr",
     "output_type": "stream",
     "text": [
      "\r",
      " 76%|██████████████████████████████████████████████████▏               | 152/200 [04:10<01:20,  1.67s/it]"
     ]
    },
    {
     "name": "stdout",
     "output_type": "stream",
     "text": [
      "------------------EPOCH 152------------------\n",
      "DATA LOSS \t train 0.029 valid 0.166\n",
      "KL LOSS \t train 0.0 valid 0.0\n",
      "ELBO LOSS \t train 0.03 valid 0.17\n"
     ]
    },
    {
     "name": "stderr",
     "output_type": "stream",
     "text": [
      "\r",
      " 76%|██████████████████████████████████████████████████▍               | 153/200 [04:11<01:18,  1.67s/it]"
     ]
    },
    {
     "name": "stdout",
     "output_type": "stream",
     "text": [
      "------------------EPOCH 153------------------\n",
      "DATA LOSS \t train 0.029 valid 0.165\n",
      "KL LOSS \t train 0.0 valid 0.0\n",
      "ELBO LOSS \t train 0.03 valid 0.17\n"
     ]
    },
    {
     "name": "stderr",
     "output_type": "stream",
     "text": [
      "\r",
      " 77%|██████████████████████████████████████████████████▊               | 154/200 [04:13<01:16,  1.67s/it]"
     ]
    },
    {
     "name": "stdout",
     "output_type": "stream",
     "text": [
      "------------------EPOCH 154------------------\n",
      "DATA LOSS \t train 0.029 valid 0.162\n",
      "KL LOSS \t train 0.0 valid 0.0\n",
      "ELBO LOSS \t train 0.03 valid 0.16\n"
     ]
    },
    {
     "name": "stderr",
     "output_type": "stream",
     "text": [
      "\r",
      " 78%|███████████████████████████████████████████████████▏              | 155/200 [04:15<01:15,  1.68s/it]"
     ]
    },
    {
     "name": "stdout",
     "output_type": "stream",
     "text": [
      "------------------EPOCH 155------------------\n",
      "DATA LOSS \t train 0.029 valid 0.168\n",
      "KL LOSS \t train 0.0 valid 0.0\n",
      "ELBO LOSS \t train 0.03 valid 0.17\n"
     ]
    },
    {
     "name": "stderr",
     "output_type": "stream",
     "text": [
      "\r",
      " 78%|███████████████████████████████████████████████████▍              | 156/200 [04:16<01:13,  1.68s/it]"
     ]
    },
    {
     "name": "stdout",
     "output_type": "stream",
     "text": [
      "------------------EPOCH 156------------------\n",
      "DATA LOSS \t train 0.028 valid 0.168\n",
      "KL LOSS \t train 0.0 valid 0.0\n",
      "ELBO LOSS \t train 0.03 valid 0.17\n"
     ]
    },
    {
     "name": "stderr",
     "output_type": "stream",
     "text": [
      "\r",
      " 78%|███████████████████████████████████████████████████▊              | 157/200 [04:18<01:11,  1.67s/it]"
     ]
    },
    {
     "name": "stdout",
     "output_type": "stream",
     "text": [
      "------------------EPOCH 157------------------\n",
      "DATA LOSS \t train 0.029 valid 0.171\n",
      "KL LOSS \t train 0.0 valid 0.0\n",
      "ELBO LOSS \t train 0.03 valid 0.17\n"
     ]
    },
    {
     "name": "stderr",
     "output_type": "stream",
     "text": [
      "\r",
      " 79%|████████████████████████████████████████████████████▏             | 158/200 [04:20<01:09,  1.66s/it]"
     ]
    },
    {
     "name": "stdout",
     "output_type": "stream",
     "text": [
      "------------------EPOCH 158------------------\n",
      "DATA LOSS \t train 0.029 valid 0.167\n",
      "KL LOSS \t train 0.0 valid 0.0\n",
      "ELBO LOSS \t train 0.03 valid 0.17\n"
     ]
    },
    {
     "name": "stderr",
     "output_type": "stream",
     "text": [
      "\r",
      " 80%|████████████████████████████████████████████████████▍             | 159/200 [04:21<01:08,  1.67s/it]"
     ]
    },
    {
     "name": "stdout",
     "output_type": "stream",
     "text": [
      "------------------EPOCH 159------------------\n",
      "DATA LOSS \t train 0.028 valid 0.165\n",
      "KL LOSS \t train 0.0 valid 0.0\n",
      "ELBO LOSS \t train 0.03 valid 0.16\n"
     ]
    },
    {
     "name": "stderr",
     "output_type": "stream",
     "text": [
      "\r",
      " 80%|████████████████████████████████████████████████████▊             | 160/200 [04:23<01:06,  1.66s/it]"
     ]
    },
    {
     "name": "stdout",
     "output_type": "stream",
     "text": [
      "------------------EPOCH 160------------------\n",
      "DATA LOSS \t train 0.028 valid 0.169\n",
      "KL LOSS \t train 0.0 valid 0.0\n",
      "ELBO LOSS \t train 0.03 valid 0.17\n"
     ]
    },
    {
     "name": "stderr",
     "output_type": "stream",
     "text": [
      "\r",
      " 80%|█████████████████████████████████████████████████████▏            | 161/200 [04:25<01:04,  1.66s/it]"
     ]
    },
    {
     "name": "stdout",
     "output_type": "stream",
     "text": [
      "------------------EPOCH 161------------------\n",
      "DATA LOSS \t train 0.028 valid 0.166\n",
      "KL LOSS \t train 0.0 valid 0.0\n",
      "ELBO LOSS \t train 0.03 valid 0.17\n"
     ]
    },
    {
     "name": "stderr",
     "output_type": "stream",
     "text": [
      "\r",
      " 81%|█████████████████████████████████████████████████████▍            | 162/200 [04:26<01:02,  1.66s/it]"
     ]
    },
    {
     "name": "stdout",
     "output_type": "stream",
     "text": [
      "------------------EPOCH 162------------------\n",
      "DATA LOSS \t train 0.028 valid 0.17\n",
      "KL LOSS \t train 0.0 valid 0.0\n",
      "ELBO LOSS \t train 0.03 valid 0.17\n"
     ]
    },
    {
     "name": "stderr",
     "output_type": "stream",
     "text": [
      "\r",
      " 82%|█████████████████████████████████████████████████████▊            | 163/200 [04:28<01:01,  1.67s/it]"
     ]
    },
    {
     "name": "stdout",
     "output_type": "stream",
     "text": [
      "------------------EPOCH 163------------------\n",
      "DATA LOSS \t train 0.028 valid 0.169\n",
      "KL LOSS \t train 0.0 valid 0.0\n",
      "ELBO LOSS \t train 0.03 valid 0.17\n"
     ]
    },
    {
     "name": "stderr",
     "output_type": "stream",
     "text": [
      "\r",
      " 82%|██████████████████████████████████████████████████████            | 164/200 [04:30<00:59,  1.66s/it]"
     ]
    },
    {
     "name": "stdout",
     "output_type": "stream",
     "text": [
      "------------------EPOCH 164------------------\n",
      "DATA LOSS \t train 0.027 valid 0.165\n",
      "KL LOSS \t train 0.0 valid 0.0\n",
      "ELBO LOSS \t train 0.03 valid 0.17\n"
     ]
    },
    {
     "name": "stderr",
     "output_type": "stream",
     "text": [
      "\r",
      " 82%|██████████████████████████████████████████████████████▍           | 165/200 [04:31<00:58,  1.66s/it]"
     ]
    },
    {
     "name": "stdout",
     "output_type": "stream",
     "text": [
      "------------------EPOCH 165------------------\n",
      "DATA LOSS \t train 0.027 valid 0.161\n",
      "KL LOSS \t train 0.0 valid 0.0\n",
      "ELBO LOSS \t train 0.03 valid 0.16\n"
     ]
    },
    {
     "name": "stderr",
     "output_type": "stream",
     "text": [
      "\r",
      " 83%|██████████████████████████████████████████████████████▊           | 166/200 [04:33<00:56,  1.67s/it]"
     ]
    },
    {
     "name": "stdout",
     "output_type": "stream",
     "text": [
      "------------------EPOCH 166------------------\n",
      "DATA LOSS \t train 0.028 valid 0.163\n",
      "KL LOSS \t train 0.0 valid 0.0\n",
      "ELBO LOSS \t train 0.03 valid 0.16\n"
     ]
    },
    {
     "name": "stderr",
     "output_type": "stream",
     "text": [
      "\r",
      " 84%|███████████████████████████████████████████████████████           | 167/200 [04:35<00:54,  1.66s/it]"
     ]
    },
    {
     "name": "stdout",
     "output_type": "stream",
     "text": [
      "------------------EPOCH 167------------------\n",
      "DATA LOSS \t train 0.028 valid 0.164\n",
      "KL LOSS \t train 0.0 valid 0.0\n",
      "ELBO LOSS \t train 0.03 valid 0.16\n"
     ]
    },
    {
     "name": "stderr",
     "output_type": "stream",
     "text": [
      "\r",
      " 84%|███████████████████████████████████████████████████████▍          | 168/200 [04:36<00:53,  1.66s/it]"
     ]
    },
    {
     "name": "stdout",
     "output_type": "stream",
     "text": [
      "------------------EPOCH 168------------------\n",
      "DATA LOSS \t train 0.028 valid 0.165\n",
      "KL LOSS \t train 0.0 valid 0.0\n",
      "ELBO LOSS \t train 0.03 valid 0.16\n"
     ]
    },
    {
     "name": "stderr",
     "output_type": "stream",
     "text": [
      "\r",
      " 84%|███████████████████████████████████████████████████████▊          | 169/200 [04:38<00:51,  1.66s/it]"
     ]
    },
    {
     "name": "stdout",
     "output_type": "stream",
     "text": [
      "------------------EPOCH 169------------------\n",
      "DATA LOSS \t train 0.027 valid 0.169\n",
      "KL LOSS \t train 0.0 valid 0.0\n",
      "ELBO LOSS \t train 0.03 valid 0.17\n"
     ]
    },
    {
     "name": "stderr",
     "output_type": "stream",
     "text": [
      "\r",
      " 85%|████████████████████████████████████████████████████████          | 170/200 [04:40<00:50,  1.67s/it]"
     ]
    },
    {
     "name": "stdout",
     "output_type": "stream",
     "text": [
      "------------------EPOCH 170------------------\n",
      "DATA LOSS \t train 0.027 valid 0.167\n",
      "KL LOSS \t train 0.0 valid 0.0\n",
      "ELBO LOSS \t train 0.03 valid 0.17\n"
     ]
    },
    {
     "name": "stderr",
     "output_type": "stream",
     "text": [
      "\r",
      " 86%|████████████████████████████████████████████████████████▍         | 171/200 [04:41<00:48,  1.67s/it]"
     ]
    },
    {
     "name": "stdout",
     "output_type": "stream",
     "text": [
      "------------------EPOCH 171------------------\n",
      "DATA LOSS \t train 0.027 valid 0.169\n",
      "KL LOSS \t train 0.0 valid 0.0\n",
      "ELBO LOSS \t train 0.03 valid 0.17\n"
     ]
    },
    {
     "name": "stderr",
     "output_type": "stream",
     "text": [
      "\r",
      " 86%|████████████████████████████████████████████████████████▊         | 172/200 [04:43<00:46,  1.66s/it]"
     ]
    },
    {
     "name": "stdout",
     "output_type": "stream",
     "text": [
      "------------------EPOCH 172------------------\n",
      "DATA LOSS \t train 0.027 valid 0.166\n",
      "KL LOSS \t train 0.0 valid 0.0\n",
      "ELBO LOSS \t train 0.03 valid 0.17\n"
     ]
    },
    {
     "name": "stderr",
     "output_type": "stream",
     "text": [
      "\r",
      " 86%|█████████████████████████████████████████████████████████         | 173/200 [04:45<00:45,  1.67s/it]"
     ]
    },
    {
     "name": "stdout",
     "output_type": "stream",
     "text": [
      "------------------EPOCH 173------------------\n",
      "DATA LOSS \t train 0.027 valid 0.165\n",
      "KL LOSS \t train 0.0 valid 0.0\n",
      "ELBO LOSS \t train 0.03 valid 0.16\n"
     ]
    },
    {
     "name": "stderr",
     "output_type": "stream",
     "text": [
      "\r",
      " 87%|█████████████████████████████████████████████████████████▍        | 174/200 [04:46<00:43,  1.67s/it]"
     ]
    },
    {
     "name": "stdout",
     "output_type": "stream",
     "text": [
      "------------------EPOCH 174------------------\n",
      "DATA LOSS \t train 0.027 valid 0.164\n",
      "KL LOSS \t train 0.0 valid 0.0\n",
      "ELBO LOSS \t train 0.03 valid 0.16\n"
     ]
    },
    {
     "name": "stderr",
     "output_type": "stream",
     "text": [
      "\r",
      " 88%|█████████████████████████████████████████████████████████▊        | 175/200 [04:48<00:41,  1.68s/it]"
     ]
    },
    {
     "name": "stdout",
     "output_type": "stream",
     "text": [
      "------------------EPOCH 175------------------\n",
      "DATA LOSS \t train 0.027 valid 0.162\n",
      "KL LOSS \t train 0.0 valid 0.0\n",
      "ELBO LOSS \t train 0.03 valid 0.16\n"
     ]
    },
    {
     "name": "stderr",
     "output_type": "stream",
     "text": [
      "\r",
      " 88%|██████████████████████████████████████████████████████████        | 176/200 [04:50<00:40,  1.68s/it]"
     ]
    },
    {
     "name": "stdout",
     "output_type": "stream",
     "text": [
      "------------------EPOCH 176------------------\n",
      "DATA LOSS \t train 0.027 valid 0.16\n",
      "KL LOSS \t train 0.0 valid 0.0\n",
      "ELBO LOSS \t train 0.03 valid 0.16\n"
     ]
    },
    {
     "name": "stderr",
     "output_type": "stream",
     "text": [
      "\r",
      " 88%|██████████████████████████████████████████████████████████▍       | 177/200 [04:51<00:38,  1.66s/it]"
     ]
    },
    {
     "name": "stdout",
     "output_type": "stream",
     "text": [
      "------------------EPOCH 177------------------\n",
      "DATA LOSS \t train 0.027 valid 0.169\n",
      "KL LOSS \t train 0.0 valid 0.0\n",
      "ELBO LOSS \t train 0.03 valid 0.17\n"
     ]
    },
    {
     "name": "stderr",
     "output_type": "stream",
     "text": [
      "\r",
      " 89%|██████████████████████████████████████████████████████████▋       | 178/200 [04:53<00:36,  1.67s/it]"
     ]
    },
    {
     "name": "stdout",
     "output_type": "stream",
     "text": [
      "------------------EPOCH 178------------------\n",
      "DATA LOSS \t train 0.027 valid 0.169\n",
      "KL LOSS \t train 0.0 valid 0.0\n",
      "ELBO LOSS \t train 0.03 valid 0.17\n"
     ]
    },
    {
     "name": "stderr",
     "output_type": "stream",
     "text": [
      "\r",
      " 90%|███████████████████████████████████████████████████████████       | 179/200 [04:55<00:35,  1.67s/it]"
     ]
    },
    {
     "name": "stdout",
     "output_type": "stream",
     "text": [
      "------------------EPOCH 179------------------\n",
      "DATA LOSS \t train 0.027 valid 0.167\n",
      "KL LOSS \t train 0.0 valid 0.0\n",
      "ELBO LOSS \t train 0.03 valid 0.17\n"
     ]
    },
    {
     "name": "stderr",
     "output_type": "stream",
     "text": [
      "\r",
      " 90%|███████████████████████████████████████████████████████████▍      | 180/200 [04:56<00:33,  1.68s/it]"
     ]
    },
    {
     "name": "stdout",
     "output_type": "stream",
     "text": [
      "------------------EPOCH 180------------------\n",
      "DATA LOSS \t train 0.027 valid 0.165\n",
      "KL LOSS \t train 0.0 valid 0.0\n",
      "ELBO LOSS \t train 0.03 valid 0.16\n"
     ]
    },
    {
     "name": "stderr",
     "output_type": "stream",
     "text": [
      "\r",
      " 90%|███████████████████████████████████████████████████████████▋      | 181/200 [04:58<00:31,  1.68s/it]"
     ]
    },
    {
     "name": "stdout",
     "output_type": "stream",
     "text": [
      "------------------EPOCH 181------------------\n",
      "DATA LOSS \t train 0.026 valid 0.167\n",
      "KL LOSS \t train 0.0 valid 0.0\n",
      "ELBO LOSS \t train 0.03 valid 0.17\n"
     ]
    },
    {
     "name": "stderr",
     "output_type": "stream",
     "text": [
      "\r",
      " 91%|████████████████████████████████████████████████████████████      | 182/200 [05:00<00:30,  1.69s/it]"
     ]
    },
    {
     "name": "stdout",
     "output_type": "stream",
     "text": [
      "------------------EPOCH 182------------------\n",
      "DATA LOSS \t train 0.026 valid 0.166\n",
      "KL LOSS \t train 0.0 valid 0.0\n",
      "ELBO LOSS \t train 0.03 valid 0.17\n"
     ]
    },
    {
     "name": "stderr",
     "output_type": "stream",
     "text": [
      "\r",
      " 92%|████████████████████████████████████████████████████████████▍     | 183/200 [05:01<00:28,  1.68s/it]"
     ]
    },
    {
     "name": "stdout",
     "output_type": "stream",
     "text": [
      "------------------EPOCH 183------------------\n",
      "DATA LOSS \t train 0.026 valid 0.164\n",
      "KL LOSS \t train 0.0 valid 0.0\n",
      "ELBO LOSS \t train 0.03 valid 0.16\n"
     ]
    },
    {
     "name": "stderr",
     "output_type": "stream",
     "text": [
      "\r",
      " 92%|████████████████████████████████████████████████████████████▋     | 184/200 [05:03<00:26,  1.67s/it]"
     ]
    },
    {
     "name": "stdout",
     "output_type": "stream",
     "text": [
      "------------------EPOCH 184------------------\n",
      "DATA LOSS \t train 0.026 valid 0.162\n",
      "KL LOSS \t train 0.0 valid 0.0\n",
      "ELBO LOSS \t train 0.03 valid 0.16\n"
     ]
    },
    {
     "name": "stderr",
     "output_type": "stream",
     "text": [
      "\r",
      " 92%|█████████████████████████████████████████████████████████████     | 185/200 [05:05<00:25,  1.67s/it]"
     ]
    },
    {
     "name": "stdout",
     "output_type": "stream",
     "text": [
      "------------------EPOCH 185------------------\n",
      "DATA LOSS \t train 0.026 valid 0.164\n",
      "KL LOSS \t train 0.0 valid 0.0\n",
      "ELBO LOSS \t train 0.03 valid 0.16\n"
     ]
    },
    {
     "name": "stderr",
     "output_type": "stream",
     "text": [
      "\r",
      " 93%|█████████████████████████████████████████████████████████████▍    | 186/200 [05:06<00:23,  1.67s/it]"
     ]
    },
    {
     "name": "stdout",
     "output_type": "stream",
     "text": [
      "------------------EPOCH 186------------------\n",
      "DATA LOSS \t train 0.026 valid 0.168\n",
      "KL LOSS \t train 0.0 valid 0.0\n",
      "ELBO LOSS \t train 0.03 valid 0.17\n"
     ]
    },
    {
     "name": "stderr",
     "output_type": "stream",
     "text": [
      "\r",
      " 94%|█████████████████████████████████████████████████████████████▋    | 187/200 [05:08<00:21,  1.67s/it]"
     ]
    },
    {
     "name": "stdout",
     "output_type": "stream",
     "text": [
      "------------------EPOCH 187------------------\n",
      "DATA LOSS \t train 0.026 valid 0.168\n",
      "KL LOSS \t train 0.0 valid 0.0\n",
      "ELBO LOSS \t train 0.03 valid 0.17\n"
     ]
    },
    {
     "name": "stderr",
     "output_type": "stream",
     "text": [
      "\r",
      " 94%|██████████████████████████████████████████████████████████████    | 188/200 [05:10<00:19,  1.67s/it]"
     ]
    },
    {
     "name": "stdout",
     "output_type": "stream",
     "text": [
      "------------------EPOCH 188------------------\n",
      "DATA LOSS \t train 0.026 valid 0.166\n",
      "KL LOSS \t train 0.0 valid 0.0\n",
      "ELBO LOSS \t train 0.03 valid 0.17\n"
     ]
    },
    {
     "name": "stderr",
     "output_type": "stream",
     "text": [
      "\r",
      " 94%|██████████████████████████████████████████████████████████████▎   | 189/200 [05:11<00:18,  1.66s/it]"
     ]
    },
    {
     "name": "stdout",
     "output_type": "stream",
     "text": [
      "------------------EPOCH 189------------------\n",
      "DATA LOSS \t train 0.026 valid 0.164\n",
      "KL LOSS \t train 0.0 valid 0.0\n",
      "ELBO LOSS \t train 0.03 valid 0.16\n"
     ]
    },
    {
     "name": "stderr",
     "output_type": "stream",
     "text": [
      "\r",
      " 95%|██████████████████████████████████████████████████████████████▋   | 190/200 [05:13<00:16,  1.66s/it]"
     ]
    },
    {
     "name": "stdout",
     "output_type": "stream",
     "text": [
      "------------------EPOCH 190------------------\n",
      "DATA LOSS \t train 0.026 valid 0.165\n",
      "KL LOSS \t train 0.0 valid 0.0\n",
      "ELBO LOSS \t train 0.03 valid 0.17\n"
     ]
    },
    {
     "name": "stderr",
     "output_type": "stream",
     "text": [
      "\r",
      " 96%|███████████████████████████████████████████████████████████████   | 191/200 [05:15<00:15,  1.67s/it]"
     ]
    },
    {
     "name": "stdout",
     "output_type": "stream",
     "text": [
      "------------------EPOCH 191------------------\n",
      "DATA LOSS \t train 0.026 valid 0.163\n",
      "KL LOSS \t train 0.0 valid 0.0\n",
      "ELBO LOSS \t train 0.03 valid 0.16\n"
     ]
    },
    {
     "name": "stderr",
     "output_type": "stream",
     "text": [
      "\r",
      " 96%|███████████████████████████████████████████████████████████████▎  | 192/200 [05:16<00:13,  1.67s/it]"
     ]
    },
    {
     "name": "stdout",
     "output_type": "stream",
     "text": [
      "------------------EPOCH 192------------------\n",
      "DATA LOSS \t train 0.025 valid 0.162\n",
      "KL LOSS \t train 0.0 valid 0.0\n",
      "ELBO LOSS \t train 0.03 valid 0.16\n"
     ]
    },
    {
     "name": "stderr",
     "output_type": "stream",
     "text": [
      "\r",
      " 96%|███████████████████████████████████████████████████████████████▋  | 193/200 [05:18<00:11,  1.67s/it]"
     ]
    },
    {
     "name": "stdout",
     "output_type": "stream",
     "text": [
      "------------------EPOCH 193------------------\n",
      "DATA LOSS \t train 0.025 valid 0.168\n",
      "KL LOSS \t train 0.0 valid 0.0\n",
      "ELBO LOSS \t train 0.03 valid 0.17\n"
     ]
    },
    {
     "name": "stderr",
     "output_type": "stream",
     "text": [
      "\r",
      " 97%|████████████████████████████████████████████████████████████████  | 194/200 [05:20<00:10,  1.68s/it]"
     ]
    },
    {
     "name": "stdout",
     "output_type": "stream",
     "text": [
      "------------------EPOCH 194------------------\n",
      "DATA LOSS \t train 0.026 valid 0.166\n",
      "KL LOSS \t train 0.0 valid 0.0\n",
      "ELBO LOSS \t train 0.03 valid 0.17\n"
     ]
    },
    {
     "name": "stderr",
     "output_type": "stream",
     "text": [
      "\r",
      " 98%|████████████████████████████████████████████████████████████████▎ | 195/200 [05:21<00:08,  1.70s/it]"
     ]
    },
    {
     "name": "stdout",
     "output_type": "stream",
     "text": [
      "------------------EPOCH 195------------------\n",
      "DATA LOSS \t train 0.025 valid 0.164\n",
      "KL LOSS \t train 0.0 valid 0.0\n",
      "ELBO LOSS \t train 0.03 valid 0.16\n"
     ]
    },
    {
     "name": "stderr",
     "output_type": "stream",
     "text": [
      "\r",
      " 98%|████████████████████████████████████████████████████████████████▋ | 196/200 [05:23<00:06,  1.72s/it]"
     ]
    },
    {
     "name": "stdout",
     "output_type": "stream",
     "text": [
      "------------------EPOCH 196------------------\n",
      "DATA LOSS \t train 0.026 valid 0.161\n",
      "KL LOSS \t train 0.0 valid 0.0\n",
      "ELBO LOSS \t train 0.03 valid 0.16\n"
     ]
    },
    {
     "name": "stderr",
     "output_type": "stream",
     "text": [
      "\r",
      " 98%|█████████████████████████████████████████████████████████████████ | 197/200 [05:25<00:05,  1.70s/it]"
     ]
    },
    {
     "name": "stdout",
     "output_type": "stream",
     "text": [
      "------------------EPOCH 197------------------\n",
      "DATA LOSS \t train 0.026 valid 0.164\n",
      "KL LOSS \t train 0.0 valid 0.0\n",
      "ELBO LOSS \t train 0.03 valid 0.16\n"
     ]
    },
    {
     "name": "stderr",
     "output_type": "stream",
     "text": [
      "\r",
      " 99%|█████████████████████████████████████████████████████████████████▎| 198/200 [05:27<00:03,  1.69s/it]"
     ]
    },
    {
     "name": "stdout",
     "output_type": "stream",
     "text": [
      "------------------EPOCH 198------------------\n",
      "DATA LOSS \t train 0.025 valid 0.163\n",
      "KL LOSS \t train 0.0 valid 0.0\n",
      "ELBO LOSS \t train 0.03 valid 0.16\n"
     ]
    },
    {
     "name": "stderr",
     "output_type": "stream",
     "text": [
      "\r",
      "100%|█████████████████████████████████████████████████████████████████▋| 199/200 [05:28<00:01,  1.68s/it]"
     ]
    },
    {
     "name": "stdout",
     "output_type": "stream",
     "text": [
      "------------------EPOCH 199------------------\n",
      "DATA LOSS \t train 0.025 valid 0.165\n",
      "KL LOSS \t train 0.0 valid 0.0\n",
      "ELBO LOSS \t train 0.02 valid 0.16\n"
     ]
    },
    {
     "name": "stderr",
     "output_type": "stream",
     "text": [
      "100%|██████████████████████████████████████████████████████████████████| 200/200 [05:30<00:00,  1.65s/it]"
     ]
    },
    {
     "name": "stdout",
     "output_type": "stream",
     "text": [
      "------------------EPOCH 200------------------\n",
      "DATA LOSS \t train 0.025 valid 0.161\n",
      "KL LOSS \t train 0.0 valid 0.0\n",
      "ELBO LOSS \t train 0.02 valid 0.16\n"
     ]
    },
    {
     "name": "stderr",
     "output_type": "stream",
     "text": [
      "\n"
     ]
    }
   ],
   "source": [
    "model_used = train_NN.train(EPOCHS=200)"
   ]
  },
  {
   "cell_type": "code",
   "execution_count": 43,
   "metadata": {},
   "outputs": [],
   "source": [
    "M_opt = 1\n",
    "model_used.update_n_samples(n_samples=M_opt)\n",
    "Y_pred = model_used.forward_dist(X_test, aleat_bool)\n",
    "Y_pred_original = inverse_transform(Y_pred)"
   ]
  },
  {
   "cell_type": "code",
   "execution_count": 44,
   "metadata": {
    "scrolled": false
   },
   "outputs": [
    {
     "data": {
      "text/plain": [
       "tensor(27.0925, dtype=torch.float64, grad_fn=<MeanBackward0>)"
      ]
     },
     "execution_count": 44,
     "metadata": {},
     "output_type": "execute_result"
    }
   ],
   "source": [
    "opt_cvar = cmu.CVaRQP(M_opt, n_assets, beta, min_return, torch.tensor(Y_original), opt_cvar_gZ, dev)\n",
    "opt_cvar.end_loss_dist(Y_pred_original, Y_test_original)"
   ]
  },
  {
   "cell_type": "code",
   "execution_count": 39,
   "metadata": {},
   "outputs": [
    {
     "data": {
      "text/plain": [
       "tensor(8.4273, dtype=torch.float64, grad_fn=<MeanBackward0>)"
      ]
     },
     "execution_count": 39,
     "metadata": {},
     "output_type": "execute_result"
    }
   ],
   "source": [
    "M_opt = 1\n",
    "model_used.update_n_samples(n_samples=M_opt)\n",
    "Y_pred_val = model_used.forward_dist(X_val, aleat_bool)\n",
    "Y_pred_val_original = inverse_transform(Y_pred_val)\n",
    "\n",
    "opt_cvar = cmu.CVaRQP(M_opt, n_assets, beta, min_return, torch.tensor(Y_original), opt_cvar_gZ, dev)\n",
    "opt_cvar.end_loss_dist(Y_pred_val_original, Y_val_original)"
   ]
  },
  {
   "cell_type": "code",
   "execution_count": 26,
   "metadata": {},
   "outputs": [
    {
     "data": {
      "text/plain": [
       "tensor(42.9886, dtype=torch.float64, grad_fn=<MeanBackward0>)"
      ]
     },
     "execution_count": 26,
     "metadata": {},
     "output_type": "execute_result"
    }
   ],
   "source": [
    "opt_cvar.end_loss_dist(Y_pred_original, Y_test_original)"
   ]
  },
  {
   "cell_type": "code",
   "execution_count": 49,
   "metadata": {},
   "outputs": [
    {
     "data": {
      "text/plain": [
       "tensor(55.0741, dtype=torch.float64, grad_fn=<MeanBackward0>)"
      ]
     },
     "execution_count": 49,
     "metadata": {},
     "output_type": "execute_result"
    }
   ],
   "source": [
    "opt_cvar.end_loss_dist(Y_pred_original, Y_test_original)"
   ]
  },
  {
   "cell_type": "code",
   "execution_count": 18,
   "metadata": {},
   "outputs": [
    {
     "data": {
      "text/plain": [
       "tensor(63.7008, dtype=torch.float64, grad_fn=<MeanBackward0>)"
      ]
     },
     "execution_count": 18,
     "metadata": {},
     "output_type": "execute_result"
    }
   ],
   "source": [
    "opt_cvar = cmu.CVaRQP(M_opt, n_assets, beta, min_return, torch.tensor(Y_original), opt_cvar_gZ, dev)\n",
    "opt_cvar.end_loss_dist(Y_pred_original, Y_test_original)"
   ]
  },
  {
   "cell_type": "code",
   "execution_count": 19,
   "metadata": {},
   "outputs": [
    {
     "data": {
      "text/plain": [
       "tensor(41.8511, dtype=torch.float64, grad_fn=<MeanBackward0>)"
      ]
     },
     "execution_count": 19,
     "metadata": {},
     "output_type": "execute_result"
    }
   ],
   "source": []
  },
  {
   "cell_type": "code",
   "execution_count": 27,
   "metadata": {},
   "outputs": [
    {
     "data": {
      "text/plain": [
       "torch.Size([1, 1000, 20])"
      ]
     },
     "execution_count": 27,
     "metadata": {},
     "output_type": "execute_result"
    }
   ],
   "source": [
    "Y_pred_original.shape"
   ]
  },
  {
   "cell_type": "code",
   "execution_count": 50,
   "metadata": {},
   "outputs": [],
   "source": [
    "opt_cvar = cmu.CVaRQP(M_opt, n_assets, beta, min_return, torch.tensor(Y_original), opt_cvar_gZ, dev)\n",
    "zz = opt_cvar.forward(torch.permute(Y_pred_original, (1, 0, 2)))"
   ]
  },
  {
   "cell_type": "code",
   "execution_count": 56,
   "metadata": {},
   "outputs": [
    {
     "data": {
      "text/plain": [
       "torch.Size([600, 10])"
      ]
     },
     "execution_count": 56,
     "metadata": {},
     "output_type": "execute_result"
    }
   ],
   "source": [
    "Y_test_original.shape"
   ]
  },
  {
   "cell_type": "code",
   "execution_count": 66,
   "metadata": {},
   "outputs": [
    {
     "data": {
      "text/plain": [
       "tensor(-67.2309, dtype=torch.float64, grad_fn=<MeanBackward0>)"
      ]
     },
     "execution_count": 66,
     "metadata": {},
     "output_type": "execute_result"
    }
   ],
   "source": [
    "(Y_test_original*zz).sum(1).clip(None, 0).mean()"
   ]
  },
  {
   "cell_type": "code",
   "execution_count": 53,
   "metadata": {},
   "outputs": [
    {
     "data": {
      "text/plain": [
       "tensor([1.6260e+01, 4.9736e+01, 2.2901e-14, 8.6343e+01, 2.8042e+01, 6.7583e+01,\n",
       "        5.7734e+01, 5.1143e+00, 1.2606e+01, 6.7443e-14], dtype=torch.float64,\n",
       "       grad_fn=<SelectBackward0>)"
      ]
     },
     "execution_count": 53,
     "metadata": {},
     "output_type": "execute_result"
    }
   ],
   "source": [
    "zz[0]"
   ]
  },
  {
   "cell_type": "code",
   "execution_count": 40,
   "metadata": {},
   "outputs": [
    {
     "data": {
      "text/plain": [
       "torch.Size([32, 600, 10])"
      ]
     },
     "execution_count": 40,
     "metadata": {},
     "output_type": "execute_result"
    }
   ],
   "source": [
    "Y_pred_original.shape"
   ]
  },
  {
   "cell_type": "code",
   "execution_count": 42,
   "metadata": {},
   "outputs": [
    {
     "data": {
      "text/plain": [
       "tensor(10.6740, dtype=torch.float64)"
      ]
     },
     "execution_count": 42,
     "metadata": {},
     "output_type": "execute_result"
    }
   ],
   "source": [
    "opt_cvar = cmu.CVaRQP(1, n_assets, beta, min_return, torch.tensor(Y_original), opt_cvar_gZ, dev)\n",
    "opt_cvar.end_loss_dist(Y_test_original.unsqueeze(0), Y_test_original)"
   ]
  },
  {
   "cell_type": "code",
   "execution_count": 33,
   "metadata": {},
   "outputs": [
    {
     "data": {
      "text/plain": [
       "(0.13693512093163707,\n",
       " 0.8841071259180603,\n",
       " 2.6387125058604113,\n",
       " -2.7960391110496476)"
      ]
     },
     "execution_count": 33,
     "metadata": {},
     "output_type": "execute_result"
    }
   ],
   "source": [
    "Y_original.mean(), Y_original.std(), Y_original.max(), Y_original.min()"
   ]
  },
  {
   "cell_type": "code",
   "execution_count": 25,
   "metadata": {},
   "outputs": [
    {
     "data": {
      "text/plain": [
       "torch.Size([32, 600, 10])"
      ]
     },
     "execution_count": 25,
     "metadata": {},
     "output_type": "execute_result"
    }
   ],
   "source": [
    "Y_pred_original.shape"
   ]
  },
  {
   "cell_type": "code",
   "execution_count": 22,
   "metadata": {},
   "outputs": [
    {
     "ename": "RuntimeError",
     "evalue": "The size of tensor a (3) must match the size of tensor b (202) at non-singleton dimension 1",
     "output_type": "error",
     "traceback": [
      "\u001b[0;31m---------------------------------------------------------------------------\u001b[0m",
      "\u001b[0;31mRuntimeError\u001b[0m                              Traceback (most recent call last)",
      "Input \u001b[0;32mIn [22]\u001b[0m, in \u001b[0;36m<cell line: 1>\u001b[0;34m()\u001b[0m\n\u001b[0;32m----> 1\u001b[0m \u001b[43mopt_cvar\u001b[49m\u001b[38;5;241;43m.\u001b[39;49m\u001b[43mend_loss_dist\u001b[49m\u001b[43m(\u001b[49m\u001b[43mY_pred_original\u001b[49m\u001b[43m,\u001b[49m\u001b[43m \u001b[49m\u001b[43mtorch\u001b[49m\u001b[38;5;241;43m.\u001b[39;49m\u001b[43mpermute\u001b[49m\u001b[43m(\u001b[49m\u001b[43mtorch\u001b[49m\u001b[38;5;241;43m.\u001b[39;49m\u001b[43mtensor\u001b[49m\u001b[43m(\u001b[49m\u001b[43mY_test_dist\u001b[49m\u001b[43m)\u001b[49m\u001b[43m,\u001b[49m\u001b[43m \u001b[49m\u001b[43m(\u001b[49m\u001b[38;5;241;43m1\u001b[39;49m\u001b[43m,\u001b[49m\u001b[43m \u001b[49m\u001b[38;5;241;43m0\u001b[39;49m\u001b[43m,\u001b[49m\u001b[43m \u001b[49m\u001b[38;5;241;43m2\u001b[39;49m\u001b[43m)\u001b[49m\u001b[43m)\u001b[49m\u001b[43m)\u001b[49m\n",
      "File \u001b[0;32m~/Desktop/Research/Code/pao_uncertainty/cvar_minimization_utils.py:129\u001b[0m, in \u001b[0;36mCVaRQP.end_loss_dist\u001b[0;34m(self, y_pred, y)\u001b[0m\n\u001b[1;32m    127\u001b[0m \u001b[38;5;28;01mif\u001b[39;00m y\u001b[38;5;241m.\u001b[39mdim()\u001b[38;5;241m==\u001b[39m\u001b[38;5;241m2\u001b[39m:\n\u001b[1;32m    128\u001b[0m     y \u001b[38;5;241m=\u001b[39m y\u001b[38;5;241m.\u001b[39munsqueeze(\u001b[38;5;241m1\u001b[39m)\n\u001b[0;32m--> 129\u001b[0m f_total \u001b[38;5;241m=\u001b[39m \u001b[38;5;28;43mself\u001b[39;49m\u001b[38;5;241;43m.\u001b[39;49m\u001b[43mcost_fn\u001b[49m\u001b[43m(\u001b[49m\u001b[43my_pred\u001b[49m\u001b[43m,\u001b[49m\u001b[43m \u001b[49m\u001b[43my\u001b[49m\u001b[43m)\u001b[49m\n\u001b[1;32m    130\u001b[0m \u001b[38;5;28;01mreturn\u001b[39;00m f_total\n",
      "File \u001b[0;32m~/Desktop/Research/Code/pao_uncertainty/cvar_minimization_utils.py:116\u001b[0m, in \u001b[0;36mCVaRQP.cost_fn\u001b[0;34m(self, y_pred, y)\u001b[0m\n\u001b[1;32m    115\u001b[0m \u001b[38;5;28;01mdef\u001b[39;00m \u001b[38;5;21mcost_fn\u001b[39m(\u001b[38;5;28mself\u001b[39m, y_pred, y):\n\u001b[0;32m--> 116\u001b[0m     f \u001b[38;5;241m=\u001b[39m \u001b[38;5;28;43mself\u001b[39;49m\u001b[38;5;241;43m.\u001b[39;49m\u001b[43mcalc_f_dataset\u001b[49m\u001b[43m(\u001b[49m\u001b[43my_pred\u001b[49m\u001b[43m,\u001b[49m\u001b[43m \u001b[49m\u001b[43my\u001b[49m\u001b[43m)\u001b[49m\n\u001b[1;32m    117\u001b[0m     f_total \u001b[38;5;241m=\u001b[39m torch\u001b[38;5;241m.\u001b[39mmean(f)\n\u001b[1;32m    118\u001b[0m     \u001b[38;5;28;01mreturn\u001b[39;00m f_total\n",
      "File \u001b[0;32m~/Desktop/Research/Code/pao_uncertainty/cvar_minimization_utils.py:111\u001b[0m, in \u001b[0;36mCVaRQP.calc_f_dataset\u001b[0;34m(self, Y_dist_pred, Y_dist)\u001b[0m\n\u001b[1;32m    109\u001b[0m zstar_pred \u001b[38;5;241m=\u001b[39m \u001b[38;5;28mself\u001b[39m\u001b[38;5;241m.\u001b[39mforward(Y_dist_pred)\n\u001b[1;32m    110\u001b[0m \u001b[38;5;28mself\u001b[39m\u001b[38;5;241m.\u001b[39mOP_Z\u001b[38;5;241m.\u001b[39mM \u001b[38;5;241m=\u001b[39m Y_dist\u001b[38;5;241m.\u001b[39mshape[\u001b[38;5;241m1\u001b[39m]\n\u001b[0;32m--> 111\u001b[0m alphastar_pred \u001b[38;5;241m=\u001b[39m \u001b[38;5;28;43mself\u001b[39;49m\u001b[38;5;241;43m.\u001b[39;49m\u001b[43mOP_Z\u001b[49m\u001b[38;5;241;43m.\u001b[39;49m\u001b[43mforward\u001b[49m\u001b[43m(\u001b[49m\u001b[43mY_dist\u001b[49m\u001b[43m,\u001b[49m\u001b[43m \u001b[49m\u001b[43mzstar_pred\u001b[49m\u001b[43m)\u001b[49m\n\u001b[1;32m    112\u001b[0m cvar_pred \u001b[38;5;241m=\u001b[39m \u001b[38;5;28mself\u001b[39m\u001b[38;5;241m.\u001b[39mcalc_cvar_dataset(Y_dist, zstar_pred, alphastar_pred)\n\u001b[1;32m    113\u001b[0m \u001b[38;5;28;01mreturn\u001b[39;00m cvar_pred\n",
      "File \u001b[0;32m~/Desktop/Research/Code/pao_uncertainty/cvar_minimization_utils.py:204\u001b[0m, in \u001b[0;36mCVaROPgZ.forward\u001b[0;34m(self, Y_dist, zstar)\u001b[0m\n\u001b[1;32m    198\u001b[0m bounds \u001b[38;5;241m=\u001b[39m \u001b[38;5;28mself\u001b[39m\u001b[38;5;241m.\u001b[39mbounds\u001b[38;5;241m.\u001b[39munsqueeze(dim\u001b[38;5;241m=\u001b[39m\u001b[38;5;241m0\u001b[39m)\u001b[38;5;241m.\u001b[39mexpand(\n\u001b[1;32m    199\u001b[0m     batch_size, \u001b[38;5;28mself\u001b[39m\u001b[38;5;241m.\u001b[39mbounds\u001b[38;5;241m.\u001b[39mshape[\u001b[38;5;241m0\u001b[39m])\n\u001b[1;32m    201\u001b[0m bounds \u001b[38;5;241m=\u001b[39m torch\u001b[38;5;241m.\u001b[39mhstack(( bounds, (zstar\u001b[38;5;241m.\u001b[39munsqueeze(\u001b[38;5;241m1\u001b[39m)\u001b[38;5;241m*\u001b[39mY_dist)\u001b[38;5;241m.\u001b[39msum(\u001b[38;5;241m-\u001b[39m\u001b[38;5;241m1\u001b[39m) ))\n\u001b[0;32m--> 204\u001b[0m argmin \u001b[38;5;241m=\u001b[39m \u001b[43mQPFunction\u001b[49m\u001b[43m(\u001b[49m\u001b[43mverbose\u001b[49m\u001b[38;5;241;43m=\u001b[39;49m\u001b[38;5;241;43m-\u001b[39;49m\u001b[38;5;241;43m1\u001b[39;49m\u001b[43m)\u001b[49m\u001b[43m\\\u001b[49m\n\u001b[1;32m    205\u001b[0m \u001b[43m    \u001b[49m\u001b[43m(\u001b[49m\u001b[38;5;241;43m2\u001b[39;49m\u001b[38;5;241;43m*\u001b[39;49m\u001b[43mQ\u001b[49m\u001b[38;5;241;43m.\u001b[39;49m\u001b[43mdouble\u001b[49m\u001b[43m(\u001b[49m\u001b[43m)\u001b[49m\u001b[43m,\u001b[49m\u001b[43m \u001b[49m\u001b[43mlin\u001b[49m\u001b[38;5;241;43m.\u001b[39;49m\u001b[43mdouble\u001b[49m\u001b[43m(\u001b[49m\u001b[43m)\u001b[49m\u001b[43m,\u001b[49m\u001b[43m \u001b[49m\u001b[43mineqs\u001b[49m\u001b[38;5;241;43m.\u001b[39;49m\u001b[43mdouble\u001b[49m\u001b[43m(\u001b[49m\u001b[43m)\u001b[49m\u001b[43m,\u001b[49m\u001b[43m \u001b[49m\n\u001b[1;32m    206\u001b[0m \u001b[43m     \u001b[49m\u001b[43mbounds\u001b[49m\u001b[38;5;241;43m.\u001b[39;49m\u001b[43mdouble\u001b[49m\u001b[43m(\u001b[49m\u001b[43m)\u001b[49m\u001b[43m,\u001b[49m\u001b[43m \u001b[49m\u001b[38;5;28;43mself\u001b[39;49m\u001b[38;5;241;43m.\u001b[39;49m\u001b[43me\u001b[49m\u001b[43m,\u001b[49m\u001b[43m \u001b[49m\u001b[38;5;28;43mself\u001b[39;49m\u001b[38;5;241;43m.\u001b[39;49m\u001b[43me\u001b[49m\u001b[43m)\u001b[49m\u001b[38;5;241m.\u001b[39mdouble()\n\u001b[1;32m    208\u001b[0m \u001b[38;5;28;01mreturn\u001b[39;00m argmin[:, \u001b[38;5;241m-\u001b[39m\u001b[38;5;241m1\u001b[39m]\n",
      "File \u001b[0;32m~/Desktop/envs/pao_env/lib/python3.8/site-packages/qpth/qp.py:97\u001b[0m, in \u001b[0;36mQPFunction.<locals>.QPFunctionFn.forward\u001b[0;34m(ctx, Q_, p_, G_, h_, A_, b_)\u001b[0m\n\u001b[1;32m     95\u001b[0m \u001b[38;5;28;01mif\u001b[39;00m solver \u001b[38;5;241m==\u001b[39m QPSolvers\u001b[38;5;241m.\u001b[39mPDIPM_BATCHED:\n\u001b[1;32m     96\u001b[0m     ctx\u001b[38;5;241m.\u001b[39mQ_LU, ctx\u001b[38;5;241m.\u001b[39mS_LU, ctx\u001b[38;5;241m.\u001b[39mR \u001b[38;5;241m=\u001b[39m pdipm_b\u001b[38;5;241m.\u001b[39mpre_factor_kkt(Q, G, A)\n\u001b[0;32m---> 97\u001b[0m     zhats, ctx\u001b[38;5;241m.\u001b[39mnus, ctx\u001b[38;5;241m.\u001b[39mlams, ctx\u001b[38;5;241m.\u001b[39mslacks \u001b[38;5;241m=\u001b[39m \u001b[43mpdipm_b\u001b[49m\u001b[38;5;241;43m.\u001b[39;49m\u001b[43mforward\u001b[49m\u001b[43m(\u001b[49m\n\u001b[1;32m     98\u001b[0m \u001b[43m        \u001b[49m\u001b[43mQ\u001b[49m\u001b[43m,\u001b[49m\u001b[43m \u001b[49m\u001b[43mp\u001b[49m\u001b[43m,\u001b[49m\u001b[43m \u001b[49m\u001b[43mG\u001b[49m\u001b[43m,\u001b[49m\u001b[43m \u001b[49m\u001b[43mh\u001b[49m\u001b[43m,\u001b[49m\u001b[43m \u001b[49m\u001b[43mA\u001b[49m\u001b[43m,\u001b[49m\u001b[43m \u001b[49m\u001b[43mb\u001b[49m\u001b[43m,\u001b[49m\u001b[43m \u001b[49m\u001b[43mctx\u001b[49m\u001b[38;5;241;43m.\u001b[39;49m\u001b[43mQ_LU\u001b[49m\u001b[43m,\u001b[49m\u001b[43m \u001b[49m\u001b[43mctx\u001b[49m\u001b[38;5;241;43m.\u001b[39;49m\u001b[43mS_LU\u001b[49m\u001b[43m,\u001b[49m\u001b[43m \u001b[49m\u001b[43mctx\u001b[49m\u001b[38;5;241;43m.\u001b[39;49m\u001b[43mR\u001b[49m\u001b[43m,\u001b[49m\n\u001b[1;32m     99\u001b[0m \u001b[43m        \u001b[49m\u001b[43meps\u001b[49m\u001b[43m,\u001b[49m\u001b[43m \u001b[49m\u001b[43mverbose\u001b[49m\u001b[43m,\u001b[49m\u001b[43m \u001b[49m\u001b[43mnotImprovedLim\u001b[49m\u001b[43m,\u001b[49m\u001b[43m \u001b[49m\u001b[43mmaxIter\u001b[49m\u001b[43m)\u001b[49m\n\u001b[1;32m    100\u001b[0m \u001b[38;5;28;01melif\u001b[39;00m solver \u001b[38;5;241m==\u001b[39m QPSolvers\u001b[38;5;241m.\u001b[39mCVXPY:\n\u001b[1;32m    101\u001b[0m     vals \u001b[38;5;241m=\u001b[39m torch\u001b[38;5;241m.\u001b[39mTensor(nBatch)\u001b[38;5;241m.\u001b[39mtype_as(Q)\n",
      "File \u001b[0;32m~/Desktop/envs/pao_env/lib/python3.8/site-packages/qpth/solvers/pdipm/batch.py:63\u001b[0m, in \u001b[0;36mforward\u001b[0;34m(Q, p, G, h, A, b, Q_LU, S_LU, R, eps, verbose, notImprovedLim, maxIter, solver)\u001b[0m\n\u001b[1;32m     61\u001b[0m     d \u001b[38;5;241m=\u001b[39m torch\u001b[38;5;241m.\u001b[39mones(nBatch, nineq)\u001b[38;5;241m.\u001b[39mtype_as(Q)\n\u001b[1;32m     62\u001b[0m     factor_kkt(S_LU, R, d)\n\u001b[0;32m---> 63\u001b[0m     x, s, z, y \u001b[38;5;241m=\u001b[39m \u001b[43msolve_kkt\u001b[49m\u001b[43m(\u001b[49m\n\u001b[1;32m     64\u001b[0m \u001b[43m        \u001b[49m\u001b[43mQ_LU\u001b[49m\u001b[43m,\u001b[49m\u001b[43m \u001b[49m\u001b[43md\u001b[49m\u001b[43m,\u001b[49m\u001b[43m \u001b[49m\u001b[43mG\u001b[49m\u001b[43m,\u001b[49m\u001b[43m \u001b[49m\u001b[43mA\u001b[49m\u001b[43m,\u001b[49m\u001b[43m \u001b[49m\u001b[43mS_LU\u001b[49m\u001b[43m,\u001b[49m\n\u001b[1;32m     65\u001b[0m \u001b[43m        \u001b[49m\u001b[43mp\u001b[49m\u001b[43m,\u001b[49m\u001b[43m \u001b[49m\u001b[43mtorch\u001b[49m\u001b[38;5;241;43m.\u001b[39;49m\u001b[43mzeros\u001b[49m\u001b[43m(\u001b[49m\u001b[43mnBatch\u001b[49m\u001b[43m,\u001b[49m\u001b[43m \u001b[49m\u001b[43mnineq\u001b[49m\u001b[43m)\u001b[49m\u001b[38;5;241;43m.\u001b[39;49m\u001b[43mtype_as\u001b[49m\u001b[43m(\u001b[49m\u001b[43mQ\u001b[49m\u001b[43m)\u001b[49m\u001b[43m,\u001b[49m\n\u001b[1;32m     66\u001b[0m \u001b[43m        \u001b[49m\u001b[38;5;241;43m-\u001b[39;49m\u001b[43mh\u001b[49m\u001b[43m,\u001b[49m\u001b[43m \u001b[49m\u001b[38;5;241;43m-\u001b[39;49m\u001b[43mb\u001b[49m\u001b[43m \u001b[49m\u001b[38;5;28;43;01mif\u001b[39;49;00m\u001b[43m \u001b[49m\u001b[43mneq\u001b[49m\u001b[43m \u001b[49m\u001b[38;5;241;43m>\u001b[39;49m\u001b[43m \u001b[49m\u001b[38;5;241;43m0\u001b[39;49m\u001b[43m \u001b[49m\u001b[38;5;28;43;01melse\u001b[39;49;00m\u001b[43m \u001b[49m\u001b[38;5;28;43;01mNone\u001b[39;49;00m\u001b[43m)\u001b[49m\n\u001b[1;32m     67\u001b[0m \u001b[38;5;28;01melif\u001b[39;00m solver \u001b[38;5;241m==\u001b[39m KKTSolvers\u001b[38;5;241m.\u001b[39mIR_UNOPT:\n\u001b[1;32m     68\u001b[0m     D \u001b[38;5;241m=\u001b[39m torch\u001b[38;5;241m.\u001b[39meye(nineq)\u001b[38;5;241m.\u001b[39mrepeat(nBatch, \u001b[38;5;241m1\u001b[39m, \u001b[38;5;241m1\u001b[39m)\u001b[38;5;241m.\u001b[39mtype_as(Q)\n",
      "File \u001b[0;32m~/Desktop/envs/pao_env/lib/python3.8/site-packages/qpth/solvers/pdipm/batch.py:357\u001b[0m, in \u001b[0;36msolve_kkt\u001b[0;34m(Q_LU, d, G, A, S_LU, rx, rs, rz, ry)\u001b[0m\n\u001b[1;32m    354\u001b[0m     h \u001b[38;5;241m=\u001b[39m torch\u001b[38;5;241m.\u001b[39mcat((invQ_rx\u001b[38;5;241m.\u001b[39munsqueeze(\u001b[38;5;241m1\u001b[39m)\u001b[38;5;241m.\u001b[39mbmm(A\u001b[38;5;241m.\u001b[39mtranspose(\u001b[38;5;241m1\u001b[39m, \u001b[38;5;241m2\u001b[39m))\u001b[38;5;241m.\u001b[39msqueeze(\u001b[38;5;241m1\u001b[39m) \u001b[38;5;241m-\u001b[39m ry,\n\u001b[1;32m    355\u001b[0m                    invQ_rx\u001b[38;5;241m.\u001b[39munsqueeze(\u001b[38;5;241m1\u001b[39m)\u001b[38;5;241m.\u001b[39mbmm(G\u001b[38;5;241m.\u001b[39mtranspose(\u001b[38;5;241m1\u001b[39m, \u001b[38;5;241m2\u001b[39m))\u001b[38;5;241m.\u001b[39msqueeze(\u001b[38;5;241m1\u001b[39m) \u001b[38;5;241m+\u001b[39m rs \u001b[38;5;241m/\u001b[39m d \u001b[38;5;241m-\u001b[39m rz), \u001b[38;5;241m1\u001b[39m)\n\u001b[1;32m    356\u001b[0m \u001b[38;5;28;01melse\u001b[39;00m:\n\u001b[0;32m--> 357\u001b[0m     h \u001b[38;5;241m=\u001b[39m \u001b[43minvQ_rx\u001b[49m\u001b[38;5;241;43m.\u001b[39;49m\u001b[43munsqueeze\u001b[49m\u001b[43m(\u001b[49m\u001b[38;5;241;43m1\u001b[39;49m\u001b[43m)\u001b[49m\u001b[38;5;241;43m.\u001b[39;49m\u001b[43mbmm\u001b[49m\u001b[43m(\u001b[49m\u001b[43mG\u001b[49m\u001b[38;5;241;43m.\u001b[39;49m\u001b[43mtranspose\u001b[49m\u001b[43m(\u001b[49m\u001b[38;5;241;43m1\u001b[39;49m\u001b[43m,\u001b[49m\u001b[43m \u001b[49m\u001b[38;5;241;43m2\u001b[39;49m\u001b[43m)\u001b[49m\u001b[43m)\u001b[49m\u001b[38;5;241;43m.\u001b[39;49m\u001b[43msqueeze\u001b[49m\u001b[43m(\u001b[49m\u001b[38;5;241;43m1\u001b[39;49m\u001b[43m)\u001b[49m\u001b[43m \u001b[49m\u001b[38;5;241;43m+\u001b[39;49m\u001b[43m \u001b[49m\u001b[43mrs\u001b[49m\u001b[43m \u001b[49m\u001b[38;5;241;43m/\u001b[39;49m\u001b[43m \u001b[49m\u001b[43md\u001b[49m\u001b[43m \u001b[49m\u001b[38;5;241;43m-\u001b[39;49m\u001b[43m \u001b[49m\u001b[43mrz\u001b[49m\n\u001b[1;32m    359\u001b[0m w \u001b[38;5;241m=\u001b[39m \u001b[38;5;241m-\u001b[39m(h\u001b[38;5;241m.\u001b[39munsqueeze(\u001b[38;5;241m2\u001b[39m)\u001b[38;5;241m.\u001b[39mlu_solve(\u001b[38;5;241m*\u001b[39mS_LU))\u001b[38;5;241m.\u001b[39msqueeze(\u001b[38;5;241m2\u001b[39m)\n\u001b[1;32m    361\u001b[0m g1 \u001b[38;5;241m=\u001b[39m \u001b[38;5;241m-\u001b[39mrx \u001b[38;5;241m-\u001b[39m w[:, neq:]\u001b[38;5;241m.\u001b[39munsqueeze(\u001b[38;5;241m1\u001b[39m)\u001b[38;5;241m.\u001b[39mbmm(G)\u001b[38;5;241m.\u001b[39msqueeze(\u001b[38;5;241m1\u001b[39m)\n",
      "\u001b[0;31mRuntimeError\u001b[0m: The size of tensor a (3) must match the size of tensor b (202) at non-singleton dimension 1"
     ]
    }
   ],
   "source": [
    "opt_cvar.end_loss_dist(Y_pred_original, torch.permute(torch.tensor(Y_test_dist), (1, 0, 2)))"
   ]
  },
  {
   "cell_type": "code",
   "execution_count": null,
   "metadata": {},
   "outputs": [],
   "source": []
  },
  {
   "cell_type": "code",
   "execution_count": 22,
   "metadata": {},
   "outputs": [],
   "source": [
    "zstar_pred_new = opt_cvar.forward(torch.permute(Y_pred_original, (1,0,2)))"
   ]
  },
  {
   "cell_type": "code",
   "execution_count": 23,
   "metadata": {},
   "outputs": [
    {
     "data": {
      "text/plain": [
       "tensor([[ 7.3330e+01,  8.4389e+01,  1.1276e+02,  2.1225e-14,  1.1709e+02],\n",
       "        [ 6.7217e+01,  9.0927e+01,  1.1521e+02,  2.0232e-14,  1.1385e+02],\n",
       "        [ 1.1074e+01,  1.0179e+02, -5.4336e-14, -2.2984e-14,  2.5212e+02],\n",
       "        [ 1.5634e+01,  1.3213e+02,  8.3355e+01,  4.7789e+01,  1.6134e+02]],\n",
       "       dtype=torch.float64, grad_fn=<SliceBackward0>)"
      ]
     },
     "execution_count": 23,
     "metadata": {},
     "output_type": "execute_result"
    }
   ],
   "source": [
    "zstar_pred_new"
   ]
  },
  {
   "cell_type": "code",
   "execution_count": 24,
   "metadata": {},
   "outputs": [],
   "source": [
    "alphastar_pred_new = opt_cvar.OP_Z.forward(torch.permute(Y_test_original.unsqueeze(0), (1,0,2)), zstar_pred_new)"
   ]
  },
  {
   "cell_type": "code",
   "execution_count": 25,
   "metadata": {},
   "outputs": [
    {
     "data": {
      "text/plain": [
       "tensor([1.6425e+02, 9.3361e+01, 1.0529e-14, 4.5766e-15], dtype=torch.float64,\n",
       "       grad_fn=<SelectBackward0>)"
      ]
     },
     "execution_count": 25,
     "metadata": {},
     "output_type": "execute_result"
    }
   ],
   "source": [
    "alphastar_pred_new"
   ]
  },
  {
   "cell_type": "code",
   "execution_count": 36,
   "metadata": {},
   "outputs": [
    {
     "name": "stdout",
     "output_type": "stream",
     "text": [
      "> \u001b[0;32m/tmp/ipykernel_256377/2293865252.py\u001b[0m(59)\u001b[0;36mminimize_cvar\u001b[0;34m()\u001b[0m\n",
      "\u001b[0;32m     57 \u001b[0;31m\u001b[0;34m\u001b[0m\u001b[0m\n",
      "\u001b[0m\u001b[0;32m     58 \u001b[0;31m\u001b[0;34m\u001b[0m\u001b[0m\n",
      "\u001b[0m\u001b[0;32m---> 59 \u001b[0;31m        \u001b[0;32mreturn\u001b[0m \u001b[0mzstar\u001b[0m\u001b[0;34m,\u001b[0m \u001b[0mustar\u001b[0m\u001b[0;34m,\u001b[0m \u001b[0malphastar\u001b[0m\u001b[0;34m,\u001b[0m \u001b[0mf_opt\u001b[0m\u001b[0;34m\u001b[0m\u001b[0;34m\u001b[0m\u001b[0m\n",
      "\u001b[0m\u001b[0;32m     60 \u001b[0;31m\u001b[0;34m\u001b[0m\u001b[0m\n",
      "\u001b[0m\u001b[0;32m     61 \u001b[0;31m\u001b[0;34m\u001b[0m\u001b[0m\n",
      "\u001b[0m\n",
      "ipdb> l\n",
      "\u001b[1;32m     54 \u001b[0m\u001b[0;34m\u001b[0m\u001b[0m\n",
      "\u001b[1;32m     55 \u001b[0m        \u001b[0;32mimport\u001b[0m \u001b[0mpdb\u001b[0m\u001b[0;34m\u001b[0m\u001b[0;34m\u001b[0m\u001b[0m\n",
      "\u001b[1;32m     56 \u001b[0m        \u001b[0mpdb\u001b[0m\u001b[0;34m.\u001b[0m\u001b[0mset_trace\u001b[0m\u001b[0;34m(\u001b[0m\u001b[0;34m)\u001b[0m\u001b[0;34m\u001b[0m\u001b[0;34m\u001b[0m\u001b[0m\n",
      "\u001b[1;32m     57 \u001b[0m\u001b[0;34m\u001b[0m\u001b[0m\n",
      "\u001b[1;32m     58 \u001b[0m\u001b[0;34m\u001b[0m\u001b[0m\n",
      "\u001b[0;32m---> 59 \u001b[0;31m        \u001b[0;32mreturn\u001b[0m \u001b[0mzstar\u001b[0m\u001b[0;34m,\u001b[0m \u001b[0mustar\u001b[0m\u001b[0;34m,\u001b[0m \u001b[0malphastar\u001b[0m\u001b[0;34m,\u001b[0m \u001b[0mf_opt\u001b[0m\u001b[0;34m\u001b[0m\u001b[0;34m\u001b[0m\u001b[0m\n",
      "\u001b[0m\u001b[1;32m     60 \u001b[0m\u001b[0;34m\u001b[0m\u001b[0m\n",
      "\u001b[1;32m     61 \u001b[0m\u001b[0;34m\u001b[0m\u001b[0m\n",
      "\u001b[1;32m     62 \u001b[0m    \u001b[0;32mdef\u001b[0m \u001b[0mminimize_cvar_dataset\u001b[0m\u001b[0;34m(\u001b[0m\u001b[0mself\u001b[0m\u001b[0;34m,\u001b[0m \u001b[0mY_dist\u001b[0m\u001b[0;34m)\u001b[0m\u001b[0;34m:\u001b[0m\u001b[0;34m\u001b[0m\u001b[0;34m\u001b[0m\u001b[0m\n",
      "\u001b[1;32m     63 \u001b[0m        \u001b[0mzstar\u001b[0m \u001b[0;34m=\u001b[0m \u001b[0mnp\u001b[0m\u001b[0;34m.\u001b[0m\u001b[0mzeros_like\u001b[0m\u001b[0;34m(\u001b[0m\u001b[0mY_dist\u001b[0m\u001b[0;34m[\u001b[0m\u001b[0;36m0\u001b[0m\u001b[0;34m]\u001b[0m\u001b[0;34m)\u001b[0m\u001b[0;34m\u001b[0m\u001b[0;34m\u001b[0m\u001b[0m\n",
      "\u001b[1;32m     64 \u001b[0m        \u001b[0;32mfor\u001b[0m \u001b[0mi\u001b[0m \u001b[0;32min\u001b[0m \u001b[0mrange\u001b[0m\u001b[0;34m(\u001b[0m\u001b[0;36m0\u001b[0m\u001b[0;34m,\u001b[0m \u001b[0mY_dist\u001b[0m\u001b[0;34m.\u001b[0m\u001b[0mshape\u001b[0m\u001b[0;34m[\u001b[0m\u001b[0;36m1\u001b[0m\u001b[0;34m]\u001b[0m\u001b[0;34m)\u001b[0m\u001b[0;34m:\u001b[0m\u001b[0;34m\u001b[0m\u001b[0;34m\u001b[0m\u001b[0m\n",
      "\n",
      "ipdb> zstar\n",
      "[0.0, 461.23839069272395, 0.0, 0.0, 0.0]\n",
      "ipdb> ustar\n",
      "[0.0, 0.0, 0.0, 0.0, 0.0, 0.0, 0.0, 0.0]\n",
      "ipdb> alphastar\n",
      "0.0\n",
      "ipdb> f_opt\n",
      "0.0\n",
      "ipdb> c\n",
      "> \u001b[0;32m/tmp/ipykernel_256377/2293865252.py\u001b[0m(59)\u001b[0;36mminimize_cvar\u001b[0;34m()\u001b[0m\n",
      "\u001b[0;32m     57 \u001b[0;31m\u001b[0;34m\u001b[0m\u001b[0m\n",
      "\u001b[0m\u001b[0;32m     58 \u001b[0;31m\u001b[0;34m\u001b[0m\u001b[0m\n",
      "\u001b[0m\u001b[0;32m---> 59 \u001b[0;31m        \u001b[0;32mreturn\u001b[0m \u001b[0mzstar\u001b[0m\u001b[0;34m,\u001b[0m \u001b[0mustar\u001b[0m\u001b[0;34m,\u001b[0m \u001b[0malphastar\u001b[0m\u001b[0;34m,\u001b[0m \u001b[0mf_opt\u001b[0m\u001b[0;34m\u001b[0m\u001b[0;34m\u001b[0m\u001b[0m\n",
      "\u001b[0m\u001b[0;32m     60 \u001b[0;31m\u001b[0;34m\u001b[0m\u001b[0m\n",
      "\u001b[0m\u001b[0;32m     61 \u001b[0;31m\u001b[0;34m\u001b[0m\u001b[0m\n",
      "\u001b[0m\n",
      "ipdb> zstar\n",
      "[0.0, 0.0, 345.19590618039325, 0.0, 0.0]\n",
      "ipdb> f_opt\n",
      "0.0\n",
      "ipdb> c\n",
      "> \u001b[0;32m/tmp/ipykernel_256377/2293865252.py\u001b[0m(59)\u001b[0;36mminimize_cvar\u001b[0;34m()\u001b[0m\n",
      "\u001b[0;32m     57 \u001b[0;31m\u001b[0;34m\u001b[0m\u001b[0m\n",
      "\u001b[0m\u001b[0;32m     58 \u001b[0;31m\u001b[0;34m\u001b[0m\u001b[0m\n",
      "\u001b[0m\u001b[0;32m---> 59 \u001b[0;31m        \u001b[0;32mreturn\u001b[0m \u001b[0mzstar\u001b[0m\u001b[0;34m,\u001b[0m \u001b[0mustar\u001b[0m\u001b[0;34m,\u001b[0m \u001b[0malphastar\u001b[0m\u001b[0;34m,\u001b[0m \u001b[0mf_opt\u001b[0m\u001b[0;34m\u001b[0m\u001b[0;34m\u001b[0m\u001b[0m\n",
      "\u001b[0m\u001b[0;32m     60 \u001b[0;31m\u001b[0;34m\u001b[0m\u001b[0m\n",
      "\u001b[0m\u001b[0;32m     61 \u001b[0;31m\u001b[0;34m\u001b[0m\u001b[0m\n",
      "\u001b[0m\n",
      "ipdb> f_opt\n",
      "7.5426861893795945\n",
      "ipdb> zstar\n",
      "[11.073807116514041, 101.79467917352267, 0.0, 0.0, 252.11989680561146]\n",
      "ipdb> c\n",
      "> \u001b[0;32m/tmp/ipykernel_256377/2293865252.py\u001b[0m(59)\u001b[0;36mminimize_cvar\u001b[0;34m()\u001b[0m\n",
      "\u001b[0;32m     57 \u001b[0;31m\u001b[0;34m\u001b[0m\u001b[0m\n",
      "\u001b[0m\u001b[0;32m     58 \u001b[0;31m\u001b[0;34m\u001b[0m\u001b[0m\n",
      "\u001b[0m\u001b[0;32m---> 59 \u001b[0;31m        \u001b[0;32mreturn\u001b[0m \u001b[0mzstar\u001b[0m\u001b[0;34m,\u001b[0m \u001b[0mustar\u001b[0m\u001b[0;34m,\u001b[0m \u001b[0malphastar\u001b[0m\u001b[0;34m,\u001b[0m \u001b[0mf_opt\u001b[0m\u001b[0;34m\u001b[0m\u001b[0;34m\u001b[0m\u001b[0m\n",
      "\u001b[0m\u001b[0;32m     60 \u001b[0;31m\u001b[0;34m\u001b[0m\u001b[0m\n",
      "\u001b[0m\u001b[0;32m     61 \u001b[0;31m\u001b[0;34m\u001b[0m\u001b[0m\n",
      "\u001b[0m\n",
      "ipdb> zstar\n",
      "[15.633513242640296, 132.13076345223345, 83.35474558230386, 47.789176756323606, 161.3364087676244]\n",
      "ipdb> f_opt\n",
      "27.472474440031593\n",
      "ipdb> exit\n"
     ]
    },
    {
     "ename": "BdbQuit",
     "evalue": "",
     "output_type": "error",
     "traceback": [
      "\u001b[0;31m---------------------------------------------------------------------------\u001b[0m",
      "\u001b[0;31mBdbQuit\u001b[0m                                   Traceback (most recent call last)",
      "Input \u001b[0;32mIn [36]\u001b[0m, in \u001b[0;36m<cell line: 1>\u001b[0;34m()\u001b[0m\n\u001b[0;32m----> 1\u001b[0m zstar_pred \u001b[38;5;241m=\u001b[39m \u001b[43mop_old\u001b[49m\u001b[38;5;241;43m.\u001b[39;49m\u001b[43mminimize_cvar_dataset\u001b[49m\u001b[43m(\u001b[49m\u001b[43mY_pred_original\u001b[49m\u001b[38;5;241;43m.\u001b[39;49m\u001b[43mdetach\u001b[49m\u001b[43m(\u001b[49m\u001b[43m)\u001b[49m\u001b[38;5;241;43m.\u001b[39;49m\u001b[43mnumpy\u001b[49m\u001b[43m(\u001b[49m\u001b[43m)\u001b[49m\u001b[43m)\u001b[49m\n\u001b[1;32m      2\u001b[0m alphastar_pred \u001b[38;5;241m=\u001b[39m op_old\u001b[38;5;241m.\u001b[39mminimize_cvar_given_z_dataset(np\u001b[38;5;241m.\u001b[39mexpand_dims(Y_test_original, \u001b[38;5;241m0\u001b[39m), zstar_pred)\n\u001b[1;32m      3\u001b[0m cvar_pred \u001b[38;5;241m=\u001b[39m op_old\u001b[38;5;241m.\u001b[39mcalc_cvar_dataset(np\u001b[38;5;241m.\u001b[39mexpand_dims(Y_test_original, \u001b[38;5;241m0\u001b[39m), zstar_pred, alphastar_pred)\n",
      "Input \u001b[0;32mIn [34]\u001b[0m, in \u001b[0;36mCVaROP.minimize_cvar_dataset\u001b[0;34m(self, Y_dist)\u001b[0m\n\u001b[1;32m     63\u001b[0m zstar \u001b[38;5;241m=\u001b[39m np\u001b[38;5;241m.\u001b[39mzeros_like(Y_dist[\u001b[38;5;241m0\u001b[39m])\n\u001b[1;32m     64\u001b[0m \u001b[38;5;28;01mfor\u001b[39;00m i \u001b[38;5;129;01min\u001b[39;00m \u001b[38;5;28mrange\u001b[39m(\u001b[38;5;241m0\u001b[39m, Y_dist\u001b[38;5;241m.\u001b[39mshape[\u001b[38;5;241m1\u001b[39m]):\n\u001b[0;32m---> 65\u001b[0m     zstar[i,:] , _, _, _ \u001b[38;5;241m=\u001b[39m \u001b[38;5;28;43mself\u001b[39;49m\u001b[38;5;241;43m.\u001b[39;49m\u001b[43mminimize_cvar\u001b[49m\u001b[43m(\u001b[49m\u001b[43mY_dist\u001b[49m\u001b[43m[\u001b[49m\u001b[43m:\u001b[49m\u001b[43m,\u001b[49m\u001b[43mi\u001b[49m\u001b[43m,\u001b[49m\u001b[43m:\u001b[49m\u001b[43m]\u001b[49m\u001b[43m)\u001b[49m       \n\u001b[1;32m     66\u001b[0m \u001b[38;5;28;01mreturn\u001b[39;00m zstar\n",
      "Input \u001b[0;32mIn [34]\u001b[0m, in \u001b[0;36mCVaROP.minimize_cvar\u001b[0;34m(self, y)\u001b[0m\n\u001b[1;32m     55\u001b[0m \u001b[38;5;28;01mimport\u001b[39;00m \u001b[38;5;21;01mpdb\u001b[39;00m\n\u001b[1;32m     56\u001b[0m pdb\u001b[38;5;241m.\u001b[39mset_trace()\n\u001b[0;32m---> 59\u001b[0m \u001b[38;5;28;01mreturn\u001b[39;00m \u001b[43mzstar\u001b[49m, ustar, alphastar, f_opt\n",
      "Input \u001b[0;32mIn [34]\u001b[0m, in \u001b[0;36mCVaROP.minimize_cvar\u001b[0;34m(self, y)\u001b[0m\n\u001b[1;32m     55\u001b[0m \u001b[38;5;28;01mimport\u001b[39;00m \u001b[38;5;21;01mpdb\u001b[39;00m\n\u001b[1;32m     56\u001b[0m pdb\u001b[38;5;241m.\u001b[39mset_trace()\n\u001b[0;32m---> 59\u001b[0m \u001b[38;5;28;01mreturn\u001b[39;00m \u001b[43mzstar\u001b[49m, ustar, alphastar, f_opt\n",
      "File \u001b[0;32m/usr/lib/python3.8/bdb.py:88\u001b[0m, in \u001b[0;36mBdb.trace_dispatch\u001b[0;34m(self, frame, event, arg)\u001b[0m\n\u001b[1;32m     86\u001b[0m     \u001b[38;5;28;01mreturn\u001b[39;00m \u001b[38;5;66;03m# None\u001b[39;00m\n\u001b[1;32m     87\u001b[0m \u001b[38;5;28;01mif\u001b[39;00m event \u001b[38;5;241m==\u001b[39m \u001b[38;5;124m'\u001b[39m\u001b[38;5;124mline\u001b[39m\u001b[38;5;124m'\u001b[39m:\n\u001b[0;32m---> 88\u001b[0m     \u001b[38;5;28;01mreturn\u001b[39;00m \u001b[38;5;28;43mself\u001b[39;49m\u001b[38;5;241;43m.\u001b[39;49m\u001b[43mdispatch_line\u001b[49m\u001b[43m(\u001b[49m\u001b[43mframe\u001b[49m\u001b[43m)\u001b[49m\n\u001b[1;32m     89\u001b[0m \u001b[38;5;28;01mif\u001b[39;00m event \u001b[38;5;241m==\u001b[39m \u001b[38;5;124m'\u001b[39m\u001b[38;5;124mcall\u001b[39m\u001b[38;5;124m'\u001b[39m:\n\u001b[1;32m     90\u001b[0m     \u001b[38;5;28;01mreturn\u001b[39;00m \u001b[38;5;28mself\u001b[39m\u001b[38;5;241m.\u001b[39mdispatch_call(frame, arg)\n",
      "File \u001b[0;32m/usr/lib/python3.8/bdb.py:113\u001b[0m, in \u001b[0;36mBdb.dispatch_line\u001b[0;34m(self, frame)\u001b[0m\n\u001b[1;32m    111\u001b[0m \u001b[38;5;28;01mif\u001b[39;00m \u001b[38;5;28mself\u001b[39m\u001b[38;5;241m.\u001b[39mstop_here(frame) \u001b[38;5;129;01mor\u001b[39;00m \u001b[38;5;28mself\u001b[39m\u001b[38;5;241m.\u001b[39mbreak_here(frame):\n\u001b[1;32m    112\u001b[0m     \u001b[38;5;28mself\u001b[39m\u001b[38;5;241m.\u001b[39muser_line(frame)\n\u001b[0;32m--> 113\u001b[0m     \u001b[38;5;28;01mif\u001b[39;00m \u001b[38;5;28mself\u001b[39m\u001b[38;5;241m.\u001b[39mquitting: \u001b[38;5;28;01mraise\u001b[39;00m BdbQuit\n\u001b[1;32m    114\u001b[0m \u001b[38;5;28;01mreturn\u001b[39;00m \u001b[38;5;28mself\u001b[39m\u001b[38;5;241m.\u001b[39mtrace_dispatch\n",
      "\u001b[0;31mBdbQuit\u001b[0m: "
     ]
    }
   ],
   "source": [
    "zstar_pred = op_old.minimize_cvar_dataset(Y_pred_original.detach().numpy())\n",
    "alphastar_pred = op_old.minimize_cvar_given_z_dataset(np.expand_dims(Y_test_original, 0), zstar_pred)\n",
    "cvar_pred = op_old.calc_cvar_dataset(np.expand_dims(Y_test_original, 0), zstar_pred, alphastar_pred)"
   ]
  },
  {
   "cell_type": "code",
   "execution_count": 32,
   "metadata": {},
   "outputs": [
    {
     "data": {
      "text/plain": [
       "array([[  0.        , 461.23839069,   0.        ,   0.        ,\n",
       "          0.        ],\n",
       "       [  0.        ,   0.        , 345.19590618,   0.        ,\n",
       "          0.        ],\n",
       "       [ 11.07380712, 101.79467917,   0.        ,   0.        ,\n",
       "        252.11989681],\n",
       "       [ 15.63351324, 132.13076345,  83.35474558,  47.78917676,\n",
       "        161.33640877]])"
      ]
     },
     "execution_count": 32,
     "metadata": {},
     "output_type": "execute_result"
    }
   ],
   "source": [
    "zstar_pred"
   ]
  },
  {
   "cell_type": "code",
   "execution_count": 28,
   "metadata": {},
   "outputs": [
    {
     "data": {
      "text/plain": [
       "array([346.91013, 280.73404,   0.     ,   0.     ], dtype=float32)"
      ]
     },
     "execution_count": 28,
     "metadata": {},
     "output_type": "execute_result"
    }
   ],
   "source": [
    "alphastar_pred"
   ]
  },
  {
   "cell_type": "code",
   "execution_count": 30,
   "metadata": {},
   "outputs": [
    {
     "data": {
      "text/plain": [
       "156.91104125976562"
      ]
     },
     "execution_count": 30,
     "metadata": {},
     "output_type": "execute_result"
    }
   ],
   "source": [
    "cvar_pred.mean()"
   ]
  },
  {
   "cell_type": "code",
   "execution_count": 37,
   "metadata": {},
   "outputs": [
    {
     "data": {
      "text/plain": [
       "array([ 0.18839605,  0.21680762,  0.28969057, -0.08941982,  0.30082463])"
      ]
     },
     "execution_count": 37,
     "metadata": {},
     "output_type": "execute_result"
    }
   ],
   "source": [
    "op_old.uy"
   ]
  },
  {
   "cell_type": "code",
   "execution_count": 24,
   "metadata": {},
   "outputs": [
    {
     "data": {
      "text/plain": [
       "array([100., 100., 100., 100.])"
      ]
     },
     "execution_count": 24,
     "metadata": {},
     "output_type": "execute_result"
    }
   ],
   "source": [
    "(zstar_pred*op_old.uy).sum(axis=1)"
   ]
  },
  {
   "cell_type": "code",
   "execution_count": 25,
   "metadata": {},
   "outputs": [
    {
     "data": {
      "text/plain": [
       "tensor([101.0000, 101.0000, 100.0000, 100.0000], dtype=torch.float64,\n",
       "       grad_fn=<SumBackward1>)"
      ]
     },
     "execution_count": 25,
     "metadata": {},
     "output_type": "execute_result"
    }
   ],
   "source": [
    "(zstar_pred_new*opt_cvar.uy).sum(axis=1)"
   ]
  },
  {
   "cell_type": "code",
   "execution_count": null,
   "metadata": {},
   "outputs": [],
   "source": []
  },
  {
   "cell_type": "code",
   "execution_count": null,
   "metadata": {},
   "outputs": [],
   "source": []
  },
  {
   "cell_type": "code",
   "execution_count": 35,
   "metadata": {},
   "outputs": [
    {
     "data": {
      "text/plain": [
       "array([384.86705589, 214.75938277,  69.39420483,  -6.3605234 ])"
      ]
     },
     "execution_count": 35,
     "metadata": {},
     "output_type": "execute_result"
    }
   ],
   "source": [
    "((Y_pred_original.mean(0)).detach().numpy()*zstar_pred).sum(1)"
   ]
  },
  {
   "cell_type": "code",
   "execution_count": 26,
   "metadata": {},
   "outputs": [
    {
     "data": {
      "text/plain": [
       "array([[  0.        , 461.23839069,   0.        ,   0.        ,\n",
       "          0.        ],\n",
       "       [  0.        ,   0.        , 345.19590618,   0.        ,\n",
       "          0.        ],\n",
       "       [ 11.07380712, 101.79467917,   0.        ,   0.        ,\n",
       "        252.11989681],\n",
       "       [ 15.63351324, 132.13076345,  83.35474558,  47.78917676,\n",
       "        161.33640877]])"
      ]
     },
     "execution_count": 26,
     "metadata": {},
     "output_type": "execute_result"
    }
   ],
   "source": [
    "zstar_pred"
   ]
  },
  {
   "cell_type": "code",
   "execution_count": null,
   "metadata": {},
   "outputs": [],
   "source": [
    "zstar_pred = opt_cvar.forward(Y_pred_original)\n",
    "alphastar_pred = op_old.minimize_cvar_given_z_dataset(np.expand_dims(Y_test_original, 0), zstar_pred)\n",
    "cvar_pred = op_old.calc_cvar_dataset(np.expand_dims(Y_test_original, 0), zstar_pred, alphastar_pred)"
   ]
  },
  {
   "cell_type": "code",
   "execution_count": null,
   "metadata": {},
   "outputs": [],
   "source": []
  },
  {
   "cell_type": "code",
   "execution_count": 47,
   "metadata": {},
   "outputs": [
    {
     "data": {
      "text/plain": [
       "array([6.16415948e-15, 3.94899537e+03, 3.62644610e+03, 4.84417479e+03,\n",
       "       4.83752559e+03, 4.89291048e+03, 8.26435561e+03, 5.53094399e+03,\n",
       "       5.34771620e+03, 3.18915729e+03, 4.30792665e+03, 5.98957556e+03,\n",
       "       4.85176412e+03, 2.29808733e-12, 2.52292449e+03, 4.08726661e+03,\n",
       "       1.79131885e+03, 2.77712095e-12, 3.26970287e-13, 6.33605259e-13])"
      ]
     },
     "execution_count": 47,
     "metadata": {},
     "output_type": "execute_result"
    }
   ],
   "source": [
    "(zstar_pred_new[1].detach().numpy() - zstar_pred[1])"
   ]
  },
  {
   "cell_type": "code",
   "execution_count": 58,
   "metadata": {},
   "outputs": [
    {
     "data": {
      "text/plain": [
       "tensor([1.0777e+03, 4.3437e+03, 2.3827e+03, 4.3540e+03, 5.5204e+03, 4.4254e+03,\n",
       "        5.3152e+03, 7.9586e+03, 5.0483e+03, 5.0448e+03, 4.2246e+03, 4.5593e+03,\n",
       "        4.4394e+02, 1.9223e+03, 2.8281e-12, 3.8541e+02, 1.2015e+03, 1.3990e-12,\n",
       "        8.0155e+02, 4.0557e+03], dtype=torch.float64,\n",
       "       grad_fn=<SelectBackward0>)"
      ]
     },
     "execution_count": 58,
     "metadata": {},
     "output_type": "execute_result"
    }
   ],
   "source": [
    "zstar_pred_new[5]"
   ]
  },
  {
   "cell_type": "code",
   "execution_count": 59,
   "metadata": {},
   "outputs": [
    {
     "data": {
      "text/plain": [
       "array([  0.        , 499.72849577,   0.        ,   0.        ,\n",
       "         0.        ,   0.        ,   0.        ,   0.        ,\n",
       "         0.        ,   0.        ,   0.        ,   0.        ,\n",
       "         0.        ,   0.        ,   0.        ,   0.        ,\n",
       "         0.        ,   0.        ,   0.        ,   0.        ])"
      ]
     },
     "execution_count": 59,
     "metadata": {},
     "output_type": "execute_result"
    }
   ],
   "source": [
    "zstar_pred[5]"
   ]
  },
  {
   "cell_type": "code",
   "execution_count": 30,
   "metadata": {},
   "outputs": [
    {
     "data": {
      "text/plain": [
       "array([199.69296265,   0.        ,   0.        , ...,   0.        ,\n",
       "         0.        ,   0.        ])"
      ]
     },
     "execution_count": 30,
     "metadata": {},
     "output_type": "execute_result"
    }
   ],
   "source": [
    "cvar_pred"
   ]
  },
  {
   "cell_type": "code",
   "execution_count": null,
   "metadata": {},
   "outputs": [],
   "source": []
  },
  {
   "cell_type": "code",
   "execution_count": null,
   "metadata": {},
   "outputs": [],
   "source": [
    "cvar_pred.mean()"
   ]
  },
  {
   "cell_type": "code",
   "execution_count": 37,
   "metadata": {},
   "outputs": [],
   "source": [
    "zstar_test = op_solver_dist.minimize_cvar_dataset(np.expand_dims(Y_test_original, 0))\n",
    "alphastar_test = op_solver_dist.minimize_cvar_given_z_dataset(np.expand_dims(Y_test_original, 0), zstar_test)\n",
    "cvar_test = op_solver_dist.calc_cvar_dataset(np.expand_dims(Y_test_original, 0), zstar_test, alphastar_test)"
   ]
  },
  {
   "cell_type": "code",
   "execution_count": 38,
   "metadata": {},
   "outputs": [
    {
     "data": {
      "text/plain": [
       "2.130949"
      ]
     },
     "execution_count": 38,
     "metadata": {},
     "output_type": "execute_result"
    }
   ],
   "source": [
    "cvar_test.mean()"
   ]
  },
  {
   "cell_type": "code",
   "execution_count": null,
   "metadata": {},
   "outputs": [],
   "source": []
  },
  {
   "cell_type": "code",
   "execution_count": 81,
   "metadata": {},
   "outputs": [],
   "source": [
    "cvar_pred = alphastar_pred + (1/(1-beta))*(np.maximum(-((Y_dist*zstar_pred).sum(2)) - alphastar_pred, 0)).mean(0)"
   ]
  },
  {
   "cell_type": "code",
   "execution_count": 82,
   "metadata": {},
   "outputs": [],
   "source": [
    "f_pred_dataset = cvar_pred.mean()"
   ]
  },
  {
   "cell_type": "code",
   "execution_count": 83,
   "metadata": {},
   "outputs": [],
   "source": [
    "fair_regret = f_pred_dataset - op_solver.cvarstar.mean()"
   ]
  },
  {
   "cell_type": "code",
   "execution_count": 84,
   "metadata": {},
   "outputs": [
    {
     "data": {
      "text/plain": [
       "4.802389564712255"
      ]
     },
     "execution_count": 84,
     "metadata": {},
     "output_type": "execute_result"
    }
   ],
   "source": [
    "fair_regret"
   ]
  },
  {
   "cell_type": "code",
   "execution_count": 15,
   "metadata": {},
   "outputs": [
    {
     "data": {
      "text/plain": [
       "array([14.53573779, 15.40195475, 16.40051164, 15.38380813, 14.62208475,\n",
       "       17.06472651, 16.73093918, 15.48154203, 15.9300598 , 16.2041831 ,\n",
       "       15.73938929, 16.89708193, 15.03783049, 15.81537838, 16.31737609,\n",
       "       15.29510803, 16.09471929, 14.65658093, 15.2551622 , 15.96507641,\n",
       "       17.64164752, 17.32653127, 14.25618879, 13.61590662, 16.92963039,\n",
       "       15.39177444, 15.94804965, 15.49853349, 17.32618356, 15.23503582,\n",
       "       15.87627014, 15.36836605, 16.97589351, 14.78739717, 16.26122729,\n",
       "       18.07661054, 15.84807938, 14.6334357 , 16.64567533, 15.43718012,\n",
       "       15.94837282, 14.39151073, 16.18164058, 14.63956316, 16.72973545,\n",
       "       17.41537503, 15.88181541, 16.850747  , 15.30816212, 13.10728099,\n",
       "       13.95678749, 15.29048891, 15.62895434, 16.26142701, 15.8916077 ,\n",
       "       15.7978594 , 16.34415953, 15.10308489, 15.14827456, 15.24617177,\n",
       "       16.37071953, 15.95829432, 14.10051356, 14.39860641, 14.34294722,\n",
       "       15.74917112, 14.66477814, 15.33982245, 16.17635938, 14.5994524 ,\n",
       "       13.63078824, 15.39485614, 16.61711091, 16.98395468, 16.21434582,\n",
       "       15.29373117, 16.36961464, 15.74775808, 15.01526512, 17.13459698,\n",
       "       15.45034484, 15.1827406 , 15.48889267, 14.24839548, 15.0234797 ,\n",
       "       14.75704804, 16.72985242, 16.22222071, 15.42908962, 16.15440502,\n",
       "       14.73715659, 14.92861694, 14.59834527, 15.94903166, 14.97280463,\n",
       "       16.12666469, 15.85478356, 16.12775115, 17.61921453, 15.13716151,\n",
       "       15.55914814, 14.68646876, 16.2490466 , 16.4243598 , 16.20447389,\n",
       "       13.5821226 , 15.46906517, 14.94596176, 14.94449869, 15.76808998,\n",
       "       16.83109677, 15.92657028, 17.77845125, 16.82730919, 15.98925331,\n",
       "       16.53792158, 16.08700307, 14.14401402, 16.13224824, 16.04741507,\n",
       "       16.16082931, 16.68712277, 15.62180046, 16.59127841, 15.62104029,\n",
       "       16.79014649, 16.14393506, 16.45718484, 15.09090037, 15.49622565,\n",
       "       17.1136171 , 14.21184486, 15.74794427, 17.11480273, 14.7323604 ,\n",
       "       15.48428125, 16.52498949, 17.41962655, 15.76311401, 16.6370247 ,\n",
       "       15.0772382 , 16.56578151, 15.61733932, 16.40572484, 15.3776559 ,\n",
       "       15.04358443, 15.00642913, 15.27411256, 16.342771  , 15.02578223,\n",
       "       13.7697141 , 15.0515162 , 16.9376275 , 16.27017654, 16.24278336,\n",
       "       15.81989426, 15.12690371, 17.10065502, 16.77441868, 15.45189608,\n",
       "       15.02799783, 14.4869307 , 15.8559119 , 16.24872008, 15.38831587,\n",
       "       14.74586523, 13.74606732, 15.30920105, 16.39239744, 16.03718482,\n",
       "       13.81928184, 16.42479664, 16.17273561, 17.07392436, 16.22504457,\n",
       "       17.06891023, 14.69913464, 16.20149912, 14.48344402, 16.16146065,\n",
       "       15.10015067, 15.66162718, 15.29937644, 15.50335374, 16.24717831,\n",
       "       17.63565487, 14.40127428, 18.9567433 , 15.51360387, 15.41339392,\n",
       "       16.56686272, 16.16111148, 15.61130915, 15.43458618, 14.84969669,\n",
       "       15.9883311 , 14.6108202 , 15.60105116, 13.78254792, 15.79676157,\n",
       "       14.35052878, 15.13869352, 16.45970562, 15.27592163, 17.07187512,\n",
       "       15.19615035, 15.69190315, 16.89550196, 15.27769934, 14.85679098,\n",
       "       16.79092817, 14.95202472, 16.54739655, 16.85449473, 15.66113831,\n",
       "       16.59675491, 15.40647386, 17.00544105, 13.60121857, 17.07522964,\n",
       "       15.5686303 , 15.42604948, 16.14804291, 17.48110411, 15.7255787 ,\n",
       "       16.4480184 , 15.87909219, 15.59595856, 15.51736528, 14.98452002,\n",
       "       17.20766681, 16.32577569, 16.14045233, 16.12265581, 15.15105462,\n",
       "       15.60951363, 15.71945083, 16.04307218, 14.28856362, 15.57313262,\n",
       "       16.32731852, 15.38245547, 15.68291066, 13.33101911, 17.51158542,\n",
       "       14.86157689, 14.53361025, 16.75771281, 15.55004833, 14.39429266,\n",
       "       16.77543249, 15.82619986, 14.3289117 , 14.84427635, 16.57841087,\n",
       "       16.08178232, 16.9019058 , 17.62467559, 14.19813502, 15.35815268,\n",
       "       15.35921301, 16.14898512, 17.00468538, 15.71205924, 14.03707021,\n",
       "       15.70307107, 16.77212997, 15.41579596, 14.74063217, 15.39524693,\n",
       "       14.35139928, 15.21094359, 13.27334675, 13.96830881, 14.82058687,\n",
       "       17.10976431, 15.41705344, 14.72236735, 15.03868417, 17.12617272,\n",
       "       14.69316009, 16.23674715, 14.99511971, 14.75671594, 16.50485695,\n",
       "       17.24123972, 14.97803242, 15.15729956, 17.48972662, 14.38720696,\n",
       "       15.48912657, 15.9956389 , 16.34047261, 16.77727595, 16.95111119,\n",
       "       15.76638984, 15.34399289, 15.42636537, 16.83734273, 15.14241106,\n",
       "       15.15114264, 15.55230568, 15.02970716, 14.74949299, 16.85122255,\n",
       "       15.89062981, 15.2096003 , 16.60830336, 16.64647592, 16.11383514,\n",
       "       15.06691152, 14.91492207, 14.07577248, 16.71524235, 14.9799151 ,\n",
       "       14.68194561, 16.33006051, 15.68783112, 16.30094058, 16.08802872,\n",
       "       15.49532665, 14.69717071, 14.56692913, 17.37366751, 14.93565638,\n",
       "       16.51521689, 15.80010116, 16.46241531, 14.53737391, 15.26949569,\n",
       "       15.38861038, 16.17499656, 15.59216652, 16.43925224, 13.58103243,\n",
       "       14.9769778 , 17.16167416, 14.87897612, 15.2802265 , 15.46319896,\n",
       "       16.39822626, 16.22261198, 15.62896912, 14.58239645, 14.72912162,\n",
       "       16.62200716, 16.17093326, 17.70543861, 17.4574933 , 17.09297341,\n",
       "       14.93213666, 15.03822736, 16.27880086, 15.87270883, 16.39271726,\n",
       "       16.64467649, 15.8284168 , 16.29378188, 15.54809331, 15.5306057 ,\n",
       "       15.3100665 , 13.82835064, 15.21083646, 16.6434413 , 16.45515794,\n",
       "       14.15669256, 13.63397292, 14.32457437, 14.93013092, 16.11556836,\n",
       "       17.64249124, 15.93291978, 16.29293481, 15.70189708, 16.20288341,\n",
       "       12.86057514, 16.01458427, 15.13818792, 16.22224127, 16.02008626,\n",
       "       13.96037095, 15.70658059, 16.65312642, 16.64926399, 16.313873  ,\n",
       "       13.4408429 , 16.15343754, 17.31962118, 15.3962265 , 14.36887686,\n",
       "       14.8960751 , 16.13801839, 15.63594035, 15.41614189, 16.22634886,\n",
       "       14.88727531, 14.83982095, 16.21043759, 15.17857943, 17.02557657,\n",
       "       16.21300889, 14.98440202, 15.27149544, 14.75863688, 15.41738276,\n",
       "       14.19079475, 13.51299427, 15.89673206, 17.07961274, 16.12431763,\n",
       "       13.91051839, 16.59379801, 13.36934586, 16.69444021, 14.93162178,\n",
       "       15.73295765, 15.0665279 , 15.82196592, 15.52974649, 15.05799756,\n",
       "       15.89586334, 16.46682524, 15.83723489, 15.9847781 , 15.17512974,\n",
       "       15.16428878, 13.74499493, 15.89967493, 15.93046298, 15.93852754,\n",
       "       14.39947324, 16.41624996, 16.0866478 , 15.29932501, 16.47464724,\n",
       "       16.15319113, 15.35520247, 16.77901445, 14.15129582, 15.97412945,\n",
       "       15.23175816, 15.78936307, 16.19628326, 15.58542799, 15.29990229,\n",
       "       16.04730919, 15.84256654, 15.6937996 , 13.68945244, 14.1425305 ,\n",
       "       15.26307581, 16.07008818, 16.38181119, 17.61611272, 15.3950941 ,\n",
       "       15.99366853, 13.06965083, 18.70364294, 16.24840484, 15.14245855,\n",
       "       14.00857372, 15.70790454, 14.87589834, 15.54325138, 15.61387092,\n",
       "       17.05107989, 16.12044965, 13.88356785, 15.56977713, 15.86906776,\n",
       "       15.37679287, 17.24708088, 16.21005615, 15.01261883, 17.40355531,\n",
       "       16.34889163, 14.89444425, 15.84764236, 15.68120545, 14.81516194,\n",
       "       16.28734293, 16.03653709, 13.65618418, 15.77180426, 16.41997548,\n",
       "       17.16560261, 16.31526597, 15.44489429, 15.90043666, 15.49680578,\n",
       "       15.53812863, 15.54343647, 17.0974428 , 15.19153458, 15.29938564,\n",
       "       15.54909789, 16.7503738 , 15.60746817, 16.06183342, 14.62393487,\n",
       "       16.16760471, 14.27126356, 14.95734179, 15.74748282, 16.08564968,\n",
       "       17.01146588, 15.58357971, 15.52201569, 15.52370729, 15.81396186,\n",
       "       15.21305931, 16.48257754, 14.77836473, 14.61718679, 16.24516809,\n",
       "       16.9367383 , 17.08560536, 15.51670898, 15.0308338 , 16.27971722,\n",
       "       16.17726723, 15.5717073 , 16.28381365, 17.17955193, 16.73632098,\n",
       "       15.49533111, 17.02818731, 16.70239316, 17.67588233, 16.53140164,\n",
       "       14.01567205, 16.45297869, 12.72704361, 15.18071258, 15.55563751,\n",
       "       16.27142978, 15.55722044, 14.88051962, 16.14534199, 15.21578304,\n",
       "       16.19542415, 14.8636964 , 17.8663777 , 13.35386257, 14.90907406,\n",
       "       15.46362334, 16.56812475, 14.91269288, 15.42964501, 15.43661766,\n",
       "       15.88327249, 13.64150273, 15.13707438, 16.82244636, 15.14982386,\n",
       "       15.84158019, 16.03404636, 16.0282799 , 14.7866076 , 15.38521502,\n",
       "       16.9544462 , 14.64281223, 14.08679626, 16.21916311, 15.92638197,\n",
       "       14.78551349, 14.84703797, 14.87977351, 14.63045829, 16.43299405,\n",
       "       15.99492808, 15.76560876, 15.22196463, 15.52923781, 15.97023426,\n",
       "       16.80397333, 17.30555373, 15.83739688, 16.11112542, 13.7524712 ,\n",
       "       14.86026096, 14.2270935 , 16.54474075, 16.70665697, 15.91735839,\n",
       "       14.98106324, 16.07622141, 16.55644382, 15.9803589 , 15.37064564,\n",
       "       14.94446911, 15.94910838, 15.97499533, 16.57247119, 16.30905007,\n",
       "       14.63938562, 15.78413034, 13.69111278, 14.62795726, 17.2032074 ,\n",
       "       16.08690824, 15.79445526, 17.14147726, 17.74588255, 16.21773174,\n",
       "       15.24711049, 16.3476505 , 15.35553536, 16.21505774, 15.91610756,\n",
       "       15.68312661, 16.54676037, 15.70157453, 15.79191793, 16.72512235,\n",
       "       15.63655627, 15.63428632, 14.94845261, 15.61288552, 15.62640475,\n",
       "       15.75198043, 15.31613583, 15.80223224, 16.50946467, 14.90568612,\n",
       "       15.89102453, 13.59879954, 16.61220769, 15.839826  , 15.25319968,\n",
       "       15.89763533, 15.37393829, 14.51884483, 14.95582879, 14.62703767,\n",
       "       18.53202625, 14.33463258, 15.56990628, 15.7803059 , 15.63896272,\n",
       "       17.13143286, 14.81839831, 15.41397022, 15.24617843, 13.83070854,\n",
       "       15.44835802, 14.32301591, 15.04184844, 15.75125156, 15.35430777,\n",
       "       15.76402178, 16.71511105, 16.35534572, 16.09728415, 16.73318609,\n",
       "       15.39781165, 14.46012281, 17.68931966, 14.8805061 , 15.1578053 ,\n",
       "       15.62888045, 16.3277744 , 15.60887582, 16.42288019, 16.35140013,\n",
       "       16.88296693, 16.47079144, 15.97094106, 16.01097125, 15.19272935,\n",
       "       16.19441706, 15.99415619, 15.13373663, 17.87267019, 15.79909377,\n",
       "       15.38388439, 15.44630522, 16.53353014, 15.82682216, 14.43589915,\n",
       "       17.25911582, 16.24951426, 16.65291747, 16.66967287, 17.84911453,\n",
       "       16.71593174, 16.00809616, 15.74177753, 14.91596241, 15.6288338 ,\n",
       "       16.29163042, 14.73236227, 15.20046389, 15.2485664 , 16.66426293,\n",
       "       15.36414771, 16.68228721, 17.49920439, 14.51764646, 16.29688066,\n",
       "       16.99887889, 15.62546565, 15.5919368 , 15.57181481, 17.11624018,\n",
       "       15.17058718, 17.28277267, 16.90643485, 15.71718883, 15.3231797 ,\n",
       "       16.19388327, 14.38127396, 15.97977976, 17.52368478, 16.41454154,\n",
       "       15.13466409, 13.91261907, 15.23759064, 16.41346385, 16.07613685,\n",
       "       16.02831864, 14.86284511, 15.25895548, 17.07066632, 16.22740676,\n",
       "       17.09663037, 16.34779323, 15.62878574, 16.0256232 , 14.94055346,\n",
       "       15.20867444, 14.29259303, 15.92666693, 15.28415955, 15.93197579,\n",
       "       14.62676732, 16.08587862, 14.04189081, 17.15836242, 16.35303418,\n",
       "       14.36968814, 14.35292989, 17.78581235, 16.87866208, 15.33294734,\n",
       "       15.47436152, 15.07791866, 15.05707636, 15.69236649, 15.67020705,\n",
       "       16.01737973, 15.0169885 , 14.20290402, 15.94856324, 15.77965965,\n",
       "       16.54745907, 15.60398533, 15.43390113, 15.37039496, 15.98664273,\n",
       "       15.73145647, 15.75071418, 14.13509382, 14.42782664, 15.85827108,\n",
       "       14.81105369, 16.00465939, 14.937313  , 15.36910871, 16.94589322,\n",
       "       15.65114561, 14.74589848, 15.153846  , 15.93792947, 14.79743768,\n",
       "       14.872119  , 16.59072294, 15.9067689 , 15.71361909, 17.06891628,\n",
       "       15.10163509, 15.50924607, 16.2037349 , 16.95652793, 17.87073144,\n",
       "       14.45926538, 16.8652862 , 16.38435284, 14.45825897, 14.17973314,\n",
       "       16.64054057, 15.06902579, 14.88102512, 15.27296022, 15.50721519,\n",
       "       15.1185326 , 16.14142325, 15.57883303, 15.96439865, 15.7808458 ,\n",
       "       15.43558356, 14.69187003, 15.81985022, 15.3222791 , 17.59930887,\n",
       "       16.61303477, 15.98808382, 13.75037454, 13.55938652, 17.3044834 ,\n",
       "       15.30299726, 16.45153475, 16.88112065, 15.24229426, 15.04588333,\n",
       "       14.43735838, 15.75914699, 15.11134598, 15.83312825, 14.34997031,\n",
       "       15.69033988, 15.81981411, 14.92140232, 15.23809224, 17.4812409 ,\n",
       "       16.48818463, 16.46205374, 15.92066038, 15.4435076 , 15.70954138,\n",
       "       14.95640955, 16.47374583, 17.66443675, 15.50913556, 17.59823202,\n",
       "       15.96520921, 15.81484022, 15.12930567, 15.93185234, 14.51354173,\n",
       "       15.53337332, 16.53609962, 16.91434088, 17.12612936, 15.35610242,\n",
       "       15.52447951, 15.730888  , 15.66299774, 15.71942127, 16.61700076,\n",
       "       16.26087496, 14.90254152, 15.94560807, 14.74055812, 15.96074148,\n",
       "       15.45577839, 14.11359445, 15.74423439, 15.62342572, 15.21076438,\n",
       "       15.65406218, 14.91646822, 13.67104605, 15.47033114, 16.16360674,\n",
       "       14.45775447, 16.72404523, 16.16360331, 15.988579  , 16.13592186,\n",
       "       15.2369427 , 16.37960442, 17.25908612, 14.91927095, 16.08740159,\n",
       "       15.80385427, 16.90726367, 18.2806117 , 15.24710556, 15.18647672,\n",
       "       15.67501095, 16.11392634, 16.09542101, 14.8867006 , 15.46063697,\n",
       "       16.55930751, 16.02220436, 15.58668206, 14.79210671, 16.26840733,\n",
       "       15.16854269, 16.73623058, 14.55651232, 17.39464401, 16.52891771,\n",
       "       15.62714888, 16.72291056, 16.33438788, 16.35069973, 15.32146128,\n",
       "       16.46491721, 17.30517389, 15.11659622, 17.01080209, 16.72775881,\n",
       "       16.52625109, 14.14909684, 15.05441311, 15.52689339, 13.05801082,\n",
       "       14.25684444, 15.59505258, 15.77544552, 15.99238179, 15.50386785,\n",
       "       14.99720494, 17.57660113, 16.08143079, 13.91368043, 16.28056379,\n",
       "       16.52394818, 15.8730179 , 16.32917241, 15.90489676, 15.67583592,\n",
       "       15.77421204, 15.28674401, 14.47985744, 14.5637489 , 14.6150769 ,\n",
       "       16.84243433, 17.77131345, 16.8849791 , 14.79046018, 15.87572721,\n",
       "       16.07082523, 14.963344  , 14.34517731, 16.05044396, 14.73007934,\n",
       "       14.79520252, 15.5785858 , 15.75194193, 13.39613226, 16.1955087 ,\n",
       "       15.70801457, 15.67199034, 15.81129922, 16.37841734, 17.7580776 ,\n",
       "       16.40505565, 16.45460716, 17.22512239, 15.86356242, 15.17390678,\n",
       "       17.09153291, 16.46014941, 16.16188638, 15.72487271, 16.21588926,\n",
       "       14.99714492, 15.29256099, 15.74987119, 16.90720264, 16.01980595,\n",
       "       15.32062621, 16.27869237, 15.45029961, 14.78273129, 13.88364388,\n",
       "       15.4693066 , 14.85553711, 16.54452333, 15.62824962, 14.52730973,\n",
       "       15.93220569, 15.84216524, 13.94549181, 15.96734431, 15.80922051,\n",
       "       16.38978239, 15.33989475, 15.27163818, 16.3517745 , 16.65275509,\n",
       "       17.50128999, 17.09313532, 16.42733121, 16.7473364 , 15.8256448 ,\n",
       "       16.15658706, 13.96249537, 16.16954702, 15.48372424, 16.56645538,\n",
       "       14.35020965, 15.77685472, 16.74005147, 16.37984194, 15.7901719 ])"
      ]
     },
     "execution_count": 15,
     "metadata": {},
     "output_type": "execute_result"
    }
   ],
   "source": [
    "op_solver.alphastar + (1/(1-beta))*(np.maximum(-((Y_dist*op_solver.zstar).sum(2)) - op_solver.alphastar, 0)).mean(0)"
   ]
  },
  {
   "cell_type": "code",
   "execution_count": null,
   "metadata": {},
   "outputs": [],
   "source": []
  },
  {
   "cell_type": "code",
   "execution_count": null,
   "metadata": {},
   "outputs": [],
   "source": []
  },
  {
   "cell_type": "code",
   "execution_count": null,
   "metadata": {},
   "outputs": [],
   "source": []
  },
  {
   "cell_type": "code",
   "execution_count": null,
   "metadata": {},
   "outputs": [],
   "source": []
  },
  {
   "cell_type": "code",
   "execution_count": null,
   "metadata": {},
   "outputs": [],
   "source": []
  },
  {
   "cell_type": "code",
   "execution_count": null,
   "metadata": {},
   "outputs": [],
   "source": []
  },
  {
   "cell_type": "code",
   "execution_count": null,
   "metadata": {},
   "outputs": [],
   "source": []
  },
  {
   "cell_type": "code",
   "execution_count": null,
   "metadata": {},
   "outputs": [],
   "source": []
  },
  {
   "cell_type": "code",
   "execution_count": null,
   "metadata": {},
   "outputs": [],
   "source": []
  },
  {
   "cell_type": "code",
   "execution_count": null,
   "metadata": {},
   "outputs": [],
   "source": []
  },
  {
   "cell_type": "code",
   "execution_count": null,
   "metadata": {},
   "outputs": [],
   "source": []
  },
  {
   "cell_type": "code",
   "execution_count": null,
   "metadata": {},
   "outputs": [],
   "source": [
    "def compute_cvar(alpha, z, y):\n",
    "    "
   ]
  },
  {
   "cell_type": "code",
   "execution_count": 154,
   "metadata": {},
   "outputs": [
    {
     "data": {
      "text/plain": [
       "(1000, 1000, 20)"
      ]
     },
     "execution_count": 154,
     "metadata": {},
     "output_type": "execute_result"
    }
   ],
   "source": [
    "1/(Y_dist.shape[0]*(1-beta)) * Y_dist"
   ]
  },
  {
   "cell_type": "code",
   "execution_count": null,
   "metadata": {},
   "outputs": [],
   "source": [
    "Y_dist"
   ]
  },
  {
   "cell_type": "code",
   "execution_count": 159,
   "metadata": {},
   "outputs": [
    {
     "data": {
      "text/plain": [
       "array([[[-0.00000000e+00, -0.00000000e+00, -0.00000000e+00, ...,\n",
       "          0.00000000e+00,  0.00000000e+00,  0.00000000e+00],\n",
       "        [-0.00000000e+00, -8.01762101e-02,  0.00000000e+00, ...,\n",
       "         -0.00000000e+00, -0.00000000e+00,  7.26688064e-01],\n",
       "        [-2.77114335e-01, -3.74680090e-01, -0.00000000e+00, ...,\n",
       "         -0.00000000e+00, -0.00000000e+00, -3.38799630e+00],\n",
       "        ...,\n",
       "        [-1.75644780e-02, -2.58917253e+00, -0.00000000e+00, ...,\n",
       "          5.05400752e+00, -3.07404112e-01, -3.07341864e+00],\n",
       "        [-5.71981859e-01, -0.00000000e+00, -0.00000000e+00, ...,\n",
       "         -0.00000000e+00,  1.60096702e-01,  0.00000000e+00],\n",
       "        [-3.02333994e-02, -0.00000000e+00, -0.00000000e+00, ...,\n",
       "          0.00000000e+00,  2.50841331e+00,  7.44609135e-02]],\n",
       "\n",
       "       [[ 0.00000000e+00,  0.00000000e+00,  0.00000000e+00, ...,\n",
       "          0.00000000e+00,  0.00000000e+00,  0.00000000e+00],\n",
       "        [ 0.00000000e+00,  1.62525526e-01,  0.00000000e+00, ...,\n",
       "          0.00000000e+00,  0.00000000e+00,  3.11571247e+00],\n",
       "        [ 5.37112902e-01,  5.78828293e-01,  0.00000000e+00, ...,\n",
       "         -0.00000000e+00, -0.00000000e+00, -1.85033639e+00],\n",
       "        ...,\n",
       "        [-9.34473886e-04,  4.64022749e-01,  0.00000000e+00, ...,\n",
       "         -2.75662882e+00, -5.24644446e-01, -3.78502326e+00],\n",
       "        [-9.36699709e-02,  0.00000000e+00,  0.00000000e+00, ...,\n",
       "         -0.00000000e+00, -1.47413165e+00, -0.00000000e+00],\n",
       "        [ 3.61699115e-02,  0.00000000e+00,  0.00000000e+00, ...,\n",
       "          0.00000000e+00,  1.21541736e+00,  2.26188310e-02]],\n",
       "\n",
       "       [[-0.00000000e+00, -0.00000000e+00, -0.00000000e+00, ...,\n",
       "          0.00000000e+00,  0.00000000e+00,  0.00000000e+00],\n",
       "        [ 0.00000000e+00,  1.93620420e-01,  0.00000000e+00, ...,\n",
       "          0.00000000e+00,  0.00000000e+00,  3.31201001e+00],\n",
       "        [-4.58780029e-01, -3.09139579e-01, -0.00000000e+00, ...,\n",
       "         -0.00000000e+00, -0.00000000e+00, -4.15892794e+00],\n",
       "        ...,\n",
       "        [-1.53897560e-02, -7.91444192e-01, -0.00000000e+00, ...,\n",
       "          3.24081843e+00,  7.82889514e-01,  4.47576411e+00],\n",
       "        [-6.93203218e-01,  0.00000000e+00, -0.00000000e+00, ...,\n",
       "          0.00000000e+00,  1.37293120e+00,  0.00000000e+00],\n",
       "        [-2.44973506e-02, -0.00000000e+00, -0.00000000e+00, ...,\n",
       "          0.00000000e+00,  5.12774169e+00,  6.39930574e-01]],\n",
       "\n",
       "       ...,\n",
       "\n",
       "       [[-0.00000000e+00, -0.00000000e+00, -0.00000000e+00, ...,\n",
       "         -0.00000000e+00, -0.00000000e+00, -0.00000000e+00],\n",
       "        [ 0.00000000e+00,  1.44890369e-01,  0.00000000e+00, ...,\n",
       "         -0.00000000e+00,  0.00000000e+00,  3.80333387e+00],\n",
       "        [-1.14047911e-01,  5.69750445e-01,  0.00000000e+00, ...,\n",
       "          0.00000000e+00,  0.00000000e+00,  3.38305370e+00],\n",
       "        ...,\n",
       "        [-8.90717991e-03,  1.29717127e+00,  0.00000000e+00, ...,\n",
       "          2.44052863e+00,  7.31298365e-01,  5.71228728e+00],\n",
       "        [ 8.38310342e-01,  0.00000000e+00,  0.00000000e+00, ...,\n",
       "          0.00000000e+00,  1.46065204e+00,  0.00000000e+00],\n",
       "        [ 1.78787216e-02,  0.00000000e+00,  0.00000000e+00, ...,\n",
       "         -0.00000000e+00, -8.54458504e-01,  1.08746830e+00]],\n",
       "\n",
       "       [[ 0.00000000e+00,  0.00000000e+00,  0.00000000e+00, ...,\n",
       "          0.00000000e+00,  0.00000000e+00,  0.00000000e+00],\n",
       "        [-0.00000000e+00, -1.17895886e-01, -0.00000000e+00, ...,\n",
       "         -0.00000000e+00, -0.00000000e+00, -3.47067821e+00],\n",
       "        [ 6.21487724e-01,  4.38203753e-01,  0.00000000e+00, ...,\n",
       "          0.00000000e+00,  0.00000000e+00,  2.42454022e+00],\n",
       "        ...,\n",
       "        [-1.33264571e-02, -4.19384580e+00, -0.00000000e+00, ...,\n",
       "         -1.33922624e+00, -2.15082860e-01,  2.24329472e+00],\n",
       "        [ 1.33495971e+00,  0.00000000e+00,  0.00000000e+00, ...,\n",
       "          0.00000000e+00,  1.88399782e+00,  0.00000000e+00],\n",
       "        [-6.35361318e-03, -0.00000000e+00, -0.00000000e+00, ...,\n",
       "         -0.00000000e+00, -6.42418528e-01, -6.22516443e-02]],\n",
       "\n",
       "       [[-0.00000000e+00, -0.00000000e+00, -0.00000000e+00, ...,\n",
       "         -0.00000000e+00, -0.00000000e+00, -0.00000000e+00],\n",
       "        [ 0.00000000e+00,  1.30943018e-01,  0.00000000e+00, ...,\n",
       "          0.00000000e+00,  0.00000000e+00,  4.56661682e+00],\n",
       "        [-1.96698135e-01, -5.13783431e-01, -0.00000000e+00, ...,\n",
       "         -0.00000000e+00,  0.00000000e+00,  9.52060455e-01],\n",
       "        ...,\n",
       "        [ 1.88476709e-02,  1.61564787e+00,  0.00000000e+00, ...,\n",
       "         -2.54921504e+00, -4.28098504e-01, -2.42811168e+00],\n",
       "        [ 8.97834145e-01,  0.00000000e+00,  0.00000000e+00, ...,\n",
       "         -0.00000000e+00,  1.48484591e+00,  0.00000000e+00],\n",
       "        [ 3.87851834e-02,  0.00000000e+00,  0.00000000e+00, ...,\n",
       "         -0.00000000e+00,  2.35207417e+00,  8.77592342e-01]]])"
      ]
     },
     "execution_count": 159,
     "metadata": {},
     "output_type": "execute_result"
    }
   ],
   "source": [
    "Y_dist*zstar"
   ]
  },
  {
   "cell_type": "code",
   "execution_count": 155,
   "metadata": {},
   "outputs": [
    {
     "data": {
      "text/plain": [
       "1000"
      ]
     },
     "execution_count": 155,
     "metadata": {},
     "output_type": "execute_result"
    }
   ],
   "source": [
    "Y_dist.shape[0]"
   ]
  },
  {
   "cell_type": "code",
   "execution_count": 151,
   "metadata": {},
   "outputs": [
    {
     "data": {
      "text/plain": [
       "(50, 1000, 20)"
      ]
     },
     "execution_count": 151,
     "metadata": {},
     "output_type": "execute_result"
    }
   ],
   "source": [
    "Y_pred.shape"
   ]
  },
  {
   "cell_type": "code",
   "execution_count": 137,
   "metadata": {},
   "outputs": [
    {
     "data": {
      "text/plain": [
       "array([[[-0.17638682, -0.09089706, -0.3830332 , ...,  0.06720436,\n",
       "          0.42834576,  0.26608252],\n",
       "        [ 0.32939309,  0.55933907,  0.0138017 , ..., -0.38775832,\n",
       "          0.38721256,  0.48453956],\n",
       "        [-0.08600242, -0.06805484,  0.51201416, ..., -0.30176222,\n",
       "         -0.30011163,  0.48041784],\n",
       "        ...,\n",
       "        [ 0.5547552 ,  0.53806358,  0.41646602, ..., -0.1646881 ,\n",
       "         -0.38714016,  0.0585669 ],\n",
       "        [-0.259434  , -0.03745498, -0.23963089, ...,  0.41290765,\n",
       "          0.06538298, -0.25733343],\n",
       "        [ 0.1752564 ,  0.55979906, -0.1785693 , ...,  0.22204114,\n",
       "          0.43828789, -0.28569533]],\n",
       "\n",
       "       [[ 0.25746872, -0.39684173, -0.3284593 , ...,  0.3906845 ,\n",
       "         -0.39183591,  0.16925576],\n",
       "        [-0.01981441, -0.05351203,  0.32120704, ...,  0.0888863 ,\n",
       "          0.13828446,  0.25011441],\n",
       "        [-0.23420105, -0.14614686,  0.52928029, ...,  0.4170639 ,\n",
       "          0.55037046,  0.51355313],\n",
       "        ...,\n",
       "        [ 0.54040521,  0.23890133, -0.31902953, ..., -0.10245218,\n",
       "          0.01839973, -0.36712938],\n",
       "        [ 0.4858195 ,  0.41050241,  0.03592822, ...,  0.44682873,\n",
       "         -0.22633856,  0.49022996],\n",
       "        [ 0.12103518, -0.3918414 ,  0.03199669, ...,  0.37302559,\n",
       "          0.04697431,  0.11557644]],\n",
       "\n",
       "       [[ 0.12293599,  0.22115975,  0.5097546 , ...,  0.12155616,\n",
       "          0.41447222,  0.18345993],\n",
       "        [-0.37336468,  0.42958076, -0.19020231, ...,  0.36934355,\n",
       "          0.41981248,  0.36472233],\n",
       "        [ 0.43844393,  0.38880569, -0.02628052, ..., -0.15784508,\n",
       "         -0.03416305, -0.3758793 ],\n",
       "        ...,\n",
       "        [-0.0894053 , -0.36901256,  0.12752491, ..., -0.28566401,\n",
       "          0.10620544,  0.08561084],\n",
       "        [-0.04936923, -0.38937943,  0.07810207, ...,  0.36181311,\n",
       "         -0.01023137, -0.02342966],\n",
       "        [ 0.11953192, -0.10809288,  0.4546914 , ...,  0.21215642,\n",
       "          0.2185824 ,  0.21843393]],\n",
       "\n",
       "       ...,\n",
       "\n",
       "       [[ 0.22334838, -0.14107006, -0.02300971, ..., -0.10121418,\n",
       "         -0.2099555 ,  0.46639767],\n",
       "        [ 0.31864384, -0.11046859, -0.32256868, ..., -0.27570953,\n",
       "         -0.12893261,  0.4535312 ],\n",
       "        [ 0.29249251, -0.02553063,  0.47917191, ...,  0.38208502,\n",
       "          0.00360094,  0.34186379],\n",
       "        ...,\n",
       "        [ 0.00222383,  0.49074461,  0.4326484 , ..., -0.06706902,\n",
       "         -0.22089475, -0.2779496 ],\n",
       "        [ 0.08569291,  0.41167736, -0.19929326, ..., -0.38693346,\n",
       "          0.44256775,  0.23016078],\n",
       "        [ 0.33417153, -0.23159437, -0.17852641, ..., -0.10834809,\n",
       "          0.19082249,  0.28075117]],\n",
       "\n",
       "       [[ 0.37444638, -0.20860611,  0.43659761, ...,  0.17854439,\n",
       "          0.19162434, -0.39651295],\n",
       "        [-0.30438309,  0.51150514, -0.34443489, ..., -0.06093623,\n",
       "          0.45594612, -0.29502475],\n",
       "        [ 0.17290066,  0.17232531, -0.19081343, ...,  0.40053587,\n",
       "          0.36732381,  0.47543568],\n",
       "        ...,\n",
       "        [ 0.34301001, -0.04636055,  0.33441922, ...,  0.12263879,\n",
       "          0.16488478, -0.00501669],\n",
       "        [ 0.35490999,  0.30319412,  0.36915546, ...,  0.19909356,\n",
       "         -0.27051951, -0.24315045],\n",
       "        [-0.10205514, -0.33281611, -0.30864152, ...,  0.29478123,\n",
       "         -0.05739547,  0.4244987 ]],\n",
       "\n",
       "       [[ 0.13233985,  0.31551417,  0.10121632, ...,  0.32547327,\n",
       "          0.55043807, -0.25512857],\n",
       "        [ 0.19676262,  0.1322622 ,  0.35906764, ..., -0.31040633,\n",
       "          0.45880819,  0.23238117],\n",
       "        [ 0.03681597, -0.18033734,  0.34923163, ..., -0.19344961,\n",
       "         -0.18351222, -0.24826965],\n",
       "        ...,\n",
       "        [ 0.25707406,  0.25862249,  0.14765595, ...,  0.47249964,\n",
       "          0.45299365, -0.23160948],\n",
       "        [-0.01108277,  0.48221656,  0.29164683, ..., -0.06883046,\n",
       "          0.39212318, -0.03986598],\n",
       "        [-0.17135687, -0.24635435,  0.58855096, ..., -0.32437112,\n",
       "          0.06213892, -0.14348639]]])"
      ]
     },
     "execution_count": 137,
     "metadata": {},
     "output_type": "execute_result"
    }
   ],
   "source": [
    "Y_pred"
   ]
  },
  {
   "cell_type": "code",
   "execution_count": null,
   "metadata": {},
   "outputs": [],
   "source": []
  },
  {
   "cell_type": "code",
   "execution_count": null,
   "metadata": {},
   "outputs": [],
   "source": []
  },
  {
   "cell_type": "code",
   "execution_count": null,
   "metadata": {},
   "outputs": [],
   "source": []
  },
  {
   "cell_type": "code",
   "execution_count": 8,
   "metadata": {},
   "outputs": [
    {
     "data": {
      "text/plain": [
       "array([ 0.01103508,  0.18582536,  0.02757531,  0.176867  ,  0.28287247,\n",
       "        0.24011691,  0.10373269,  0.22923871,  0.30873738, -0.07671305,\n",
       "        0.39660958, -0.21470825,  0.23993704, -0.19205835,  0.06976262,\n",
       "       -0.07803554,  0.40508948, -0.03724071,  0.02091073,  0.40063581])"
      ]
     },
     "execution_count": 8,
     "metadata": {},
     "output_type": "execute_result"
    }
   ],
   "source": [
    "Y_train[:50].mean(0)"
   ]
  },
  {
   "cell_type": "code",
   "execution_count": 9,
   "metadata": {},
   "outputs": [
    {
     "data": {
      "text/plain": [
       "array([0.41032437, 0.46137744, 0.52203211, 0.58222118, 0.63199747,\n",
       "       0.66359498, 0.67581864, 0.67831638, 0.68665954, 0.70163281,\n",
       "       0.70021433, 0.67717812, 0.68244412, 0.71339072, 0.69029142,\n",
       "       0.6841247 , 0.67276091, 0.62925573, 0.6156747 , 0.7166073 ])"
      ]
     },
     "execution_count": 9,
     "metadata": {},
     "output_type": "execute_result"
    }
   ],
   "source": [
    "Y_train[:50].std(0)"
   ]
  },
  {
   "cell_type": "code",
   "execution_count": 10,
   "metadata": {},
   "outputs": [
    {
     "data": {
      "text/plain": [
       "([0.0,\n",
       "  0.0,\n",
       "  0.0,\n",
       "  0.0,\n",
       "  10.93680879473024,\n",
       "  0.0,\n",
       "  0.0,\n",
       "  0.0,\n",
       "  0.0,\n",
       "  0.0,\n",
       "  5.475523075674423,\n",
       "  0.0,\n",
       "  0.0,\n",
       "  0.0,\n",
       "  0.0,\n",
       "  0.0,\n",
       "  4.652755334066428,\n",
       "  0.0,\n",
       "  0.0,\n",
       "  3.8449485359989164],\n",
       " [0.0,\n",
       "  0.0,\n",
       "  0.0,\n",
       "  0.0,\n",
       "  0.0,\n",
       "  0.0,\n",
       "  0.0,\n",
       "  0.0,\n",
       "  0.0,\n",
       "  0.0,\n",
       "  0.0,\n",
       "  0.0,\n",
       "  0.27095111058335786,\n",
       "  0.0,\n",
       "  0.0,\n",
       "  0.0,\n",
       "  0.0,\n",
       "  0.0,\n",
       "  0.0,\n",
       "  0.0,\n",
       "  0.0,\n",
       "  0.0,\n",
       "  0.0,\n",
       "  0.0,\n",
       "  0.0,\n",
       "  0.0,\n",
       "  0.0,\n",
       "  0.0,\n",
       "  0.0,\n",
       "  0.0,\n",
       "  0.0,\n",
       "  0.0,\n",
       "  0.0,\n",
       "  0.0,\n",
       "  0.0,\n",
       "  0.0,\n",
       "  0.0,\n",
       "  0.0,\n",
       "  0.0,\n",
       "  0.0,\n",
       "  0.0,\n",
       "  0.0,\n",
       "  0.0,\n",
       "  0.0,\n",
       "  0.0,\n",
       "  0.0,\n",
       "  0.0,\n",
       "  0.0,\n",
       "  0.0,\n",
       "  0.0],\n",
       " 3.958868157503432,\n",
       " 4.067248601736775)"
      ]
     },
     "execution_count": 10,
     "metadata": {},
     "output_type": "execute_result"
    }
   ],
   "source": [
    "op_solver.minimize_cvar(Y_train[:50])"
   ]
  },
  {
   "cell_type": "code",
   "execution_count": 42,
   "metadata": {},
   "outputs": [],
   "source": []
  },
  {
   "cell_type": "code",
   "execution_count": 34,
   "metadata": {},
   "outputs": [],
   "source": [
    "y = Y_train"
   ]
  },
  {
   "cell_type": "code",
   "execution_count": 133,
   "metadata": {},
   "outputs": [
    {
     "data": {
      "text/plain": [
       "array([ 0.09154903,  0.12018547, -0.00612775,  0.08615439,  0.07785487])"
      ]
     },
     "execution_count": 133,
     "metadata": {},
     "output_type": "execute_result"
    }
   ],
   "source": [
    "y.mean(axis=0)"
   ]
  },
  {
   "cell_type": "code",
   "execution_count": 125,
   "metadata": {},
   "outputs": [
    {
     "data": {
      "text/plain": [
       "array([0.28204021, 0.29966942, 0.2348671 , 0.25421325, 0.31059858])"
      ]
     },
     "execution_count": 125,
     "metadata": {},
     "output_type": "execute_result"
    }
   ],
   "source": [
    "y.std(axis=0)"
   ]
  },
  {
   "cell_type": "code",
   "execution_count": 126,
   "metadata": {},
   "outputs": [
    {
     "data": {
      "text/plain": [
       "'OPTIMAL'"
      ]
     },
     "execution_count": 126,
     "metadata": {},
     "output_type": "execute_result"
    }
   ],
   "source": [
    "m.status.name"
   ]
  },
  {
   "cell_type": "code",
   "execution_count": 127,
   "metadata": {},
   "outputs": [],
   "source": [
    "alpha_opt = -1"
   ]
  },
  {
   "cell_type": "code",
   "execution_count": 128,
   "metadata": {},
   "outputs": [
    {
     "data": {
      "text/plain": [
       "71.47976078082966"
      ]
     },
     "execution_count": 128,
     "metadata": {},
     "output_type": "execute_result"
    }
   ],
   "source": [
    "(1/n_samples)*(1/(1-beta))*np.sum(np.clip(((-y*np.array(argmins[:5])).sum(axis=1) - alpha_opt), 0, None))"
   ]
  },
  {
   "cell_type": "code",
   "execution_count": 129,
   "metadata": {},
   "outputs": [
    {
     "data": {
      "text/plain": [
       "9.999999999999998"
      ]
     },
     "execution_count": 129,
     "metadata": {},
     "output_type": "execute_result"
    }
   ],
   "source": [
    "(y.mean(axis=0)*np.array(argmins[:5])).sum()"
   ]
  },
  {
   "cell_type": "code",
   "execution_count": 134,
   "metadata": {},
   "outputs": [
    {
     "data": {
      "text/plain": [
       "[53.23569452514242,\n",
       " 18.33912369004899,\n",
       " 0.0,\n",
       " 30.08292387425699,\n",
       " 4.372902220899407,\n",
       " 0.0,\n",
       " 0.0,\n",
       " 0.0,\n",
       " 0.0,\n",
       " 0.0,\n",
       " 0.0,\n",
       " 0.0,\n",
       " 0.0,\n",
       " 0.0,\n",
       " 0.0,\n",
       " 0.0,\n",
       " 0.0,\n",
       " 0.0,\n",
       " 0.0,\n",
       " 0.0,\n",
       " 0.0,\n",
       " 0.0,\n",
       " 0.0,\n",
       " 0.0,\n",
       " 0.0,\n",
       " 0.0,\n",
       " 0.0,\n",
       " 0.0,\n",
       " 0.0,\n",
       " 0.0,\n",
       " 0.0,\n",
       " 0.0,\n",
       " 0.0,\n",
       " 1.4596077782392385,\n",
       " 0.0,\n",
       " 0.0,\n",
       " 0.0,\n",
       " 0.0,\n",
       " 0.0,\n",
       " 0.0,\n",
       " 0.0,\n",
       " 0.0,\n",
       " 0.0,\n",
       " 0.0,\n",
       " 0.0,\n",
       " 0.0,\n",
       " 0.0,\n",
       " 0.0,\n",
       " 0.0,\n",
       " 0.0,\n",
       " 0.0,\n",
       " 0.0,\n",
       " 0.0,\n",
       " 0.0,\n",
       " 0.0,\n",
       " 17.568190336620138]"
      ]
     },
     "execution_count": 134,
     "metadata": {},
     "output_type": "execute_result"
    }
   ],
   "source": [
    "argmins"
   ]
  },
  {
   "cell_type": "code",
   "execution_count": 135,
   "metadata": {},
   "outputs": [
    {
     "data": {
      "text/plain": [
       "18.152033447915834"
      ]
     },
     "execution_count": 135,
     "metadata": {},
     "output_type": "execute_result"
    }
   ],
   "source": [
    "f_opt"
   ]
  },
  {
   "cell_type": "code",
   "execution_count": null,
   "metadata": {},
   "outputs": [],
   "source": []
  },
  {
   "cell_type": "code",
   "execution_count": null,
   "metadata": {},
   "outputs": [],
   "source": []
  },
  {
   "cell_type": "code",
   "execution_count": null,
   "metadata": {},
   "outputs": [],
   "source": []
  },
  {
   "cell_type": "code",
   "execution_count": 3,
   "metadata": {},
   "outputs": [
    {
     "data": {
      "text/plain": [
       "1.9999999999999982"
      ]
     },
     "execution_count": 3,
     "metadata": {},
     "output_type": "execute_result"
    }
   ],
   "source": [
    "(1/(1 - B))*(1/n)"
   ]
  },
  {
   "cell_type": "code",
   "execution_count": null,
   "metadata": {},
   "outputs": [],
   "source": [
    "\n"
   ]
  },
  {
   "cell_type": "code",
   "execution_count": null,
   "metadata": {},
   "outputs": [],
   "source": []
  },
  {
   "cell_type": "code",
   "execution_count": null,
   "metadata": {},
   "outputs": [],
   "source": [
    "\n",
    "\n",
    "class LPKnapsackProblem():\n",
    "    def __init__(self, Y, probs_mean):\n",
    "        self.Y = Y\n",
    "        self.probs_mean = probs_mean\n",
    "        self.n_items = self.Y.shape[1]\n",
    "        self.weights, self.capacity = self.define_knapsack()\n",
    "        \n",
    "    def define_knapsack(self):\n",
    "        weights = self.Y.mean(axis=0)*self.probs_mean + 80*np.random.random(size=self.n_items)\n",
    "        capacity = np.random.uniform(0.4, 0.6) * sum(weights)\n",
    "        return weights, int(capacity)\n",
    "    \n",
    "    def solve_knapsack_mip(self, values, activations):\n",
    "        m = ModelMip(\"knapsack\")\n",
    "        m.verbose = 0\n",
    "        z = ([m.add_var(var_type=CONTINUOUS) for i in range(0, self.n_items)])\n",
    "        m.objective = minimize(\n",
    "            -xsum(values[i] * z[i] for i in range(0, self.n_items)))\n",
    "        \n",
    "        for i in range(0, self.n_items):\n",
    "            m += z[i] <= 1\n",
    "            m += -z[i] <= 0\n",
    "            \n",
    "        m += xsum(\n",
    "            self.weights[i] * z[i] for i in range(0, self.n_items)) <= self.capacity\n",
    "        m += xsum(z[i] for i in range(0, self.n_items) if activations[i]==0) <= 0\n",
    "        \n",
    "        m.optimize()\n",
    "        f_opt = m.objective_value\n",
    "        argmins = []\n",
    "        for v in m.vars:\n",
    "            argmins.append(v.x)\n",
    "        return argmins, f_opt"
   ]
  }
 ],
 "metadata": {
  "kernelspec": {
   "display_name": "pao_env",
   "language": "python",
   "name": "pao_env"
  },
  "language_info": {
   "codemirror_mode": {
    "name": "ipython",
    "version": 3
   },
   "file_extension": ".py",
   "mimetype": "text/x-python",
   "name": "python",
   "nbconvert_exporter": "python",
   "pygments_lexer": "ipython3",
   "version": "3.8.10"
  }
 },
 "nbformat": 4,
 "nbformat_minor": 4
}
