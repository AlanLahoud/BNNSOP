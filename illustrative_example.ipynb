{
 "cells": [
  {
   "cell_type": "code",
   "execution_count": 9,
   "metadata": {},
   "outputs": [],
   "source": [
    "import numpy as np\n",
    "\n",
    "import torch\n",
    "import torch.nn as nn\n",
    "import torch.optim as optim\n",
    "import torch.nn.functional as F"
   ]
  },
  {
   "cell_type": "code",
   "execution_count": 10,
   "metadata": {},
   "outputs": [],
   "source": [
    "N = 1000"
   ]
  },
  {
   "cell_type": "code",
   "execution_count": 11,
   "metadata": {},
   "outputs": [],
   "source": [
    "x1 = np.random.normal(3, 2, N)\n",
    "x2 = np.random.normal(0, 5, N)\n",
    "\n",
    "X = np.vstack((x1, x2)).T\n",
    "\n",
    "# Noise\n",
    "n1 = np.random.normal(0, 2, N)\n",
    "n2 = np.random.normal(0, 6, N)\n",
    "n3 = np.random.normal(0, 10, N)\n",
    "\n",
    "y1 = x1**2 + 5*x1*x2 + 3*np.abs(x2) + n1"
   ]
  },
  {
   "cell_type": "code",
   "execution_count": 12,
   "metadata": {},
   "outputs": [],
   "source": [
    "X_train = X[:800]\n",
    "y1_train = y1[:800]\n",
    "\n",
    "X_test = X[800:]\n",
    "y1_test = y1[800:]"
   ]
  },
  {
   "cell_type": "code",
   "execution_count": 187,
   "metadata": {},
   "outputs": [],
   "source": [
    "class ANN(nn.Module):\n",
    "    # Initialize the layers\n",
    "    def __init__(self, input_size, output_size):\n",
    "        super().__init__()\n",
    "        \n",
    "        self.act1 = nn.ReLU()\n",
    "        self.linear1 = nn.Linear(input_size, 6).double()\n",
    "        self.bn = nn.BatchNorm1d(6).double()\n",
    "        self.linear2 = nn.Linear(6, output_size).double()\n",
    "    \n",
    "    # Perform the computation\n",
    "    def forward(self, x):\n",
    "        x = self.linear1(x)\n",
    "        x = self.bn(x)\n",
    "        x = self.act1(x)\n",
    "        x = self.linear2(x)\n",
    "        x = self.act1(x)\n",
    "        return x"
   ]
  },
  {
   "cell_type": "code",
   "execution_count": 184,
   "metadata": {},
   "outputs": [],
   "source": [
    "class VariationalInference(object):\n",
    "    def __init__(self, \n",
    "                 prior_mu, prior_rho,\n",
    "                 theta_mu_init, theta_rho_init\n",
    "                ):\n",
    "        super().__init__()\n",
    "        \n",
    "        # Defining Prior distribution (Gaussian)\n",
    "        self.prior_mu = torch.tensor(prior_mu)\n",
    "        self.prior_rho = torch.tensor(prior_rho)\n",
    "        \n",
    "        # Defining Variational class (Gaussian class)\n",
    "        self.theta_mu_init = nn.Parameter(torch.tensor(theta_mu_init))\n",
    "        self.theta_rho_init = nn.Parameter(torch.tensor(theta_rho_init))\n",
    "        \n",
    "        # Defining some constants\n",
    "        self.logsqrttwopi = torch.log(torch.sqrt(2*torch.tensor(torch.pi)))\n",
    "        self.K = torch.tensor(1)\n",
    "    \n",
    "    def rho_to_sigma(weight_rho):\n",
    "        return torch.log(1 + torch.exp(weight_rho))\n",
    "\n",
    "    def sample_weight(weight_mu, weight_rho):\n",
    "        w = (weight_mu \n",
    "        + rho_to_sigma(weight_rho)*torch.randn(weight_mu.shape))\n",
    "        return w\n",
    "\n",
    "    def log_prob_gaussian(x, mu, rho):\n",
    "            return (\n",
    "                - self.logsqrttwopi\n",
    "                - rho_to_sigma(rho)\n",
    "                - ((x - mu)**2)/(2*rho_to_sigma(rho)**2)\n",
    "            ).sum()\n",
    "    \n",
    "    def prior(w):\n",
    "        return self.log_prob_gaussian(\n",
    "            w, self.prior_mu, self.prior_rho)\n",
    "        \n",
    "    def variational(w, weight_mu, weight_rho):\n",
    "        return self.log_prob_gaussian(\n",
    "            w, weight_mu, weight_rho) "
   ]
  },
  {
   "cell_type": "code",
   "execution_count": 185,
   "metadata": {},
   "outputs": [],
   "source": [
    "vi_obj = VariationalInference(0, 0.54, 0, 0.54)"
   ]
  },
  {
   "cell_type": "code",
   "execution_count": 171,
   "metadata": {},
   "outputs": [
    {
     "data": {
      "text/plain": [
       "tensor(0.9992)"
      ]
     },
     "execution_count": 171,
     "metadata": {},
     "output_type": "execute_result"
    }
   ],
   "source": [
    "rho_to_sigma(torch.tensor(0.54))"
   ]
  },
  {
   "cell_type": "code",
   "execution_count": 172,
   "metadata": {},
   "outputs": [
    {
     "data": {
      "text/plain": [
       "tensor([[0.3662, 0.2516]], grad_fn=<ExpBackward0>)"
      ]
     },
     "execution_count": 172,
     "metadata": {},
     "output_type": "execute_result"
    }
   ],
   "source": [
    "torch.exp(weight_rho)"
   ]
  },
  {
   "cell_type": "code",
   "execution_count": 173,
   "metadata": {},
   "outputs": [],
   "source": [
    "input_size = 2\n",
    "output_size = 1\n",
    "\n",
    "weight_mu = nn.Parameter(torch.Tensor(output_size, input_size).uniform_(-0.2, 0.2))\n",
    "weight_rho = nn.Parameter(torch.Tensor(output_size, input_size).uniform_(-2,-1))"
   ]
  },
  {
   "cell_type": "code",
   "execution_count": 174,
   "metadata": {},
   "outputs": [],
   "source": [
    "w = sample_weight(weight_mu, weight_rho)"
   ]
  },
  {
   "cell_type": "code",
   "execution_count": 175,
   "metadata": {},
   "outputs": [
    {
     "data": {
      "text/plain": [
       "tensor([[-0.0181, -0.4754]], grad_fn=<AddBackward0>)"
      ]
     },
     "execution_count": 175,
     "metadata": {},
     "output_type": "execute_result"
    }
   ],
   "source": [
    "w"
   ]
  },
  {
   "cell_type": "code",
   "execution_count": 176,
   "metadata": {},
   "outputs": [
    {
     "data": {
      "text/plain": [
       "tensor(-3.9496, grad_fn=<SumBackward0>)"
      ]
     },
     "execution_count": 176,
     "metadata": {},
     "output_type": "execute_result"
    }
   ],
   "source": [
    "prior(w)"
   ]
  },
  {
   "cell_type": "code",
   "execution_count": 177,
   "metadata": {},
   "outputs": [
    {
     "data": {
      "text/plain": [
       "tensor(-4.1615, grad_fn=<SumBackward0>)"
      ]
     },
     "execution_count": 177,
     "metadata": {},
     "output_type": "execute_result"
    }
   ],
   "source": [
    "variational_posterior(w, weight_mu, weight_rho)"
   ]
  }
 ],
 "metadata": {
  "kernelspec": {
   "display_name": "pao_env",
   "language": "python",
   "name": "pao_env"
  },
  "language_info": {
   "codemirror_mode": {
    "name": "ipython",
    "version": 3
   },
   "file_extension": ".py",
   "mimetype": "text/x-python",
   "name": "python",
   "nbconvert_exporter": "python",
   "pygments_lexer": "ipython3",
   "version": "3.8.10"
  }
 },
 "nbformat": 4,
 "nbformat_minor": 4
}
