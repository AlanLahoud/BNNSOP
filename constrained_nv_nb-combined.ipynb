{
 "cells": [
  {
   "cell_type": "code",
   "execution_count": 1,
   "metadata": {},
   "outputs": [],
   "source": [
    "import torch\n",
    "import torch.multiprocessing as mp\n",
    "import torch.nn as nn\n",
    "from qpth.qp import QPFunction\n",
    "\n",
    "import numpy as np\n",
    "import random\n",
    "\n",
    "import data_generator\n",
    "import params_newsvendor as params\n",
    "\n",
    "from sklearn.preprocessing import StandardScaler\n",
    "\n",
    "from model import VariationalLayer, VariationalNet, StandardNet, VariationalNet2\n",
    "\n",
    "from train import TrainDecoupled, TrainCombined\n",
    "\n",
    "from train_normflow import TrainFlowDecoupled, TrainFlowCombined\n",
    "\n",
    "import joblib\n",
    "\n",
    "\n",
    "import pdb"
   ]
  },
  {
   "cell_type": "code",
   "execution_count": 2,
   "metadata": {},
   "outputs": [],
   "source": [
    "cpu_count = mp.cpu_count()\n",
    "is_cuda = False\n",
    "dev = torch.device('cpu')  \n",
    "if torch.cuda.is_available():\n",
    "    is_cuda = True\n",
    "    dev = torch.device('cuda')\n",
    "    #cpu_count = 1"
   ]
  },
  {
   "cell_type": "code",
   "execution_count": 3,
   "metadata": {},
   "outputs": [],
   "source": [
    "# Setting the seeds to allow replication\n",
    "# Changing the seed might require hyperparameter tuning again\n",
    "# Because it changes the deterministic parameters\n",
    "seed_number = 0\n",
    "np.random.seed(seed_number)\n",
    "torch.manual_seed(seed_number)\n",
    "random.seed(seed_number)"
   ]
  },
  {
   "cell_type": "code",
   "execution_count": 4,
   "metadata": {},
   "outputs": [],
   "source": [
    "# Setting parameters (change if necessary)\n",
    "N = 8000 # Total data size\n",
    "N_train = 5000 # Training data size\n",
    "N_SAMPLES = 2 # Sampling size while training\n",
    "BATCH_SIZE_LOADER = 16 # Standard batch size\n",
    "EPOCHS = 150 "
   ]
  },
  {
   "cell_type": "code",
   "execution_count": 5,
   "metadata": {},
   "outputs": [],
   "source": [
    "nl = 1"
   ]
  },
  {
   "cell_type": "code",
   "execution_count": 6,
   "metadata": {},
   "outputs": [],
   "source": [
    "# Data manipulation\n",
    "N_valid = N - N_train\n",
    "X, Y_original = data_generator.data_4to8(N_train, noise_level=nl)"
   ]
  },
  {
   "cell_type": "code",
   "execution_count": 7,
   "metadata": {},
   "outputs": [
    {
     "data": {
      "text/plain": [
       "['scaler_multi.gz']"
      ]
     },
     "execution_count": 7,
     "metadata": {},
     "output_type": "execute_result"
    }
   ],
   "source": [
    "# Output normalization\n",
    "scaler = StandardScaler()\n",
    "scaler.fit(Y_original)\n",
    "tmean = torch.tensor(scaler.mean_)\n",
    "tstd = torch.tensor(scaler.scale_)\n",
    "joblib.dump(scaler, 'scaler_multi.gz')"
   ]
  },
  {
   "cell_type": "code",
   "execution_count": 8,
   "metadata": {},
   "outputs": [],
   "source": [
    "def inverse_transform(yy):\n",
    "    return yy*tstd + tmean\n",
    "\n",
    "Y = scaler.transform(Y_original).copy()\n",
    "X = torch.tensor(X, dtype=torch.float32)#.to(dev)\n",
    "Y = torch.tensor(Y, dtype=torch.float32)#.to(dev)\n",
    "Y_original = torch.tensor(Y_original, dtype=torch.float32)#.to(dev)"
   ]
  },
  {
   "cell_type": "code",
   "execution_count": 9,
   "metadata": {
    "scrolled": true
   },
   "outputs": [],
   "source": [
    "data_train_original = data_generator.ArtificialDataset(X, Y_original)\n",
    "training_loader_original = torch.utils.data.DataLoader(\n",
    "    data_train_original, batch_size=BATCH_SIZE_LOADER,\n",
    "    shuffle=False, num_workers=cpu_count)\n",
    "   \n",
    "    \n",
    "data_train = data_generator.ArtificialDataset(X, Y)\n",
    "training_loader = torch.utils.data.DataLoader(\n",
    "    data_train, batch_size=BATCH_SIZE_LOADER,\n",
    "    shuffle=False, num_workers=cpu_count)\n",
    "    \n",
    "    \n",
    "X_val, Y_val_original = data_generator.data_4to8(N_valid, noise_level=nl)\n",
    "Y_val = scaler.transform(Y_val_original).copy()\n",
    "X_val = torch.tensor(X_val, dtype=torch.float32)#.to(dev)\n",
    "Y_val_original = torch.tensor(Y_val_original, dtype=torch.float32)#.to(dev)\n",
    "Y_val = torch.tensor(Y_val, dtype=torch.float32)#.to(dev)\n",
    "\n",
    "\n",
    "data_valid_original = data_generator.ArtificialDataset(X_val, Y_val_original)\n",
    "validation_loader_original = torch.utils.data.DataLoader(\n",
    "    data_valid_original, batch_size=BATCH_SIZE_LOADER,\n",
    "    shuffle=False, num_workers=cpu_count)\n",
    "\n",
    "    \n",
    "data_valid = data_generator.ArtificialDataset(X_val, Y_val)\n",
    "validation_loader = torch.utils.data.DataLoader(\n",
    "    data_valid, batch_size=BATCH_SIZE_LOADER,\n",
    "    shuffle=False, num_workers=cpu_count)\n",
    "    \n",
    "input_size = X.shape[1]\n",
    "output_size = Y.shape[1]"
   ]
  },
  {
   "cell_type": "code",
   "execution_count": 10,
   "metadata": {},
   "outputs": [],
   "source": [
    "class SolveNewsvendorWithKKT():\n",
    "    def __init__(self, params_t, n_samples):\n",
    "        super(SolveNewsvendorWithKKT, self).__init__()\n",
    "        \n",
    "        self.params_t = params_t\n",
    "        \n",
    "        n_items = len(params_t['c'])\n",
    "        self.n_items = n_items  \n",
    "        self.n_samples = n_samples\n",
    "            \n",
    "        # Torch parameters for KKT         \n",
    "        ident = torch.eye(n_items)\n",
    "        ident_samples = torch.eye(n_items*n_samples)\n",
    "        ident3 = torch.eye(n_items + 2*n_items*n_samples)\n",
    "        zeros_matrix = torch.zeros((n_items*n_samples, n_items*n_samples))\n",
    "        zeros_array = torch.zeros(n_items*n_samples)\n",
    "        ones_array = torch.ones(n_items*n_samples)\n",
    "             \n",
    "        self.Q = torch.diag(\n",
    "            torch.hstack(\n",
    "                (\n",
    "                    params_t['q'], \n",
    "                    (1/n_samples)*params_t['qs'].repeat_interleave(n_samples), \n",
    "                    (1/n_samples)*params_t['qw'].repeat_interleave(n_samples)\n",
    "                )\n",
    "            )).to(dev)\n",
    "        \n",
    "        \n",
    "        self.lin = torch.hstack(\n",
    "                                (\n",
    "                                    params_t['c'], \n",
    "                                    (1/n_samples)*params_t['cs'].repeat_interleave(n_samples), \n",
    "                                    (1/n_samples)*params_t['cw'].repeat_interleave(n_samples)\n",
    "                                )).to(dev)\n",
    "             \n",
    "            \n",
    "        shortage_ineq = torch.hstack(\n",
    "            (\n",
    "                -ident.repeat_interleave(n_samples, 0), \n",
    "                -ident_samples, \n",
    "                zeros_matrix\n",
    "            )\n",
    "        )  \n",
    "        \n",
    "        \n",
    "        excess_ineq = torch.hstack(\n",
    "            (\n",
    "                ident.repeat_interleave(n_samples, 0), \n",
    "                zeros_matrix, \n",
    "                -ident_samples\n",
    "            )\n",
    "        )\n",
    "        \n",
    "        \n",
    "        price_ineq = torch.hstack(\n",
    "            (\n",
    "                params_t['pr'], \n",
    "                zeros_array, \n",
    "                zeros_array\n",
    "            )\n",
    "        )\n",
    "        \n",
    "        \n",
    "        positive_ineq = -ident3\n",
    "        \n",
    "        \n",
    "        self.ineqs = torch.vstack(\n",
    "            (\n",
    "                shortage_ineq, \n",
    "                excess_ineq, \n",
    "                price_ineq, \n",
    "                positive_ineq\n",
    "            )\n",
    "        ).to(dev)\n",
    " \n",
    "        self.uncert_bound = torch.hstack((-ones_array, ones_array)).to(dev)\n",
    "        \n",
    "        self.determ_bound = torch.tensor([params_t['B']]) \n",
    "        \n",
    "        self.determ_bound = torch.hstack((self.determ_bound, \n",
    "                                          torch.zeros(n_items), \n",
    "                                          torch.zeros(n_items*n_samples), \n",
    "                                          torch.zeros(n_items*n_samples))).to(dev)\n",
    "        \n",
    "        \n",
    "        \n",
    "    def forward(self, y):\n",
    "        \"\"\"\n",
    "        Applies the qpth solver for all batches and allows backpropagation.\n",
    "        Formulation based on Priya L. Donti, Brandon Amos, J. Zico Kolter (2017).\n",
    "        Note: The quadratic terms (Q) are used as auxiliar terms only to allow the backpropagation through the \n",
    "        qpth library from Amos and Kolter. \n",
    "        We will set them as a small percentage of the linear terms (Wilder, Ewing, Dilkina, Tambe, 2019)\n",
    "        \"\"\"\n",
    "        \n",
    "        batch_size, n_samples_items = y.size()\n",
    "                \n",
    "        assert self.n_samples*self.n_items == n_samples_items \n",
    "\n",
    "        Q = self.Q\n",
    "        Q = Q.expand(batch_size, Q.size(0), Q.size(1))\n",
    "        \n",
    "        lin = self.lin\n",
    "        lin = lin.expand(batch_size, lin.size(0))\n",
    "\n",
    "        ineqs = torch.unsqueeze(self.ineqs, dim=0)\n",
    "        ineqs = ineqs.expand(batch_size, ineqs.shape[1], ineqs.shape[2])       \n",
    "\n",
    "        uncert_bound = (self.uncert_bound*torch.hstack((y, y)))\n",
    "        determ_bound = self.determ_bound.unsqueeze(dim=0).expand(\n",
    "            batch_size, self.determ_bound.shape[0])\n",
    "        bound = torch.hstack((uncert_bound, determ_bound))     \n",
    "        \n",
    "        e = torch.DoubleTensor().to(dev)\n",
    "        \n",
    "        argmin = QPFunction(verbose=-1)\\\n",
    "            (Q.double(), lin.double(), ineqs.double(), \n",
    "             bound.double(), e, e).double()\n",
    "            \n",
    "        return argmin[:,:n_items]\n",
    "    \n",
    "    def cost_per_item(self, Z, Y):\n",
    "        return params_t['q'].to(dev)*Z.to(dev)**2 \\\n",
    "            + self.params_t['qs'].to(dev)*(torch.max(torch.zeros((self.n_items)).to(dev),Y.to(dev)-Z.to(dev)))**2 \\\n",
    "            + self.params_t['qw'].to(dev)*(torch.max(torch.zeros((self.n_items)).to(dev),Z.to(dev)-Y.to(dev)))**2 \\\n",
    "            + self.params_t['c'].to(dev)*Z.to(dev) \\\n",
    "            + self.params_t['cs'].to(dev)*torch.max(torch.zeros((self.n_items)).to(dev),Y.to(dev)-Z.to(dev)) \\\n",
    "            + self.params_t['cw'].to(dev)*torch.max(torch.zeros((self.n_items)).to(dev),Z.to(dev)-Y.to(dev))\n",
    "\n",
    "    \n",
    "    def reshape_outcomes(self, y_pred):\n",
    "                \n",
    "        if len(y_pred.shape) == 2:\n",
    "            y_pred = y_pred.unsqueeze(0)\n",
    "\n",
    "        n_samples = y_pred.shape[0]\n",
    "        batch_size = y_pred.shape[1]\n",
    "        #n_items = y_pred.shape[2]\n",
    "        y_pred = y_pred.permute((1, 2, 0)).reshape((batch_size, n_samples*self.n_items))\n",
    "        return y_pred\n",
    "    \n",
    "    def calc_f_por_item(self, y_pred, y):\n",
    "        #pdb.set_trace()\n",
    "        y_pred = self.reshape_outcomes(y_pred)\n",
    "        z_star =  self.forward(y_pred)\n",
    "        f_per_item = self.cost_per_item(z_star, y)\n",
    "        return f_per_item\n",
    "\n",
    "    def calc_f_per_day(self, y_pred, y):\n",
    "        f_per_item = self.calc_f_por_item(y_pred, y)\n",
    "        f = torch.sum(f_per_item, 1)\n",
    "        return f\n",
    "\n",
    "    def end_loss(self, y_pred, y):\n",
    "        f = self.calc_f_per_day(y_pred, y)\n",
    "        f_total = torch.mean(f)\n",
    "        return f_total\n",
    "    \n",
    "    def end_loss_dist(self, y_pred, y):\n",
    "        f = self.calc_f_per_day(y_pred, y)\n",
    "        f_total = torch.mean(f)\n",
    "        return f_total"
   ]
  },
  {
   "cell_type": "markdown",
   "metadata": {},
   "source": [
    "cost_per_item = lambda Z, Y : params_t['q'].to(dev)*Z.to(dev)**2 \\\n",
    "                            + params_t['qs'].to(dev)*(torch.max(torch.zeros((n_items)).to(dev),Y.to(dev)-Z.to(dev)))**2 \\\n",
    "                            + params_t['qw'].to(dev)*(torch.max(torch.zeros((n_items)).to(dev),Z.to(dev)-Y.to(dev)))**2 \\\n",
    "                            + params_t['c'].to(dev)*Z.to(dev) \\\n",
    "                            + params_t['cs'].to(dev)*torch.max(torch.zeros((n_items)).to(dev),Y.to(dev)-Z.to(dev)) \\\n",
    "                            + params_t['cw'].to(dev)*torch.max(torch.zeros((n_items)).to(dev),Z.to(dev)-Y.to(dev))\n",
    "\n",
    "\n",
    "def reshape_outcomes(y_pred):\n",
    "    n_samples = y_pred.shape[0]\n",
    "    batch_size = y_pred.shape[1]\n",
    "    n_items = y_pred.shape[2]\n",
    "\n",
    "    y_pred = y_pred.permute((1, 2, 0)).reshape((batch_size, n_samples*n_items))\n",
    "\n",
    "    return y_pred\n",
    "\n",
    "def calc_f_por_item(y_pred, y):\n",
    "    y_pred = reshape_outcomes(y_pred)\n",
    "    z_star =  argmin_solver(y_pred)\n",
    "    f_per_item = cost_per_item(z_star, y)\n",
    "    return f_per_item\n",
    "\n",
    "def calc_f_per_day(y_pred, y):\n",
    "    f_per_item = calc_f_por_item(y_pred, y)\n",
    "    f = torch.sum(f_per_item, 1)\n",
    "    return f\n",
    "\n",
    "def cost_fn(y_pred, y):\n",
    "    f = calc_f_per_day(y_pred, y)\n",
    "    f_total = torch.mean(f)\n",
    "    return f_total"
   ]
  },
  {
   "cell_type": "code",
   "execution_count": 11,
   "metadata": {},
   "outputs": [],
   "source": [
    "h_ann_dec = StandardNet(input_size, output_size, 0).to(dev)\n",
    "h_bnn_dec = VariationalNet2(N_SAMPLES, input_size, output_size, 1.0).to(dev)\n",
    "\n",
    "h_ann_com = StandardNet(input_size, output_size, 0).to(dev)\n",
    "h_bnn_com = VariationalNet2(N_SAMPLES, input_size, output_size, 1.0).to(dev)\n",
    "\n",
    "opt_h_ann_dec = torch.optim.Adam(h_ann_dec.parameters(), lr=0.001)\n",
    "opt_h_bnn_dec = torch.optim.Adam(h_bnn_dec.parameters(), lr=0.001)\n",
    "\n",
    "opt_h_ann_com = torch.optim.Adam(h_ann_com.parameters(), lr=0.005)\n",
    "opt_h_bnn_com = torch.optim.Adam(h_bnn_com.parameters(), lr=0.005)\n",
    "\n",
    "mse_loss = nn.MSELoss(reduction='none')"
   ]
  },
  {
   "cell_type": "code",
   "execution_count": 12,
   "metadata": {},
   "outputs": [],
   "source": [
    "n_items = output_size\n",
    "params_t, _ = params.get_params(n_items, seed_number)\n",
    "\n",
    "# Construct the solver\n",
    "cn_constrained = SolveNewsvendorWithKKT(params_t, 1)\n",
    "cn_constrained_dist = SolveNewsvendorWithKKT(params_t, N_SAMPLES*4)"
   ]
  },
  {
   "cell_type": "code",
   "execution_count": null,
   "metadata": {
    "scrolled": true
   },
   "outputs": [
    {
     "name": "stdout",
     "output_type": "stream",
     "text": [
      "------------------EPOCH 1------------------\n",
      "DATA LOSS \t train 0.453 valid 0.331\n",
      "KL LOSS \t train 0.0 valid 0.0\n",
      "ELBO LOSS \t train 0.45 valid 0.33\n",
      "------------------EPOCH 2------------------\n",
      "DATA LOSS \t train 0.272 valid 0.269\n",
      "KL LOSS \t train 0.0 valid 0.0\n",
      "ELBO LOSS \t train 0.27 valid 0.27\n",
      "------------------EPOCH 3------------------\n",
      "DATA LOSS \t train 0.23 valid 0.247\n",
      "KL LOSS \t train 0.0 valid 0.0\n",
      "ELBO LOSS \t train 0.23 valid 0.25\n",
      "------------------EPOCH 4------------------\n",
      "DATA LOSS \t train 0.212 valid 0.235\n",
      "KL LOSS \t train 0.0 valid 0.0\n",
      "ELBO LOSS \t train 0.21 valid 0.23\n",
      "------------------EPOCH 5------------------\n"
     ]
    }
   ],
   "source": [
    "train_ANN_dec = TrainDecoupled(\n",
    "                    bnn = False,\n",
    "                    model=h_ann_dec,\n",
    "                    opt=opt_h_ann_dec,\n",
    "                    loss_data=mse_loss,\n",
    "                    K=0.0,\n",
    "                    training_loader=training_loader,\n",
    "                    validation_loader=validation_loader,\n",
    "                    dev = dev\n",
    "                )\n",
    "\n",
    "train_ANN_dec.train(EPOCHS=EPOCHS)\n",
    "model_ann_dec = train_ANN_dec.model"
   ]
  },
  {
   "cell_type": "code",
   "execution_count": null,
   "metadata": {
    "scrolled": true
   },
   "outputs": [],
   "source": [
    "train_ANN_com = TrainCombined(\n",
    "                    bnn = False,\n",
    "                    model=h_ann_com,\n",
    "                    opt=opt_h_ann_com,\n",
    "                    training_loader=training_loader_original,\n",
    "                    validation_loader=validation_loader_original,\n",
    "                    OP = cn_constrained,\n",
    "                    dev = dev\n",
    "                )\n",
    "\n",
    "train_ANN_com.train(EPOCHS=35)\n",
    "model_ann_com = train_ANN_com.model"
   ]
  },
  {
   "cell_type": "code",
   "execution_count": null,
   "metadata": {},
   "outputs": [],
   "source": [
    "train_BNN_dec = TrainDecoupled(\n",
    "                    bnn = True,\n",
    "                    model=h_bnn_dec,\n",
    "                    opt=opt_h_bnn_dec,\n",
    "                    loss_data=mse_loss,\n",
    "                    K=0.0,\n",
    "                    training_loader=training_loader_original,\n",
    "                    validation_loader=validation_loader_original\n",
    "                )\n",
    "\n",
    "train_BNN_dec.train(EPOCHS=EPOCHS)\n",
    "model_bnn_dec = train_BNN_dec.model"
   ]
  },
  {
   "cell_type": "code",
   "execution_count": null,
   "metadata": {
    "scrolled": true
   },
   "outputs": [],
   "source": [
    "train_BNN_com = TrainCombined(\n",
    "                    bnn = True,\n",
    "                    model=h_bnn_com,\n",
    "                    opt=opt_h_bnn_com,\n",
    "                    training_loader=training_loader_original,\n",
    "                    validation_loader=validation_loader_original,\n",
    "                    OP = cn_constrained_dist\n",
    "                )\n",
    "\n",
    "train_BNN_com.train(EPOCHS=8)\n",
    "model_bnn_com = train_BNN_com.model"
   ]
  },
  {
   "cell_type": "code",
   "execution_count": null,
   "metadata": {},
   "outputs": [],
   "source": [
    "trfl = TrainFlowDecoupled(steps = 5000, input_size=4, output_size=8)\n",
    "pyx = trfl.train(X, Y, X_val, Y_val)\n",
    "model_flow_dec = pyx"
   ]
  },
  {
   "cell_type": "code",
   "execution_count": null,
   "metadata": {},
   "outputs": [],
   "source": [
    "# Training regression with FLOW\n",
    "trfl = TrainFlowCombined(\n",
    "    steps = 250, \n",
    "    input_size=4,\n",
    "    output_size=8,\n",
    "    lr=8e-3, \n",
    "    OP = cn_constrained_dist,\n",
    "    n_samples=N_SAMPLES*4)\n",
    "pyx = trfl.train(X, Y, X_val, Y_val)\n",
    "model_flow_com = pyx"
   ]
  },
  {
   "cell_type": "code",
   "execution_count": null,
   "metadata": {},
   "outputs": [],
   "source": []
  },
  {
   "cell_type": "code",
   "execution_count": null,
   "metadata": {},
   "outputs": [],
   "source": []
  },
  {
   "cell_type": "code",
   "execution_count": null,
   "metadata": {},
   "outputs": [],
   "source": [
    "# Propagating predictions to Newsvendor Problem\n",
    "\n",
    "\n",
    "Y_pred_ANN_dec = model_ann_dec(X_val).unsqueeze(0)\n",
    "Y_pred_ANN_dec = inverse_transform(Y_pred_ANN_dec)\n",
    "\n",
    "Y_pred_ANN_com = model_ann_com(X_val).unsqueeze(0)\n",
    "Y_pred_ANN_com = inverse_transform(Y_pred_ANN_com)\n",
    "\n",
    "M = 4\n",
    "model_bnn_dec.update_n_samples(n_samples=M)\n",
    "Y_pred_BNN_dec = train_BNN_dec.model.forward_dist(X_val)\n",
    "Y_pred_BNN_dec = inverse_transform(Y_pred_BNN_dec)\n",
    "\n",
    "model_bnn_com.update_n_samples(n_samples=M)\n",
    "Y_pred_BNN_com = train_BNN_com.model.forward_dist(X_val)\n",
    "Y_pred_BNN_com = inverse_transform(Y_pred_BNN_com)\n",
    "M = Y_pred_BNN_com.shape[0]\n",
    "\n",
    "N = X_val.shape[0]\n",
    "Y_pred_flow_dec = torch.zeros((M, N, n_items))\n",
    "for i in range(0, N):\n",
    "    Y_pred_flow_dec[:,i,:] = model_flow_dec.condition(X_val[i]).sample(torch.Size([M,])).squeeze()\n",
    "Y_pred_flow_dec = inverse_transform(Y_pred_flow_dec)\n",
    "\n",
    "#Y_pred_flow_com = torch.zeros((M, N, n_items))\n",
    "#for i in range(0, N):\n",
    "#    Y_pred_flow_com[:,i,:] = model_com.condition(X_val[i]).sample(torch.Size([M,])).squeeze()\n",
    "#Y_pred_flow_com = inverse_transform(Y_pred_flow_com)"
   ]
  },
  {
   "cell_type": "code",
   "execution_count": null,
   "metadata": {},
   "outputs": [],
   "source": [
    "mse_loss = nn.MSELoss()\n",
    "print(mse_loss(Y_pred_ANN_dec.mean(axis=0), Y_val_original))\n",
    "print(mse_loss(Y_pred_ANN_com.mean(axis=0), Y_val_original))\n",
    "\n",
    "print(mse_loss(Y_pred_BNN_dec.mean(axis=0), Y_val_original))\n",
    "print(mse_loss(Y_pred_BNN_com.mean(axis=0), Y_val_original))\n",
    "\n",
    "print(mse_loss(Y_pred_flow_dec.mean(axis=0), Y_val_original))\n",
    "#print(mse_loss(Y_pred_flow_com.mean(axis=0), Y_val_original))"
   ]
  },
  {
   "cell_type": "code",
   "execution_count": null,
   "metadata": {
    "scrolled": true
   },
   "outputs": [],
   "source": [
    "# Construct the solver\n",
    "newsvendor_solve_kkt = SolveNewsvendorWithKKT(params_t, 1)\n",
    "newsvendor_solve_kkt_M = SolveNewsvendorWithKKT(params_t, M)"
   ]
  },
  {
   "cell_type": "code",
   "execution_count": null,
   "metadata": {},
   "outputs": [],
   "source": [
    "def optimize_final_block(Y_pred, cost):\n",
    "\n",
    "    n_batches = int(np.ceil(Y_pred.shape[1]/BATCH_SIZE_LOADER))\n",
    "\n",
    "    f_total = 0\n",
    "    f_total_best = 0\n",
    "\n",
    "    for b in range(0, n_batches):\n",
    "        i_low = b*BATCH_SIZE_LOADER\n",
    "        i_up = (b+1)*BATCH_SIZE_LOADER\n",
    "        if b == n_batches-1:\n",
    "            i_up = n_batches*Y_pred.shape[1]\n",
    "        f_total += cost(Y_pred[:,i_low:i_up,:], Y_val_original[i_low:i_up,:])/n_batches\n",
    "        print(b, f_total)"
   ]
  },
  {
   "cell_type": "code",
   "execution_count": null,
   "metadata": {},
   "outputs": [],
   "source": []
  },
  {
   "cell_type": "code",
   "execution_count": null,
   "metadata": {
    "scrolled": true
   },
   "outputs": [],
   "source": [
    "optimize_final_block(Y_pred_ANN_dec, newsvendor_solve_kkt.end_loss)"
   ]
  },
  {
   "cell_type": "code",
   "execution_count": null,
   "metadata": {
    "scrolled": true
   },
   "outputs": [],
   "source": [
    "optimize_final_block(Y_pred_ANN_com, newsvendor_solve_kkt.end_loss)"
   ]
  },
  {
   "cell_type": "code",
   "execution_count": null,
   "metadata": {},
   "outputs": [],
   "source": [
    "optimize_final_block(Y_pred_BNN_dec, newsvendor_solve_kkt_M.end_loss_dist)"
   ]
  },
  {
   "cell_type": "code",
   "execution_count": null,
   "metadata": {},
   "outputs": [],
   "source": [
    "optimize_final_block(Y_pred_BNN_com, newsvendor_solve_kkt_M.end_loss_dist)"
   ]
  },
  {
   "cell_type": "code",
   "execution_count": null,
   "metadata": {},
   "outputs": [],
   "source": [
    "optimize_final_block(Y_pred_flow_dec, newsvendor_solve_kkt_M.end_loss_dist)"
   ]
  },
  {
   "cell_type": "code",
   "execution_count": null,
   "metadata": {},
   "outputs": [],
   "source": [
    "def argmin_solver(Y_pred):\n",
    "            z_star = newsvendor_solve_kkt_M.forward(Y_pred)\n",
    "            return z_star\n",
    "\n",
    "optimize_final_block(Y_pred_BNN_dec, True)"
   ]
  },
  {
   "cell_type": "code",
   "execution_count": null,
   "metadata": {},
   "outputs": [],
   "source": [
    "optimize_final_block(Y_pred_BNN_com, True)"
   ]
  },
  {
   "cell_type": "code",
   "execution_count": null,
   "metadata": {},
   "outputs": [],
   "source": [
    "optimize_final_block(Y_pred_flow_dec, True)"
   ]
  },
  {
   "cell_type": "code",
   "execution_count": null,
   "metadata": {},
   "outputs": [],
   "source": [
    "optimize_final_block(Y_pred_flow_com, True)"
   ]
  },
  {
   "cell_type": "code",
   "execution_count": null,
   "metadata": {},
   "outputs": [],
   "source": [
    "def argmin_solver(y_pred):\n",
    "    z_star = newsvendor_solve_kkt.forward(y_pred)\n",
    "    return z_star\n",
    "\n",
    "n_batches = int(np.ceil(Y_pred_ANN_dec.shape[1]/BATCH_SIZE_LOADER))\n",
    "\n",
    "f_total = 0\n",
    "f_total_best = 0\n",
    "\n",
    "for b in range(0, n_batches):\n",
    "    i_low = b*BATCH_SIZE_LOADER\n",
    "    i_up = (b+1)*BATCH_SIZE_LOADER\n",
    "    if b == n_batches-1:\n",
    "        i_up = n_batches*Y_pred_ANN_dec.shape[1]\n",
    "    f_total += cost_fn(Y_pred_ANN_dec[:,i_low:i_up,:], Y_val_original[i_low:i_up,:])/n_batches\n",
    "    print(b, f_total)"
   ]
  },
  {
   "cell_type": "code",
   "execution_count": null,
   "metadata": {},
   "outputs": [],
   "source": [
    "def argmin_solver(y_pred):\n",
    "    z_star = newsvendor_solve_kkt_M.forward(y_pred)\n",
    "    return z_star\n",
    "\n",
    "n_batches = int(np.ceil(Y_pred_BNN.shape[1]/BATCH_SIZE_LOADER))\n",
    "\n",
    "f_total = 0\n",
    "f_total_best = 0\n",
    "\n",
    "for b in range(0, n_batches):\n",
    "    i_low = b*BATCH_SIZE_LOADER\n",
    "    i_up = (b+1)*BATCH_SIZE_LOADER\n",
    "    if b == n_batches-1:\n",
    "        i_up = n_batches*Y_pred_BNN.shape[1]\n",
    "    f_total += cost_fn(Y_pred_BNN[:,i_low:i_up,:], Y_val_original[i_low:i_up,:])/n_batches\n",
    "    print(b, f_total)"
   ]
  },
  {
   "cell_type": "code",
   "execution_count": null,
   "metadata": {},
   "outputs": [],
   "source": [
    "def argmin_solver(y_pred):\n",
    "    z_star = newsvendor_solve_kkt_M.forward(y_pred)\n",
    "    return z_star\n",
    "\n",
    "n_batches = int(np.ceil(Y_pred_flow.shape[1]/BATCH_SIZE_LOADER))\n",
    "\n",
    "f_total = 0\n",
    "f_total_best = 0\n",
    "\n",
    "for b in range(0, n_batches):\n",
    "    i_low = b*BATCH_SIZE_LOADER\n",
    "    i_up = (b+1)*BATCH_SIZE_LOADER\n",
    "    if b == n_batches-1:\n",
    "        i_up = n_batches*Y_pred_flow.shape[1]\n",
    "    f_total += cost_fn(Y_pred_flow[:,i_low:i_up,:], Y_val_original[i_low:i_up,:])/n_batches\n",
    "    print(b, f_total)"
   ]
  },
  {
   "cell_type": "code",
   "execution_count": null,
   "metadata": {},
   "outputs": [],
   "source": [
    "Y_val_original.shape"
   ]
  },
  {
   "cell_type": "code",
   "execution_count": null,
   "metadata": {},
   "outputs": [],
   "source": [
    "def argmin_solver(y_pred):\n",
    "    z_star = newsvendor_solve_kkt.forward(y_pred)\n",
    "    return z_star\n",
    "\n",
    "n_batches = int(np.ceil(Y_val_original.shape[0]/BATCH_SIZE_LOADER))\n",
    "\n",
    "f_total = 0\n",
    "f_total_best = 0\n",
    "\n",
    "for b in range(0, n_batches):\n",
    "    i_low = b*BATCH_SIZE_LOADER\n",
    "    i_up = (b+1)*BATCH_SIZE_LOADER\n",
    "    if b == n_batches-1:\n",
    "        i_up = n_batches*Y_val_original.shape[0]\n",
    "    f_total += cost_fn(Y_val_original[i_low:i_up,:].unsqueeze(0), Y_val_original[i_low:i_up,:])/n_batches\n",
    "    print(f_total)"
   ]
  },
  {
   "cell_type": "code",
   "execution_count": null,
   "metadata": {},
   "outputs": [],
   "source": [
    "(argmin_solver(reshape_outcomes(Y_val_original[0:50,:].unsqueeze(0)))*params_t['pr']).sum(1)"
   ]
  },
  {
   "cell_type": "markdown",
   "metadata": {},
   "source": [
    "1.83 1.64 2.43 28104 27870 27787 13598\n",
    "1.87 1.89 2.46 42607 42070 41574 28124\n",
    "1.80 1.85 2.25 34329 33855 33395 15849\n",
    "\n",
    "\n"
   ]
  }
 ],
 "metadata": {
  "kernelspec": {
   "display_name": "Python 3",
   "language": "python",
   "name": "python3"
  },
  "language_info": {
   "codemirror_mode": {
    "name": "ipython",
    "version": 3
   },
   "file_extension": ".py",
   "mimetype": "text/x-python",
   "name": "python",
   "nbconvert_exporter": "python",
   "pygments_lexer": "ipython3",
   "version": "3.6.9"
  }
 },
 "nbformat": 4,
 "nbformat_minor": 4
}
